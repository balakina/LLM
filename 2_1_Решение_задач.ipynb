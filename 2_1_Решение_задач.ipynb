{
  "nbformat": 4,
  "nbformat_minor": 0,
  "metadata": {
    "colab": {
      "provenance": [],
      "collapsed_sections": [
        "CoofhZcDtp6R"
      ]
    },
    "kernelspec": {
      "name": "python3",
      "display_name": "Python 3"
    },
    "language_info": {
      "name": "python"
    }
  },
  "cells": [
    {
      "cell_type": "code",
      "execution_count": 1,
      "metadata": {
        "id": "Yk-K_mHMs7ns",
        "colab": {
          "base_uri": "https://localhost:8080/"
        },
        "outputId": "2fc19556-5e90-4fe9-befe-b2dd3c272776"
      },
      "outputs": [
        {
          "output_type": "stream",
          "name": "stdout",
          "text": [
            "\u001b[?25l   \u001b[90m━━━━━━━━━━━━━━━━━━━━━━━━━━━━━━━━━━━━━━━━\u001b[0m \u001b[32m0.0/74.5 kB\u001b[0m \u001b[31m?\u001b[0m eta \u001b[36m-:--:--\u001b[0m\r\u001b[2K   \u001b[90m━━━━━━━━━━━━━━━━━━━━━━━━━━━━━━━━━━━━━━━━\u001b[0m \u001b[32m74.5/74.5 kB\u001b[0m \u001b[31m2.1 MB/s\u001b[0m eta \u001b[36m0:00:00\u001b[0m\n",
            "\u001b[2K   \u001b[90m━━━━━━━━━━━━━━━━━━━━━━━━━━━━━━━━━━━━━━━━\u001b[0m \u001b[32m2.5/2.5 MB\u001b[0m \u001b[31m19.6 MB/s\u001b[0m eta \u001b[36m0:00:00\u001b[0m\n",
            "\u001b[2K   \u001b[90m━━━━━━━━━━━━━━━━━━━━━━━━━━━━━━━━━━━━━━━━\u001b[0m \u001b[32m64.7/64.7 kB\u001b[0m \u001b[31m4.3 MB/s\u001b[0m eta \u001b[36m0:00:00\u001b[0m\n",
            "\u001b[2K   \u001b[90m━━━━━━━━━━━━━━━━━━━━━━━━━━━━━━━━━━━━━━━━\u001b[0m \u001b[32m50.9/50.9 kB\u001b[0m \u001b[31m4.1 MB/s\u001b[0m eta \u001b[36m0:00:00\u001b[0m\n",
            "\u001b[?25h\u001b[31mERROR: pip's dependency resolver does not currently take into account all the packages that are installed. This behaviour is the source of the following dependency conflicts.\n",
            "google-colab 1.0.0 requires requests==2.32.4, but you have requests 2.32.5 which is incompatible.\u001b[0m\u001b[31m\n",
            "\u001b[0m"
          ]
        }
      ],
      "source": [
        "!pip install openai langchain langchain-openai langchain-community -q"
      ]
    },
    {
      "cell_type": "markdown",
      "source": [
        "## Если используете ключ от OpenAI, запустите эту ячейку 👇\n"
      ],
      "metadata": {
        "id": "CoofhZcDtp6R"
      }
    },
    {
      "cell_type": "code",
      "source": [
        "from langchain_openai import ChatOpenAI\n",
        "import os\n",
        "from getpass import getpass\n",
        "\n",
        "\n",
        "# os.environ['OPENAI_API_KEY'] = \"Введите ваш OpenAI API ключ\"\n",
        "os.environ['OPENAI_API_KEY'] = getpass(prompt='Введите ваш OpenAI API ключ')\n",
        "\n",
        "# Инициализируем языковую модель\n",
        "llm = ChatOpenAI(temperature=0.0)"
      ],
      "metadata": {
        "id": "k48wWXnPtKa2"
      },
      "execution_count": null,
      "outputs": []
    },
    {
      "cell_type": "markdown",
      "source": [
        "## Если используете ключ из курса, запустите эти ячейки 👇\n"
      ],
      "metadata": {
        "id": "DiQqMwQJt8rP"
      }
    },
    {
      "cell_type": "code",
      "source": [
        "from langchain_openai import ChatOpenAI\n",
        "from getpass import getpass\n",
        "\n",
        "#course_api_key= \"Введите ваш API ключ с курса\"\n",
        "course_api_key = getpass(prompt='Введите API ключ')\n",
        "\n",
        "# Инициализируем языковую модель\n",
        "llm = ChatOpenAI(api_key=course_api_key, model='gpt-4o-mini',\n",
        "                 base_url=\"https://aleron-llm.neuraldeep.tech/\")"
      ],
      "metadata": {
        "id": "PCS_WedHtPRg",
        "colab": {
          "base_uri": "https://localhost:8080/"
        },
        "outputId": "4efccf04-15ef-4fa3-d9fb-7ae36d171ab9"
      },
      "execution_count": 2,
      "outputs": [
        {
          "name": "stdout",
          "output_type": "stream",
          "text": [
            "Введите API ключ··········\n"
          ]
        }
      ]
    },
    {
      "cell_type": "markdown",
      "source": [
        "## Задание 2.1.8 LLM — сила 💪, ML — могила 🧟"
      ],
      "metadata": {
        "id": "Z9uleJTbu6Ui"
      }
    },
    {
      "cell_type": "code",
      "source": [
        "import pandas as pd\n",
        "from tqdm import tqdm"
      ],
      "metadata": {
        "id": "CDMOJZ-3f0bs"
      },
      "execution_count": 3,
      "outputs": []
    },
    {
      "cell_type": "code",
      "source": [
        "df = pd.read_csv('https://stepik.org/media/attachments/lesson/1084297/submission100lines.csv')"
      ],
      "metadata": {
        "id": "Avwkg164vHPH"
      },
      "execution_count": 4,
      "outputs": []
    },
    {
      "cell_type": "code",
      "source": [
        "df.head()"
      ],
      "metadata": {
        "colab": {
          "base_uri": "https://localhost:8080/",
          "height": 206
        },
        "id": "1x3bbJoTvNzh",
        "outputId": "cfe5d7d4-f5f4-43c7-dd0a-b02a87bc00c4"
      },
      "execution_count": 5,
      "outputs": [
        {
          "output_type": "execute_result",
          "data": {
            "text/plain": [
              "   amount    text_id                                               text\n",
              "0       2   14205200  Сниму жилье. 500-600 рублей сутки. Эконом клас...\n",
              "1       6  319097075  ищем жилье в центре недалеко от моря с 23.07-0...\n",
              "2       4   98881311  Ищем жилье на период с 18-28июля..на две семьи...\n",
              "3       4   44587027  2 семьи по 3 человека (2 взрослых и ребенок) с...\n",
              "4       3  352802829  Сниму недорогое жилье в лазаревском на 6 чел 3..."
            ],
            "text/html": [
              "\n",
              "  <div id=\"df-46ca93c7-5b12-4f20-be09-6c150ca91f63\" class=\"colab-df-container\">\n",
              "    <div>\n",
              "<style scoped>\n",
              "    .dataframe tbody tr th:only-of-type {\n",
              "        vertical-align: middle;\n",
              "    }\n",
              "\n",
              "    .dataframe tbody tr th {\n",
              "        vertical-align: top;\n",
              "    }\n",
              "\n",
              "    .dataframe thead th {\n",
              "        text-align: right;\n",
              "    }\n",
              "</style>\n",
              "<table border=\"1\" class=\"dataframe\">\n",
              "  <thead>\n",
              "    <tr style=\"text-align: right;\">\n",
              "      <th></th>\n",
              "      <th>amount</th>\n",
              "      <th>text_id</th>\n",
              "      <th>text</th>\n",
              "    </tr>\n",
              "  </thead>\n",
              "  <tbody>\n",
              "    <tr>\n",
              "      <th>0</th>\n",
              "      <td>2</td>\n",
              "      <td>14205200</td>\n",
              "      <td>Сниму жилье. 500-600 рублей сутки. Эконом клас...</td>\n",
              "    </tr>\n",
              "    <tr>\n",
              "      <th>1</th>\n",
              "      <td>6</td>\n",
              "      <td>319097075</td>\n",
              "      <td>ищем жилье в центре недалеко от моря с 23.07-0...</td>\n",
              "    </tr>\n",
              "    <tr>\n",
              "      <th>2</th>\n",
              "      <td>4</td>\n",
              "      <td>98881311</td>\n",
              "      <td>Ищем жилье на период с 18-28июля..на две семьи...</td>\n",
              "    </tr>\n",
              "    <tr>\n",
              "      <th>3</th>\n",
              "      <td>4</td>\n",
              "      <td>44587027</td>\n",
              "      <td>2 семьи по 3 человека (2 взрослых и ребенок) с...</td>\n",
              "    </tr>\n",
              "    <tr>\n",
              "      <th>4</th>\n",
              "      <td>3</td>\n",
              "      <td>352802829</td>\n",
              "      <td>Сниму недорогое жилье в лазаревском на 6 чел 3...</td>\n",
              "    </tr>\n",
              "  </tbody>\n",
              "</table>\n",
              "</div>\n",
              "    <div class=\"colab-df-buttons\">\n",
              "\n",
              "  <div class=\"colab-df-container\">\n",
              "    <button class=\"colab-df-convert\" onclick=\"convertToInteractive('df-46ca93c7-5b12-4f20-be09-6c150ca91f63')\"\n",
              "            title=\"Convert this dataframe to an interactive table.\"\n",
              "            style=\"display:none;\">\n",
              "\n",
              "  <svg xmlns=\"http://www.w3.org/2000/svg\" height=\"24px\" viewBox=\"0 -960 960 960\">\n",
              "    <path d=\"M120-120v-720h720v720H120Zm60-500h600v-160H180v160Zm220 220h160v-160H400v160Zm0 220h160v-160H400v160ZM180-400h160v-160H180v160Zm440 0h160v-160H620v160ZM180-180h160v-160H180v160Zm440 0h160v-160H620v160Z\"/>\n",
              "  </svg>\n",
              "    </button>\n",
              "\n",
              "  <style>\n",
              "    .colab-df-container {\n",
              "      display:flex;\n",
              "      gap: 12px;\n",
              "    }\n",
              "\n",
              "    .colab-df-convert {\n",
              "      background-color: #E8F0FE;\n",
              "      border: none;\n",
              "      border-radius: 50%;\n",
              "      cursor: pointer;\n",
              "      display: none;\n",
              "      fill: #1967D2;\n",
              "      height: 32px;\n",
              "      padding: 0 0 0 0;\n",
              "      width: 32px;\n",
              "    }\n",
              "\n",
              "    .colab-df-convert:hover {\n",
              "      background-color: #E2EBFA;\n",
              "      box-shadow: 0px 1px 2px rgba(60, 64, 67, 0.3), 0px 1px 3px 1px rgba(60, 64, 67, 0.15);\n",
              "      fill: #174EA6;\n",
              "    }\n",
              "\n",
              "    .colab-df-buttons div {\n",
              "      margin-bottom: 4px;\n",
              "    }\n",
              "\n",
              "    [theme=dark] .colab-df-convert {\n",
              "      background-color: #3B4455;\n",
              "      fill: #D2E3FC;\n",
              "    }\n",
              "\n",
              "    [theme=dark] .colab-df-convert:hover {\n",
              "      background-color: #434B5C;\n",
              "      box-shadow: 0px 1px 3px 1px rgba(0, 0, 0, 0.15);\n",
              "      filter: drop-shadow(0px 1px 2px rgba(0, 0, 0, 0.3));\n",
              "      fill: #FFFFFF;\n",
              "    }\n",
              "  </style>\n",
              "\n",
              "    <script>\n",
              "      const buttonEl =\n",
              "        document.querySelector('#df-46ca93c7-5b12-4f20-be09-6c150ca91f63 button.colab-df-convert');\n",
              "      buttonEl.style.display =\n",
              "        google.colab.kernel.accessAllowed ? 'block' : 'none';\n",
              "\n",
              "      async function convertToInteractive(key) {\n",
              "        const element = document.querySelector('#df-46ca93c7-5b12-4f20-be09-6c150ca91f63');\n",
              "        const dataTable =\n",
              "          await google.colab.kernel.invokeFunction('convertToInteractive',\n",
              "                                                    [key], {});\n",
              "        if (!dataTable) return;\n",
              "\n",
              "        const docLinkHtml = 'Like what you see? Visit the ' +\n",
              "          '<a target=\"_blank\" href=https://colab.research.google.com/notebooks/data_table.ipynb>data table notebook</a>'\n",
              "          + ' to learn more about interactive tables.';\n",
              "        element.innerHTML = '';\n",
              "        dataTable['output_type'] = 'display_data';\n",
              "        await google.colab.output.renderOutput(dataTable, element);\n",
              "        const docLink = document.createElement('div');\n",
              "        docLink.innerHTML = docLinkHtml;\n",
              "        element.appendChild(docLink);\n",
              "      }\n",
              "    </script>\n",
              "  </div>\n",
              "\n",
              "\n",
              "    <div id=\"df-dfd2b475-897c-450f-8113-7de70ccb16de\">\n",
              "      <button class=\"colab-df-quickchart\" onclick=\"quickchart('df-dfd2b475-897c-450f-8113-7de70ccb16de')\"\n",
              "                title=\"Suggest charts\"\n",
              "                style=\"display:none;\">\n",
              "\n",
              "<svg xmlns=\"http://www.w3.org/2000/svg\" height=\"24px\"viewBox=\"0 0 24 24\"\n",
              "     width=\"24px\">\n",
              "    <g>\n",
              "        <path d=\"M19 3H5c-1.1 0-2 .9-2 2v14c0 1.1.9 2 2 2h14c1.1 0 2-.9 2-2V5c0-1.1-.9-2-2-2zM9 17H7v-7h2v7zm4 0h-2V7h2v10zm4 0h-2v-4h2v4z\"/>\n",
              "    </g>\n",
              "</svg>\n",
              "      </button>\n",
              "\n",
              "<style>\n",
              "  .colab-df-quickchart {\n",
              "      --bg-color: #E8F0FE;\n",
              "      --fill-color: #1967D2;\n",
              "      --hover-bg-color: #E2EBFA;\n",
              "      --hover-fill-color: #174EA6;\n",
              "      --disabled-fill-color: #AAA;\n",
              "      --disabled-bg-color: #DDD;\n",
              "  }\n",
              "\n",
              "  [theme=dark] .colab-df-quickchart {\n",
              "      --bg-color: #3B4455;\n",
              "      --fill-color: #D2E3FC;\n",
              "      --hover-bg-color: #434B5C;\n",
              "      --hover-fill-color: #FFFFFF;\n",
              "      --disabled-bg-color: #3B4455;\n",
              "      --disabled-fill-color: #666;\n",
              "  }\n",
              "\n",
              "  .colab-df-quickchart {\n",
              "    background-color: var(--bg-color);\n",
              "    border: none;\n",
              "    border-radius: 50%;\n",
              "    cursor: pointer;\n",
              "    display: none;\n",
              "    fill: var(--fill-color);\n",
              "    height: 32px;\n",
              "    padding: 0;\n",
              "    width: 32px;\n",
              "  }\n",
              "\n",
              "  .colab-df-quickchart:hover {\n",
              "    background-color: var(--hover-bg-color);\n",
              "    box-shadow: 0 1px 2px rgba(60, 64, 67, 0.3), 0 1px 3px 1px rgba(60, 64, 67, 0.15);\n",
              "    fill: var(--button-hover-fill-color);\n",
              "  }\n",
              "\n",
              "  .colab-df-quickchart-complete:disabled,\n",
              "  .colab-df-quickchart-complete:disabled:hover {\n",
              "    background-color: var(--disabled-bg-color);\n",
              "    fill: var(--disabled-fill-color);\n",
              "    box-shadow: none;\n",
              "  }\n",
              "\n",
              "  .colab-df-spinner {\n",
              "    border: 2px solid var(--fill-color);\n",
              "    border-color: transparent;\n",
              "    border-bottom-color: var(--fill-color);\n",
              "    animation:\n",
              "      spin 1s steps(1) infinite;\n",
              "  }\n",
              "\n",
              "  @keyframes spin {\n",
              "    0% {\n",
              "      border-color: transparent;\n",
              "      border-bottom-color: var(--fill-color);\n",
              "      border-left-color: var(--fill-color);\n",
              "    }\n",
              "    20% {\n",
              "      border-color: transparent;\n",
              "      border-left-color: var(--fill-color);\n",
              "      border-top-color: var(--fill-color);\n",
              "    }\n",
              "    30% {\n",
              "      border-color: transparent;\n",
              "      border-left-color: var(--fill-color);\n",
              "      border-top-color: var(--fill-color);\n",
              "      border-right-color: var(--fill-color);\n",
              "    }\n",
              "    40% {\n",
              "      border-color: transparent;\n",
              "      border-right-color: var(--fill-color);\n",
              "      border-top-color: var(--fill-color);\n",
              "    }\n",
              "    60% {\n",
              "      border-color: transparent;\n",
              "      border-right-color: var(--fill-color);\n",
              "    }\n",
              "    80% {\n",
              "      border-color: transparent;\n",
              "      border-right-color: var(--fill-color);\n",
              "      border-bottom-color: var(--fill-color);\n",
              "    }\n",
              "    90% {\n",
              "      border-color: transparent;\n",
              "      border-bottom-color: var(--fill-color);\n",
              "    }\n",
              "  }\n",
              "</style>\n",
              "\n",
              "      <script>\n",
              "        async function quickchart(key) {\n",
              "          const quickchartButtonEl =\n",
              "            document.querySelector('#' + key + ' button');\n",
              "          quickchartButtonEl.disabled = true;  // To prevent multiple clicks.\n",
              "          quickchartButtonEl.classList.add('colab-df-spinner');\n",
              "          try {\n",
              "            const charts = await google.colab.kernel.invokeFunction(\n",
              "                'suggestCharts', [key], {});\n",
              "          } catch (error) {\n",
              "            console.error('Error during call to suggestCharts:', error);\n",
              "          }\n",
              "          quickchartButtonEl.classList.remove('colab-df-spinner');\n",
              "          quickchartButtonEl.classList.add('colab-df-quickchart-complete');\n",
              "        }\n",
              "        (() => {\n",
              "          let quickchartButtonEl =\n",
              "            document.querySelector('#df-dfd2b475-897c-450f-8113-7de70ccb16de button');\n",
              "          quickchartButtonEl.style.display =\n",
              "            google.colab.kernel.accessAllowed ? 'block' : 'none';\n",
              "        })();\n",
              "      </script>\n",
              "    </div>\n",
              "    </div>\n",
              "  </div>\n"
            ],
            "application/vnd.google.colaboratory.intrinsic+json": {
              "type": "dataframe",
              "variable_name": "df",
              "summary": "{\n  \"name\": \"df\",\n  \"rows\": 100,\n  \"fields\": [\n    {\n      \"column\": \"amount\",\n      \"properties\": {\n        \"dtype\": \"number\",\n        \"std\": 1,\n        \"min\": 1,\n        \"max\": 12,\n        \"num_unique_values\": 11,\n        \"samples\": [\n          9,\n          2,\n          11\n        ],\n        \"semantic_type\": \"\",\n        \"description\": \"\"\n      }\n    },\n    {\n      \"column\": \"text_id\",\n      \"properties\": {\n        \"dtype\": \"number\",\n        \"std\": 137642260,\n        \"min\": -158709235,\n        \"max\": 514036726,\n        \"num_unique_values\": 100,\n        \"samples\": [\n          71882262,\n          214627751,\n          79737918\n        ],\n        \"semantic_type\": \"\",\n        \"description\": \"\"\n      }\n    },\n    {\n      \"column\": \"text\",\n      \"properties\": {\n        \"dtype\": \"string\",\n        \"num_unique_values\": 100,\n        \"samples\": [\n          \"\\u0418\\u043d\\u0442\\u0435\\u0440\\u0435\\u0441\\u0443\\u0435\\u0442 \\u0436\\u0438\\u043b\\u044c\\u0451-\\u044d\\u043a\\u043e\\u043d\\u043e\\u043c, \\u043a\\u043e\\u043d\\u0434\\u0438\\u0446\\u0438\\u043e\\u043d\\u0435\\u0440 \\u0442\\u043e\\u043b\\u044c\\u043a\\u043e \\u0447\\u0442\\u043e\\u0431\\u044b \\u0431\\u044b\\u043b, \\u0446\\u0435\\u043d\\u0430 \\u0441 \\u0447\\u0435\\u043b\\u043e\\u0432\\u0435\\u043a\\u0430? \\u0420\\u044f\\u0434\\u043e\\u043c \\u0441 \\u043c\\u043e\\u0440\\u0435\\u043c, +- 5-10 \\u043c\\u0438\\u043d\\u0443\\u0442 \\u0445\\u043e\\u0434\\u044c\\u0431\\u044b, \\u0441 10 \\u043f\\u043e 20 \\u0438\\u044e\\u043b\\u044f \\u043f\\u0440\\u0438\\u043c\\u0435\\u0440\\u043d\\u043e! \\u0411\\u0443\\u0434\\u0435\\u0442 \\u0442\\u043e\\u043b\\u044c\\u043a\\u043e \\u0436\\u0435\\u043d\\u0449\\u0438\\u043d\\u0430. \\u0421\\u043f\\u0430\\u0441\\u0438\\u0431\\u043e)\",\n          \"\\u0417\\u0434\\u0440\\u0430\\u0432\\u0441\\u0442\\u0432\\u0443\\u0439\\u0442\\u0435! \\u0418\\u043d\\u0442\\u0435\\u0440\\u0435\\u0441\\u0443\\u0435\\u0442 \\u0436\\u0438\\u043b\\u044c\\u0435 \\u043d\\u0435\\u0434\\u043e\\u0440\\u043e\\u0433\\u043e 1-10 \\u0441\\u0435\\u043d\\u0442\\u044f\\u0431\\u0440\\u044f.2 \\u0432\\u0437\\u0440 \\u0438 2 \\u0434\\u0435\\u0442\\u0435\\u0439-1 \\u043d\\u043e\\u043c\\u0435\\u0440 \\u043d\\u0443\\u0436\\u0435\\u043d.\\u0412 \\u041b\\u0421.\",\n          \"\\u0414\\u043e\\u0431\\u0440\\u044b\\u0439 \\u0434\\u0435\\u043d\\u044c!\\u0418\\u0449\\u0435\\u043c \\u0436\\u0438\\u043b\\u044c\\u0435 \\u0441 25.04-05.05 2 \\u0432\\u0437\\u0440\\u043e\\u0441\\u043b\\u044b\\u0445 + \\u0440\\u0435\\u0431\\u0435\\u043d\\u043e\\u043a 3\\u0445 \\u043b\\u0435\\u0442!\\u0414\\u0443\\u0448 \\u0438 \\u0442\\u0443\\u0430\\u043b\\u0435\\u0442 \\u0432 \\u043d\\u043e\\u043c\\u0435\\u0440\\u0435!\"\n        ],\n        \"semantic_type\": \"\",\n        \"description\": \"\"\n      }\n    }\n  ]\n}"
            }
          },
          "metadata": {},
          "execution_count": 5
        }
      ]
    },
    {
      "cell_type": "code",
      "source": [
        "df.text[0]"
      ],
      "metadata": {
        "colab": {
          "base_uri": "https://localhost:8080/",
          "height": 36
        },
        "id": "kmIN5F_qYUYS",
        "outputId": "dd9f5d6b-6ba6-4d4f-9466-a7db809483d6"
      },
      "execution_count": 31,
      "outputs": [
        {
          "data": {
            "application/vnd.google.colaboratory.intrinsic+json": {
              "type": "string"
            },
            "text/plain": [
              "'Сниму жилье. 500-600 рублей сутки. Эконом класса. Заезд 18.06. На 9-10 дней. На одного человека.'"
            ]
          },
          "execution_count": 31,
          "metadata": {},
          "output_type": "execute_result"
        }
      ]
    },
    {
      "cell_type": "code",
      "source": [
        "# Напишите шаблон промпта, указав инструкцию, вопрос и выходной индикатор\n",
        "\n",
        "prompt_template = \"\"\"Дана выборка реальных текстовых заявок на жилье. В каждой заявке есть информация про число человек.Извлеки из каждой заявки количество человек. И выдай в качестве ответа только итоговое число. Без текста. Без лишней информации.\n",
        "\n",
        "Context: {text_input}\n",
        "\n",
        "Question: ...\n",
        "\n",
        "Answer: ...\n",
        "\"\"\""
      ],
      "metadata": {
        "id": "KJliN54ynKi1"
      },
      "execution_count": 28,
      "outputs": []
    },
    {
      "cell_type": "code",
      "source": [
        "prompt_template = \"\"\"Дана выборка реальных текстовых заявок на жилье.\n",
        "В каждой заявке есть информация про число человек.\n",
        "\n",
        "Context: {text_input}\n",
        "\n",
        "Question: Какое количество человек указано в этой заявке?\n",
        "\n",
        "Answer: ТОЛЬКО ЧИСЛО (без текста, без пояснений):\"\"\""
      ],
      "metadata": {
        "id": "2Xs5jJLtlFyT"
      },
      "execution_count": null,
      "outputs": []
    },
    {
      "cell_type": "code",
      "source": [
        "amount_list = [] # Список, где будем хранить ответы модели\n",
        "\n",
        "for text_input in tqdm(df['text']):\n",
        "    prompt = prompt_template.format(text_input=text_input) # Добавляем сообщение в промпт\n",
        "    amount = llm.invoke(prompt).content # Ответ модели\n",
        "    amount_list.append(amount) # Добавляем ответ в список\n",
        "   # break # Для отладки. Уберите, когда убедитесь, что на одном примере работает"
      ],
      "metadata": {
        "id": "uRgoFuWUycRu",
        "colab": {
          "base_uri": "https://localhost:8080/"
        },
        "outputId": "a3f15490-28d6-45c6-e78a-a24e86871f37"
      },
      "execution_count": 32,
      "outputs": [
        {
          "output_type": "stream",
          "name": "stderr",
          "text": [
            "100%|██████████| 100/100 [02:18<00:00,  1.39s/it]\n"
          ]
        }
      ]
    },
    {
      "cell_type": "code",
      "source": [
        "amount_list"
      ],
      "metadata": {
        "collapsed": true,
        "colab": {
          "base_uri": "https://localhost:8080/"
        },
        "id": "0IkaU_GRf4RU",
        "outputId": "5f596345-62d0-4359-ec59-31a761510e1a"
      },
      "execution_count": 33,
      "outputs": [
        {
          "output_type": "execute_result",
          "data": {
            "text/plain": [
              "['1',\n",
              " '5',\n",
              " '7',\n",
              " '6',\n",
              " '6',\n",
              " '2',\n",
              " '2',\n",
              " '4',\n",
              " '4',\n",
              " '3',\n",
              " '4',\n",
              " '3',\n",
              " '5',\n",
              " '5',\n",
              " '6',\n",
              " '4',\n",
              " '2',\n",
              " '4',\n",
              " '2',\n",
              " '6',\n",
              " '3',\n",
              " '4',\n",
              " '2',\n",
              " '2',\n",
              " '3',\n",
              " '2',\n",
              " '6',\n",
              " '3',\n",
              " '4',\n",
              " '3',\n",
              " '6',\n",
              " '2',\n",
              " '4',\n",
              " '4',\n",
              " '8',\n",
              " '1',\n",
              " '3',\n",
              " '2',\n",
              " '2',\n",
              " '3',\n",
              " '4',\n",
              " '2',\n",
              " '3',\n",
              " '3',\n",
              " '6',\n",
              " '2',\n",
              " '3',\n",
              " '4',\n",
              " '4',\n",
              " '3',\n",
              " '3',\n",
              " '3',\n",
              " '4',\n",
              " '4',\n",
              " '4',\n",
              " '2',\n",
              " '2',\n",
              " '2',\n",
              " '2',\n",
              " '1',\n",
              " '3',\n",
              " '4',\n",
              " '11',\n",
              " '2',\n",
              " '3',\n",
              " '2',\n",
              " '2',\n",
              " '5',\n",
              " '3',\n",
              " '4',\n",
              " '3',\n",
              " '2',\n",
              " '3',\n",
              " '2',\n",
              " '2',\n",
              " '4',\n",
              " '5',\n",
              " '0',\n",
              " '3',\n",
              " '1',\n",
              " '4',\n",
              " '4',\n",
              " '4',\n",
              " '1',\n",
              " '2',\n",
              " '7',\n",
              " '5',\n",
              " '4',\n",
              " '3',\n",
              " '3',\n",
              " '7',\n",
              " '5',\n",
              " '5',\n",
              " '4',\n",
              " '12',\n",
              " '9',\n",
              " '1',\n",
              " '2',\n",
              " '2',\n",
              " '3']"
            ]
          },
          "metadata": {},
          "execution_count": 33
        }
      ]
    },
    {
      "cell_type": "code",
      "source": [
        "# перед записью ответа в датафрейм, проверьте какого типа ответы\n",
        "type(amount_list[0])"
      ],
      "metadata": {
        "id": "jNohtxOGnvwW",
        "colab": {
          "base_uri": "https://localhost:8080/"
        },
        "outputId": "6be0a40d-e9ed-4e27-90f3-0840965ac19c"
      },
      "execution_count": 34,
      "outputs": [
        {
          "data": {
            "text/plain": [
              "str"
            ]
          },
          "execution_count": 34,
          "metadata": {},
          "output_type": "execute_result"
        }
      ]
    },
    {
      "cell_type": "code",
      "source": [
        "# Чтобы система зачла ответы на Степике, надо перевести их в числа\n",
        "# Если не знаете как, спросите у ChatGPT)"
      ],
      "metadata": {
        "id": "Dlpb_3n9oCcU"
      },
      "execution_count": null,
      "outputs": []
    },
    {
      "cell_type": "code",
      "source": [
        "amount_list_numeric = []\n",
        "for amount in amount_list:\n",
        "    try:\n",
        "        numeric_value = int(amount)\n",
        "        amount_list_numeric.append(numeric_value)\n",
        "    except ValueError:\n",
        "        amount_list_numeric.append(0)  # или другое значение по умолчанию\n",
        "\n",
        "print(amount_list_numeric)"
      ],
      "metadata": {
        "colab": {
          "base_uri": "https://localhost:8080/"
        },
        "id": "l0dm-la0hFOe",
        "outputId": "9f50f2b3-49a1-432b-b421-60b0c618fbc6"
      },
      "execution_count": 40,
      "outputs": [
        {
          "output_type": "stream",
          "name": "stdout",
          "text": [
            "[1, 5, 7, 6, 6, 2, 2, 4, 4, 3, 4, 3, 5, 5, 6, 4, 2, 4, 2, 6, 3, 4, 2, 2, 3, 2, 6, 3, 4, 3, 6, 2, 4, 4, 8, 1, 3, 2, 2, 3, 4, 2, 3, 3, 6, 2, 3, 4, 4, 3, 3, 3, 4, 4, 4, 2, 2, 2, 2, 1, 3, 4, 11, 2, 3, 2, 2, 5, 3, 4, 3, 2, 3, 2, 2, 4, 5, 0, 3, 1, 4, 4, 4, 1, 2, 7, 5, 4, 3, 3, 7, 5, 5, 4, 12, 9, 1, 2, 2, 3]\n"
          ]
        }
      ]
    },
    {
      "cell_type": "code",
      "source": [
        "type(amount_list_numeric[0])"
      ],
      "metadata": {
        "id": "Nuqt79iqWv38"
      },
      "execution_count": null,
      "outputs": []
    },
    {
      "cell_type": "code",
      "source": [
        "df['amount'] = amount_list_numeric"
      ],
      "metadata": {
        "id": "VXtalHWpW2sh"
      },
      "execution_count": 42,
      "outputs": []
    },
    {
      "cell_type": "code",
      "source": [
        "df.to_csv('2_1_8_solution.csv', index=False) # Сохраняем файл, отправляем на Stepik, получаем баллы :)"
      ],
      "metadata": {
        "id": "Ki850BP0_H2A"
      },
      "execution_count": 43,
      "outputs": []
    },
    {
      "cell_type": "code",
      "source": [],
      "metadata": {
        "id": "wvcQ8Hm-WZCl"
      },
      "execution_count": null,
      "outputs": []
    }
  ]
}