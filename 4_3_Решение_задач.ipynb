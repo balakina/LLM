{
  "nbformat": 4,
  "nbformat_minor": 0,
  "metadata": {
    "colab": {
      "provenance": [],
      "collapsed_sections": [
        "0dt0Sf3xnS3m"
      ]
    },
    "kernelspec": {
      "name": "python3",
      "display_name": "Python 3"
    },
    "language_info": {
      "name": "python"
    }
  },
  "cells": [
    {
      "cell_type": "markdown",
      "source": [
        "# Ноутбук для решения задач для урока М4 Basic-Advansic prompting"
      ],
      "metadata": {
        "id": "-mnYN5T7EkAf"
      }
    },
    {
      "cell_type": "code",
      "execution_count": 1,
      "metadata": {
        "id": "YfVGMp8AkODF",
        "colab": {
          "base_uri": "https://localhost:8080/"
        },
        "outputId": "ce0bcd17-88f6-4562-866b-503db19a0123"
      },
      "outputs": [
        {
          "output_type": "stream",
          "name": "stdout",
          "text": [
            "\u001b[?25l   \u001b[90m━━━━━━━━━━━━━━━━━━━━━━━━━━━━━━━━━━━━━━━━\u001b[0m \u001b[32m0.0/75.6 kB\u001b[0m \u001b[31m?\u001b[0m eta \u001b[36m-:--:--\u001b[0m\r\u001b[2K   \u001b[90m━━━━━━━━━━━━━━━━━━━━━━━━━━━━━━━━━━━━━━━━\u001b[0m \u001b[32m75.6/75.6 kB\u001b[0m \u001b[31m3.2 MB/s\u001b[0m eta \u001b[36m0:00:00\u001b[0m\n",
            "\u001b[?25h\u001b[?25l   \u001b[90m━━━━━━━━━━━━━━━━━━━━━━━━━━━━━━━━━━━━━━━━\u001b[0m \u001b[32m0.0/209.2 kB\u001b[0m \u001b[31m?\u001b[0m eta \u001b[36m-:--:--\u001b[0m\r\u001b[2K   \u001b[90m━━━━━━━━━━━━━━━━━━━━━━━━━━━━━━━━━━━━━━━━\u001b[0m \u001b[32m209.2/209.2 kB\u001b[0m \u001b[31m8.7 MB/s\u001b[0m eta \u001b[36m0:00:00\u001b[0m\n",
            "\u001b[2K   \u001b[90m━━━━━━━━━━━━━━━━━━━━━━━━━━━━━━━━━━━━━━━━\u001b[0m \u001b[32m2.5/2.5 MB\u001b[0m \u001b[31m44.3 MB/s\u001b[0m eta \u001b[36m0:00:00\u001b[0m\n",
            "\u001b[2K   \u001b[90m━━━━━━━━━━━━━━━━━━━━━━━━━━━━━━━━━━━━━━━━\u001b[0m \u001b[32m449.5/449.5 kB\u001b[0m \u001b[31m26.7 MB/s\u001b[0m eta \u001b[36m0:00:00\u001b[0m\n",
            "\u001b[2K   \u001b[90m━━━━━━━━━━━━━━━━━━━━━━━━━━━━━━━━━━━━━━━━\u001b[0m \u001b[32m64.7/64.7 kB\u001b[0m \u001b[31m4.3 MB/s\u001b[0m eta \u001b[36m0:00:00\u001b[0m\n",
            "\u001b[2K   \u001b[90m━━━━━━━━━━━━━━━━━━━━━━━━━━━━━━━━━━━━━━━━\u001b[0m \u001b[32m50.9/50.9 kB\u001b[0m \u001b[31m3.2 MB/s\u001b[0m eta \u001b[36m0:00:00\u001b[0m\n",
            "\u001b[?25h\u001b[31mERROR: pip's dependency resolver does not currently take into account all the packages that are installed. This behaviour is the source of the following dependency conflicts.\n",
            "google-colab 1.0.0 requires requests==2.32.4, but you have requests 2.32.5 which is incompatible.\u001b[0m\u001b[31m\n",
            "\u001b[0m"
          ]
        }
      ],
      "source": [
        "!pip install openai langchain langchain-openai langchain-experimental -q"
      ]
    },
    {
      "cell_type": "code",
      "source": [
        "from getpass import getpass"
      ],
      "metadata": {
        "id": "lBznbmZ9nOa-"
      },
      "execution_count": 2,
      "outputs": []
    },
    {
      "cell_type": "markdown",
      "source": [
        "## Если используете ключ от OpenAI, запустите эту ячейку 👇"
      ],
      "metadata": {
        "id": "0dt0Sf3xnS3m"
      }
    },
    {
      "cell_type": "code",
      "source": [
        "import os\n",
        "from langchain_openai import ChatOpenAI\n",
        "\n",
        "\n",
        "# os.environ['OPENAI_API_KEY'] = \"Введите ваш OpenAI API ключ\"\n",
        "os.environ['OPENAI_API_KEY'] = getpass(prompt='Введите ваш OpenAI API ключ')\n",
        "\n",
        "# Инициализируем языковую модель\n",
        "llm = ChatOpenAI(temperature=0.0)"
      ],
      "metadata": {
        "id": "a2ZTWMEynSrk"
      },
      "execution_count": null,
      "outputs": []
    },
    {
      "cell_type": "markdown",
      "source": [
        "## Если используете ключ из курса, запустите эти ячейки 👇"
      ],
      "metadata": {
        "id": "S6LFfoYSnfVO"
      }
    },
    {
      "cell_type": "code",
      "source": [
        "from langchain_openai import ChatOpenAI\n",
        "from getpass import getpass\n",
        "\n",
        "#course_api_key= \"Введите ваш API ключ, полученный в боте курса\"\n",
        "course_api_key = getpass(prompt='Введите ваш API ключ, полученный в боте курса')\n",
        "\n",
        "# инициализируем языковую модель\n",
        "llm = ChatOpenAI(api_key=course_api_key, model='gpt-4o-mini',\n",
        "                 base_url=\"https://aleron-llm.neuraldeep.tech/\")"
      ],
      "metadata": {
        "id": "ATSJBycqnj9j",
        "colab": {
          "base_uri": "https://localhost:8080/"
        },
        "outputId": "3992e401-4778-4413-c396-f91fc5e06df3"
      },
      "execution_count": 3,
      "outputs": [
        {
          "name": "stdout",
          "output_type": "stream",
          "text": [
            "Введите ваш API ключ, полученный в боте курса··········\n"
          ]
        }
      ]
    },
    {
      "cell_type": "markdown",
      "source": [
        "## Задание 4.3.6 Судоку 🔢\n",
        "\n"
      ],
      "metadata": {
        "id": "QpOaZMEOjr6u"
      }
    },
    {
      "cell_type": "code",
      "source": [
        "# если давать условие на английском, модель работает лучше\n",
        "sudoku_puzzle = \"3,*,*,2|1,*,3,*|*,1,*,3|4,*,*,1\"\n",
        "sudoku_solution = \"3,4,1,2|1,2,3,4|2,1,4,3|4,3,2,1\"\n",
        "problem_description = f\"\"\"\n",
        "{sudoku_puzzle}\n",
        "\n",
        "- This is a 4x4 Sudoku puzzle.\n",
        "- The * represents a cell to be filled.\n",
        "- The | character separates rows.\n",
        "- At each step, replace one or more * with digits 1-4.\n",
        "- There must be no duplicate digits in any row, column or 2x2 subgrid.\n",
        "- Keep the known digits from previous valid thoughts in place.\n",
        "- Each thought can be a partial or the final solution.\n",
        "\"\"\".strip()\n",
        "print(problem_description)"
      ],
      "metadata": {
        "colab": {
          "base_uri": "https://localhost:8080/"
        },
        "id": "Zh03MuT9ajxm",
        "outputId": "924cc4c2-f1dc-4da3-feba-c704594a5ed8"
      },
      "execution_count": 4,
      "outputs": [
        {
          "output_type": "stream",
          "name": "stdout",
          "text": [
            "3,*,*,2|1,*,3,*|*,1,*,3|4,*,*,1\n",
            "\n",
            "- This is a 4x4 Sudoku puzzle.\n",
            "- The * represents a cell to be filled.\n",
            "- The | character separates rows.\n",
            "- At each step, replace one or more * with digits 1-4.\n",
            "- There must be no duplicate digits in any row, column or 2x2 subgrid.\n",
            "- Keep the known digits from previous valid thoughts in place.\n",
            "- Each thought can be a partial or the final solution.\n"
          ]
        }
      ]
    },
    {
      "cell_type": "code",
      "source": [
        "sudoku_puzzle = \"3,*,*,2|1,*,3,*|*,1,*,3|4,*,*,1\"\n",
        "sudoku_solution = \"3,4,1,2|1,2,3,4|2,1,4,3|4,3,2,1\"\n",
        "problem_description = f\"\"\"\n",
        "{sudoku_puzzle}\n",
        "- Это головоломка Судоку размером 4x4.\n",
        "- Символ * обозначает ячейку, которую тебе нужно заполнить.\n",
        "- Символ | разделяет строки.\n",
        "- На каждом шаге замени одну или несколько * цифрами от 1 до 4.\n",
        "- Напиши текущее состояние пазла с добавленными цифрами\n",
        "- Ни в одной строке, столбце или 2x2 подсетке не должно быть одинаковых цифр.\n",
        "- Сохраняй полученные цифры из предыдущих успешных мыслей на своих местах.\n",
        "- Каждая мысль может быть промежуточным или окончательным решением.\n",
        "\"\"\".strip()\n",
        "print(problem_description)"
      ],
      "metadata": {
        "colab": {
          "base_uri": "https://localhost:8080/"
        },
        "id": "l8NPOobddwbj",
        "outputId": "0f130fb0-b308-4bd9-e693-4848b295b25b"
      },
      "execution_count": null,
      "outputs": [
        {
          "output_type": "stream",
          "name": "stdout",
          "text": [
            "3,*,*,2|1,*,3,*|*,1,*,3|4,*,*,1\n",
            "- Это головоломка Судоку размером 4x4.\n",
            "- Символ * обозначает ячейку, которую тебе нужно заполнить.\n",
            "- Символ | разделяет строки.\n",
            "- На каждом шаге замени одну или несколько * цифрами от 1 до 4.\n",
            "- Напиши текущее состояние пазла с добавленными цифрами\n",
            "- Ни в одной строке, столбце или 2x2 подсетке не должно быть одинаковых цифр.\n",
            "- Сохраняй полученные цифры из предыдущих успешных мыслей на своих местах.\n",
            "- Каждая мысль может быть промежуточным или окончательным решением.\n"
          ]
        }
      ]
    },
    {
      "cell_type": "code",
      "source": [
        "from typing import Tuple\n",
        "from langchain_experimental.tot.checker import ToTChecker\n",
        "from langchain_experimental.tot.thought import ThoughtValidity\n",
        "\n",
        "\n",
        "def _parse_grid(grid_str: str):\n",
        "    if not grid_str.strip():\n",
        "        raise ValueError(\"Empty grid string\")\n",
        "    clean_str = grid_str.replace(\" \", \"\")\n",
        "    rows = clean_str.split('|')\n",
        "    return [row.split(',') for row in rows]\n",
        "\n",
        "\n",
        "class MyChecker(ToTChecker):\n",
        "    def evaluate(self, problem_description: str, thoughts: Tuple[str, ...] = ()) -> ThoughtValidity:\n",
        "        if not thoughts:\n",
        "            return ThoughtValidity.INVALID\n",
        "\n",
        "        current_state = thoughts[-1].strip()\n",
        "        if not current_state:\n",
        "            return ThoughtValidity.INVALID\n",
        "\n",
        "        # === Попытка извлечь original_puzzle ===\n",
        "        original_puzzle = None\n",
        "        lines = [line.strip() for line in problem_description.strip().split('\\n') if line.strip()]\n",
        "        if lines:\n",
        "            original_puzzle = lines[0]\n",
        "\n",
        "        try:\n",
        "            current_grid = _parse_grid(current_state)\n",
        "        except Exception:\n",
        "            return ThoughtValidity.INVALID\n",
        "\n",
        "        if len(current_grid) != 4 or any(len(row) != 4 for row in current_grid):\n",
        "            return ThoughtValidity.INVALID\n",
        "\n",
        "        # === Проверка символов ===\n",
        "        for row in current_grid:\n",
        "            for cell in row:\n",
        "                if cell != '*' and (not cell.isdigit() or int(cell) not in {1, 2, 3, 4}):\n",
        "                    return ThoughtValidity.INVALID\n",
        "\n",
        "        # === Проверка фиксированных ячеек (только если original_puzzle задан) ===\n",
        "        if original_puzzle is not None:\n",
        "            try:\n",
        "                original_grid = _parse_grid(original_puzzle)\n",
        "                if len(original_grid) != 4 or any(len(row) != 4 for row in original_grid):\n",
        "                    return ThoughtValidity.INVALID\n",
        "                for i in range(4):\n",
        "                    for j in range(4):\n",
        "                        orig_cell = original_grid[i][j]\n",
        "                        curr_cell = current_grid[i][j]\n",
        "                        if orig_cell != '*' and orig_cell != curr_cell:\n",
        "                            return ThoughtValidity.INVALID\n",
        "            except Exception:\n",
        "                return ThoughtValidity.INVALID\n",
        "\n",
        "        # === Проверка правил Судоку ===\n",
        "        def _is_valid_group(group):\n",
        "            filled = [x for x in group if x != '*']\n",
        "            return len(filled) == len(set(filled))\n",
        "\n",
        "        # Строки\n",
        "        for row in current_grid:\n",
        "            if not _is_valid_group(row):\n",
        "                return ThoughtValidity.INVALID\n",
        "\n",
        "        # Столбцы\n",
        "        for col in range(4):\n",
        "            column = [current_grid[row][col] for row in range(4)]\n",
        "            if not _is_valid_group(column):\n",
        "                return ThoughtValidity.INVALID\n",
        "\n",
        "        # Блоки 2x2\n",
        "        for block_row in range(2):\n",
        "            for block_col in range(2):\n",
        "                block = []\n",
        "                for i in range(2):\n",
        "                    for j in range(2):\n",
        "                        block.append(current_grid[block_row * 2 + i][block_col * 2 + j])\n",
        "                if not _is_valid_group(block):\n",
        "                    return ThoughtValidity.INVALID\n",
        "\n",
        "        # === Решение завершено? ===\n",
        "        is_complete = all(cell != '*' for row in current_grid for cell in row)\n",
        "        if is_complete:\n",
        "            return ThoughtValidity.VALID_FINAL\n",
        "        else:\n",
        "            return ThoughtValidity.VALID_INTERMEDIATE"
      ],
      "metadata": {
        "id": "J_w3deFpajuy"
      },
      "execution_count": 8,
      "outputs": []
    },
    {
      "cell_type": "markdown",
      "source": [
        "Проверьте, правильно ли работает ваш чекер на тестах. Можете также написать свои тесты."
      ],
      "metadata": {
        "id": "3NWKXKyhi1ks"
      }
    },
    {
      "cell_type": "code",
      "source": [
        "checker = MyChecker()\n",
        "assert (\n",
        "    checker.evaluate(\"\", (\"3,*,*,2|1,*,3,*|*,1,*,3|4,*,*,1\",))\n",
        "    == ThoughtValidity.VALID_INTERMEDIATE\n",
        ")\n",
        "assert (\n",
        "    checker.evaluate(\"\", (\"3,4,1,2|1,2,3,4|2,1,4,3|4,3,2,1\",))\n",
        "    == ThoughtValidity.VALID_FINAL\n",
        ")\n",
        "assert (\n",
        "    checker.evaluate(\"\", (\"3,4,1,2|1,2,3,4|2,1,4,3|4,3,*,1\",))\n",
        "    == ThoughtValidity.VALID_INTERMEDIATE\n",
        ")\n",
        "assert (\n",
        "    checker.evaluate(\"\", (\"3,4,1,2|1,2,3,4|2,1,4,3|4,*,3,1\",))\n",
        "    == ThoughtValidity.INVALID\n",
        ")"
      ],
      "metadata": {
        "id": "WwFq8ZKcdcp6"
      },
      "execution_count": 9,
      "outputs": []
    },
    {
      "cell_type": "code",
      "source": [
        "# запустим tot, если хотите (будут тратиться токены)\n",
        "from langchain_experimental.tot.base import ToTChain\n",
        "\n",
        "tot_chain = ToTChain(\n",
        "    llm=llm, checker=MyChecker(), k=30, c=2, verbose=True, verbose_llm=False\n",
        ")\n",
        "tot_chain.invoke({'problem_description': problem_description})"
      ],
      "metadata": {
        "id": "dBx62BxCbjAL",
        "colab": {
          "base_uri": "https://localhost:8080/"
        },
        "outputId": "6e805a53-f2c6-4b6f-c5cf-e4cbff363aac"
      },
      "execution_count": 10,
      "outputs": [
        {
          "metadata": {
            "tags": null
          },
          "name": "stdout",
          "output_type": "stream",
          "text": [
            "\n",
            "\n",
            "\u001b[1m> Entering new ToTChain chain...\u001b[0m\n",
            "Starting the ToT solve procedure.\n"
          ]
        },
        {
          "metadata": {
            "tags": null
          },
          "name": "stderr",
          "output_type": "stream",
          "text": [
            "/usr/local/lib/python3.12/dist-packages/langchain_experimental/tot/thought_generation.py:83: UserWarning: The predict_and_parse method is deprecated, instead pass an output parser directly to LLMChain.\n",
            "  new_thoughts = self.predict_and_parse(\n"
          ]
        },
        {
          "metadata": {
            "tags": null
          },
          "name": "stdout",
          "output_type": "stream",
          "text": [
            "\u001b[33;1m\u001b[1;3m        Thought: 3,4,*,2|1,2,3,*|*,1,*,3|4,*,*,1\n",
            "\u001b[0m"
          ]
        },
        {
          "metadata": {
            "tags": null
          },
          "name": "stderr",
          "output_type": "stream",
          "text": [
            "/usr/local/lib/python3.12/dist-packages/langchain_experimental/tot/thought_generation.py:83: UserWarning: The predict_and_parse method is deprecated, instead pass an output parser directly to LLMChain.\n",
            "  new_thoughts = self.predict_and_parse(\n"
          ]
        },
        {
          "metadata": {
            "tags": null
          },
          "name": "stdout",
          "output_type": "stream",
          "text": [
            "\u001b[33;1m\u001b[1;3m    Thought: 3, *, *, 2 | 1, 2, 3, 4 | *, 1, *, 3 | 4, *, *, 1\n",
            "\u001b[0m\u001b[33;1m\u001b[1;3mThought: 3,*,*,2|1,*,3,4|*,1,*,3|4,*,*,1\n",
            "\u001b[0m"
          ]
        },
        {
          "metadata": {
            "tags": null
          },
          "name": "stderr",
          "output_type": "stream",
          "text": [
            "/usr/local/lib/python3.12/dist-packages/langchain_experimental/tot/thought_generation.py:83: UserWarning: The predict_and_parse method is deprecated, instead pass an output parser directly to LLMChain.\n",
            "  new_thoughts = self.predict_and_parse(\n"
          ]
        },
        {
          "metadata": {
            "tags": null
          },
          "name": "stdout",
          "output_type": "stream",
          "text": [
            "\u001b[33;1m\u001b[1;3m    Thought: 3,4,*,2|1,*,3,4|*,1,*,3|4,*,*,1\n",
            "\u001b[0m"
          ]
        },
        {
          "metadata": {
            "tags": null
          },
          "name": "stderr",
          "output_type": "stream",
          "text": [
            "/usr/local/lib/python3.12/dist-packages/langchain_experimental/tot/thought_generation.py:83: UserWarning: The predict_and_parse method is deprecated, instead pass an output parser directly to LLMChain.\n",
            "  new_thoughts = self.predict_and_parse(\n"
          ]
        },
        {
          "metadata": {
            "tags": null
          },
          "name": "stdout",
          "output_type": "stream",
          "text": [
            "\u001b[33;1m\u001b[1;3m        Thought: 3,4,1,2|1,2,3,4|*,1,*,3|4,*,*,1\n",
            "\u001b[0m"
          ]
        },
        {
          "metadata": {
            "tags": null
          },
          "name": "stderr",
          "output_type": "stream",
          "text": [
            "/usr/local/lib/python3.12/dist-packages/langchain_experimental/tot/thought_generation.py:83: UserWarning: The predict_and_parse method is deprecated, instead pass an output parser directly to LLMChain.\n",
            "  new_thoughts = self.predict_and_parse(\n"
          ]
        },
        {
          "metadata": {
            "tags": null
          },
          "name": "stdout",
          "output_type": "stream",
          "text": [
            "\u001b[33;1m\u001b[1;3m            Thought: 3,4,1,2|1,2,3,4|2,1,*,3|4,*,*,1\n",
            "\u001b[0m"
          ]
        },
        {
          "metadata": {
            "tags": null
          },
          "name": "stderr",
          "output_type": "stream",
          "text": [
            "/usr/local/lib/python3.12/dist-packages/langchain_experimental/tot/thought_generation.py:83: UserWarning: The predict_and_parse method is deprecated, instead pass an output parser directly to LLMChain.\n",
            "  new_thoughts = self.predict_and_parse(\n"
          ]
        },
        {
          "metadata": {
            "tags": null
          },
          "name": "stdout",
          "output_type": "stream",
          "text": [
            "\u001b[33;1m\u001b[1;3m                Thought: 3,4,1,2|1,2,3,4|2,1,4,3|4,*,*,1\n",
            "\u001b[0m"
          ]
        },
        {
          "metadata": {
            "tags": null
          },
          "name": "stderr",
          "output_type": "stream",
          "text": [
            "/usr/local/lib/python3.12/dist-packages/langchain_experimental/tot/thought_generation.py:83: UserWarning: The predict_and_parse method is deprecated, instead pass an output parser directly to LLMChain.\n",
            "  new_thoughts = self.predict_and_parse(\n"
          ]
        },
        {
          "metadata": {
            "tags": null
          },
          "name": "stdout",
          "output_type": "stream",
          "text": [
            "\u001b[33;1m\u001b[1;3m                    Thought: 3,4,1,2|1,2,3,4|2,1,4,3|4,3,*,1\n",
            "\u001b[0m"
          ]
        },
        {
          "metadata": {
            "tags": null
          },
          "name": "stderr",
          "output_type": "stream",
          "text": [
            "/usr/local/lib/python3.12/dist-packages/langchain_experimental/tot/thought_generation.py:83: UserWarning: The predict_and_parse method is deprecated, instead pass an output parser directly to LLMChain.\n",
            "  new_thoughts = self.predict_and_parse(\n"
          ]
        },
        {
          "metadata": {
            "tags": null
          },
          "name": "stdout",
          "output_type": "stream",
          "text": [
            "\u001b[32;1m\u001b[1;3m                        Thought: 3,4,1,2|1,2,3,4|2,1,4,3|4,3,2,1\n",
            "\u001b[0m\n",
            "\u001b[1m> Finished chain.\u001b[0m\n"
          ]
        },
        {
          "data": {
            "text/plain": [
              "{'problem_description': '3,*,*,2|1,*,3,*|*,1,*,3|4,*,*,1\\n\\n- This is a 4x4 Sudoku puzzle.\\n- The * represents a cell to be filled.\\n- The | character separates rows.\\n- At each step, replace one or more * with digits 1-4.\\n- There must be no duplicate digits in any row, column or 2x2 subgrid.\\n- Keep the known digits from previous valid thoughts in place.\\n- Each thought can be a partial or the final solution.',\n",
              " 'response': '3,4,1,2|1,2,3,4|2,1,4,3|4,3,2,1'}"
            ]
          },
          "execution_count": 10,
          "metadata": {},
          "output_type": "execute_result"
        }
      ]
    },
    {
      "cell_type": "markdown",
      "source": [
        "## Задание 4.3.7 🥊PAL против математических задачек🧑‍🎓\n",
        "\n",
        "\n",
        "\n",
        "\n"
      ],
      "metadata": {
        "id": "AX_cKZihoXnP"
      }
    },
    {
      "cell_type": "markdown",
      "source": [
        "Подгрузим датасет"
      ],
      "metadata": {
        "id": "R9c5qsa-sU8Q"
      }
    },
    {
      "cell_type": "code",
      "source": [
        "import pandas as pd\n",
        "from tqdm import tqdm\n",
        "\n",
        "df = pd.read_csv(\"https://stepik.org/media/attachments/lesson/1282589/math_pal.csv\")"
      ],
      "metadata": {
        "id": "4sUfanNNoZUh"
      },
      "execution_count": 11,
      "outputs": []
    },
    {
      "cell_type": "code",
      "source": [],
      "metadata": {
        "id": "Y5OYN7bMR7OJ"
      },
      "execution_count": 20,
      "outputs": []
    },
    {
      "cell_type": "code",
      "source": [
        "from langchain_experimental.pal_chain.base import PALChain\n",
        "from langchain_core.prompts import PromptTemplate\n",
        "from langchain.chains import LLMChain\n"
      ],
      "metadata": {
        "id": "UKj1g552oZW1"
      },
      "execution_count": 51,
      "outputs": []
    },
    {
      "cell_type": "code",
      "source": [
        "from langchain_openai import ChatOpenAI\n",
        "\n",
        "course_api_key = getpass(prompt=\"Введите ваш ключ, полученный в боте курса\")\n",
        "\n",
        "llm = ChatOpenAI(\n",
        "    api_key=course_api_key,\n",
        "    model='gpt-4o-mini',\n",
        "    base_url=\"https://aleron-llm.neuraldeep.tech/\"\n",
        ")\n",
        "\n",
        "# Создание PALChain с модифицированным промптом ===\n",
        "from langchain_experimental.pal_chain.base import PALChain\n",
        "\n",
        "# Создаём цепочку с дефолтным математическим промптом\n",
        "pal_chain = PALChain.from_math_prompt(llm, allow_dangerous_code=True, verbose=True)\n",
        "\n",
        "# Модифицируем промпт: запрещаем Markdown и требуем только код\n",
        "original_template = pal_chain.llm_chain.prompt.template\n",
        "strict_instructions = (\n",
        "    \"Write ONLY valid Python code. Do NOT use markdown code blocks (```python ... ``` or ```).\\n\"\n",
        "    \"Use pi = 3.14159 if needed. Print ONLY the final number. No explanations, no comments.\\n\\n\"\n",
        ")\n",
        "pal_chain.llm_chain.prompt.template = strict_instructions + original_template"
      ],
      "metadata": {
        "id": "SCrXVyAadxtL"
      },
      "execution_count": 59,
      "outputs": []
    },
    {
      "cell_type": "code",
      "source": [
        "df"
      ],
      "metadata": {
        "id": "g1XypZHaOz5F"
      },
      "execution_count": null,
      "outputs": []
    },
    {
      "cell_type": "markdown",
      "source": [
        "Сделайте предсказания. Чтобы избежать импортов библиотеки math, можо подавать в инпут значение числа \"пи\" 3.14159.\n",
        "Помните, что мы хотим получить число, а ЛЛМка будет выдавать строку."
      ],
      "metadata": {
        "id": "1QyOslrws8xM"
      }
    },
    {
      "cell_type": "code",
      "source": [],
      "metadata": {
        "id": "qvPCg5PdPmNW"
      },
      "execution_count": null,
      "outputs": []
    },
    {
      "cell_type": "code",
      "source": [
        "answers = []\n",
        "for task in tqdm(df['task'], desc=\"Решение задач\"):\n",
        "    try:\n",
        "        # Добавляем уточнение про pi (на всякий случай)\n",
        "        question = f\"{task}. Use pi = 3.14159 if needed.\"\n",
        "        result = pal_chain.invoke({\"question\": question})\n",
        "        ans = result[\"result\"]\n",
        "\n",
        "        # Приведение к числу: float → int, если целое\n",
        "        if isinstance(ans, float):\n",
        "            if ans.is_integer():\n",
        "                ans = int(ans)\n",
        "            else:\n",
        "                # Округляем до 6 знаков, чтобы избежать 3.1415900000000002\n",
        "                ans = round(ans, 6)\n",
        "        elif isinstance(ans, str):\n",
        "            # Иногда возвращается строка вроде '700' или '106.814'\n",
        "            try:\n",
        "                f_val = float(ans.strip())\n",
        "                if f_val.is_integer():\n",
        "                    ans = int(f_val)\n",
        "                else:\n",
        "                    ans = round(f_val, 6)\n",
        "            except ValueError:\n",
        "                ans = None\n",
        "        answers.append(ans)\n",
        "    except Exception as e:\n",
        "        print(f\"\\nОшибка при решении задачи: {task[:60]}... → {e}\")\n",
        "        answers.append(None)  # продолжаем обработку"
      ],
      "metadata": {
        "id": "aJCWxZshoZZO",
        "colab": {
          "base_uri": "https://localhost:8080/"
        },
        "outputId": "16f8e3a5-b20f-4bdb-f43f-cff03b87b6d6"
      },
      "execution_count": 63,
      "outputs": [
        {
          "output_type": "stream",
          "name": "stderr",
          "text": [
            "\rРешение задач:   0%|          | 0/10 [00:00<?, ?it/s]"
          ]
        },
        {
          "output_type": "stream",
          "name": "stdout",
          "text": [
            "\n",
            "\n",
            "\u001b[1m> Entering new PALChain chain...\u001b[0m\n",
            "\u001b[32;1m\u001b[1;3mdef solution():\n",
            "    length = 1.5\n",
            "    width = 2\n",
            "    perimeter = 2 * (length + width) * 100\n",
            "    return perimeter\u001b[0m\n"
          ]
        },
        {
          "output_type": "stream",
          "name": "stderr",
          "text": [
            "\rРешение задач:  10%|█         | 1/10 [00:01<00:16,  1.87s/it]"
          ]
        },
        {
          "output_type": "stream",
          "name": "stdout",
          "text": [
            "\n",
            "\u001b[1m> Finished chain.\u001b[0m\n",
            "\n",
            "\n",
            "\u001b[1m> Entering new PALChain chain...\u001b[0m\n",
            "\u001b[32;1m\u001b[1;3mdef solution():\n",
            "    pi = 3.14159\n",
            "    radius1 = 5\n",
            "    radius2 = 3\n",
            "    area1 = pi * (radius1 ** 2)\n",
            "    area2 = pi * (radius2 ** 2)\n",
            "    total_area = area1 + area2\n",
            "    return total_area\u001b[0m\n"
          ]
        },
        {
          "output_type": "stream",
          "name": "stderr",
          "text": [
            "\rРешение задач:  20%|██        | 2/10 [00:04<00:16,  2.03s/it]"
          ]
        },
        {
          "output_type": "stream",
          "name": "stdout",
          "text": [
            "\n",
            "\u001b[1m> Finished chain.\u001b[0m\n",
            "\n",
            "\n",
            "\u001b[1m> Entering new PALChain chain...\u001b[0m\n",
            "\u001b[32;1m\u001b[1;3mdef solution():\n",
            "    number1 = 20\n",
            "    number2 = 32\n",
            "    binary1 = bin(number1).count('1')\n",
            "    binary2 = bin(number2).count('1')\n",
            "    result = binary1 + binary2\n",
            "    return result\u001b[0m\n"
          ]
        },
        {
          "output_type": "stream",
          "name": "stderr",
          "text": [
            "\rРешение задач:  30%|███       | 3/10 [00:05<00:13,  1.93s/it]"
          ]
        },
        {
          "output_type": "stream",
          "name": "stdout",
          "text": [
            "\n",
            "\u001b[1m> Finished chain.\u001b[0m\n",
            "\n",
            "\n",
            "\u001b[1m> Entering new PALChain chain...\u001b[0m\n",
            "\u001b[32;1m\u001b[1;3mdef solution():\n",
            "    binary1 = '1101011010'\n",
            "    binary2 = '101011'\n",
            "    decimal1 = int(binary1, 2)\n",
            "    decimal2 = int(binary2, 2)\n",
            "    total_sum = decimal1 + decimal2\n",
            "    return total_sum\u001b[0m\n"
          ]
        },
        {
          "output_type": "stream",
          "name": "stderr",
          "text": [
            "\rРешение задач:  40%|████      | 4/10 [00:07<00:11,  1.89s/it]"
          ]
        },
        {
          "output_type": "stream",
          "name": "stdout",
          "text": [
            "\n",
            "\u001b[1m> Finished chain.\u001b[0m\n",
            "\n",
            "\n",
            "\u001b[1m> Entering new PALChain chain...\u001b[0m\n",
            "\u001b[32;1m\u001b[1;3mdef solution():\n",
            "    radius = 10\n",
            "    height = 30\n",
            "    pi = 3.14159\n",
            "    volume_cm3 = pi * (radius ** 2) * height\n",
            "    volume_liters = volume_cm3 / 1000\n",
            "    return volume_liters\u001b[0m\n"
          ]
        },
        {
          "output_type": "stream",
          "name": "stderr",
          "text": [
            "\rРешение задач:  50%|█████     | 5/10 [00:09<00:09,  1.84s/it]"
          ]
        },
        {
          "output_type": "stream",
          "name": "stdout",
          "text": [
            "\n",
            "\u001b[1m> Finished chain.\u001b[0m\n",
            "\n",
            "\n",
            "\u001b[1m> Entering new PALChain chain...\u001b[0m\n",
            "\u001b[32;1m\u001b[1;3mdef solution():\n",
            "    radius = 20\n",
            "    angle_degrees = 60\n",
            "    pi = 3.14159\n",
            "    arc_length = (angle_degrees / 360) * (2 * pi * radius)\n",
            "    arc_length_cm = arc_length * 100\n",
            "    result = arc_length_cm\n",
            "    return result\u001b[0m\n"
          ]
        },
        {
          "output_type": "stream",
          "name": "stderr",
          "text": [
            "\rРешение задач:  60%|██████    | 6/10 [00:12<00:08,  2.19s/it]"
          ]
        },
        {
          "output_type": "stream",
          "name": "stdout",
          "text": [
            "\n",
            "\u001b[1m> Finished chain.\u001b[0m\n",
            "\n",
            "\n",
            "\u001b[1m> Entering new PALChain chain...\u001b[0m\n",
            "\u001b[32;1m\u001b[1;3mdef solution():\n",
            "    decimal_number = 1524\n",
            "    binary_representation = bin(decimal_number)\n",
            "    count_of_ones = binary_representation.count('1')\n",
            "    return count_of_ones\u001b[0m\n"
          ]
        },
        {
          "output_type": "stream",
          "name": "stderr",
          "text": [
            "\rРешение задач:  70%|███████   | 7/10 [00:13<00:05,  1.95s/it]"
          ]
        },
        {
          "output_type": "stream",
          "name": "stdout",
          "text": [
            "\n",
            "\u001b[1m> Finished chain.\u001b[0m\n",
            "\n",
            "\n",
            "\u001b[1m> Entering new PALChain chain...\u001b[0m\n",
            "\u001b[32;1m\u001b[1;3mdef solution():\n",
            "    side_length = 5\n",
            "    volume = side_length ** 3\n",
            "    binary_volume = bin(volume)[2:]  # Converting to binary and removing the '0b' prefix\n",
            "    return binary_volume\u001b[0m\n"
          ]
        },
        {
          "output_type": "stream",
          "name": "stderr",
          "text": [
            "\rРешение задач:  80%|████████  | 8/10 [00:15<00:04,  2.01s/it]"
          ]
        },
        {
          "output_type": "stream",
          "name": "stdout",
          "text": [
            "\n",
            "\u001b[1m> Finished chain.\u001b[0m\n",
            "\n",
            "\n",
            "\u001b[1m> Entering new PALChain chain...\u001b[0m\n",
            "\u001b[32;1m\u001b[1;3mdef solution():\n",
            "    a = 30\n",
            "    b = 40\n",
            "    c = int('110010', 2)\n",
            "    s = (a + b + c) / 2\n",
            "    area = (s * (s - a) * (s - b) * (s - c)) ** 0.5\n",
            "    return area\u001b[0m\n"
          ]
        },
        {
          "output_type": "stream",
          "name": "stderr",
          "text": [
            "\rРешение задач:  90%|█████████ | 9/10 [00:17<00:02,  2.02s/it]"
          ]
        },
        {
          "output_type": "stream",
          "name": "stdout",
          "text": [
            "\n",
            "\u001b[1m> Finished chain.\u001b[0m\n",
            "\n",
            "\n",
            "\u001b[1m> Entering new PALChain chain...\u001b[0m\n",
            "\u001b[32;1m\u001b[1;3mdef solution():\n",
            "    pi = 3.14159\n",
            "    radius1 = 8\n",
            "    height1 = 20\n",
            "    volume1 = pi * (radius1 ** 2) * height1\n",
            "    radius2 = 12\n",
            "    height2 = 25\n",
            "    volume2 = pi * (radius2 ** 2) * height2\n",
            "    total_volume = volume1 + volume2\n",
            "    total_volume_liters = total_volume / 1000\n",
            "    result = total_volume_liters\n",
            "    return result\u001b[0m\n"
          ]
        },
        {
          "output_type": "stream",
          "name": "stderr",
          "text": [
            "Решение задач: 100%|██████████| 10/10 [00:21<00:00,  2.13s/it]"
          ]
        },
        {
          "output_type": "stream",
          "name": "stdout",
          "text": [
            "\n",
            "\u001b[1m> Finished chain.\u001b[0m\n"
          ]
        },
        {
          "output_type": "stream",
          "name": "stderr",
          "text": [
            "\n"
          ]
        }
      ]
    },
    {
      "cell_type": "code",
      "source": [],
      "metadata": {
        "id": "oFW8DIeJb9JF"
      },
      "execution_count": 63,
      "outputs": []
    },
    {
      "cell_type": "code",
      "source": [
        "answers"
      ],
      "metadata": {
        "colab": {
          "base_uri": "https://localhost:8080/"
        },
        "id": "BsIl55N2QlT3",
        "outputId": "1f2c5098-3b32-4a65-ef79-9ed32f758ff7"
      },
      "execution_count": 64,
      "outputs": [
        {
          "output_type": "execute_result",
          "data": {
            "text/plain": [
              "[700, 106.81406, 3, 901, 9.42477, 2094.393333, 7, 1111101, 600, 15.330959]"
            ]
          },
          "metadata": {},
          "execution_count": 64
        }
      ]
    },
    {
      "cell_type": "code",
      "source": [
        "df['answer'] = answers # запишем предсказания в датафрейм"
      ],
      "metadata": {
        "id": "qQJymxnZoZbh"
      },
      "execution_count": 65,
      "outputs": []
    },
    {
      "cell_type": "code",
      "source": [
        "df[['task', 'answer']].to_csv(\"5.6.7_solution.csv\", index=False) # сохраним решение в csv"
      ],
      "metadata": {
        "id": "FH7wqXK_oZeQ"
      },
      "execution_count": 67,
      "outputs": []
    },
    {
      "cell_type": "code",
      "source": [
        "df['answer'][0]"
      ],
      "metadata": {
        "colab": {
          "base_uri": "https://localhost:8080/"
        },
        "id": "cSERkqEii0Re",
        "outputId": "ccfe0290-26f2-4941-b38d-f0d99c093b8c"
      },
      "execution_count": 69,
      "outputs": [
        {
          "output_type": "execute_result",
          "data": {
            "text/plain": [
              "np.float64(700.0)"
            ]
          },
          "metadata": {},
          "execution_count": 69
        }
      ]
    },
    {
      "cell_type": "code",
      "source": [
        "pd.read_csv('/content/5.6.7_solution.csv')"
      ],
      "metadata": {
        "colab": {
          "base_uri": "https://localhost:8080/",
          "height": 363
        },
        "id": "HYIM4qdkiKxT",
        "outputId": "f4e1e8f0-dee9-4d89-8534-e8ac83e4a5cc"
      },
      "execution_count": 68,
      "outputs": [
        {
          "output_type": "execute_result",
          "data": {
            "text/plain": [
              "                                                task        answer\n",
              "0  Периметр прямоугольника со сторонами 1.5 м и 2...  7.000000e+02\n",
              "1  Найди сумму площадей круга с радиусом 5 см и к...  1.068141e+02\n",
              "2  Переведи числа 20 и 32 из десятичной в двоичну...  3.000000e+00\n",
              "3  Переведи числа из двоичной системы счисления 1...  9.010000e+02\n",
              "4  Найди объем цилиндра с радиусом 10 см и высото...  9.424770e+00\n",
              "5  Найди длину дуги окружности с радиусом 20 м, о...  2.094393e+03\n",
              "6  Переведи десятичное число 1524 в двоичную сист...  7.000000e+00\n",
              "7  Найти объем куба со стороной 5 см, затем перев...  1.111101e+06\n",
              "8  Стороны треугольника соответственно равны 30 с...  6.000000e+02\n",
              "9  Найди объемы двух цилиндров с радиусами 8 см и...  1.533096e+01"
            ],
            "text/html": [
              "\n",
              "  <div id=\"df-0cc931c3-309f-4160-a471-8694d9eb350d\" class=\"colab-df-container\">\n",
              "    <div>\n",
              "<style scoped>\n",
              "    .dataframe tbody tr th:only-of-type {\n",
              "        vertical-align: middle;\n",
              "    }\n",
              "\n",
              "    .dataframe tbody tr th {\n",
              "        vertical-align: top;\n",
              "    }\n",
              "\n",
              "    .dataframe thead th {\n",
              "        text-align: right;\n",
              "    }\n",
              "</style>\n",
              "<table border=\"1\" class=\"dataframe\">\n",
              "  <thead>\n",
              "    <tr style=\"text-align: right;\">\n",
              "      <th></th>\n",
              "      <th>task</th>\n",
              "      <th>answer</th>\n",
              "    </tr>\n",
              "  </thead>\n",
              "  <tbody>\n",
              "    <tr>\n",
              "      <th>0</th>\n",
              "      <td>Периметр прямоугольника со сторонами 1.5 м и 2...</td>\n",
              "      <td>7.000000e+02</td>\n",
              "    </tr>\n",
              "    <tr>\n",
              "      <th>1</th>\n",
              "      <td>Найди сумму площадей круга с радиусом 5 см и к...</td>\n",
              "      <td>1.068141e+02</td>\n",
              "    </tr>\n",
              "    <tr>\n",
              "      <th>2</th>\n",
              "      <td>Переведи числа 20 и 32 из десятичной в двоичну...</td>\n",
              "      <td>3.000000e+00</td>\n",
              "    </tr>\n",
              "    <tr>\n",
              "      <th>3</th>\n",
              "      <td>Переведи числа из двоичной системы счисления 1...</td>\n",
              "      <td>9.010000e+02</td>\n",
              "    </tr>\n",
              "    <tr>\n",
              "      <th>4</th>\n",
              "      <td>Найди объем цилиндра с радиусом 10 см и высото...</td>\n",
              "      <td>9.424770e+00</td>\n",
              "    </tr>\n",
              "    <tr>\n",
              "      <th>5</th>\n",
              "      <td>Найди длину дуги окружности с радиусом 20 м, о...</td>\n",
              "      <td>2.094393e+03</td>\n",
              "    </tr>\n",
              "    <tr>\n",
              "      <th>6</th>\n",
              "      <td>Переведи десятичное число 1524 в двоичную сист...</td>\n",
              "      <td>7.000000e+00</td>\n",
              "    </tr>\n",
              "    <tr>\n",
              "      <th>7</th>\n",
              "      <td>Найти объем куба со стороной 5 см, затем перев...</td>\n",
              "      <td>1.111101e+06</td>\n",
              "    </tr>\n",
              "    <tr>\n",
              "      <th>8</th>\n",
              "      <td>Стороны треугольника соответственно равны 30 с...</td>\n",
              "      <td>6.000000e+02</td>\n",
              "    </tr>\n",
              "    <tr>\n",
              "      <th>9</th>\n",
              "      <td>Найди объемы двух цилиндров с радиусами 8 см и...</td>\n",
              "      <td>1.533096e+01</td>\n",
              "    </tr>\n",
              "  </tbody>\n",
              "</table>\n",
              "</div>\n",
              "    <div class=\"colab-df-buttons\">\n",
              "\n",
              "  <div class=\"colab-df-container\">\n",
              "    <button class=\"colab-df-convert\" onclick=\"convertToInteractive('df-0cc931c3-309f-4160-a471-8694d9eb350d')\"\n",
              "            title=\"Convert this dataframe to an interactive table.\"\n",
              "            style=\"display:none;\">\n",
              "\n",
              "  <svg xmlns=\"http://www.w3.org/2000/svg\" height=\"24px\" viewBox=\"0 -960 960 960\">\n",
              "    <path d=\"M120-120v-720h720v720H120Zm60-500h600v-160H180v160Zm220 220h160v-160H400v160Zm0 220h160v-160H400v160ZM180-400h160v-160H180v160Zm440 0h160v-160H620v160ZM180-180h160v-160H180v160Zm440 0h160v-160H620v160Z\"/>\n",
              "  </svg>\n",
              "    </button>\n",
              "\n",
              "  <style>\n",
              "    .colab-df-container {\n",
              "      display:flex;\n",
              "      gap: 12px;\n",
              "    }\n",
              "\n",
              "    .colab-df-convert {\n",
              "      background-color: #E8F0FE;\n",
              "      border: none;\n",
              "      border-radius: 50%;\n",
              "      cursor: pointer;\n",
              "      display: none;\n",
              "      fill: #1967D2;\n",
              "      height: 32px;\n",
              "      padding: 0 0 0 0;\n",
              "      width: 32px;\n",
              "    }\n",
              "\n",
              "    .colab-df-convert:hover {\n",
              "      background-color: #E2EBFA;\n",
              "      box-shadow: 0px 1px 2px rgba(60, 64, 67, 0.3), 0px 1px 3px 1px rgba(60, 64, 67, 0.15);\n",
              "      fill: #174EA6;\n",
              "    }\n",
              "\n",
              "    .colab-df-buttons div {\n",
              "      margin-bottom: 4px;\n",
              "    }\n",
              "\n",
              "    [theme=dark] .colab-df-convert {\n",
              "      background-color: #3B4455;\n",
              "      fill: #D2E3FC;\n",
              "    }\n",
              "\n",
              "    [theme=dark] .colab-df-convert:hover {\n",
              "      background-color: #434B5C;\n",
              "      box-shadow: 0px 1px 3px 1px rgba(0, 0, 0, 0.15);\n",
              "      filter: drop-shadow(0px 1px 2px rgba(0, 0, 0, 0.3));\n",
              "      fill: #FFFFFF;\n",
              "    }\n",
              "  </style>\n",
              "\n",
              "    <script>\n",
              "      const buttonEl =\n",
              "        document.querySelector('#df-0cc931c3-309f-4160-a471-8694d9eb350d button.colab-df-convert');\n",
              "      buttonEl.style.display =\n",
              "        google.colab.kernel.accessAllowed ? 'block' : 'none';\n",
              "\n",
              "      async function convertToInteractive(key) {\n",
              "        const element = document.querySelector('#df-0cc931c3-309f-4160-a471-8694d9eb350d');\n",
              "        const dataTable =\n",
              "          await google.colab.kernel.invokeFunction('convertToInteractive',\n",
              "                                                    [key], {});\n",
              "        if (!dataTable) return;\n",
              "\n",
              "        const docLinkHtml = 'Like what you see? Visit the ' +\n",
              "          '<a target=\"_blank\" href=https://colab.research.google.com/notebooks/data_table.ipynb>data table notebook</a>'\n",
              "          + ' to learn more about interactive tables.';\n",
              "        element.innerHTML = '';\n",
              "        dataTable['output_type'] = 'display_data';\n",
              "        await google.colab.output.renderOutput(dataTable, element);\n",
              "        const docLink = document.createElement('div');\n",
              "        docLink.innerHTML = docLinkHtml;\n",
              "        element.appendChild(docLink);\n",
              "      }\n",
              "    </script>\n",
              "  </div>\n",
              "\n",
              "\n",
              "    <div id=\"df-959b28a6-25be-4707-a576-4f8e91a22f21\">\n",
              "      <button class=\"colab-df-quickchart\" onclick=\"quickchart('df-959b28a6-25be-4707-a576-4f8e91a22f21')\"\n",
              "                title=\"Suggest charts\"\n",
              "                style=\"display:none;\">\n",
              "\n",
              "<svg xmlns=\"http://www.w3.org/2000/svg\" height=\"24px\"viewBox=\"0 0 24 24\"\n",
              "     width=\"24px\">\n",
              "    <g>\n",
              "        <path d=\"M19 3H5c-1.1 0-2 .9-2 2v14c0 1.1.9 2 2 2h14c1.1 0 2-.9 2-2V5c0-1.1-.9-2-2-2zM9 17H7v-7h2v7zm4 0h-2V7h2v10zm4 0h-2v-4h2v4z\"/>\n",
              "    </g>\n",
              "</svg>\n",
              "      </button>\n",
              "\n",
              "<style>\n",
              "  .colab-df-quickchart {\n",
              "      --bg-color: #E8F0FE;\n",
              "      --fill-color: #1967D2;\n",
              "      --hover-bg-color: #E2EBFA;\n",
              "      --hover-fill-color: #174EA6;\n",
              "      --disabled-fill-color: #AAA;\n",
              "      --disabled-bg-color: #DDD;\n",
              "  }\n",
              "\n",
              "  [theme=dark] .colab-df-quickchart {\n",
              "      --bg-color: #3B4455;\n",
              "      --fill-color: #D2E3FC;\n",
              "      --hover-bg-color: #434B5C;\n",
              "      --hover-fill-color: #FFFFFF;\n",
              "      --disabled-bg-color: #3B4455;\n",
              "      --disabled-fill-color: #666;\n",
              "  }\n",
              "\n",
              "  .colab-df-quickchart {\n",
              "    background-color: var(--bg-color);\n",
              "    border: none;\n",
              "    border-radius: 50%;\n",
              "    cursor: pointer;\n",
              "    display: none;\n",
              "    fill: var(--fill-color);\n",
              "    height: 32px;\n",
              "    padding: 0;\n",
              "    width: 32px;\n",
              "  }\n",
              "\n",
              "  .colab-df-quickchart:hover {\n",
              "    background-color: var(--hover-bg-color);\n",
              "    box-shadow: 0 1px 2px rgba(60, 64, 67, 0.3), 0 1px 3px 1px rgba(60, 64, 67, 0.15);\n",
              "    fill: var(--button-hover-fill-color);\n",
              "  }\n",
              "\n",
              "  .colab-df-quickchart-complete:disabled,\n",
              "  .colab-df-quickchart-complete:disabled:hover {\n",
              "    background-color: var(--disabled-bg-color);\n",
              "    fill: var(--disabled-fill-color);\n",
              "    box-shadow: none;\n",
              "  }\n",
              "\n",
              "  .colab-df-spinner {\n",
              "    border: 2px solid var(--fill-color);\n",
              "    border-color: transparent;\n",
              "    border-bottom-color: var(--fill-color);\n",
              "    animation:\n",
              "      spin 1s steps(1) infinite;\n",
              "  }\n",
              "\n",
              "  @keyframes spin {\n",
              "    0% {\n",
              "      border-color: transparent;\n",
              "      border-bottom-color: var(--fill-color);\n",
              "      border-left-color: var(--fill-color);\n",
              "    }\n",
              "    20% {\n",
              "      border-color: transparent;\n",
              "      border-left-color: var(--fill-color);\n",
              "      border-top-color: var(--fill-color);\n",
              "    }\n",
              "    30% {\n",
              "      border-color: transparent;\n",
              "      border-left-color: var(--fill-color);\n",
              "      border-top-color: var(--fill-color);\n",
              "      border-right-color: var(--fill-color);\n",
              "    }\n",
              "    40% {\n",
              "      border-color: transparent;\n",
              "      border-right-color: var(--fill-color);\n",
              "      border-top-color: var(--fill-color);\n",
              "    }\n",
              "    60% {\n",
              "      border-color: transparent;\n",
              "      border-right-color: var(--fill-color);\n",
              "    }\n",
              "    80% {\n",
              "      border-color: transparent;\n",
              "      border-right-color: var(--fill-color);\n",
              "      border-bottom-color: var(--fill-color);\n",
              "    }\n",
              "    90% {\n",
              "      border-color: transparent;\n",
              "      border-bottom-color: var(--fill-color);\n",
              "    }\n",
              "  }\n",
              "</style>\n",
              "\n",
              "      <script>\n",
              "        async function quickchart(key) {\n",
              "          const quickchartButtonEl =\n",
              "            document.querySelector('#' + key + ' button');\n",
              "          quickchartButtonEl.disabled = true;  // To prevent multiple clicks.\n",
              "          quickchartButtonEl.classList.add('colab-df-spinner');\n",
              "          try {\n",
              "            const charts = await google.colab.kernel.invokeFunction(\n",
              "                'suggestCharts', [key], {});\n",
              "          } catch (error) {\n",
              "            console.error('Error during call to suggestCharts:', error);\n",
              "          }\n",
              "          quickchartButtonEl.classList.remove('colab-df-spinner');\n",
              "          quickchartButtonEl.classList.add('colab-df-quickchart-complete');\n",
              "        }\n",
              "        (() => {\n",
              "          let quickchartButtonEl =\n",
              "            document.querySelector('#df-959b28a6-25be-4707-a576-4f8e91a22f21 button');\n",
              "          quickchartButtonEl.style.display =\n",
              "            google.colab.kernel.accessAllowed ? 'block' : 'none';\n",
              "        })();\n",
              "      </script>\n",
              "    </div>\n",
              "    </div>\n",
              "  </div>\n"
            ],
            "application/vnd.google.colaboratory.intrinsic+json": {
              "type": "dataframe",
              "summary": "{\n  \"name\": \"pd\",\n  \"rows\": 10,\n  \"fields\": [\n    {\n      \"column\": \"task\",\n      \"properties\": {\n        \"dtype\": \"string\",\n        \"num_unique_values\": 10,\n        \"samples\": [\n          \"\\u0421\\u0442\\u043e\\u0440\\u043e\\u043d\\u044b \\u0442\\u0440\\u0435\\u0443\\u0433\\u043e\\u043b\\u044c\\u043d\\u0438\\u043a\\u0430 \\u0441\\u043e\\u043e\\u0442\\u0432\\u0435\\u0442\\u0441\\u0442\\u0432\\u0435\\u043d\\u043d\\u043e \\u0440\\u0430\\u0432\\u043d\\u044b 30 \\u0441\\u043c, 40 \\u0441\\u043c \\u0438 110010 \\u0441\\u043c (\\u043f\\u0435\\u0440\\u0435\\u0432\\u0435\\u0434\\u0438 \\u044d\\u0442\\u043e \\u0447\\u0438\\u0441\\u043b\\u043e \\u0438\\u0437 \\u0434\\u0432\\u043e\\u0438\\u0447\\u043d\\u043e\\u0439 \\u0441\\u0438\\u0441\\u0442\\u0435\\u043c\\u044b \\u0441\\u0447\\u0438\\u0441\\u043b\\u0435\\u043d\\u0438\\u044f \\u0432 \\u0434\\u0435\\u0441\\u044f\\u0442\\u0438\\u0447\\u043d\\u0443\\u044e). \\u041d\\u0430\\u0439\\u0434\\u0438 \\u043f\\u043b\\u043e\\u0449\\u0430\\u0434\\u044c \\u044d\\u0442\\u043e\\u0433\\u043e \\u0442\\u0440\\u0435\\u0443\\u0433\\u043e\\u043b\\u044c\\u043d\\u0438\\u043a\\u0430.\",\n          \"\\u041d\\u0430\\u0439\\u0434\\u0438 \\u0441\\u0443\\u043c\\u043c\\u0443 \\u043f\\u043b\\u043e\\u0449\\u0430\\u0434\\u0435\\u0439 \\u043a\\u0440\\u0443\\u0433\\u0430 \\u0441 \\u0440\\u0430\\u0434\\u0438\\u0443\\u0441\\u043e\\u043c 5 \\u0441\\u043c \\u0438 \\u043a\\u0440\\u0443\\u0433\\u0430 \\u0441 \\u0440\\u0430\\u0434\\u0438\\u0443\\u0441\\u043e\\u043c 3 \\u0441\\u043c.\",\n          \"\\u041d\\u0430\\u0439\\u0434\\u0438 \\u0434\\u043b\\u0438\\u043d\\u0443 \\u0434\\u0443\\u0433\\u0438 \\u043e\\u043a\\u0440\\u0443\\u0436\\u043d\\u043e\\u0441\\u0442\\u0438 \\u0441 \\u0440\\u0430\\u0434\\u0438\\u0443\\u0441\\u043e\\u043c 20 \\u043c, \\u043e\\u0431\\u0440\\u0430\\u0437\\u043e\\u0432\\u0430\\u043d\\u043d\\u043e\\u0439 \\u0446\\u0435\\u043d\\u0442\\u0440\\u0430\\u043b\\u044c\\u043d\\u044b\\u043c \\u0443\\u0433\\u043b\\u043e\\u043c 60\\u00b0, \\u0437\\u0430\\u0442\\u0435\\u043c \\u043f\\u0435\\u0440\\u0435\\u0432\\u0435\\u0434\\u0438 \\u0440\\u0435\\u0437\\u0443\\u043b\\u044c\\u0442\\u0430\\u0442 \\u0432 \\u0441\\u0430\\u043d\\u0442\\u0438\\u043c\\u0435\\u0442\\u0440\\u044b.\"\n        ],\n        \"semantic_type\": \"\",\n        \"description\": \"\"\n      }\n    },\n    {\n      \"column\": \"answer\",\n      \"properties\": {\n        \"dtype\": \"number\",\n        \"std\": 351205.7006560722,\n        \"min\": 3.0,\n        \"max\": 1111101.0,\n        \"num_unique_values\": 10,\n        \"samples\": [\n          600.0,\n          106.81406,\n          2094.393333\n        ],\n        \"semantic_type\": \"\",\n        \"description\": \"\"\n      }\n    }\n  ]\n}"
            }
          },
          "metadata": {},
          "execution_count": 68
        }
      ]
    },
    {
      "cell_type": "code",
      "source": [],
      "metadata": {
        "id": "pyYbRkMSi2wa"
      },
      "execution_count": null,
      "outputs": []
    }
  ]
}