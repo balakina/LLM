{
  "cells": [
    {
      "cell_type": "markdown",
      "id": "2a32b630-c884-40b1-abf0-2b0c1c0278df",
      "metadata": {
        "id": "2a32b630-c884-40b1-abf0-2b0c1c0278df"
      },
      "source": [
        "# <center>⚡️🏁 [Welcome!](https://stepik.org/lesson/1062722/step/2?unit=1072411) Как запустить эти ваши ноутбуки с курса? 🤔📔 </center>\n",
        "\n",
        "<img src='https://github.com/a-milenkin/LLM_practical_course/blob/main/images/choice_api.jpeg?raw=1' align=\"right\" width=\"400\" height=\"400\" >\n",
        "\n",
        "## Оглавление ноутбука\n",
        "\n",
        " * [🚀 API от OpenAI.](#part1)\n",
        " * [🛠 API от OpenAI с __нашего сервера__.](#part2)\n",
        " * [🤐 Чат-модели и объект ChatOpenAI](#part3)\n",
        " * [🔧 Open Source LLM модели и API от HuggingFaceHub.](#part4)\n",
        " * [🔋 Локальный запуск LLM без интернета и API ключей.](#part5)\n",
        " * [🧸 Выводы и заключения.](#part6)"
      ]
    },
    {
      "cell_type": "code",
      "execution_count": null,
      "id": "2da22ebe-7cbc-4612-99ca-d9f0a6586026",
      "metadata": {
        "id": "2da22ebe-7cbc-4612-99ca-d9f0a6586026"
      },
      "outputs": [],
      "source": [
        "import os\n",
        "import warnings\n",
        "from getpass import getpass  # Для скрытого ввода API ключей\n",
        "\n",
        "warnings.filterwarnings(\"ignore\")"
      ]
    },
    {
      "cell_type": "markdown",
      "id": "83b52baf-54de-435b-a18f-c831927d20b3",
      "metadata": {
        "id": "83b52baf-54de-435b-a18f-c831927d20b3"
      },
      "source": [
        "#### Для любого варианта использования сначала обязательно установить необходимые библиотеки!"
      ]
    },
    {
      "cell_type": "code",
      "execution_count": null,
      "id": "dd19488a-23da-41fd-93f8-82f3fe448e8e",
      "metadata": {
        "colab": {
          "base_uri": "https://localhost:8080/"
        },
        "id": "dd19488a-23da-41fd-93f8-82f3fe448e8e",
        "outputId": "a2d911ab-beda-4f57-8adc-74ae12568361"
      },
      "outputs": [
        {
          "name": "stdout",
          "output_type": "stream",
          "text": [
            "\u001b[2K     \u001b[90m━━━━━━━━━━━━━━━━━━━━━━━━━━━━━━━━━━━━━━━━\u001b[0m \u001b[32m42.2/42.2 kB\u001b[0m \u001b[31m1.3 MB/s\u001b[0m eta \u001b[36m0:00:00\u001b[0m\n",
            "\u001b[2K   \u001b[90m━━━━━━━━━━━━━━━━━━━━━━━━━━━━━━━━━━━━━━━━\u001b[0m \u001b[32m930.8/930.8 kB\u001b[0m \u001b[31m11.7 MB/s\u001b[0m eta \u001b[36m0:00:00\u001b[0m\n",
            "\u001b[2K   \u001b[90m━━━━━━━━━━━━━━━━━━━━━━━━━━━━━━━━━━━━━━━━\u001b[0m \u001b[32m74.5/74.5 kB\u001b[0m \u001b[31m5.9 MB/s\u001b[0m eta \u001b[36m0:00:00\u001b[0m\n",
            "\u001b[2K   \u001b[90m━━━━━━━━━━━━━━━━━━━━━━━━━━━━━━━━━━━━━━━━\u001b[0m \u001b[32m2.5/2.5 MB\u001b[0m \u001b[31m50.8 MB/s\u001b[0m eta \u001b[36m0:00:00\u001b[0m\n",
            "\u001b[2K   \u001b[90m━━━━━━━━━━━━━━━━━━━━━━━━━━━━━━━━━━━━━━━━\u001b[0m \u001b[32m11.6/11.6 MB\u001b[0m \u001b[31m91.4 MB/s\u001b[0m eta \u001b[36m0:00:00\u001b[0m\n",
            "\u001b[2K   \u001b[90m━━━━━━━━━━━━━━━━━━━━━━━━━━━━━━━━━━━━━━━━\u001b[0m \u001b[32m64.7/64.7 kB\u001b[0m \u001b[31m5.0 MB/s\u001b[0m eta \u001b[36m0:00:00\u001b[0m\n",
            "\u001b[2K   \u001b[90m━━━━━━━━━━━━━━━━━━━━━━━━━━━━━━━━━━━━━━━━\u001b[0m \u001b[32m50.9/50.9 kB\u001b[0m \u001b[31m3.7 MB/s\u001b[0m eta \u001b[36m0:00:00\u001b[0m\n",
            "\u001b[?25h\u001b[31mERROR: pip's dependency resolver does not currently take into account all the packages that are installed. This behaviour is the source of the following dependency conflicts.\n",
            "google-colab 1.0.0 requires requests==2.32.4, but you have requests 2.32.5 which is incompatible.\u001b[0m\u001b[31m\n",
            "\u001b[0m"
          ]
        }
      ],
      "source": [
        "# Установим нужные библиотеки (langchain>=0.3.25)\n",
        "!pip install openai langchain huggingface_hub langchain-openai langchain-community transformers langchain-huggingface -U -q"
      ]
    },
    {
      "cell_type": "markdown",
      "id": "a6fe2415-cfc6-462f-843d-f7cfd44647ad",
      "metadata": {
        "id": "a6fe2415-cfc6-462f-843d-f7cfd44647ad"
      },
      "source": [
        "# <center id=\"part1\">  🤖 Как использовать `API` от `OpenAI` напрямую?!"
      ]
    },
    {
      "cell_type": "markdown",
      "id": "6faf094d-1e16-4048-9b2d-7bfdce07b98f",
      "metadata": {
        "id": "6faf094d-1e16-4048-9b2d-7bfdce07b98f"
      },
      "source": [
        "<div style=\"background-color:#fff0ff; padding:10px; border-width:3px; border-color:#efe6ef; border-style:solid; border-radius:6px\">\n",
        "Если хотите использовать официальное <code>API</code> от <code>OpenAI</code> в РФ, то используйте <code>VPN</code> или запускайте код через <code>Google Colab</code>."
      ]
    },
    {
      "cell_type": "markdown",
      "id": "b6f2de47-497f-4de2-a584-2f14a3dc5ffd",
      "metadata": {
        "id": "b6f2de47-497f-4de2-a584-2f14a3dc5ffd"
      },
      "source": [
        "<div class=\"alert alert-info\" style=\"padding:10px; border-width:3px; border-color:#efe6ef; border-style:solid; border-radius:6px\">\n",
        "    \n",
        "**📖  Получение ключа для использования `OpenAI API` 🔑**\n",
        "> При создании своего первого ключа, вы получите бесплатные 5$ для использования платформы."
      ]
    },
    {
      "cell_type": "markdown",
      "id": "4f2b6174-ebbd-4388-8b01-4d690f90b358",
      "metadata": {
        "id": "4f2b6174-ebbd-4388-8b01-4d690f90b358"
      },
      "source": [
        "<div class=\"alert alert-info\" style=\"padding:10px; border-width:3px; border-color:#efe6ef; border-style:solid; border-radius:6px\">\n",
        "    \n",
        "0. Если вы из РФ, то используйте __VPN__ при заходе на сайт.\n",
        "1. Для регистрации аккаунта OpenAI потребуется __зарубежная симкарта__ (можно приобрести в интернете, либо купить доступ к уже зарегистрированному аккаунту, ~100 руб.\n",
        "2. Перейдите по [ссылке](https://platform.openai.com/account/api-keys) и авторизуйтесь на сайте `OpenAI`.\n",
        "3. После успешной авторизации на сайте, нажмите на кнопку `+ Create new secret key` и введите любое название для ключа.\n",
        "4. Скопируйте полученный ключ и поместите его в переменную среды `OPENAI_API_KEY`\n",
        "5. Для оплаты новых токенов из РФ, потребуется __иностранная карта__!"
      ]
    },
    {
      "cell_type": "markdown",
      "id": "bb9d067b-908c-4fd8-a369-d08281777fe7",
      "metadata": {
        "id": "bb9d067b-908c-4fd8-a369-d08281777fe7"
      },
      "source": [
        "* ⚙️ Начнем с прямых вызовов к API от OpenAI.\n",
        "* 🗂 [Документация](https://platform.openai.com/docs/api-reference/making-requests) по использованию API (открывается с VPN)\n",
        "* 👨‍🍳 Полезный [Cookbook](https://cookbook.openai.com/)\n",
        "* 🎁 Ниже мы покажем способ, как использовать курс от авторов курса"
      ]
    },
    {
      "cell_type": "markdown",
      "id": "fc996653-ec5b-41c0-bdf9-beee8e54e153",
      "metadata": {
        "id": "fc996653-ec5b-41c0-bdf9-beee8e54e153"
      },
      "source": [
        "## Куда вводить ключи: <br>\n",
        "\n",
        "<div style=\"background-color:#fff0ff; padding:10px; border-width:3px; border-color:#efe6ef; border-style:solid; border-radius:6px\">\n",
        "    \n",
        "**1 вариант** - В появившемся окне после выполнения ячейки с `getpass` - более безопасно, но придется вводить ключ при каждом перезапуске ноутбука.\n",
        "\n",
        "<img src='https://github.com/a-milenkin/LLM_practical_course/blob/main/images/wind.png?raw=1' width=\"600\" height=\"300\" >"
      ]
    },
    {
      "cell_type": "code",
      "execution_count": null,
      "id": "a3acbd8d-41dd-4c8a-b20a-2cb0b8573f2a",
      "metadata": {
        "id": "a3acbd8d-41dd-4c8a-b20a-2cb0b8573f2a",
        "outputId": "aea102a8-85ef-461c-c517-302ff1576a66"
      },
      "outputs": [
        {
          "name": "stdin",
          "output_type": "stream",
          "text": [
            "Введите ваш OpenAI API-ключ ········\n"
          ]
        }
      ],
      "source": [
        "# Ключ следует вводить в появившемся окне после запуска ячейки и нажать Enter\n",
        "# Либо раскомментировать строку ниже и записать ключ в переменную (менее безопасно)\n",
        "\n",
        "# openai_api_key = \"Введите ваш OpenAI API-ключ\"\n",
        "openai_api_key = getpass(prompt=\"Введите ваш OpenAI API-ключ\")\n",
        "os.environ[\"OPENAI_API_KEY\"] = openai_api_key"
      ]
    },
    {
      "cell_type": "markdown",
      "id": "4f58f6ec-d946-42ef-b98a-cb7b1029a8e8",
      "metadata": {
        "id": "4f58f6ec-d946-42ef-b98a-cb7b1029a8e8"
      },
      "source": [
        "<div style=\"background-color:#fff0ff; padding:10px; border-width:3px; border-color:#efe6ef; border-style:solid; border-radius:6px\">\n",
        "\n",
        "**2 вариант** - Если ноутбуком будете пользоваться только вы, и точно уверены, что ноутбук с ключом не будет доступен третьим лицам. Можно постоянно не вводить ключ.\n",
        "\n",
        "<img src='https://github.com/a-milenkin/LLM_practical_course/blob/main/images/wind2.png?raw=1' width=\"600\" height=\"300\" >"
      ]
    },
    {
      "cell_type": "markdown",
      "id": "b34e683f-bd75-4a3b-b972-d84e6b3ca2e0",
      "metadata": {
        "id": "b34e683f-bd75-4a3b-b972-d84e6b3ca2e0"
      },
      "source": [
        "<div class=\"alert alert-info\" style=\"padding:10px; border-width:3px; border-color:#efe6ef; border-style:solid; border-radius:6px\">\n",
        "    \n",
        "Рассмотрим некоторые параметры функции `.chat.completions.create()`\n",
        "\n",
        "О всех параметрах можно узнать на [странице](https://platform.openai.com/docs/api-reference/chat/create)"
      ]
    },
    {
      "cell_type": "code",
      "execution_count": null,
      "id": "4ecb4191-eb0c-41ec-91d4-f3f62b887aea",
      "metadata": {
        "id": "4ecb4191-eb0c-41ec-91d4-f3f62b887aea"
      },
      "outputs": [],
      "source": [
        "import openai\n",
        "from openai import OpenAI\n",
        "\n",
        "client = OpenAI(\n",
        "    # defaults to os.environ.get(\"OPENAI_API_KEY\")\n",
        "    api_key=openai_api_key,\n",
        ")\n",
        "\n",
        "#print(client.models.list()) # Выведет все возможные модели от OpenAI, которые можно указать в параметре model"
      ]
    },
    {
      "cell_type": "code",
      "execution_count": null,
      "id": "8f4745c2-19ce-4f44-9cc2-990c56d5a411",
      "metadata": {
        "id": "8f4745c2-19ce-4f44-9cc2-990c56d5a411",
        "outputId": "02d28469-a1ea-43a9-d400-4b5347d4d3a3"
      },
      "outputs": [
        {
          "name": "stdout",
          "output_type": "stream",
          "text": [
            "2\n"
          ]
        }
      ],
      "source": [
        "messages = [\n",
        "    {\n",
        "        \"role\": \"user\",  # Роль - ассистент или юзер\n",
        "        \"content\": \"1+1\",  # Сам промпт для подачи в chatGPT\n",
        "    }\n",
        "]\n",
        "\n",
        "chat_completion = client.chat.completions.create(\n",
        "    max_tokens=100,\n",
        "    model=\"gpt-3.5-turbo\",  # модель для выбора\n",
        "    messages=messages,  # сообщение\n",
        "    temperature=0,  # степень креативности ответа\n",
        ")\n",
        "\n",
        "print(chat_completion.choices[0].message.content)"
      ]
    },
    {
      "cell_type": "markdown",
      "id": "6eabc3ec-019b-459a-a0f5-81b1790e6d99",
      "metadata": {
        "id": "6eabc3ec-019b-459a-a0f5-81b1790e6d99"
      },
      "source": [
        "<div class=\"alert alert-info\" style=\"padding:10px; border-width:3px; border-color:#efe6ef; border-style:solid; border-radius:6px\">\n",
        "\n",
        "**😎 Два обязательных параметра**\n",
        "    \n",
        "- `messages` - список объектов сообщений, где каждый объект имеет два обязательных поля:\n",
        "    - `content` - содержимое вашего сообщения\n",
        "    - `role` - роль автора сообщений (`system`, `user` или `assistant`)\n",
        "- `model` - модель, используемая для генерации сообщения (доступные модели на [странице](https://platform.openai.com/docs/models/model-endpoint-compatibility))"
      ]
    },
    {
      "cell_type": "markdown",
      "id": "b10b6897-b57e-44b0-aee5-910ac7808728",
      "metadata": {
        "id": "b10b6897-b57e-44b0-aee5-910ac7808728"
      },
      "source": [
        "<div class=\"alert alert-info\" style=\"padding:10px; border-width:3px; border-color:#efe6ef; border-style:solid; border-radius:6px\">\n",
        "\n",
        "**🥸 Полезно использовать**\n",
        "    \n",
        "- `max_tokens` - максимальное количество токенов, генерируемых в сообщении\n",
        "- `n` - сколько вариантов ответа должно быть сгенерировано для каждого входного сообщения (по умолчанию 1)\n",
        "- `temperature` - влияет на степень случайности генерации (принимает значения от 0 до 2, по умолчанию 1). Высокое значение температуры делает вероятности всех слов в выводе более равномерными, что приводит к более случайному и разнообразному тексту. При низком значении температуры модель будет склонна генерировать более предсказуемый и детерминированный текст.\n",
        "- `top_p` - тоже влияет на степень случайности генерации. Определяет, какой процент наиболее вероятных слов будет включен в генерацию. Например, если top-p равно 0.8, то модель будет использовать вероятности слов так, чтобы включить в генерацию слова, составляющие 80% верхней части распределения вероятностей.\n",
        "\n",
        "> Рекомендуем изменять либо параметр `temperature`, либо `top_p`, но не оба одновременно"
      ]
    },
    {
      "cell_type": "markdown",
      "id": "bf81b4d3-3557-4197-a689-0cb18b85dabe",
      "metadata": {
        "id": "bf81b4d3-3557-4197-a689-0cb18b85dabe"
      },
      "source": [
        "```python\n",
        "{\n",
        "  \"id\": \"chatcmpl-8B6YmCk5OiK7Z6RkRrkx72mEQaPGF\",\n",
        "  \"object\": \"chat.completion\",\n",
        "  \"created\": 1697657516,\n",
        "  \"model\": \"gpt-3.5-turbo-0613\",\n",
        "  \"choices\": [\n",
        "    {\n",
        "      \"index\": 0,\n",
        "      \"message\": {\n",
        "        \"role\": \"assistant\",\n",
        "        \"content\": \"1+1 equals 2.\"\n",
        "      },\n",
        "      \"finish_reason\": \"stop\"\n",
        "    }\n",
        "  ],\n",
        "  \"usage\": {\n",
        "    \"prompt_tokens\": 10,\n",
        "    \"completion_tokens\": 7,\n",
        "    \"total_tokens\": 17\n",
        "  }\n",
        "}\n",
        "```"
      ]
    },
    {
      "cell_type": "markdown",
      "id": "2b361c22-a86e-493d-84c0-3d92edf8ffad",
      "metadata": {
        "id": "2b361c22-a86e-493d-84c0-3d92edf8ffad"
      },
      "source": [
        "<div class=\"alert alert-info\" style=\"padding:10px; border-width:3px; border-color:#efe6ef; border-style:solid; border-radius:6px\">\n",
        "\n",
        "**🧐 А что получается в выводе?**\n",
        "\n",
        "- `id` - уникальный идентификатор запроса\n",
        "- `object` - тип возвращаемого объекта\n",
        "- `created` - время запроса в timestamp-формате\n",
        "- `model` - полное название модели, которая использовалась для генерации ответа\n",
        "- `choices` - список объектов ответа (только один, если не изменяли параметр `n`)\n",
        "    - `index` - индекс ответа в списке вариантов\n",
        "    - `message` - объект сообщения, сгенерированный моделью, содержит `role` и `content`\n",
        "    - `finish_reason` - причина, по которой модель закончила генерировать ответ\n",
        "        - `stop` - достигнута естественная точка остановки\n",
        "        - `length` - достигнуто максимальное количество токенов, указанное в запросе\n",
        "        - `content_filter` - сгенерированный текст содержит нежелательный материал, который нарушает правила\n",
        "- `usage` - количество используемых токенов\n",
        "    - `prompt_tokens` - для распознавания вопроса\n",
        "    - `completition_tokens` - для генерации ответа\n",
        "    - `total_tokens` - для всего запроса (вопрос + ответ)"
      ]
    },
    {
      "cell_type": "markdown",
      "id": "822fb30d-6169-4f8d-a3c7-e1b6cd4431bc",
      "metadata": {
        "id": "822fb30d-6169-4f8d-a3c7-e1b6cd4431bc"
      },
      "source": [
        "<div class=\"alert alert-info\" style=\"padding:10px; border-width:3px; border-color:#efe6ef; border-style:solid; border-radius:6px\">\n",
        "    \n",
        "✅ __Все!__ Этого уже достаточно, чтобы просто получать ответы от `ChatGPT` кодом. Если для ваших задач этого хватает, то можно использовать уже так. Для удобства, можно еще обернуть дополнительно в функцию."
      ]
    },
    {
      "cell_type": "markdown",
      "id": "11ae714b-ec50-43a0-a9ff-138b8e93e212",
      "metadata": {
        "id": "11ae714b-ec50-43a0-a9ff-138b8e93e212"
      },
      "source": [
        "# <center id=\"part2\"> 🤖 `API` от `OpenAI` с ключом курса (рекомендуется)"
      ]
    },
    {
      "cell_type": "markdown",
      "id": "95e1e565-64d3-45de-a451-53669a155b17",
      "metadata": {
        "id": "95e1e565-64d3-45de-a451-53669a155b17"
      },
      "source": [
        "<div class=\"alert alert-info\" style=\"padding:10px; border-width:3px; border-color:#efe6ef; border-style:solid; border-radius:6px\">\n",
        "\n",
        "**📖 Получение ключа для использования модели на нашем сервере** 🎁🔑\n",
        "\n",
        "1. Перейдите по [ссылке](https://t.me/llm_course_bot) в нашего телеграмм-бота.\n",
        "2. Авторизуйтесь, указав в нем свой `Stepik id`, с которым занимаетесь на курсе.\n",
        "3. Получите свой ключ и используйте наш API для прохождения курса.\n",
        "4. Также в боте можно проверить действие вашего ключа, узнать баланс и дату, когда ключ перестанет действовать.\n",
        "\n",
        "> Если возникли трудности, ошибки, вопросы или бот не работает, то смело пишите в чат курса, мы вам поможем."
      ]
    },
    {
      "cell_type": "code",
      "execution_count": null,
      "id": "be3d6997-3cb2-4b65-be6d-963b126982ff",
      "metadata": {
        "colab": {
          "base_uri": "https://localhost:8080/"
        },
        "id": "be3d6997-3cb2-4b65-be6d-963b126982ff",
        "outputId": "2726b958-83bc-4cff-908a-ec50f1ec3661"
      },
      "outputs": [
        {
          "name": "stdout",
          "output_type": "stream",
          "text": [
            "Введите ваш API-ключ, который получили в тг боте @llm_course_bot··········\n"
          ]
        }
      ],
      "source": [
        "# Ключ следует вводить в появившемся окне после запуска ячейки\n",
        "# Либо раскомментировать строку ниже и записать ключ в переменную (менее безопасно)\n",
        "\n",
        "# course_api_key = 'Введите ваш API-ключ, который получили в боте @llm_course_bot'\n",
        "course_api_key = getpass(prompt=\"Введите ваш API-ключ, который получили в тг боте @llm_course_bot\")"
      ]
    },
    {
      "cell_type": "code",
      "execution_count": null,
      "id": "d26ad9c9-25c1-4e29-b24a-a0be56150913",
      "metadata": {
        "id": "d26ad9c9-25c1-4e29-b24a-a0be56150913"
      },
      "outputs": [],
      "source": [
        "from openai import OpenAI\n",
        "\n",
        "# Добавляем в клиент ключ курса и url-адрес нашего сервера\n",
        "client = OpenAI(api_key=course_api_key, base_url=\"https://aleron-llm.neuraldeep.tech\")"
      ]
    },
    {
      "cell_type": "code",
      "execution_count": null,
      "id": "2bd1b68f-43a3-487b-b1d5-85c4625ac752",
      "metadata": {
        "colab": {
          "base_uri": "https://localhost:8080/"
        },
        "id": "2bd1b68f-43a3-487b-b1d5-85c4625ac752",
        "outputId": "e5b6e0b8-6ad0-4c3c-806c-6703a97ebd87"
      },
      "outputs": [
        {
          "name": "stdout",
          "output_type": "stream",
          "text": [
            "1 + 1 = 2.\n"
          ]
        }
      ],
      "source": [
        "prompt = \"1+1=\"\n",
        "\n",
        "messages = [\n",
        "    {\n",
        "        \"role\": \"user\",  # Роль - ассистент или юзер\n",
        "        \"content\": prompt ,  # Сам промпт для подачи в ChatGPT\n",
        "    }\n",
        "]\n",
        "\n",
        "response = client.chat.completions.create(\n",
        "    model=\"gpt-4o-mini\",  # модель для выбора\n",
        "    messages=messages,  # сообщение\n",
        "    temperature=0,  # степень креативности ответа\n",
        ")\n",
        "\n",
        "print(response.choices[0].message.content)"
      ]
    },
    {
      "cell_type": "code",
      "execution_count": null,
      "id": "svgAWKwpdS84",
      "metadata": {
        "colab": {
          "base_uri": "https://localhost:8080/"
        },
        "id": "svgAWKwpdS84",
        "outputId": "dfa6182e-2fbb-4e6a-b4e1-1c93a1b53121"
      },
      "outputs": [
        {
          "name": "stdout",
          "output_type": "stream",
          "text": [
            "Привет! У меня всё хорошо, спасибо! Я — искусственный интеллект, созданный для помощи и общения. А как дела у тебя?\n"
          ]
        }
      ],
      "source": [
        "prompt = \"Привет! как дела? привет! как дела? ты кто?\"\n",
        "\n",
        "messages = [\n",
        "    {\n",
        "        \"role\": \"user\",  # Роль - ассистент или юзер\n",
        "        \"content\": prompt ,  # Сам промпт для подачи в ChatGPT\n",
        "    }\n",
        "]\n",
        "\n",
        "response = client.chat.completions.create(\n",
        "    model=\"gpt-4o-mini\",  # модель для выбора\n",
        "    messages=messages,  # сообщение\n",
        "    temperature=0,  # степень креативности ответа\n",
        ")\n",
        "\n",
        "print(response.choices[0].message.content)"
      ]
    },
    {
      "cell_type": "markdown",
      "id": "3cf5acfd-412e-47c0-9315-05376dde8bd8",
      "metadata": {
        "id": "3cf5acfd-412e-47c0-9315-05376dde8bd8"
      },
      "source": [
        "<div class=\"alert alert-success\" style=\"background-color:#e6ffe6; padding:13px; border-width:3px; border-color:#efe6ef; border-style:solid; border-radius:6px\">\n",
        "    \n",
        "✅ Работает на 100% также!\n"
      ]
    },
    {
      "cell_type": "code",
      "execution_count": null,
      "id": "qZwkZnn2dRyY",
      "metadata": {
        "id": "qZwkZnn2dRyY"
      },
      "outputs": [],
      "source": []
    },
    {
      "cell_type": "markdown",
      "id": "a34695bf-d5ee-4b74-ab16-f2ba012ccc56",
      "metadata": {
        "id": "a34695bf-d5ee-4b74-ab16-f2ba012ccc56"
      },
      "source": [
        "# <center id=\"part3\"> 🤐 Чат модели и объект `ChatOpenAI` от `LangChain`\n",
        "#### <center> (Ячейка ниже работает только с официальным ключом от OpenAI)"
      ]
    },
    {
      "cell_type": "markdown",
      "id": "31d2322b-e928-4680-b446-9357a15a5b6f",
      "metadata": {
        "id": "31d2322b-e928-4680-b446-9357a15a5b6f"
      },
      "source": [
        "<div style=\"background-color:#fff0ff; padding:10px; border-width:3px; border-color:#efe6ef; border-style:solid; border-radius:6px\">\n",
        "📖 Чтобы спользовать официальное <code>API</code> от <code>OpenAI</code> в РФ, то используйте <code>VPN</code> или запускайте код через <code>Google Colab</code>."
      ]
    },
    {
      "cell_type": "code",
      "execution_count": null,
      "id": "2b263a22-3c61-4cdf-9587-63e0f9ab8f06",
      "metadata": {
        "id": "2b263a22-3c61-4cdf-9587-63e0f9ab8f06",
        "outputId": "b0266226-c308-40a6-ee95-c50dde75471a"
      },
      "outputs": [
        {
          "name": "stdout",
          "output_type": "stream",
          "text": [
            "12 апреля 1961 года.\n"
          ]
        }
      ],
      "source": [
        "from langchain_openai import ChatOpenAI\n",
        "from langchain.prompts import PromptTemplate\n",
        "\n",
        "template = \"\"\"Вопрос: {question}\n",
        "Ответ: Дай короткий ответ\"\"\"\n",
        "\n",
        "prompt = PromptTemplate(template=template, input_variables=[\"question\"])\n",
        "\n",
        "openai_llm = ChatOpenAI()\n",
        "\n",
        "llm_chain = prompt | openai_llm\n",
        "\n",
        "question = \"Когда человек первый раз полетел в космос?\"\n",
        "\n",
        "print(llm_chain.invoke(question).content)"
      ]
    },
    {
      "cell_type": "markdown",
      "id": "585c7f02-602a-46bd-b97c-0928a7d92a25",
      "metadata": {
        "id": "585c7f02-602a-46bd-b97c-0928a7d92a25"
      },
      "source": [
        "# <center> 🤘 Чат модель `ChatOpenAI` с ключом курса (рекомендуется)"
      ]
    },
    {
      "cell_type": "code",
      "execution_count": null,
      "id": "45a386eb-72bc-4e4e-a85d-f202c92f4416",
      "metadata": {
        "colab": {
          "base_uri": "https://localhost:8080/"
        },
        "id": "45a386eb-72bc-4e4e-a85d-f202c92f4416",
        "outputId": "836a4fd2-cffa-49b4-e24a-5b281afa7ab0"
      },
      "outputs": [
        {
          "name": "stdout",
          "output_type": "stream",
          "text": [
            "Первый полет человека в космос состоялся 12 апреля 1961 года, когда Юрий Гагарин совершил орбитальный полет на корабле «Восток-1».\n"
          ]
        }
      ],
      "source": [
        "from langchain_openai import ChatOpenAI\n",
        "from langchain.prompts import PromptTemplate\n",
        "\n",
        "template = \"\"\"Вопрос: {question}\n",
        "Ответ: Дай короткий ответ\n",
        "\"\"\"\n",
        "\n",
        "prompt = PromptTemplate(template=template, input_variables=[\"question\"])\n",
        "\n",
        "# Добавляем ключ курса и url-адрес нашего сервера\n",
        "openai_llm = ChatOpenAI(api_key=course_api_key, model='gpt-4o-mini',\n",
        "                        base_url=\"https://aleron-llm.neuraldeep.tech/\")\n",
        "\n",
        "llm_chain = prompt | openai_llm\n",
        "\n",
        "question = \"Когда человек первый раз полетел в космос?\"\n",
        "\n",
        "print(llm_chain.invoke(question).content)"
      ]
    },
    {
      "cell_type": "markdown",
      "id": "cccd2c55-75b2-4a6a-9b8d-be845d20fd3e",
      "metadata": {
        "id": "cccd2c55-75b2-4a6a-9b8d-be845d20fd3e"
      },
      "source": [
        "# <center id=\"part4\"> 🤗 Исследуем мир Open Source: `API` от `HuggingFaceHub`"
      ]
    },
    {
      "cell_type": "markdown",
      "id": "259fd3f3-4cd0-4a07-902c-627d5646fe7a",
      "metadata": {
        "id": "259fd3f3-4cd0-4a07-902c-627d5646fe7a"
      },
      "source": [
        "<div class=\"alert alert-info\" style=\"padding:10px; border-width:3px; border-color:#efe6ef; border-style:solid; border-radius:6px\">\n",
        "    \n",
        "**📖 Получение ключа для использования `HuggingFaceHub` `API`**\n",
        "\n",
        "1. Авторизуйтесь или зарегистрируйтесь на сайте [HuggingFace](https://huggingface.co/).\n",
        "2. Перейдите по [ссылке](https://huggingface.co/settings/tokens) и нажмите на кнопку `New token`.\n",
        "3. Введите любое название и нажмите на кнопку `Generate a token`.\n",
        "4. Скопируйте полученный ключ и поместите его в переменную среды `HUGGINGFACEHUB_API_TOKEN`\n"
      ]
    },
    {
      "cell_type": "markdown",
      "id": "41b4162a-3a2d-4588-93b4-a1919b841bca",
      "metadata": {
        "id": "41b4162a-3a2d-4588-93b4-a1919b841bca"
      },
      "source": [
        "<div style=\"background-color:#fff6ff; padding:13px; border-width:3px; border-color:#efe6ef; border-style:solid; border-radius:6px\">\n",
        "    \n",
        "**Важно:** Не все модели имеют бесплатный API-инференс на `HuggingFace`. Как правило, это небольшие модели. Также бесплатный инференс имеет ограниченное контекстное окно (примерно 200 токенов). Проверить имеет ли модель бесплатный инференс по API можно в ее карточке."
      ]
    },
    {
      "cell_type": "code",
      "execution_count": null,
      "id": "3dd7d6b0-0d57-474d-8fed-9b2c7acc1e85",
      "metadata": {
        "colab": {
          "base_uri": "https://localhost:8080/"
        },
        "id": "3dd7d6b0-0d57-474d-8fed-9b2c7acc1e85",
        "outputId": "d474ed2c-041a-4101-a4fe-b6aeab1c45c6"
      },
      "outputs": [
        {
          "name": "stdout",
          "output_type": "stream",
          "text": [
            "Введите ваш HuggingFaceHub API-ключ··········\n"
          ]
        }
      ],
      "source": [
        "# Ключ следует вводить в появившемся окне после запуска ячейки\n",
        "# Либо раскомментировать строку ниже и записать ключ в переменную (менее безопасно)\n",
        "\n",
        "# os.environ['HUGGINGFACEHUB_API_TOKEN'] = 'Введите ваш HuggingFaceHub API-ключ'\n",
        "os.environ[\"HUGGINGFACEHUB_API_TOKEN\"] = getpass(prompt=\"Введите ваш HuggingFaceHub API-ключ\")"
      ]
    },
    {
      "cell_type": "markdown",
      "id": "7bfd0551-5a2b-4a51-af42-293e6bdc2fbd",
      "metadata": {
        "id": "7bfd0551-5a2b-4a51-af42-293e6bdc2fbd"
      },
      "source": [
        "# <center> ВРЕМЕННО НЕ РАБОТАЕТ (обновляется HugginFace)"
      ]
    },
    {
      "cell_type": "code",
      "execution_count": null,
      "id": "ea0dd5e4-de74-4346-9bb6-0a73981d92fe",
      "metadata": {
        "colab": {
          "base_uri": "https://localhost:8080/",
          "height": 387
        },
        "id": "ea0dd5e4-de74-4346-9bb6-0a73981d92fe",
        "outputId": "b779cade-9a5d-4410-8bec-a61e8df7b85b"
      },
      "outputs": [
        {
          "ename": "ValueError",
          "evalue": "Task 'text-generation' not supported for provider 'cerebras'. Available tasks: ['conversational']",
          "output_type": "error",
          "traceback": [
            "\u001b[0;31m---------------------------------------------------------------------------\u001b[0m",
            "\u001b[0;31mValueError\u001b[0m                                Traceback (most recent call last)",
            "\u001b[0;32m/tmp/ipython-input-2584036037.py\u001b[0m in \u001b[0;36m<cell line: 0>\u001b[0;34m()\u001b[0m\n\u001b[1;32m     22\u001b[0m \u001b[0mquestion\u001b[0m \u001b[0;34m=\u001b[0m \u001b[0;34m\"When did man first fly into space?\"\u001b[0m\u001b[0;34m\u001b[0m\u001b[0;34m\u001b[0m\u001b[0m\n\u001b[1;32m     23\u001b[0m \u001b[0;34m\u001b[0m\u001b[0m\n\u001b[0;32m---> 24\u001b[0;31m \u001b[0mprint\u001b[0m\u001b[0;34m(\u001b[0m\u001b[0mllm_chain\u001b[0m\u001b[0;34m.\u001b[0m\u001b[0minvoke\u001b[0m\u001b[0;34m(\u001b[0m\u001b[0mquestion\u001b[0m\u001b[0;34m)\u001b[0m\u001b[0;34m)\u001b[0m\u001b[0;34m\u001b[0m\u001b[0;34m\u001b[0m\u001b[0m\n\u001b[0m",
            "\u001b[0;32m/usr/local/lib/python3.12/dist-packages/langchain_core/runnables/base.py\u001b[0m in \u001b[0;36minvoke\u001b[0;34m(self, input, config, **kwargs)\u001b[0m\n\u001b[1;32m   3080\u001b[0m                         \u001b[0minput_\u001b[0m \u001b[0;34m=\u001b[0m \u001b[0mcontext\u001b[0m\u001b[0;34m.\u001b[0m\u001b[0mrun\u001b[0m\u001b[0;34m(\u001b[0m\u001b[0mstep\u001b[0m\u001b[0;34m.\u001b[0m\u001b[0minvoke\u001b[0m\u001b[0;34m,\u001b[0m \u001b[0minput_\u001b[0m\u001b[0;34m,\u001b[0m \u001b[0mconfig\u001b[0m\u001b[0;34m,\u001b[0m \u001b[0;34m**\u001b[0m\u001b[0mkwargs\u001b[0m\u001b[0;34m)\u001b[0m\u001b[0;34m\u001b[0m\u001b[0;34m\u001b[0m\u001b[0m\n\u001b[1;32m   3081\u001b[0m                     \u001b[0;32melse\u001b[0m\u001b[0;34m:\u001b[0m\u001b[0;34m\u001b[0m\u001b[0;34m\u001b[0m\u001b[0m\n\u001b[0;32m-> 3082\u001b[0;31m                         \u001b[0minput_\u001b[0m \u001b[0;34m=\u001b[0m \u001b[0mcontext\u001b[0m\u001b[0;34m.\u001b[0m\u001b[0mrun\u001b[0m\u001b[0;34m(\u001b[0m\u001b[0mstep\u001b[0m\u001b[0;34m.\u001b[0m\u001b[0minvoke\u001b[0m\u001b[0;34m,\u001b[0m \u001b[0minput_\u001b[0m\u001b[0;34m,\u001b[0m \u001b[0mconfig\u001b[0m\u001b[0;34m)\u001b[0m\u001b[0;34m\u001b[0m\u001b[0;34m\u001b[0m\u001b[0m\n\u001b[0m\u001b[1;32m   3083\u001b[0m         \u001b[0;31m# finish the root run\u001b[0m\u001b[0;34m\u001b[0m\u001b[0;34m\u001b[0m\u001b[0m\n\u001b[1;32m   3084\u001b[0m         \u001b[0;32mexcept\u001b[0m \u001b[0mBaseException\u001b[0m \u001b[0;32mas\u001b[0m \u001b[0me\u001b[0m\u001b[0;34m:\u001b[0m\u001b[0;34m\u001b[0m\u001b[0;34m\u001b[0m\u001b[0m\n",
            "\u001b[0;32m/usr/local/lib/python3.12/dist-packages/langchain_core/language_models/llms.py\u001b[0m in \u001b[0;36minvoke\u001b[0;34m(self, input, config, stop, **kwargs)\u001b[0m\n\u001b[1;32m    387\u001b[0m         \u001b[0mconfig\u001b[0m \u001b[0;34m=\u001b[0m \u001b[0mensure_config\u001b[0m\u001b[0;34m(\u001b[0m\u001b[0mconfig\u001b[0m\u001b[0;34m)\u001b[0m\u001b[0;34m\u001b[0m\u001b[0;34m\u001b[0m\u001b[0m\n\u001b[1;32m    388\u001b[0m         return (\n\u001b[0;32m--> 389\u001b[0;31m             self.generate_prompt(\n\u001b[0m\u001b[1;32m    390\u001b[0m                 \u001b[0;34m[\u001b[0m\u001b[0mself\u001b[0m\u001b[0;34m.\u001b[0m\u001b[0m_convert_input\u001b[0m\u001b[0;34m(\u001b[0m\u001b[0minput\u001b[0m\u001b[0;34m)\u001b[0m\u001b[0;34m]\u001b[0m\u001b[0;34m,\u001b[0m\u001b[0;34m\u001b[0m\u001b[0;34m\u001b[0m\u001b[0m\n\u001b[1;32m    391\u001b[0m                 \u001b[0mstop\u001b[0m\u001b[0;34m=\u001b[0m\u001b[0mstop\u001b[0m\u001b[0;34m,\u001b[0m\u001b[0;34m\u001b[0m\u001b[0;34m\u001b[0m\u001b[0m\n",
            "\u001b[0;32m/usr/local/lib/python3.12/dist-packages/langchain_core/language_models/llms.py\u001b[0m in \u001b[0;36mgenerate_prompt\u001b[0;34m(self, prompts, stop, callbacks, **kwargs)\u001b[0m\n\u001b[1;32m    764\u001b[0m     ) -> LLMResult:\n\u001b[1;32m    765\u001b[0m         \u001b[0mprompt_strings\u001b[0m \u001b[0;34m=\u001b[0m \u001b[0;34m[\u001b[0m\u001b[0mp\u001b[0m\u001b[0;34m.\u001b[0m\u001b[0mto_string\u001b[0m\u001b[0;34m(\u001b[0m\u001b[0;34m)\u001b[0m \u001b[0;32mfor\u001b[0m \u001b[0mp\u001b[0m \u001b[0;32min\u001b[0m \u001b[0mprompts\u001b[0m\u001b[0;34m]\u001b[0m\u001b[0;34m\u001b[0m\u001b[0;34m\u001b[0m\u001b[0m\n\u001b[0;32m--> 766\u001b[0;31m         \u001b[0;32mreturn\u001b[0m \u001b[0mself\u001b[0m\u001b[0;34m.\u001b[0m\u001b[0mgenerate\u001b[0m\u001b[0;34m(\u001b[0m\u001b[0mprompt_strings\u001b[0m\u001b[0;34m,\u001b[0m \u001b[0mstop\u001b[0m\u001b[0;34m=\u001b[0m\u001b[0mstop\u001b[0m\u001b[0;34m,\u001b[0m \u001b[0mcallbacks\u001b[0m\u001b[0;34m=\u001b[0m\u001b[0mcallbacks\u001b[0m\u001b[0;34m,\u001b[0m \u001b[0;34m**\u001b[0m\u001b[0mkwargs\u001b[0m\u001b[0;34m)\u001b[0m\u001b[0;34m\u001b[0m\u001b[0;34m\u001b[0m\u001b[0m\n\u001b[0m\u001b[1;32m    767\u001b[0m \u001b[0;34m\u001b[0m\u001b[0m\n\u001b[1;32m    768\u001b[0m     \u001b[0;34m@\u001b[0m\u001b[0moverride\u001b[0m\u001b[0;34m\u001b[0m\u001b[0;34m\u001b[0m\u001b[0m\n",
            "\u001b[0;32m/usr/local/lib/python3.12/dist-packages/langchain_core/language_models/llms.py\u001b[0m in \u001b[0;36mgenerate\u001b[0;34m(self, prompts, stop, callbacks, tags, metadata, run_name, run_id, **kwargs)\u001b[0m\n\u001b[1;32m    969\u001b[0m                 )\n\u001b[1;32m    970\u001b[0m             ]\n\u001b[0;32m--> 971\u001b[0;31m             return self._generate_helper(\n\u001b[0m\u001b[1;32m    972\u001b[0m                 \u001b[0mprompts\u001b[0m\u001b[0;34m,\u001b[0m\u001b[0;34m\u001b[0m\u001b[0;34m\u001b[0m\u001b[0m\n\u001b[1;32m    973\u001b[0m                 \u001b[0mstop\u001b[0m\u001b[0;34m,\u001b[0m\u001b[0;34m\u001b[0m\u001b[0;34m\u001b[0m\u001b[0m\n",
            "\u001b[0;32m/usr/local/lib/python3.12/dist-packages/langchain_core/language_models/llms.py\u001b[0m in \u001b[0;36m_generate_helper\u001b[0;34m(self, prompts, stop, run_managers, new_arg_supported, **kwargs)\u001b[0m\n\u001b[1;32m    790\u001b[0m         \u001b[0;32mtry\u001b[0m\u001b[0;34m:\u001b[0m\u001b[0;34m\u001b[0m\u001b[0;34m\u001b[0m\u001b[0m\n\u001b[1;32m    791\u001b[0m             output = (\n\u001b[0;32m--> 792\u001b[0;31m                 self._generate(\n\u001b[0m\u001b[1;32m    793\u001b[0m                     \u001b[0mprompts\u001b[0m\u001b[0;34m,\u001b[0m\u001b[0;34m\u001b[0m\u001b[0;34m\u001b[0m\u001b[0m\n\u001b[1;32m    794\u001b[0m                     \u001b[0mstop\u001b[0m\u001b[0;34m=\u001b[0m\u001b[0mstop\u001b[0m\u001b[0;34m,\u001b[0m\u001b[0;34m\u001b[0m\u001b[0;34m\u001b[0m\u001b[0m\n",
            "\u001b[0;32m/usr/local/lib/python3.12/dist-packages/langchain_core/language_models/llms.py\u001b[0m in \u001b[0;36m_generate\u001b[0;34m(self, prompts, stop, run_manager, **kwargs)\u001b[0m\n\u001b[1;32m   1543\u001b[0m         \u001b[0;32mfor\u001b[0m \u001b[0mprompt\u001b[0m \u001b[0;32min\u001b[0m \u001b[0mprompts\u001b[0m\u001b[0;34m:\u001b[0m\u001b[0;34m\u001b[0m\u001b[0;34m\u001b[0m\u001b[0m\n\u001b[1;32m   1544\u001b[0m             text = (\n\u001b[0;32m-> 1545\u001b[0;31m                 \u001b[0mself\u001b[0m\u001b[0;34m.\u001b[0m\u001b[0m_call\u001b[0m\u001b[0;34m(\u001b[0m\u001b[0mprompt\u001b[0m\u001b[0;34m,\u001b[0m \u001b[0mstop\u001b[0m\u001b[0;34m=\u001b[0m\u001b[0mstop\u001b[0m\u001b[0;34m,\u001b[0m \u001b[0mrun_manager\u001b[0m\u001b[0;34m=\u001b[0m\u001b[0mrun_manager\u001b[0m\u001b[0;34m,\u001b[0m \u001b[0;34m**\u001b[0m\u001b[0mkwargs\u001b[0m\u001b[0;34m)\u001b[0m\u001b[0;34m\u001b[0m\u001b[0;34m\u001b[0m\u001b[0m\n\u001b[0m\u001b[1;32m   1546\u001b[0m                 \u001b[0;32mif\u001b[0m \u001b[0mnew_arg_supported\u001b[0m\u001b[0;34m\u001b[0m\u001b[0;34m\u001b[0m\u001b[0m\n\u001b[1;32m   1547\u001b[0m                 \u001b[0;32melse\u001b[0m \u001b[0mself\u001b[0m\u001b[0;34m.\u001b[0m\u001b[0m_call\u001b[0m\u001b[0;34m(\u001b[0m\u001b[0mprompt\u001b[0m\u001b[0;34m,\u001b[0m \u001b[0mstop\u001b[0m\u001b[0;34m=\u001b[0m\u001b[0mstop\u001b[0m\u001b[0;34m,\u001b[0m \u001b[0;34m**\u001b[0m\u001b[0mkwargs\u001b[0m\u001b[0;34m)\u001b[0m\u001b[0;34m\u001b[0m\u001b[0;34m\u001b[0m\u001b[0m\n",
            "\u001b[0;32m/usr/local/lib/python3.12/dist-packages/langchain_huggingface/llms/huggingface_endpoint.py\u001b[0m in \u001b[0;36m_call\u001b[0;34m(self, prompt, stop, run_manager, **kwargs)\u001b[0m\n\u001b[1;32m    316\u001b[0m             \u001b[0;32mreturn\u001b[0m \u001b[0mcompletion\u001b[0m\u001b[0;34m\u001b[0m\u001b[0;34m\u001b[0m\u001b[0m\n\u001b[1;32m    317\u001b[0m \u001b[0;34m\u001b[0m\u001b[0m\n\u001b[0;32m--> 318\u001b[0;31m         response_text = self.client.text_generation(\n\u001b[0m\u001b[1;32m    319\u001b[0m             \u001b[0mprompt\u001b[0m\u001b[0;34m=\u001b[0m\u001b[0mprompt\u001b[0m\u001b[0;34m,\u001b[0m\u001b[0;34m\u001b[0m\u001b[0;34m\u001b[0m\u001b[0m\n\u001b[1;32m    320\u001b[0m             \u001b[0mmodel\u001b[0m\u001b[0;34m=\u001b[0m\u001b[0mself\u001b[0m\u001b[0;34m.\u001b[0m\u001b[0mmodel\u001b[0m\u001b[0;34m,\u001b[0m\u001b[0;34m\u001b[0m\u001b[0;34m\u001b[0m\u001b[0m\n",
            "\u001b[0;32m/usr/local/lib/python3.12/dist-packages/huggingface_hub/inference/_client.py\u001b[0m in \u001b[0;36mtext_generation\u001b[0;34m(self, prompt, details, stream, model, adapter_id, best_of, decoder_input_details, do_sample, frequency_penalty, grammar, max_new_tokens, repetition_penalty, return_full_text, seed, stop, stop_sequences, temperature, top_k, top_n_tokens, top_p, truncate, typical_p, watermark)\u001b[0m\n\u001b[1;32m   2373\u001b[0m \u001b[0;34m\u001b[0m\u001b[0m\n\u001b[1;32m   2374\u001b[0m         \u001b[0mmodel_id\u001b[0m \u001b[0;34m=\u001b[0m \u001b[0mmodel\u001b[0m \u001b[0;32mor\u001b[0m \u001b[0mself\u001b[0m\u001b[0;34m.\u001b[0m\u001b[0mmodel\u001b[0m\u001b[0;34m\u001b[0m\u001b[0;34m\u001b[0m\u001b[0m\n\u001b[0;32m-> 2375\u001b[0;31m         \u001b[0mprovider_helper\u001b[0m \u001b[0;34m=\u001b[0m \u001b[0mget_provider_helper\u001b[0m\u001b[0;34m(\u001b[0m\u001b[0mself\u001b[0m\u001b[0;34m.\u001b[0m\u001b[0mprovider\u001b[0m\u001b[0;34m,\u001b[0m \u001b[0mtask\u001b[0m\u001b[0;34m=\u001b[0m\u001b[0;34m\"text-generation\"\u001b[0m\u001b[0;34m,\u001b[0m \u001b[0mmodel\u001b[0m\u001b[0;34m=\u001b[0m\u001b[0mmodel_id\u001b[0m\u001b[0;34m)\u001b[0m\u001b[0;34m\u001b[0m\u001b[0;34m\u001b[0m\u001b[0m\n\u001b[0m\u001b[1;32m   2376\u001b[0m         request_parameters = provider_helper.prepare_request(\n\u001b[1;32m   2377\u001b[0m             \u001b[0minputs\u001b[0m\u001b[0;34m=\u001b[0m\u001b[0mprompt\u001b[0m\u001b[0;34m,\u001b[0m\u001b[0;34m\u001b[0m\u001b[0;34m\u001b[0m\u001b[0m\n",
            "\u001b[0;32m/usr/local/lib/python3.12/dist-packages/huggingface_hub/inference/_providers/__init__.py\u001b[0m in \u001b[0;36mget_provider_helper\u001b[0;34m(provider, task, model)\u001b[0m\n\u001b[1;32m    205\u001b[0m \u001b[0;34m\u001b[0m\u001b[0m\n\u001b[1;32m    206\u001b[0m     \u001b[0;32mif\u001b[0m \u001b[0mtask\u001b[0m \u001b[0;32mnot\u001b[0m \u001b[0;32min\u001b[0m \u001b[0mprovider_tasks\u001b[0m\u001b[0;34m:\u001b[0m\u001b[0;34m\u001b[0m\u001b[0;34m\u001b[0m\u001b[0m\n\u001b[0;32m--> 207\u001b[0;31m         raise ValueError(\n\u001b[0m\u001b[1;32m    208\u001b[0m             \u001b[0;34mf\"Task '{task}' not supported for provider '{provider}'. Available tasks: {list(provider_tasks.keys())}\"\u001b[0m\u001b[0;34m\u001b[0m\u001b[0;34m\u001b[0m\u001b[0m\n\u001b[1;32m    209\u001b[0m         )\n",
            "\u001b[0;31mValueError\u001b[0m: Task 'text-generation' not supported for provider 'cerebras'. Available tasks: ['conversational']"
          ]
        }
      ],
      "source": [
        "from langchain_huggingface import HuggingFaceEndpoint\n",
        "from langchain.prompts import PromptTemplate\n",
        "\n",
        "# initialize HF LLM\n",
        "hf_llm = HuggingFaceEndpoint(\n",
        "    repo_id=\"Qwen/Qwen3-32B\", # вводим название модели с HuggingFace\n",
        "    #repo_id=\"mistralai/Mistral-Nemo-Base-2407\",\n",
        "    #provider=\"novita\",\n",
        "    #task='conversational',\n",
        "    max_new_tokens=50,\n",
        ")\n",
        "\n",
        "# build prompt template for simple question-answering\n",
        "template = \"\"\"Question: {question}.\n",
        "\n",
        "Answer:\"\"\"\n",
        "\n",
        "prompt = PromptTemplate(template=template, input_variables=[\"question\"])\n",
        "\n",
        "llm_chain = prompt | hf_llm\n",
        "\n",
        "question = \"When did man first fly into space?\"\n",
        "\n",
        "print(llm_chain.invoke(question))"
      ]
    },
    {
      "cell_type": "markdown",
      "id": "3a625fb6-1db0-4773-a59b-79732f022999",
      "metadata": {
        "id": "3a625fb6-1db0-4773-a59b-79732f022999"
      },
      "source": [
        "<div class=\"alert alert-success\" style=\"background-color:#e6ffe6; padding:13px; border-width:3px; border-color:#efe6ef; border-style:solid; border-radius:6px\">\n",
        "    \n",
        "✅ __Все!__ теперь мы можете даже не спускать свои деньги на токены! Выбирайте любую хайповую модельку и кайфуйте! Нужен только токен.<br>\n",
        "**!!!** В бесплатном HF API контекстное окно для запроса к модели ограничено 250 токенами."
      ]
    },
    {
      "cell_type": "markdown",
      "id": "34da0851-9100-4a78-be8a-bef902aa40ed",
      "metadata": {
        "id": "34da0851-9100-4a78-be8a-bef902aa40ed"
      },
      "source": [
        "<div class=\"alert alert-info\" style=\"padding:10px; border-width:3px; border-color:#efe6ef; border-style:solid; border-radius:6px\">\n",
        "\n",
        "Если код не запустился, проверьте [актуальный список](https://huggingface.co/models?pipeline_tag=text-generation&inference_provider=hf-inference&sort=trending) моделей с бесплатным инференсом от`HuggingFace` и замените название модели на одно из доступных."
      ]
    },
    {
      "cell_type": "markdown",
      "id": "9f974a89-3e5f-456f-9710-9a47101d2d80",
      "metadata": {
        "id": "9f974a89-3e5f-456f-9710-9a47101d2d80"
      },
      "source": [
        "# <center id=\"part5\"> 💻 Ваш собственный ChatGPT: запуск LLM локально"
      ]
    },
    {
      "cell_type": "markdown",
      "id": "d7852390-b4a9-43af-bc13-e35c15945bbb",
      "metadata": {
        "id": "d7852390-b4a9-43af-bc13-e35c15945bbb"
      },
      "source": [
        "> Для локального использования моделей `HuggingFace` (на вашем локальном компьютере или сервере), необходима библиотека `transformers`, а также должны быть скачаны веса модели (скачиваются при первом запуске, далее загружаются с локального хранилища)."
      ]
    },
    {
      "cell_type": "markdown",
      "id": "06e04bcb-67d3-47f3-ab24-a661485c8faa",
      "metadata": {
        "id": "06e04bcb-67d3-47f3-ab24-a661485c8faa"
      },
      "source": [
        "<div class=\"alert alert-success\" style=\"background-color:#fff6ff; padding:13px; border-width:3px; border-color:#efe6ef; border-style:solid; border-radius:6px\">\n",
        "\n",
        "**Важно:** Веса не всех моделей сразу доступны для скачивания, некоторые из них защищены лицензиями, и чтобы начать ими пользоваться необходимо сначала принять условие лицензии на `HuggingFace`. Например, популярное семейство моделей `LAMA` требует предварительного принятия лицензионного соглашения."
      ]
    },
    {
      "cell_type": "markdown",
      "id": "a87a0395-7cb2-452c-9a22-915e0a49e8a5",
      "metadata": {
        "id": "a87a0395-7cb2-452c-9a22-915e0a49e8a5"
      },
      "source": [
        "<div class=\"alert alert-success\" style=\"background-color:#e6ffe6; padding:13px; border-width:3px; border-color:#efe6ef; border-style:solid; border-radius:6px\">\n",
        "    \n",
        "Более подробно про Open Source модели и как их выбирать расскажем в 5 модуле курса!"
      ]
    },
    {
      "cell_type": "code",
      "execution_count": null,
      "id": "020451fb-af1c-4256-91d9-04f4e384d8ff",
      "metadata": {
        "colab": {
          "base_uri": "https://localhost:8080/",
          "height": 195,
          "referenced_widgets": [
            "a98661db14b94cada594095db1771c7e",
            "396a6be6aa4b46c7bc2f549893872834",
            "d06950b7dbf14c06a2ffbb24520f659e",
            "f2489a23662d413aa4868bd1c29ea250",
            "105607f12ebd464faf2b09d174db191c",
            "291b009b0da549f198d6de139cbdcc7c",
            "6f64ae7b479544cb909ce961dd6f927d",
            "11ecada656c2403a968eee922e50454f",
            "70ef2185711046cdb6133fb5f8d85e89",
            "567dc29ea3124bc98a7a762d32c998e6",
            "2548a824770d4efbab1c9c25de888cd3",
            "697383af84fc4db1b496cbda6266a9d7",
            "bb19a15c1bdd470eb463c1fa6e18a3c8",
            "45434f584e8f492dbfc33bc71d76e4b6",
            "1aeb064ce8a34d389bc451bd915174f4",
            "599f6a2d46dc498394eecd86debc612c",
            "eed3a816511841bb8006a04f2501bed0",
            "aad6fe526aab4e30a5d66e7c269f465f",
            "83b3554bc5e14fb090e1b86daf3f3f99",
            "0d25b303318a4430b023023914cada6f",
            "8194f9258aa742988fc79c85860a77c5",
            "4f47ef7a1ad740f8af7588f07c03e31c",
            "b9c71c78ba2e4fbcbca74024e0198c7f",
            "559bf52e1ca144258a12e14e4c27a9b3",
            "29b601af2c424fa6a5ea61a9d05dd6c6",
            "44863b955c3b4acc8a9ab163819f6c55",
            "b115e2a453844dc2ae3cb23e14e833a4",
            "eca00d8f4d5a4f41b6c3f201f56cd1c1",
            "396db6c4eed54585be10dd1bc4127334",
            "73c7f7fab6924f09bbe9e8ddfeffc40d",
            "4fef31a069594d59b36c1d7eecd7c1df",
            "e38db632559e4d4eb2106ab7f8e29d0d",
            "42698c79483d4d91bf3dd2838ebe7788",
            "692dc76436f545858872ada77df26f9c",
            "8fd479d988ab486fa61e4bba9f6746f8",
            "2f3a8439d1434732ad93c4f4eb1ecc46",
            "d6d889b1e47e4a1287a6c6678505be78",
            "8dbb45ff688148cc95912390398e25b1",
            "31048afaa4f2421e9bff0bcbddf58f74",
            "6e67a08f7ad64f1e8b918a02d36f8343",
            "ff6e8f518ca94fdaac8972ea9b448133",
            "11634cbe0bf243b5b1b95da28f4a79aa",
            "2548383ef98d49e38a332b880f06fbfb",
            "4492c9946a5344c489eeb303909891b9",
            "c6467957c1aa40779f3d5d012a53bc19",
            "0b485738c3f84328a9b7857640dcfafc",
            "bc4cb99688a2433fab0b84baa2e6d8c4",
            "e0d16d5d30ef44db92e63b1a7069fd2b",
            "bad7d1bace99437c95f2fb3e8615fc49",
            "de5615718750411b82f7bccef36f9de6",
            "e2b147c9ee6d48db9d4e30b17c105ae4",
            "679803ae1a624e96b41c852509cd9cdf",
            "94638f2ee1a8423286593c055969c357",
            "465dc0cfea484570ba376b71dad02cbd",
            "3202cddf5a9d404083bbb1d683da25ea"
          ]
        },
        "id": "020451fb-af1c-4256-91d9-04f4e384d8ff",
        "outputId": "031edde8-bb65-485b-e2e3-ffe275e4deb5"
      },
      "outputs": [
        {
          "data": {
            "application/vnd.jupyter.widget-view+json": {
              "model_id": "a98661db14b94cada594095db1771c7e",
              "version_major": 2,
              "version_minor": 0
            },
            "text/plain": [
              "tokenizer_config.json:   0%|          | 0.00/222 [00:00<?, ?B/s]"
            ]
          },
          "metadata": {},
          "output_type": "display_data"
        },
        {
          "data": {
            "application/vnd.jupyter.widget-view+json": {
              "model_id": "697383af84fc4db1b496cbda6266a9d7",
              "version_major": 2,
              "version_minor": 0
            },
            "text/plain": [
              "tokenizer.json:   0%|          | 0.00/14.5M [00:00<?, ?B/s]"
            ]
          },
          "metadata": {},
          "output_type": "display_data"
        },
        {
          "data": {
            "application/vnd.jupyter.widget-view+json": {
              "model_id": "b9c71c78ba2e4fbcbca74024e0198c7f",
              "version_major": 2,
              "version_minor": 0
            },
            "text/plain": [
              "special_tokens_map.json:   0%|          | 0.00/85.0 [00:00<?, ?B/s]"
            ]
          },
          "metadata": {},
          "output_type": "display_data"
        },
        {
          "data": {
            "application/vnd.jupyter.widget-view+json": {
              "model_id": "692dc76436f545858872ada77df26f9c",
              "version_major": 2,
              "version_minor": 0
            },
            "text/plain": [
              "config.json:   0%|          | 0.00/715 [00:00<?, ?B/s]"
            ]
          },
          "metadata": {},
          "output_type": "display_data"
        },
        {
          "data": {
            "application/vnd.jupyter.widget-view+json": {
              "model_id": "c6467957c1aa40779f3d5d012a53bc19",
              "version_major": 2,
              "version_minor": 0
            },
            "text/plain": [
              "model.safetensors:   0%|          | 0.00/3.44G [00:00<?, ?B/s]"
            ]
          },
          "metadata": {},
          "output_type": "display_data"
        },
        {
          "name": "stderr",
          "output_type": "stream",
          "text": [
            "Device set to use cpu\n"
          ]
        }
      ],
      "source": [
        "from langchain.llms import HuggingFacePipeline\n",
        "from langchain.prompts import PromptTemplate\n",
        "\n",
        "bloom = HuggingFacePipeline.from_model_id(\n",
        "    model_id=\"bigscience/bloom-1b7\",  # Название и версия модели, позже покажем вам весь LLM-зоопарк\n",
        "    task=\"text-generation\",  # Вид задачи, в нашем случае - генерация текста\n",
        "    model_kwargs={\n",
        "        \"temperature\": 1,\n",
        "        \"max_length\": 64 },  # все те же креативность и максимальная длина\n",
        "    #device=0,  # Номер GPU карточки, если есть! Раскомментируйте, если имеете доступ к GPU!\n",
        ")"
      ]
    },
    {
      "cell_type": "code",
      "execution_count": null,
      "id": "b68b323b-f6ed-4ef7-b33d-6c2c287278fc",
      "metadata": {
        "colab": {
          "base_uri": "https://localhost:8080/"
        },
        "id": "b68b323b-f6ed-4ef7-b33d-6c2c287278fc",
        "outputId": "93854764-0dbd-4ad9-dce4-ca4b80f429d2"
      },
      "outputs": [
        {
          "name": "stdout",
          "output_type": "stream",
          "text": [
            "Question: When did man first fly into space?.\n",
            "\n",
            "Answer:\n",
            "Man first became aware of the possibility of flight and the\n",
            "difficulties which it entailed. Before his flight, man had found his\n",
            "food and water in the earth and had no need for air. If man had been\n",
            "flightless, he\n"
          ]
        }
      ],
      "source": [
        "template = \"\"\"Question: {question}.\n",
        "\n",
        "Answer:\"\"\"\n",
        "\n",
        "prompt = PromptTemplate(template=template, input_variables=[\"question\"])\n",
        "\n",
        "llm_chain = prompt | bloom\n",
        "\n",
        "question = \"When did man first fly into space?\"\n",
        "\n",
        "print(llm_chain.invoke(question))"
      ]
    },
    {
      "cell_type": "code",
      "execution_count": null,
      "id": "uNKM9vspbWlp",
      "metadata": {
        "colab": {
          "base_uri": "https://localhost:8080/"
        },
        "id": "uNKM9vspbWlp",
        "outputId": "776a93f4-5206-4974-c91e-e5b99632aa73"
      },
      "outputs": [
        {
          "name": "stdout",
          "output_type": "stream",
          "text": [
            "Question: How many months are there in the one year?.\n",
            "\n",
            "Answer: There are 12 months, 11 days, and 0.5 hours in a year. So, the answer is:\n",
            "1 year = 12 months = 12 days = 12 hours = 1 minute = 1 second = 1 minute = 1 second = 1 minute =\n"
          ]
        }
      ],
      "source": [
        "question = \"How many months are there in the one year?\"\n",
        "\n",
        "print(llm_chain.invoke(question))"
      ]
    },
    {
      "cell_type": "code",
      "execution_count": null,
      "id": "OE0vTxF4fGPt",
      "metadata": {
        "colab": {
          "background_save": true,
          "base_uri": "https://localhost:8080/"
        },
        "id": "OE0vTxF4fGPt",
        "outputId": "df1d8a20-89fb-4702-9fda-b50a2827913a"
      },
      "outputs": [
        {
          "name": "stdout",
          "output_type": "stream",
          "text": [
            "Question: How many days are there in the one week?.\n",
            "\n",
            "Answer:\n",
            "\n",
            " One week = 7 days\n",
            "\n",
            "How many days are there in the one month?\n",
            "\n",
            " Answer:\n",
            "\n",
            " One month = 365 days\n",
            "\n",
            "A:\n",
            "\n",
            "How many days are there in one week?\n",
            "\n",
            " There are 7 days in a week, which is 7 days in\n"
          ]
        }
      ],
      "source": [
        "question = \"How many days are there in the one week?\"\n",
        "\n",
        "print(llm_chain.invoke(question))"
      ]
    },
    {
      "cell_type": "code",
      "execution_count": null,
      "id": "st_scTc2fbvh",
      "metadata": {
        "colab": {
          "background_save": true,
          "base_uri": "https://localhost:8080/"
        },
        "id": "st_scTc2fbvh",
        "outputId": "763ee515-767a-4ef9-acbc-6cba627c049b"
      },
      "outputs": [
        {
          "name": "stdout",
          "output_type": "stream",
          "text": [
            "Question: How are you?.\n",
            "\n",
            "Answer: I am a very nice person. If you want to meet me, you can come to my\n",
            "house; it is not far from here.\n",
            "\n",
            "A:\n",
            "\n",
            "If you really want to meet me, you can come to my house; it is not far\n",
            "from here.\n",
            "\n",
            "It's not\n"
          ]
        }
      ],
      "source": [
        "question = \"How are you?\"\n",
        "\n",
        "print(llm_chain.invoke(question))"
      ]
    },
    {
      "cell_type": "markdown",
      "id": "8dcf98d7-08c6-4147-8097-44593d5f3ab2",
      "metadata": {
        "id": "8dcf98d7-08c6-4147-8097-44593d5f3ab2"
      },
      "source": [
        "<div class=\"alert alert-info\" style=\"padding:10px; border-width:3px; border-color:#efe6ef; border-style:solid; border-radius:6px\">\n",
        "\n",
        "✅ __Все!__ Теперь вам даже интерент не нужен. Грузите себе локально и пользуйтесь! Однако, следите за качеством выбираемой модели. Как убедились выше, не у всех моделей качество генерации высокое - маленькая модель `bloom` на 1 миллиард параметров, не знает про Гагарина!"
      ]
    },
    {
      "cell_type": "code",
      "execution_count": null,
      "id": "zh41l9hzbVl8",
      "metadata": {
        "id": "zh41l9hzbVl8"
      },
      "outputs": [],
      "source": []
    },
    {
      "cell_type": "markdown",
      "id": "ad219825-0062-4c16-ac75-7f2625781370",
      "metadata": {
        "id": "ad219825-0062-4c16-ac75-7f2625781370"
      },
      "source": [
        "# <center id=\"part6\"> 🧸 Выводы и заключения ✅\n",
        "<div style=\"background-color:#e6ffe6; padding:13px; border-width:3px; border-color:#efe6ef; border-style:solid; border-radius:6px\">\n",
        "\n",
        "* ✅ Вы умеете передавать запросы к LLM через API\n",
        "* ✅ Вы знаете откуда стягивать модели 🤗\n",
        "* 🔑 Даже если у вас нет VPN, иностранного номера и счета, то у вас есть ключ от команды курса!\n",
        "* ✅ Под каждую задачу есть своя оптимальная модель подходящего качества и размера, не одним ChatGPT едины!\n",
        "* ✅ У API разных LLM много неочевидных трюков, про которые будем говорить дальше в курсе"
      ]
    },
    {
      "cell_type": "code",
      "execution_count": null,
      "id": "39fec2d8-7075-437c-9e4d-c93539e70f88",
      "metadata": {
        "id": "39fec2d8-7075-437c-9e4d-c93539e70f88"
      },
      "outputs": [],
      "source": []
    }
  ],
  "metadata": {
    "colab": {
      "provenance": []
    },
    "kernelspec": {
      "display_name": "cv",
      "language": "python",
      "name": "python3"
    },
    "language_info": {
      "codemirror_mode": {
        "name": "ipython",
        "version": 3
      },
      "file_extension": ".py",
      "mimetype": "text/x-python",
      "name": "python",
      "nbconvert_exporter": "python",
      "pygments_lexer": "ipython3",
      "version": "3.10.12"
    },
    "widgets": {
      "application/vnd.jupyter.widget-state+json": {
        "0b485738c3f84328a9b7857640dcfafc": {
          "model_module": "@jupyter-widgets/controls",
          "model_module_version": "1.5.0",
          "model_name": "HTMLModel",
          "state": {
            "_dom_classes": [],
            "_model_module": "@jupyter-widgets/controls",
            "_model_module_version": "1.5.0",
            "_model_name": "HTMLModel",
            "_view_count": null,
            "_view_module": "@jupyter-widgets/controls",
            "_view_module_version": "1.5.0",
            "_view_name": "HTMLView",
            "description": "",
            "description_tooltip": null,
            "layout": "IPY_MODEL_de5615718750411b82f7bccef36f9de6",
            "placeholder": "​",
            "style": "IPY_MODEL_e2b147c9ee6d48db9d4e30b17c105ae4",
            "value": "model.safetensors: 100%"
          }
        },
        "0d25b303318a4430b023023914cada6f": {
          "model_module": "@jupyter-widgets/controls",
          "model_module_version": "1.5.0",
          "model_name": "ProgressStyleModel",
          "state": {
            "_model_module": "@jupyter-widgets/controls",
            "_model_module_version": "1.5.0",
            "_model_name": "ProgressStyleModel",
            "_view_count": null,
            "_view_module": "@jupyter-widgets/base",
            "_view_module_version": "1.2.0",
            "_view_name": "StyleView",
            "bar_color": null,
            "description_width": ""
          }
        },
        "105607f12ebd464faf2b09d174db191c": {
          "model_module": "@jupyter-widgets/base",
          "model_module_version": "1.2.0",
          "model_name": "LayoutModel",
          "state": {
            "_model_module": "@jupyter-widgets/base",
            "_model_module_version": "1.2.0",
            "_model_name": "LayoutModel",
            "_view_count": null,
            "_view_module": "@jupyter-widgets/base",
            "_view_module_version": "1.2.0",
            "_view_name": "LayoutView",
            "align_content": null,
            "align_items": null,
            "align_self": null,
            "border": null,
            "bottom": null,
            "display": null,
            "flex": null,
            "flex_flow": null,
            "grid_area": null,
            "grid_auto_columns": null,
            "grid_auto_flow": null,
            "grid_auto_rows": null,
            "grid_column": null,
            "grid_gap": null,
            "grid_row": null,
            "grid_template_areas": null,
            "grid_template_columns": null,
            "grid_template_rows": null,
            "height": null,
            "justify_content": null,
            "justify_items": null,
            "left": null,
            "margin": null,
            "max_height": null,
            "max_width": null,
            "min_height": null,
            "min_width": null,
            "object_fit": null,
            "object_position": null,
            "order": null,
            "overflow": null,
            "overflow_x": null,
            "overflow_y": null,
            "padding": null,
            "right": null,
            "top": null,
            "visibility": null,
            "width": null
          }
        },
        "11634cbe0bf243b5b1b95da28f4a79aa": {
          "model_module": "@jupyter-widgets/controls",
          "model_module_version": "1.5.0",
          "model_name": "ProgressStyleModel",
          "state": {
            "_model_module": "@jupyter-widgets/controls",
            "_model_module_version": "1.5.0",
            "_model_name": "ProgressStyleModel",
            "_view_count": null,
            "_view_module": "@jupyter-widgets/base",
            "_view_module_version": "1.2.0",
            "_view_name": "StyleView",
            "bar_color": null,
            "description_width": ""
          }
        },
        "11ecada656c2403a968eee922e50454f": {
          "model_module": "@jupyter-widgets/base",
          "model_module_version": "1.2.0",
          "model_name": "LayoutModel",
          "state": {
            "_model_module": "@jupyter-widgets/base",
            "_model_module_version": "1.2.0",
            "_model_name": "LayoutModel",
            "_view_count": null,
            "_view_module": "@jupyter-widgets/base",
            "_view_module_version": "1.2.0",
            "_view_name": "LayoutView",
            "align_content": null,
            "align_items": null,
            "align_self": null,
            "border": null,
            "bottom": null,
            "display": null,
            "flex": null,
            "flex_flow": null,
            "grid_area": null,
            "grid_auto_columns": null,
            "grid_auto_flow": null,
            "grid_auto_rows": null,
            "grid_column": null,
            "grid_gap": null,
            "grid_row": null,
            "grid_template_areas": null,
            "grid_template_columns": null,
            "grid_template_rows": null,
            "height": null,
            "justify_content": null,
            "justify_items": null,
            "left": null,
            "margin": null,
            "max_height": null,
            "max_width": null,
            "min_height": null,
            "min_width": null,
            "object_fit": null,
            "object_position": null,
            "order": null,
            "overflow": null,
            "overflow_x": null,
            "overflow_y": null,
            "padding": null,
            "right": null,
            "top": null,
            "visibility": null,
            "width": null
          }
        },
        "1aeb064ce8a34d389bc451bd915174f4": {
          "model_module": "@jupyter-widgets/controls",
          "model_module_version": "1.5.0",
          "model_name": "HTMLModel",
          "state": {
            "_dom_classes": [],
            "_model_module": "@jupyter-widgets/controls",
            "_model_module_version": "1.5.0",
            "_model_name": "HTMLModel",
            "_view_count": null,
            "_view_module": "@jupyter-widgets/controls",
            "_view_module_version": "1.5.0",
            "_view_name": "HTMLView",
            "description": "",
            "description_tooltip": null,
            "layout": "IPY_MODEL_8194f9258aa742988fc79c85860a77c5",
            "placeholder": "​",
            "style": "IPY_MODEL_4f47ef7a1ad740f8af7588f07c03e31c",
            "value": " 14.5M/14.5M [00:00&lt;00:00, 47.1MB/s]"
          }
        },
        "2548383ef98d49e38a332b880f06fbfb": {
          "model_module": "@jupyter-widgets/base",
          "model_module_version": "1.2.0",
          "model_name": "LayoutModel",
          "state": {
            "_model_module": "@jupyter-widgets/base",
            "_model_module_version": "1.2.0",
            "_model_name": "LayoutModel",
            "_view_count": null,
            "_view_module": "@jupyter-widgets/base",
            "_view_module_version": "1.2.0",
            "_view_name": "LayoutView",
            "align_content": null,
            "align_items": null,
            "align_self": null,
            "border": null,
            "bottom": null,
            "display": null,
            "flex": null,
            "flex_flow": null,
            "grid_area": null,
            "grid_auto_columns": null,
            "grid_auto_flow": null,
            "grid_auto_rows": null,
            "grid_column": null,
            "grid_gap": null,
            "grid_row": null,
            "grid_template_areas": null,
            "grid_template_columns": null,
            "grid_template_rows": null,
            "height": null,
            "justify_content": null,
            "justify_items": null,
            "left": null,
            "margin": null,
            "max_height": null,
            "max_width": null,
            "min_height": null,
            "min_width": null,
            "object_fit": null,
            "object_position": null,
            "order": null,
            "overflow": null,
            "overflow_x": null,
            "overflow_y": null,
            "padding": null,
            "right": null,
            "top": null,
            "visibility": null,
            "width": null
          }
        },
        "2548a824770d4efbab1c9c25de888cd3": {
          "model_module": "@jupyter-widgets/controls",
          "model_module_version": "1.5.0",
          "model_name": "DescriptionStyleModel",
          "state": {
            "_model_module": "@jupyter-widgets/controls",
            "_model_module_version": "1.5.0",
            "_model_name": "DescriptionStyleModel",
            "_view_count": null,
            "_view_module": "@jupyter-widgets/base",
            "_view_module_version": "1.2.0",
            "_view_name": "StyleView",
            "description_width": ""
          }
        },
        "291b009b0da549f198d6de139cbdcc7c": {
          "model_module": "@jupyter-widgets/base",
          "model_module_version": "1.2.0",
          "model_name": "LayoutModel",
          "state": {
            "_model_module": "@jupyter-widgets/base",
            "_model_module_version": "1.2.0",
            "_model_name": "LayoutModel",
            "_view_count": null,
            "_view_module": "@jupyter-widgets/base",
            "_view_module_version": "1.2.0",
            "_view_name": "LayoutView",
            "align_content": null,
            "align_items": null,
            "align_self": null,
            "border": null,
            "bottom": null,
            "display": null,
            "flex": null,
            "flex_flow": null,
            "grid_area": null,
            "grid_auto_columns": null,
            "grid_auto_flow": null,
            "grid_auto_rows": null,
            "grid_column": null,
            "grid_gap": null,
            "grid_row": null,
            "grid_template_areas": null,
            "grid_template_columns": null,
            "grid_template_rows": null,
            "height": null,
            "justify_content": null,
            "justify_items": null,
            "left": null,
            "margin": null,
            "max_height": null,
            "max_width": null,
            "min_height": null,
            "min_width": null,
            "object_fit": null,
            "object_position": null,
            "order": null,
            "overflow": null,
            "overflow_x": null,
            "overflow_y": null,
            "padding": null,
            "right": null,
            "top": null,
            "visibility": null,
            "width": null
          }
        },
        "29b601af2c424fa6a5ea61a9d05dd6c6": {
          "model_module": "@jupyter-widgets/controls",
          "model_module_version": "1.5.0",
          "model_name": "FloatProgressModel",
          "state": {
            "_dom_classes": [],
            "_model_module": "@jupyter-widgets/controls",
            "_model_module_version": "1.5.0",
            "_model_name": "FloatProgressModel",
            "_view_count": null,
            "_view_module": "@jupyter-widgets/controls",
            "_view_module_version": "1.5.0",
            "_view_name": "ProgressView",
            "bar_style": "success",
            "description": "",
            "description_tooltip": null,
            "layout": "IPY_MODEL_73c7f7fab6924f09bbe9e8ddfeffc40d",
            "max": 85,
            "min": 0,
            "orientation": "horizontal",
            "style": "IPY_MODEL_4fef31a069594d59b36c1d7eecd7c1df",
            "value": 85
          }
        },
        "2f3a8439d1434732ad93c4f4eb1ecc46": {
          "model_module": "@jupyter-widgets/controls",
          "model_module_version": "1.5.0",
          "model_name": "FloatProgressModel",
          "state": {
            "_dom_classes": [],
            "_model_module": "@jupyter-widgets/controls",
            "_model_module_version": "1.5.0",
            "_model_name": "FloatProgressModel",
            "_view_count": null,
            "_view_module": "@jupyter-widgets/controls",
            "_view_module_version": "1.5.0",
            "_view_name": "ProgressView",
            "bar_style": "success",
            "description": "",
            "description_tooltip": null,
            "layout": "IPY_MODEL_ff6e8f518ca94fdaac8972ea9b448133",
            "max": 715,
            "min": 0,
            "orientation": "horizontal",
            "style": "IPY_MODEL_11634cbe0bf243b5b1b95da28f4a79aa",
            "value": 715
          }
        },
        "31048afaa4f2421e9bff0bcbddf58f74": {
          "model_module": "@jupyter-widgets/base",
          "model_module_version": "1.2.0",
          "model_name": "LayoutModel",
          "state": {
            "_model_module": "@jupyter-widgets/base",
            "_model_module_version": "1.2.0",
            "_model_name": "LayoutModel",
            "_view_count": null,
            "_view_module": "@jupyter-widgets/base",
            "_view_module_version": "1.2.0",
            "_view_name": "LayoutView",
            "align_content": null,
            "align_items": null,
            "align_self": null,
            "border": null,
            "bottom": null,
            "display": null,
            "flex": null,
            "flex_flow": null,
            "grid_area": null,
            "grid_auto_columns": null,
            "grid_auto_flow": null,
            "grid_auto_rows": null,
            "grid_column": null,
            "grid_gap": null,
            "grid_row": null,
            "grid_template_areas": null,
            "grid_template_columns": null,
            "grid_template_rows": null,
            "height": null,
            "justify_content": null,
            "justify_items": null,
            "left": null,
            "margin": null,
            "max_height": null,
            "max_width": null,
            "min_height": null,
            "min_width": null,
            "object_fit": null,
            "object_position": null,
            "order": null,
            "overflow": null,
            "overflow_x": null,
            "overflow_y": null,
            "padding": null,
            "right": null,
            "top": null,
            "visibility": null,
            "width": null
          }
        },
        "3202cddf5a9d404083bbb1d683da25ea": {
          "model_module": "@jupyter-widgets/controls",
          "model_module_version": "1.5.0",
          "model_name": "DescriptionStyleModel",
          "state": {
            "_model_module": "@jupyter-widgets/controls",
            "_model_module_version": "1.5.0",
            "_model_name": "DescriptionStyleModel",
            "_view_count": null,
            "_view_module": "@jupyter-widgets/base",
            "_view_module_version": "1.2.0",
            "_view_name": "StyleView",
            "description_width": ""
          }
        },
        "396a6be6aa4b46c7bc2f549893872834": {
          "model_module": "@jupyter-widgets/controls",
          "model_module_version": "1.5.0",
          "model_name": "HTMLModel",
          "state": {
            "_dom_classes": [],
            "_model_module": "@jupyter-widgets/controls",
            "_model_module_version": "1.5.0",
            "_model_name": "HTMLModel",
            "_view_count": null,
            "_view_module": "@jupyter-widgets/controls",
            "_view_module_version": "1.5.0",
            "_view_name": "HTMLView",
            "description": "",
            "description_tooltip": null,
            "layout": "IPY_MODEL_291b009b0da549f198d6de139cbdcc7c",
            "placeholder": "​",
            "style": "IPY_MODEL_6f64ae7b479544cb909ce961dd6f927d",
            "value": "tokenizer_config.json: 100%"
          }
        },
        "396db6c4eed54585be10dd1bc4127334": {
          "model_module": "@jupyter-widgets/controls",
          "model_module_version": "1.5.0",
          "model_name": "DescriptionStyleModel",
          "state": {
            "_model_module": "@jupyter-widgets/controls",
            "_model_module_version": "1.5.0",
            "_model_name": "DescriptionStyleModel",
            "_view_count": null,
            "_view_module": "@jupyter-widgets/base",
            "_view_module_version": "1.2.0",
            "_view_name": "StyleView",
            "description_width": ""
          }
        },
        "42698c79483d4d91bf3dd2838ebe7788": {
          "model_module": "@jupyter-widgets/controls",
          "model_module_version": "1.5.0",
          "model_name": "DescriptionStyleModel",
          "state": {
            "_model_module": "@jupyter-widgets/controls",
            "_model_module_version": "1.5.0",
            "_model_name": "DescriptionStyleModel",
            "_view_count": null,
            "_view_module": "@jupyter-widgets/base",
            "_view_module_version": "1.2.0",
            "_view_name": "StyleView",
            "description_width": ""
          }
        },
        "44863b955c3b4acc8a9ab163819f6c55": {
          "model_module": "@jupyter-widgets/controls",
          "model_module_version": "1.5.0",
          "model_name": "HTMLModel",
          "state": {
            "_dom_classes": [],
            "_model_module": "@jupyter-widgets/controls",
            "_model_module_version": "1.5.0",
            "_model_name": "HTMLModel",
            "_view_count": null,
            "_view_module": "@jupyter-widgets/controls",
            "_view_module_version": "1.5.0",
            "_view_name": "HTMLView",
            "description": "",
            "description_tooltip": null,
            "layout": "IPY_MODEL_e38db632559e4d4eb2106ab7f8e29d0d",
            "placeholder": "​",
            "style": "IPY_MODEL_42698c79483d4d91bf3dd2838ebe7788",
            "value": " 85.0/85.0 [00:00&lt;00:00, 7.19kB/s]"
          }
        },
        "4492c9946a5344c489eeb303909891b9": {
          "model_module": "@jupyter-widgets/controls",
          "model_module_version": "1.5.0",
          "model_name": "DescriptionStyleModel",
          "state": {
            "_model_module": "@jupyter-widgets/controls",
            "_model_module_version": "1.5.0",
            "_model_name": "DescriptionStyleModel",
            "_view_count": null,
            "_view_module": "@jupyter-widgets/base",
            "_view_module_version": "1.2.0",
            "_view_name": "StyleView",
            "description_width": ""
          }
        },
        "45434f584e8f492dbfc33bc71d76e4b6": {
          "model_module": "@jupyter-widgets/controls",
          "model_module_version": "1.5.0",
          "model_name": "FloatProgressModel",
          "state": {
            "_dom_classes": [],
            "_model_module": "@jupyter-widgets/controls",
            "_model_module_version": "1.5.0",
            "_model_name": "FloatProgressModel",
            "_view_count": null,
            "_view_module": "@jupyter-widgets/controls",
            "_view_module_version": "1.5.0",
            "_view_name": "ProgressView",
            "bar_style": "success",
            "description": "",
            "description_tooltip": null,
            "layout": "IPY_MODEL_83b3554bc5e14fb090e1b86daf3f3f99",
            "max": 14500438,
            "min": 0,
            "orientation": "horizontal",
            "style": "IPY_MODEL_0d25b303318a4430b023023914cada6f",
            "value": 14500438
          }
        },
        "465dc0cfea484570ba376b71dad02cbd": {
          "model_module": "@jupyter-widgets/base",
          "model_module_version": "1.2.0",
          "model_name": "LayoutModel",
          "state": {
            "_model_module": "@jupyter-widgets/base",
            "_model_module_version": "1.2.0",
            "_model_name": "LayoutModel",
            "_view_count": null,
            "_view_module": "@jupyter-widgets/base",
            "_view_module_version": "1.2.0",
            "_view_name": "LayoutView",
            "align_content": null,
            "align_items": null,
            "align_self": null,
            "border": null,
            "bottom": null,
            "display": null,
            "flex": null,
            "flex_flow": null,
            "grid_area": null,
            "grid_auto_columns": null,
            "grid_auto_flow": null,
            "grid_auto_rows": null,
            "grid_column": null,
            "grid_gap": null,
            "grid_row": null,
            "grid_template_areas": null,
            "grid_template_columns": null,
            "grid_template_rows": null,
            "height": null,
            "justify_content": null,
            "justify_items": null,
            "left": null,
            "margin": null,
            "max_height": null,
            "max_width": null,
            "min_height": null,
            "min_width": null,
            "object_fit": null,
            "object_position": null,
            "order": null,
            "overflow": null,
            "overflow_x": null,
            "overflow_y": null,
            "padding": null,
            "right": null,
            "top": null,
            "visibility": null,
            "width": null
          }
        },
        "4f47ef7a1ad740f8af7588f07c03e31c": {
          "model_module": "@jupyter-widgets/controls",
          "model_module_version": "1.5.0",
          "model_name": "DescriptionStyleModel",
          "state": {
            "_model_module": "@jupyter-widgets/controls",
            "_model_module_version": "1.5.0",
            "_model_name": "DescriptionStyleModel",
            "_view_count": null,
            "_view_module": "@jupyter-widgets/base",
            "_view_module_version": "1.2.0",
            "_view_name": "StyleView",
            "description_width": ""
          }
        },
        "4fef31a069594d59b36c1d7eecd7c1df": {
          "model_module": "@jupyter-widgets/controls",
          "model_module_version": "1.5.0",
          "model_name": "ProgressStyleModel",
          "state": {
            "_model_module": "@jupyter-widgets/controls",
            "_model_module_version": "1.5.0",
            "_model_name": "ProgressStyleModel",
            "_view_count": null,
            "_view_module": "@jupyter-widgets/base",
            "_view_module_version": "1.2.0",
            "_view_name": "StyleView",
            "bar_color": null,
            "description_width": ""
          }
        },
        "559bf52e1ca144258a12e14e4c27a9b3": {
          "model_module": "@jupyter-widgets/controls",
          "model_module_version": "1.5.0",
          "model_name": "HTMLModel",
          "state": {
            "_dom_classes": [],
            "_model_module": "@jupyter-widgets/controls",
            "_model_module_version": "1.5.0",
            "_model_name": "HTMLModel",
            "_view_count": null,
            "_view_module": "@jupyter-widgets/controls",
            "_view_module_version": "1.5.0",
            "_view_name": "HTMLView",
            "description": "",
            "description_tooltip": null,
            "layout": "IPY_MODEL_eca00d8f4d5a4f41b6c3f201f56cd1c1",
            "placeholder": "​",
            "style": "IPY_MODEL_396db6c4eed54585be10dd1bc4127334",
            "value": "special_tokens_map.json: 100%"
          }
        },
        "567dc29ea3124bc98a7a762d32c998e6": {
          "model_module": "@jupyter-widgets/base",
          "model_module_version": "1.2.0",
          "model_name": "LayoutModel",
          "state": {
            "_model_module": "@jupyter-widgets/base",
            "_model_module_version": "1.2.0",
            "_model_name": "LayoutModel",
            "_view_count": null,
            "_view_module": "@jupyter-widgets/base",
            "_view_module_version": "1.2.0",
            "_view_name": "LayoutView",
            "align_content": null,
            "align_items": null,
            "align_self": null,
            "border": null,
            "bottom": null,
            "display": null,
            "flex": null,
            "flex_flow": null,
            "grid_area": null,
            "grid_auto_columns": null,
            "grid_auto_flow": null,
            "grid_auto_rows": null,
            "grid_column": null,
            "grid_gap": null,
            "grid_row": null,
            "grid_template_areas": null,
            "grid_template_columns": null,
            "grid_template_rows": null,
            "height": null,
            "justify_content": null,
            "justify_items": null,
            "left": null,
            "margin": null,
            "max_height": null,
            "max_width": null,
            "min_height": null,
            "min_width": null,
            "object_fit": null,
            "object_position": null,
            "order": null,
            "overflow": null,
            "overflow_x": null,
            "overflow_y": null,
            "padding": null,
            "right": null,
            "top": null,
            "visibility": null,
            "width": null
          }
        },
        "599f6a2d46dc498394eecd86debc612c": {
          "model_module": "@jupyter-widgets/base",
          "model_module_version": "1.2.0",
          "model_name": "LayoutModel",
          "state": {
            "_model_module": "@jupyter-widgets/base",
            "_model_module_version": "1.2.0",
            "_model_name": "LayoutModel",
            "_view_count": null,
            "_view_module": "@jupyter-widgets/base",
            "_view_module_version": "1.2.0",
            "_view_name": "LayoutView",
            "align_content": null,
            "align_items": null,
            "align_self": null,
            "border": null,
            "bottom": null,
            "display": null,
            "flex": null,
            "flex_flow": null,
            "grid_area": null,
            "grid_auto_columns": null,
            "grid_auto_flow": null,
            "grid_auto_rows": null,
            "grid_column": null,
            "grid_gap": null,
            "grid_row": null,
            "grid_template_areas": null,
            "grid_template_columns": null,
            "grid_template_rows": null,
            "height": null,
            "justify_content": null,
            "justify_items": null,
            "left": null,
            "margin": null,
            "max_height": null,
            "max_width": null,
            "min_height": null,
            "min_width": null,
            "object_fit": null,
            "object_position": null,
            "order": null,
            "overflow": null,
            "overflow_x": null,
            "overflow_y": null,
            "padding": null,
            "right": null,
            "top": null,
            "visibility": null,
            "width": null
          }
        },
        "679803ae1a624e96b41c852509cd9cdf": {
          "model_module": "@jupyter-widgets/base",
          "model_module_version": "1.2.0",
          "model_name": "LayoutModel",
          "state": {
            "_model_module": "@jupyter-widgets/base",
            "_model_module_version": "1.2.0",
            "_model_name": "LayoutModel",
            "_view_count": null,
            "_view_module": "@jupyter-widgets/base",
            "_view_module_version": "1.2.0",
            "_view_name": "LayoutView",
            "align_content": null,
            "align_items": null,
            "align_self": null,
            "border": null,
            "bottom": null,
            "display": null,
            "flex": null,
            "flex_flow": null,
            "grid_area": null,
            "grid_auto_columns": null,
            "grid_auto_flow": null,
            "grid_auto_rows": null,
            "grid_column": null,
            "grid_gap": null,
            "grid_row": null,
            "grid_template_areas": null,
            "grid_template_columns": null,
            "grid_template_rows": null,
            "height": null,
            "justify_content": null,
            "justify_items": null,
            "left": null,
            "margin": null,
            "max_height": null,
            "max_width": null,
            "min_height": null,
            "min_width": null,
            "object_fit": null,
            "object_position": null,
            "order": null,
            "overflow": null,
            "overflow_x": null,
            "overflow_y": null,
            "padding": null,
            "right": null,
            "top": null,
            "visibility": null,
            "width": null
          }
        },
        "692dc76436f545858872ada77df26f9c": {
          "model_module": "@jupyter-widgets/controls",
          "model_module_version": "1.5.0",
          "model_name": "HBoxModel",
          "state": {
            "_dom_classes": [],
            "_model_module": "@jupyter-widgets/controls",
            "_model_module_version": "1.5.0",
            "_model_name": "HBoxModel",
            "_view_count": null,
            "_view_module": "@jupyter-widgets/controls",
            "_view_module_version": "1.5.0",
            "_view_name": "HBoxView",
            "box_style": "",
            "children": [
              "IPY_MODEL_8fd479d988ab486fa61e4bba9f6746f8",
              "IPY_MODEL_2f3a8439d1434732ad93c4f4eb1ecc46",
              "IPY_MODEL_d6d889b1e47e4a1287a6c6678505be78"
            ],
            "layout": "IPY_MODEL_8dbb45ff688148cc95912390398e25b1"
          }
        },
        "697383af84fc4db1b496cbda6266a9d7": {
          "model_module": "@jupyter-widgets/controls",
          "model_module_version": "1.5.0",
          "model_name": "HBoxModel",
          "state": {
            "_dom_classes": [],
            "_model_module": "@jupyter-widgets/controls",
            "_model_module_version": "1.5.0",
            "_model_name": "HBoxModel",
            "_view_count": null,
            "_view_module": "@jupyter-widgets/controls",
            "_view_module_version": "1.5.0",
            "_view_name": "HBoxView",
            "box_style": "",
            "children": [
              "IPY_MODEL_bb19a15c1bdd470eb463c1fa6e18a3c8",
              "IPY_MODEL_45434f584e8f492dbfc33bc71d76e4b6",
              "IPY_MODEL_1aeb064ce8a34d389bc451bd915174f4"
            ],
            "layout": "IPY_MODEL_599f6a2d46dc498394eecd86debc612c"
          }
        },
        "6e67a08f7ad64f1e8b918a02d36f8343": {
          "model_module": "@jupyter-widgets/controls",
          "model_module_version": "1.5.0",
          "model_name": "DescriptionStyleModel",
          "state": {
            "_model_module": "@jupyter-widgets/controls",
            "_model_module_version": "1.5.0",
            "_model_name": "DescriptionStyleModel",
            "_view_count": null,
            "_view_module": "@jupyter-widgets/base",
            "_view_module_version": "1.2.0",
            "_view_name": "StyleView",
            "description_width": ""
          }
        },
        "6f64ae7b479544cb909ce961dd6f927d": {
          "model_module": "@jupyter-widgets/controls",
          "model_module_version": "1.5.0",
          "model_name": "DescriptionStyleModel",
          "state": {
            "_model_module": "@jupyter-widgets/controls",
            "_model_module_version": "1.5.0",
            "_model_name": "DescriptionStyleModel",
            "_view_count": null,
            "_view_module": "@jupyter-widgets/base",
            "_view_module_version": "1.2.0",
            "_view_name": "StyleView",
            "description_width": ""
          }
        },
        "70ef2185711046cdb6133fb5f8d85e89": {
          "model_module": "@jupyter-widgets/controls",
          "model_module_version": "1.5.0",
          "model_name": "ProgressStyleModel",
          "state": {
            "_model_module": "@jupyter-widgets/controls",
            "_model_module_version": "1.5.0",
            "_model_name": "ProgressStyleModel",
            "_view_count": null,
            "_view_module": "@jupyter-widgets/base",
            "_view_module_version": "1.2.0",
            "_view_name": "StyleView",
            "bar_color": null,
            "description_width": ""
          }
        },
        "73c7f7fab6924f09bbe9e8ddfeffc40d": {
          "model_module": "@jupyter-widgets/base",
          "model_module_version": "1.2.0",
          "model_name": "LayoutModel",
          "state": {
            "_model_module": "@jupyter-widgets/base",
            "_model_module_version": "1.2.0",
            "_model_name": "LayoutModel",
            "_view_count": null,
            "_view_module": "@jupyter-widgets/base",
            "_view_module_version": "1.2.0",
            "_view_name": "LayoutView",
            "align_content": null,
            "align_items": null,
            "align_self": null,
            "border": null,
            "bottom": null,
            "display": null,
            "flex": null,
            "flex_flow": null,
            "grid_area": null,
            "grid_auto_columns": null,
            "grid_auto_flow": null,
            "grid_auto_rows": null,
            "grid_column": null,
            "grid_gap": null,
            "grid_row": null,
            "grid_template_areas": null,
            "grid_template_columns": null,
            "grid_template_rows": null,
            "height": null,
            "justify_content": null,
            "justify_items": null,
            "left": null,
            "margin": null,
            "max_height": null,
            "max_width": null,
            "min_height": null,
            "min_width": null,
            "object_fit": null,
            "object_position": null,
            "order": null,
            "overflow": null,
            "overflow_x": null,
            "overflow_y": null,
            "padding": null,
            "right": null,
            "top": null,
            "visibility": null,
            "width": null
          }
        },
        "8194f9258aa742988fc79c85860a77c5": {
          "model_module": "@jupyter-widgets/base",
          "model_module_version": "1.2.0",
          "model_name": "LayoutModel",
          "state": {
            "_model_module": "@jupyter-widgets/base",
            "_model_module_version": "1.2.0",
            "_model_name": "LayoutModel",
            "_view_count": null,
            "_view_module": "@jupyter-widgets/base",
            "_view_module_version": "1.2.0",
            "_view_name": "LayoutView",
            "align_content": null,
            "align_items": null,
            "align_self": null,
            "border": null,
            "bottom": null,
            "display": null,
            "flex": null,
            "flex_flow": null,
            "grid_area": null,
            "grid_auto_columns": null,
            "grid_auto_flow": null,
            "grid_auto_rows": null,
            "grid_column": null,
            "grid_gap": null,
            "grid_row": null,
            "grid_template_areas": null,
            "grid_template_columns": null,
            "grid_template_rows": null,
            "height": null,
            "justify_content": null,
            "justify_items": null,
            "left": null,
            "margin": null,
            "max_height": null,
            "max_width": null,
            "min_height": null,
            "min_width": null,
            "object_fit": null,
            "object_position": null,
            "order": null,
            "overflow": null,
            "overflow_x": null,
            "overflow_y": null,
            "padding": null,
            "right": null,
            "top": null,
            "visibility": null,
            "width": null
          }
        },
        "83b3554bc5e14fb090e1b86daf3f3f99": {
          "model_module": "@jupyter-widgets/base",
          "model_module_version": "1.2.0",
          "model_name": "LayoutModel",
          "state": {
            "_model_module": "@jupyter-widgets/base",
            "_model_module_version": "1.2.0",
            "_model_name": "LayoutModel",
            "_view_count": null,
            "_view_module": "@jupyter-widgets/base",
            "_view_module_version": "1.2.0",
            "_view_name": "LayoutView",
            "align_content": null,
            "align_items": null,
            "align_self": null,
            "border": null,
            "bottom": null,
            "display": null,
            "flex": null,
            "flex_flow": null,
            "grid_area": null,
            "grid_auto_columns": null,
            "grid_auto_flow": null,
            "grid_auto_rows": null,
            "grid_column": null,
            "grid_gap": null,
            "grid_row": null,
            "grid_template_areas": null,
            "grid_template_columns": null,
            "grid_template_rows": null,
            "height": null,
            "justify_content": null,
            "justify_items": null,
            "left": null,
            "margin": null,
            "max_height": null,
            "max_width": null,
            "min_height": null,
            "min_width": null,
            "object_fit": null,
            "object_position": null,
            "order": null,
            "overflow": null,
            "overflow_x": null,
            "overflow_y": null,
            "padding": null,
            "right": null,
            "top": null,
            "visibility": null,
            "width": null
          }
        },
        "8dbb45ff688148cc95912390398e25b1": {
          "model_module": "@jupyter-widgets/base",
          "model_module_version": "1.2.0",
          "model_name": "LayoutModel",
          "state": {
            "_model_module": "@jupyter-widgets/base",
            "_model_module_version": "1.2.0",
            "_model_name": "LayoutModel",
            "_view_count": null,
            "_view_module": "@jupyter-widgets/base",
            "_view_module_version": "1.2.0",
            "_view_name": "LayoutView",
            "align_content": null,
            "align_items": null,
            "align_self": null,
            "border": null,
            "bottom": null,
            "display": null,
            "flex": null,
            "flex_flow": null,
            "grid_area": null,
            "grid_auto_columns": null,
            "grid_auto_flow": null,
            "grid_auto_rows": null,
            "grid_column": null,
            "grid_gap": null,
            "grid_row": null,
            "grid_template_areas": null,
            "grid_template_columns": null,
            "grid_template_rows": null,
            "height": null,
            "justify_content": null,
            "justify_items": null,
            "left": null,
            "margin": null,
            "max_height": null,
            "max_width": null,
            "min_height": null,
            "min_width": null,
            "object_fit": null,
            "object_position": null,
            "order": null,
            "overflow": null,
            "overflow_x": null,
            "overflow_y": null,
            "padding": null,
            "right": null,
            "top": null,
            "visibility": null,
            "width": null
          }
        },
        "8fd479d988ab486fa61e4bba9f6746f8": {
          "model_module": "@jupyter-widgets/controls",
          "model_module_version": "1.5.0",
          "model_name": "HTMLModel",
          "state": {
            "_dom_classes": [],
            "_model_module": "@jupyter-widgets/controls",
            "_model_module_version": "1.5.0",
            "_model_name": "HTMLModel",
            "_view_count": null,
            "_view_module": "@jupyter-widgets/controls",
            "_view_module_version": "1.5.0",
            "_view_name": "HTMLView",
            "description": "",
            "description_tooltip": null,
            "layout": "IPY_MODEL_31048afaa4f2421e9bff0bcbddf58f74",
            "placeholder": "​",
            "style": "IPY_MODEL_6e67a08f7ad64f1e8b918a02d36f8343",
            "value": "config.json: 100%"
          }
        },
        "94638f2ee1a8423286593c055969c357": {
          "model_module": "@jupyter-widgets/controls",
          "model_module_version": "1.5.0",
          "model_name": "ProgressStyleModel",
          "state": {
            "_model_module": "@jupyter-widgets/controls",
            "_model_module_version": "1.5.0",
            "_model_name": "ProgressStyleModel",
            "_view_count": null,
            "_view_module": "@jupyter-widgets/base",
            "_view_module_version": "1.2.0",
            "_view_name": "StyleView",
            "bar_color": null,
            "description_width": ""
          }
        },
        "a98661db14b94cada594095db1771c7e": {
          "model_module": "@jupyter-widgets/controls",
          "model_module_version": "1.5.0",
          "model_name": "HBoxModel",
          "state": {
            "_dom_classes": [],
            "_model_module": "@jupyter-widgets/controls",
            "_model_module_version": "1.5.0",
            "_model_name": "HBoxModel",
            "_view_count": null,
            "_view_module": "@jupyter-widgets/controls",
            "_view_module_version": "1.5.0",
            "_view_name": "HBoxView",
            "box_style": "",
            "children": [
              "IPY_MODEL_396a6be6aa4b46c7bc2f549893872834",
              "IPY_MODEL_d06950b7dbf14c06a2ffbb24520f659e",
              "IPY_MODEL_f2489a23662d413aa4868bd1c29ea250"
            ],
            "layout": "IPY_MODEL_105607f12ebd464faf2b09d174db191c"
          }
        },
        "aad6fe526aab4e30a5d66e7c269f465f": {
          "model_module": "@jupyter-widgets/controls",
          "model_module_version": "1.5.0",
          "model_name": "DescriptionStyleModel",
          "state": {
            "_model_module": "@jupyter-widgets/controls",
            "_model_module_version": "1.5.0",
            "_model_name": "DescriptionStyleModel",
            "_view_count": null,
            "_view_module": "@jupyter-widgets/base",
            "_view_module_version": "1.2.0",
            "_view_name": "StyleView",
            "description_width": ""
          }
        },
        "b115e2a453844dc2ae3cb23e14e833a4": {
          "model_module": "@jupyter-widgets/base",
          "model_module_version": "1.2.0",
          "model_name": "LayoutModel",
          "state": {
            "_model_module": "@jupyter-widgets/base",
            "_model_module_version": "1.2.0",
            "_model_name": "LayoutModel",
            "_view_count": null,
            "_view_module": "@jupyter-widgets/base",
            "_view_module_version": "1.2.0",
            "_view_name": "LayoutView",
            "align_content": null,
            "align_items": null,
            "align_self": null,
            "border": null,
            "bottom": null,
            "display": null,
            "flex": null,
            "flex_flow": null,
            "grid_area": null,
            "grid_auto_columns": null,
            "grid_auto_flow": null,
            "grid_auto_rows": null,
            "grid_column": null,
            "grid_gap": null,
            "grid_row": null,
            "grid_template_areas": null,
            "grid_template_columns": null,
            "grid_template_rows": null,
            "height": null,
            "justify_content": null,
            "justify_items": null,
            "left": null,
            "margin": null,
            "max_height": null,
            "max_width": null,
            "min_height": null,
            "min_width": null,
            "object_fit": null,
            "object_position": null,
            "order": null,
            "overflow": null,
            "overflow_x": null,
            "overflow_y": null,
            "padding": null,
            "right": null,
            "top": null,
            "visibility": null,
            "width": null
          }
        },
        "b9c71c78ba2e4fbcbca74024e0198c7f": {
          "model_module": "@jupyter-widgets/controls",
          "model_module_version": "1.5.0",
          "model_name": "HBoxModel",
          "state": {
            "_dom_classes": [],
            "_model_module": "@jupyter-widgets/controls",
            "_model_module_version": "1.5.0",
            "_model_name": "HBoxModel",
            "_view_count": null,
            "_view_module": "@jupyter-widgets/controls",
            "_view_module_version": "1.5.0",
            "_view_name": "HBoxView",
            "box_style": "",
            "children": [
              "IPY_MODEL_559bf52e1ca144258a12e14e4c27a9b3",
              "IPY_MODEL_29b601af2c424fa6a5ea61a9d05dd6c6",
              "IPY_MODEL_44863b955c3b4acc8a9ab163819f6c55"
            ],
            "layout": "IPY_MODEL_b115e2a453844dc2ae3cb23e14e833a4"
          }
        },
        "bad7d1bace99437c95f2fb3e8615fc49": {
          "model_module": "@jupyter-widgets/base",
          "model_module_version": "1.2.0",
          "model_name": "LayoutModel",
          "state": {
            "_model_module": "@jupyter-widgets/base",
            "_model_module_version": "1.2.0",
            "_model_name": "LayoutModel",
            "_view_count": null,
            "_view_module": "@jupyter-widgets/base",
            "_view_module_version": "1.2.0",
            "_view_name": "LayoutView",
            "align_content": null,
            "align_items": null,
            "align_self": null,
            "border": null,
            "bottom": null,
            "display": null,
            "flex": null,
            "flex_flow": null,
            "grid_area": null,
            "grid_auto_columns": null,
            "grid_auto_flow": null,
            "grid_auto_rows": null,
            "grid_column": null,
            "grid_gap": null,
            "grid_row": null,
            "grid_template_areas": null,
            "grid_template_columns": null,
            "grid_template_rows": null,
            "height": null,
            "justify_content": null,
            "justify_items": null,
            "left": null,
            "margin": null,
            "max_height": null,
            "max_width": null,
            "min_height": null,
            "min_width": null,
            "object_fit": null,
            "object_position": null,
            "order": null,
            "overflow": null,
            "overflow_x": null,
            "overflow_y": null,
            "padding": null,
            "right": null,
            "top": null,
            "visibility": null,
            "width": null
          }
        },
        "bb19a15c1bdd470eb463c1fa6e18a3c8": {
          "model_module": "@jupyter-widgets/controls",
          "model_module_version": "1.5.0",
          "model_name": "HTMLModel",
          "state": {
            "_dom_classes": [],
            "_model_module": "@jupyter-widgets/controls",
            "_model_module_version": "1.5.0",
            "_model_name": "HTMLModel",
            "_view_count": null,
            "_view_module": "@jupyter-widgets/controls",
            "_view_module_version": "1.5.0",
            "_view_name": "HTMLView",
            "description": "",
            "description_tooltip": null,
            "layout": "IPY_MODEL_eed3a816511841bb8006a04f2501bed0",
            "placeholder": "​",
            "style": "IPY_MODEL_aad6fe526aab4e30a5d66e7c269f465f",
            "value": "tokenizer.json: 100%"
          }
        },
        "bc4cb99688a2433fab0b84baa2e6d8c4": {
          "model_module": "@jupyter-widgets/controls",
          "model_module_version": "1.5.0",
          "model_name": "FloatProgressModel",
          "state": {
            "_dom_classes": [],
            "_model_module": "@jupyter-widgets/controls",
            "_model_module_version": "1.5.0",
            "_model_name": "FloatProgressModel",
            "_view_count": null,
            "_view_module": "@jupyter-widgets/controls",
            "_view_module_version": "1.5.0",
            "_view_name": "ProgressView",
            "bar_style": "success",
            "description": "",
            "description_tooltip": null,
            "layout": "IPY_MODEL_679803ae1a624e96b41c852509cd9cdf",
            "max": 3444848602,
            "min": 0,
            "orientation": "horizontal",
            "style": "IPY_MODEL_94638f2ee1a8423286593c055969c357",
            "value": 3444848602
          }
        },
        "c6467957c1aa40779f3d5d012a53bc19": {
          "model_module": "@jupyter-widgets/controls",
          "model_module_version": "1.5.0",
          "model_name": "HBoxModel",
          "state": {
            "_dom_classes": [],
            "_model_module": "@jupyter-widgets/controls",
            "_model_module_version": "1.5.0",
            "_model_name": "HBoxModel",
            "_view_count": null,
            "_view_module": "@jupyter-widgets/controls",
            "_view_module_version": "1.5.0",
            "_view_name": "HBoxView",
            "box_style": "",
            "children": [
              "IPY_MODEL_0b485738c3f84328a9b7857640dcfafc",
              "IPY_MODEL_bc4cb99688a2433fab0b84baa2e6d8c4",
              "IPY_MODEL_e0d16d5d30ef44db92e63b1a7069fd2b"
            ],
            "layout": "IPY_MODEL_bad7d1bace99437c95f2fb3e8615fc49"
          }
        },
        "d06950b7dbf14c06a2ffbb24520f659e": {
          "model_module": "@jupyter-widgets/controls",
          "model_module_version": "1.5.0",
          "model_name": "FloatProgressModel",
          "state": {
            "_dom_classes": [],
            "_model_module": "@jupyter-widgets/controls",
            "_model_module_version": "1.5.0",
            "_model_name": "FloatProgressModel",
            "_view_count": null,
            "_view_module": "@jupyter-widgets/controls",
            "_view_module_version": "1.5.0",
            "_view_name": "ProgressView",
            "bar_style": "success",
            "description": "",
            "description_tooltip": null,
            "layout": "IPY_MODEL_11ecada656c2403a968eee922e50454f",
            "max": 222,
            "min": 0,
            "orientation": "horizontal",
            "style": "IPY_MODEL_70ef2185711046cdb6133fb5f8d85e89",
            "value": 222
          }
        },
        "d6d889b1e47e4a1287a6c6678505be78": {
          "model_module": "@jupyter-widgets/controls",
          "model_module_version": "1.5.0",
          "model_name": "HTMLModel",
          "state": {
            "_dom_classes": [],
            "_model_module": "@jupyter-widgets/controls",
            "_model_module_version": "1.5.0",
            "_model_name": "HTMLModel",
            "_view_count": null,
            "_view_module": "@jupyter-widgets/controls",
            "_view_module_version": "1.5.0",
            "_view_name": "HTMLView",
            "description": "",
            "description_tooltip": null,
            "layout": "IPY_MODEL_2548383ef98d49e38a332b880f06fbfb",
            "placeholder": "​",
            "style": "IPY_MODEL_4492c9946a5344c489eeb303909891b9",
            "value": " 715/715 [00:00&lt;00:00, 78.6kB/s]"
          }
        },
        "de5615718750411b82f7bccef36f9de6": {
          "model_module": "@jupyter-widgets/base",
          "model_module_version": "1.2.0",
          "model_name": "LayoutModel",
          "state": {
            "_model_module": "@jupyter-widgets/base",
            "_model_module_version": "1.2.0",
            "_model_name": "LayoutModel",
            "_view_count": null,
            "_view_module": "@jupyter-widgets/base",
            "_view_module_version": "1.2.0",
            "_view_name": "LayoutView",
            "align_content": null,
            "align_items": null,
            "align_self": null,
            "border": null,
            "bottom": null,
            "display": null,
            "flex": null,
            "flex_flow": null,
            "grid_area": null,
            "grid_auto_columns": null,
            "grid_auto_flow": null,
            "grid_auto_rows": null,
            "grid_column": null,
            "grid_gap": null,
            "grid_row": null,
            "grid_template_areas": null,
            "grid_template_columns": null,
            "grid_template_rows": null,
            "height": null,
            "justify_content": null,
            "justify_items": null,
            "left": null,
            "margin": null,
            "max_height": null,
            "max_width": null,
            "min_height": null,
            "min_width": null,
            "object_fit": null,
            "object_position": null,
            "order": null,
            "overflow": null,
            "overflow_x": null,
            "overflow_y": null,
            "padding": null,
            "right": null,
            "top": null,
            "visibility": null,
            "width": null
          }
        },
        "e0d16d5d30ef44db92e63b1a7069fd2b": {
          "model_module": "@jupyter-widgets/controls",
          "model_module_version": "1.5.0",
          "model_name": "HTMLModel",
          "state": {
            "_dom_classes": [],
            "_model_module": "@jupyter-widgets/controls",
            "_model_module_version": "1.5.0",
            "_model_name": "HTMLModel",
            "_view_count": null,
            "_view_module": "@jupyter-widgets/controls",
            "_view_module_version": "1.5.0",
            "_view_name": "HTMLView",
            "description": "",
            "description_tooltip": null,
            "layout": "IPY_MODEL_465dc0cfea484570ba376b71dad02cbd",
            "placeholder": "​",
            "style": "IPY_MODEL_3202cddf5a9d404083bbb1d683da25ea",
            "value": " 3.44G/3.44G [00:33&lt;00:00, 35.6MB/s]"
          }
        },
        "e2b147c9ee6d48db9d4e30b17c105ae4": {
          "model_module": "@jupyter-widgets/controls",
          "model_module_version": "1.5.0",
          "model_name": "DescriptionStyleModel",
          "state": {
            "_model_module": "@jupyter-widgets/controls",
            "_model_module_version": "1.5.0",
            "_model_name": "DescriptionStyleModel",
            "_view_count": null,
            "_view_module": "@jupyter-widgets/base",
            "_view_module_version": "1.2.0",
            "_view_name": "StyleView",
            "description_width": ""
          }
        },
        "e38db632559e4d4eb2106ab7f8e29d0d": {
          "model_module": "@jupyter-widgets/base",
          "model_module_version": "1.2.0",
          "model_name": "LayoutModel",
          "state": {
            "_model_module": "@jupyter-widgets/base",
            "_model_module_version": "1.2.0",
            "_model_name": "LayoutModel",
            "_view_count": null,
            "_view_module": "@jupyter-widgets/base",
            "_view_module_version": "1.2.0",
            "_view_name": "LayoutView",
            "align_content": null,
            "align_items": null,
            "align_self": null,
            "border": null,
            "bottom": null,
            "display": null,
            "flex": null,
            "flex_flow": null,
            "grid_area": null,
            "grid_auto_columns": null,
            "grid_auto_flow": null,
            "grid_auto_rows": null,
            "grid_column": null,
            "grid_gap": null,
            "grid_row": null,
            "grid_template_areas": null,
            "grid_template_columns": null,
            "grid_template_rows": null,
            "height": null,
            "justify_content": null,
            "justify_items": null,
            "left": null,
            "margin": null,
            "max_height": null,
            "max_width": null,
            "min_height": null,
            "min_width": null,
            "object_fit": null,
            "object_position": null,
            "order": null,
            "overflow": null,
            "overflow_x": null,
            "overflow_y": null,
            "padding": null,
            "right": null,
            "top": null,
            "visibility": null,
            "width": null
          }
        },
        "eca00d8f4d5a4f41b6c3f201f56cd1c1": {
          "model_module": "@jupyter-widgets/base",
          "model_module_version": "1.2.0",
          "model_name": "LayoutModel",
          "state": {
            "_model_module": "@jupyter-widgets/base",
            "_model_module_version": "1.2.0",
            "_model_name": "LayoutModel",
            "_view_count": null,
            "_view_module": "@jupyter-widgets/base",
            "_view_module_version": "1.2.0",
            "_view_name": "LayoutView",
            "align_content": null,
            "align_items": null,
            "align_self": null,
            "border": null,
            "bottom": null,
            "display": null,
            "flex": null,
            "flex_flow": null,
            "grid_area": null,
            "grid_auto_columns": null,
            "grid_auto_flow": null,
            "grid_auto_rows": null,
            "grid_column": null,
            "grid_gap": null,
            "grid_row": null,
            "grid_template_areas": null,
            "grid_template_columns": null,
            "grid_template_rows": null,
            "height": null,
            "justify_content": null,
            "justify_items": null,
            "left": null,
            "margin": null,
            "max_height": null,
            "max_width": null,
            "min_height": null,
            "min_width": null,
            "object_fit": null,
            "object_position": null,
            "order": null,
            "overflow": null,
            "overflow_x": null,
            "overflow_y": null,
            "padding": null,
            "right": null,
            "top": null,
            "visibility": null,
            "width": null
          }
        },
        "eed3a816511841bb8006a04f2501bed0": {
          "model_module": "@jupyter-widgets/base",
          "model_module_version": "1.2.0",
          "model_name": "LayoutModel",
          "state": {
            "_model_module": "@jupyter-widgets/base",
            "_model_module_version": "1.2.0",
            "_model_name": "LayoutModel",
            "_view_count": null,
            "_view_module": "@jupyter-widgets/base",
            "_view_module_version": "1.2.0",
            "_view_name": "LayoutView",
            "align_content": null,
            "align_items": null,
            "align_self": null,
            "border": null,
            "bottom": null,
            "display": null,
            "flex": null,
            "flex_flow": null,
            "grid_area": null,
            "grid_auto_columns": null,
            "grid_auto_flow": null,
            "grid_auto_rows": null,
            "grid_column": null,
            "grid_gap": null,
            "grid_row": null,
            "grid_template_areas": null,
            "grid_template_columns": null,
            "grid_template_rows": null,
            "height": null,
            "justify_content": null,
            "justify_items": null,
            "left": null,
            "margin": null,
            "max_height": null,
            "max_width": null,
            "min_height": null,
            "min_width": null,
            "object_fit": null,
            "object_position": null,
            "order": null,
            "overflow": null,
            "overflow_x": null,
            "overflow_y": null,
            "padding": null,
            "right": null,
            "top": null,
            "visibility": null,
            "width": null
          }
        },
        "f2489a23662d413aa4868bd1c29ea250": {
          "model_module": "@jupyter-widgets/controls",
          "model_module_version": "1.5.0",
          "model_name": "HTMLModel",
          "state": {
            "_dom_classes": [],
            "_model_module": "@jupyter-widgets/controls",
            "_model_module_version": "1.5.0",
            "_model_name": "HTMLModel",
            "_view_count": null,
            "_view_module": "@jupyter-widgets/controls",
            "_view_module_version": "1.5.0",
            "_view_name": "HTMLView",
            "description": "",
            "description_tooltip": null,
            "layout": "IPY_MODEL_567dc29ea3124bc98a7a762d32c998e6",
            "placeholder": "​",
            "style": "IPY_MODEL_2548a824770d4efbab1c9c25de888cd3",
            "value": " 222/222 [00:00&lt;00:00, 21.6kB/s]"
          }
        },
        "ff6e8f518ca94fdaac8972ea9b448133": {
          "model_module": "@jupyter-widgets/base",
          "model_module_version": "1.2.0",
          "model_name": "LayoutModel",
          "state": {
            "_model_module": "@jupyter-widgets/base",
            "_model_module_version": "1.2.0",
            "_model_name": "LayoutModel",
            "_view_count": null,
            "_view_module": "@jupyter-widgets/base",
            "_view_module_version": "1.2.0",
            "_view_name": "LayoutView",
            "align_content": null,
            "align_items": null,
            "align_self": null,
            "border": null,
            "bottom": null,
            "display": null,
            "flex": null,
            "flex_flow": null,
            "grid_area": null,
            "grid_auto_columns": null,
            "grid_auto_flow": null,
            "grid_auto_rows": null,
            "grid_column": null,
            "grid_gap": null,
            "grid_row": null,
            "grid_template_areas": null,
            "grid_template_columns": null,
            "grid_template_rows": null,
            "height": null,
            "justify_content": null,
            "justify_items": null,
            "left": null,
            "margin": null,
            "max_height": null,
            "max_width": null,
            "min_height": null,
            "min_width": null,
            "object_fit": null,
            "object_position": null,
            "order": null,
            "overflow": null,
            "overflow_x": null,
            "overflow_y": null,
            "padding": null,
            "right": null,
            "top": null,
            "visibility": null,
            "width": null
          }
        }
      }
    }
  },
  "nbformat": 4,
  "nbformat_minor": 5
}