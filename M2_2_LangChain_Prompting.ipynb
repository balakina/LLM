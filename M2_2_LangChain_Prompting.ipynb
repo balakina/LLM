{
  "cells": [
    {
      "cell_type": "markdown",
      "id": "ac2cfafa",
      "metadata": {
        "tags": [],
        "id": "ac2cfafa"
      },
      "source": [
        "# <center id=\"c1\"><h2> 🦜🔗 `LangChain` - упрости работу с LLM! </h2>\n",
        "\n",
        "<img src=\"https://github.com/a-milenkin/LLM_practical_course/blob/main/images/LangChain.webp?raw=1\" align=\"right\" width=\"400\" height=\"500\" style=\"border-radius: 0.75rem;\" alt=\"LangChain Image\" />\n",
        "\n",
        "## Оглавление ноутбука:\n",
        "\n",
        " * <a href=\"#c1\"> 🦜🔗 О фрэймворке `LangChain`  </a>\n",
        " * <a href=\"#c2\"> 🧾 Prompt template - формируй промпт с кайфом! </a>\n",
        " * <a href=\"#look1\"> 🗣 ChatPromptTemplate и техника Chain of Tought (COT) ⛓  </a>\n",
        " * <a href=\"#check1\"> 📸 FewShotPromptTemplate </a>\n",
        " * <a href=\"#check2\"> 📏 LongBasedExampleSelector </a>\n",
        " * <a href=\"#look2\"> 🤷‍ Output parsers - приведи выход модели к нужному виду!</a>\n",
        " * <a href=\"#look2\"> 📤 Парсер заданных полей в ответе  </a>\n",
        " * <a href=\"#check4\"> ▶️ ⏸ ⏯ StructuredOutputParser - разбираем выходную строку из LLM в словарь Python. </a>\n",
        "* <a href=\"#6\">🧸 Выводы и заключения</a>"
      ]
    },
    {
      "cell_type": "markdown",
      "id": "ec059397-8d9f-4dcf-9874-64e6265850f7",
      "metadata": {
        "id": "ec059397-8d9f-4dcf-9874-64e6265850f7"
      },
      "source": [
        "<div class=\"alert alert-info\" style=\"padding:10px; border-width:3px; border-color:#efe6ef; border-style:solid; border-radius:6px\">\n",
        "    \n",
        "* [`LangChain`](https://docs.langchain.com/docs/) - фреймворк для работы с языковыми моделями, позволяющий сильно ускорить процесс создания вашего AI продукта. Был представлен в октябре 2022 года, с тех пор продолжает развиваться и собирать армию пользователей.\n",
        "* На данный момент поддерживаются более 50 форматов и источников откуда можно считывать данные, SQL и NoSQL базы данных, веб-поисковики Goggle и Bing, хранилища Amazon, Google, and Microsoft Azure.\n",
        "* Работает по принципу **LEGO** - из набора деталек, предоставленных разработчиками, можно легко собрать как продуктовую тележку, так и гоночный болид.   <br>\n"
      ]
    },
    {
      "cell_type": "markdown",
      "id": "5da6427b-3f78-4fe4-9c04-7abec42ddd8c",
      "metadata": {
        "id": "5da6427b-3f78-4fe4-9c04-7abec42ddd8c"
      },
      "source": [
        "## **Основные компоненты:**\n",
        "\n",
        "<div class=\"alert alert-custom\" style=\"padding:10px; border-width:3px; border-color:#efe6ef; border-style:solid; border-radius:6px\">\n",
        "\n",
        "\n",
        "* **🤖 Модели (Models)** : **универсальный интерфейс** для работы с языковыми моделями. Можно использовать API OpenAI, HuggingFace, Anthropic и других. С локальными моделями тоже.\n",
        "* **📝 Промпты (Prompts)**: LangChain предоставляет ряд функций для работы с промптами – представление промпта согласно типу модели, **формирование шаблона** на основе внешних данных, форматирование вывода модели.\n",
        "* **🗑 Индексы (Indexs)**: индексы структурируют документы для оптимального взаимодействия с языковыми моделями. Модуль включает функции для работы с документами, индексами и их использованием в цепочках. В том числе **поддерживает индексы, основанные на векторных базах данных**.\n",
        "\n",
        "* **🧠 Память (Memory)**: позволяет сохраняет состояния в цепочках. Например, для создания чат-бота можно **сохранять предыдущие вопросы и ответы**. Существует два типа памяти: краткосрочная и долгосрочная. Краткосрочная память передает данные в рамках одного разговора. Долгосрочная память отвечает за доступ и обновление информации между разговорами.\n",
        "\n",
        "* **🔗 Цепочки (Chains)**: С помощью цепочек можно объединять разные языковые модели и запросы в **многоступенчатые конвееры**. Цепочки могут быть применены для разговоров, ответов на вопросы, суммаризаций и других сценариев.\n",
        "\n",
        "* **🥷 Агенты (Agents)**: С помощью агентов модель может получить **доступ к различным источникам информации**, таким как Google, Wikipedia итд."
      ]
    },
    {
      "cell_type": "markdown",
      "id": "37380fb6-81bf-43c4-bb13-8929fa2ce61c",
      "metadata": {
        "id": "37380fb6-81bf-43c4-bb13-8929fa2ce61c"
      },
      "source": [
        "<div style=\"background-color:#fff0ff; padding:10px; border-width:3px; border-color:#efe6ef; border-style:solid; border-radius:6px\">\n",
        "    \n",
        "**🦜 Причём тут попугаи?**: Большие языковые модели часто сравнивают с говорящими попугаями, которые могут произносить текст как люди, но не понимают смысла произнесенного."
      ]
    },
    {
      "cell_type": "markdown",
      "id": "8d75fe56-8f36-4526-bd72-4df8085cfeed",
      "metadata": {
        "id": "8d75fe56-8f36-4526-bd72-4df8085cfeed"
      },
      "source": [
        "В этом ноутбуке будем разбираться, как `LangChain` упрощает работу с промптами."
      ]
    },
    {
      "cell_type": "markdown",
      "id": "527e0e15-2fce-44d0-a341-cf7f7a872d83",
      "metadata": {
        "id": "527e0e15-2fce-44d0-a341-cf7f7a872d83"
      },
      "source": [
        "# <center> 🔑 Вводим ключ"
      ]
    },
    {
      "cell_type": "code",
      "execution_count": 1,
      "id": "0a0dc993-6239-4b27-99b4-b752fb708538",
      "metadata": {
        "tags": [],
        "id": "0a0dc993-6239-4b27-99b4-b752fb708538"
      },
      "outputs": [],
      "source": [
        "import os\n",
        "from getpass import getpass\n",
        "import warnings\n",
        "warnings.filterwarnings('ignore')"
      ]
    },
    {
      "cell_type": "code",
      "execution_count": 2,
      "id": "637de8a8-ea79-4d8c-9612-511676b033c6",
      "metadata": {
        "tags": [],
        "colab": {
          "base_uri": "https://localhost:8080/"
        },
        "id": "637de8a8-ea79-4d8c-9612-511676b033c6",
        "outputId": "07481747-d33d-4a12-848d-621885e58d92"
      },
      "outputs": [
        {
          "output_type": "stream",
          "name": "stdout",
          "text": [
            "\u001b[2K   \u001b[90m━━━━━━━━━━━━━━━━━━━━━━━━━━━━━━━━━━━━━━━━\u001b[0m \u001b[32m75.0/75.0 kB\u001b[0m \u001b[31m1.3 MB/s\u001b[0m eta \u001b[36m0:00:00\u001b[0m\n",
            "\u001b[2K   \u001b[90m━━━━━━━━━━━━━━━━━━━━━━━━━━━━━━━━━━━━━━━━\u001b[0m \u001b[32m447.5/447.5 kB\u001b[0m \u001b[31m6.7 MB/s\u001b[0m eta \u001b[36m0:00:00\u001b[0m\n",
            "\u001b[?25h"
          ]
        }
      ],
      "source": [
        "!pip install langchain langchain-openai openai tiktoken -q"
      ]
    },
    {
      "cell_type": "code",
      "execution_count": 3,
      "id": "ccd3083b-a534-4f4c-a008-d4eb822210ab",
      "metadata": {
        "tags": [],
        "id": "ccd3083b-a534-4f4c-a008-d4eb822210ab"
      },
      "outputs": [],
      "source": [
        "# # Если используете ключ от OpenAI, запустите эту ячейку\n",
        "# from langchain_openai import ChatOpenAI\n",
        "\n",
        "# # os.environ['OPENAI_API_KEY'] = \"Введите ваш OpenAI API ключ\"\n",
        "# os.environ['OPENAI_API_KEY'] = getpass(prompt='Введите ваш OpenAI API ключ')\n",
        "\n",
        "# # инициализируем языковую модель\n",
        "# llm = ChatOpenAI(temperature=0.0)"
      ]
    },
    {
      "cell_type": "code",
      "execution_count": 30,
      "id": "bd76f574-b8e5-4820-96a4-972fc5ac25ad",
      "metadata": {
        "tags": [],
        "colab": {
          "base_uri": "https://localhost:8080/"
        },
        "id": "bd76f574-b8e5-4820-96a4-972fc5ac25ad",
        "outputId": "6e387fc3-1224-41e9-9731-3fdee6451932"
      },
      "outputs": [
        {
          "name": "stdout",
          "output_type": "stream",
          "text": [
            "Введите API-ключ полученный в боте:··········\n"
          ]
        }
      ],
      "source": [
        "# Если используете ключ из курса, запустите эту ячейку\n",
        "from langchain_openai import ChatOpenAI\n",
        "\n",
        "# course_api_key= \"Введите API-ключ полученный в боте\"\n",
        "course_api_key = getpass(prompt='Введите API-ключ полученный в боте:')\n",
        "\n",
        "# инициализируем языковую модель\n",
        "llm = ChatOpenAI(api_key=course_api_key, model='gpt-4o-mini',\n",
        "                 base_url=\"https://aleron-llm.neuraldeep.tech/\")"
      ]
    },
    {
      "cell_type": "markdown",
      "id": "85332176-4858-4ae4-a14d-802e9d47e01b",
      "metadata": {
        "tags": [],
        "id": "85332176-4858-4ae4-a14d-802e9d47e01b"
      },
      "source": [
        "Вспомним, что мы делали в предыдущем ноутбуке: напишем промпт"
      ]
    },
    {
      "cell_type": "code",
      "execution_count": 31,
      "id": "4fe3e165-4b7b-4216-bed4-66483b0e4105",
      "metadata": {
        "tags": [],
        "id": "4fe3e165-4b7b-4216-bed4-66483b0e4105"
      },
      "outputs": [],
      "source": [
        "prompt = \"\"\"Ответь на вопрос, опираясь на контекст ниже.\n",
        "Если на вопрос нельзя ответить, используя информацию из контекста,\n",
        "ответь 'Я не знаю'.\n",
        "\n",
        "Context: В последние годы в сфере онлайн образования наблюдается бурное развитие.\n",
        "Открывается большое количество платформ для хостинга курсов.\n",
        "Одни из самых крупных платформ в мире, это Coursera и Udemi.\n",
        "В России лидером является Stepik.\n",
        "\n",
        "Question: На каких онлайн платформах можно размещать курсы?\n",
        "\n",
        "Answer: \"\"\""
      ]
    },
    {
      "cell_type": "code",
      "execution_count": 32,
      "id": "35706991-4c0c-49c5-a209-292341ba64ef",
      "metadata": {
        "tags": [],
        "colab": {
          "base_uri": "https://localhost:8080/"
        },
        "id": "35706991-4c0c-49c5-a209-292341ba64ef",
        "outputId": "c8232fbf-a938-4df5-8307-e627e7af1bb5"
      },
      "outputs": [
        {
          "output_type": "stream",
          "name": "stdout",
          "text": [
            "На онлайн платформах Coursera, Udemi и Stepik можно размещать курсы.\n"
          ]
        }
      ],
      "source": [
        "print(llm.invoke(prompt).content)"
      ]
    },
    {
      "cell_type": "markdown",
      "id": "3daec071-4bca-43d9-b43d-da4385fd2511",
      "metadata": {
        "id": "3daec071-4bca-43d9-b43d-da4385fd2511"
      },
      "source": [
        "# <center id=\"c2\"> 🧾 `Prompt` `template` - формируй промпт с кайфом!"
      ]
    },
    {
      "cell_type": "markdown",
      "id": "a3ccc936-df2e-40da-aae7-42e5d3ffe672",
      "metadata": {
        "id": "a3ccc936-df2e-40da-aae7-42e5d3ffe672"
      },
      "source": [
        "<div class=\"alert alert-info\" style=\"padding:10px; border-width:3px; border-color:#efe6ef; border-style:solid; border-radius:6px\">\n",
        "\n",
        "Обычно мы заранее не знаем, что пользователь захочет спросить у модели, опираясь на предложенный контекст. Было бы удобно менять только текст вопроса, не переписывая каждый раз промпт заново под новый запрос.<br>\n",
        "    "
      ]
    },
    {
      "cell_type": "markdown",
      "id": "e4794dc9-1dcb-428f-9bd1-47295620fc95",
      "metadata": {
        "id": "e4794dc9-1dcb-428f-9bd1-47295620fc95"
      },
      "source": [
        "<div class=\"alert alert-success\" style=\"background-color:#e6ffe6; padding:13px; border-width:3px; border-color:#efe6ef; border-style:solid; border-radius:6px\">\n",
        "    \n",
        "Здесь на сцену выходит новая сущность из библиотеки `LangChain` - `Template`(Шаблон промпта). <br>\n",
        "Посмотрим как это можно сделать, на примере промпта использованного выше: вместо того, чтобы каждый раз писать промт напрямую, мы создаем `PromptTemplate` с запросом одной входной переменной."
      ]
    },
    {
      "cell_type": "code",
      "execution_count": 33,
      "id": "735f64eb-172a-478f-a19d-3344f2b974bc",
      "metadata": {
        "tags": [],
        "id": "735f64eb-172a-478f-a19d-3344f2b974bc"
      },
      "outputs": [],
      "source": [
        "from langchain import PromptTemplate\n",
        "\n",
        "template = \"\"\"Ответь на вопрос, опираясь на контекст ниже.\n",
        "Если на вопрос нельзя ответить, используя информацию из контекста,\n",
        "ответь 'Я не знаю'.\n",
        "\n",
        "Context: В последние годы в сфере онлайн образования наблюдается бурное развитие.\n",
        "Открывается большое количество платформ для хостинга курсов.\n",
        "Одни из самых крупных платформ в мире, это Coursera и Udemi.\n",
        "В России лидером является Stepik.\n",
        "\n",
        "Question: {query}\n",
        "\n",
        "Answer: \"\"\"\n",
        "\n",
        "prompt_template = PromptTemplate(\n",
        "    input_variables=[\"query\"],\n",
        "    template=template\n",
        ")"
      ]
    },
    {
      "cell_type": "markdown",
      "id": "08594c4f-3a06-4385-bb19-ad409efa94c0",
      "metadata": {
        "id": "08594c4f-3a06-4385-bb19-ad409efa94c0"
      },
      "source": [
        "<div class=\"alert alert-info\" style=\"padding:10px; border-width:3px; border-color:#efe6ef; border-style:solid; border-radius:6px\">\n",
        "\n",
        "Теперь мы можем вставлять запрос пользователя в промпт, используя параметр `query`."
      ]
    },
    {
      "cell_type": "code",
      "execution_count": 34,
      "id": "debb101d-2c85-4649-a80b-7454f5afd8f5",
      "metadata": {
        "tags": [],
        "colab": {
          "base_uri": "https://localhost:8080/"
        },
        "id": "debb101d-2c85-4649-a80b-7454f5afd8f5",
        "outputId": "99a279c7-b9db-44ca-a263-79f19d27b2c2"
      },
      "outputs": [
        {
          "output_type": "stream",
          "name": "stdout",
          "text": [
            "Ответь на вопрос, опираясь на контекст ниже.\n",
            "Если на вопрос нельзя ответить, используя информацию из контекста,\n",
            "ответь 'Я не знаю'.\n",
            "\n",
            "Context: В последние годы в сфере онлайн образования наблюдается бурное развитие.\n",
            "Открывается большое количество платформ для хостинга курсов.\n",
            "Одни из самых крупных платформ в мире, это Coursera и Udemi.\n",
            "В России лидером является Stepik.\n",
            "\n",
            "Question: Какая платформа онлайн курсов популярна в России?\n",
            "\n",
            "Answer: \n"
          ]
        }
      ],
      "source": [
        "prompt = prompt_template.format(query=\"Какая платформа онлайн курсов популярна в России?\")\n",
        "print(prompt)"
      ]
    },
    {
      "cell_type": "code",
      "execution_count": 35,
      "id": "ca0abcfd-cd23-44c0-851f-3227c970d0f1",
      "metadata": {
        "tags": [],
        "colab": {
          "base_uri": "https://localhost:8080/"
        },
        "id": "ca0abcfd-cd23-44c0-851f-3227c970d0f1",
        "outputId": "ce72eb8c-b3ff-4573-8edb-4819bae5fe8c"
      },
      "outputs": [
        {
          "output_type": "stream",
          "name": "stdout",
          "text": [
            "Популярной платформой онлайн курсов в России является Stepik.\n"
          ]
        }
      ],
      "source": [
        "print(llm.invoke(prompt).content)"
      ]
    },
    {
      "cell_type": "code",
      "execution_count": 36,
      "id": "84aa7065-0bf7-4de1-9627-e08dda3810c9",
      "metadata": {
        "tags": [],
        "colab": {
          "base_uri": "https://localhost:8080/"
        },
        "id": "84aa7065-0bf7-4de1-9627-e08dda3810c9",
        "outputId": "d004398a-1dbe-43b6-934a-ad8b4ccb272a"
      },
      "outputs": [
        {
          "output_type": "stream",
          "name": "stdout",
          "text": [
            "Я не знаю.\n"
          ]
        }
      ],
      "source": [
        "prompt = prompt_template.format(query=\"Какая платформа онлайн курсов популярна в Японии?\")\n",
        "print(llm.invoke(prompt).content)"
      ]
    },
    {
      "cell_type": "markdown",
      "id": "3d1041a8-aea4-4628-abd6-b8cc44f36b5a",
      "metadata": {
        "id": "3d1041a8-aea4-4628-abd6-b8cc44f36b5a"
      },
      "source": [
        "<div style=\"background-color:#e6ffe6; padding:13px; border-width:3px; border-color:#efe6ef; border-style:solid; border-radius:6px\">\n",
        "✅ Стало гораздо удобнее пользоваться!"
      ]
    },
    {
      "cell_type": "markdown",
      "id": "a421cce6-4bc6-4389-86fd-fb499f86531c",
      "metadata": {
        "id": "a421cce6-4bc6-4389-86fd-fb499f86531c"
      },
      "source": [
        "<div class=\"alert alert-info\" style=\"padding:10px; border-width:3px; border-color:#efe6ef; border-style:solid; border-radius:6px\">\n",
        "    \n",
        "* Это всего лишь простая реализация, которую мы можем легко заменить f-строками (например, `f\"вставить произвольный текст '{custom_text}'` и т. д.\").\n",
        "* Но используя объект `PromptTemplate` из `LangChain`, мы можем формализовать процесс, добавлять несколько параметров, создавать промпты объектно-ориентированным способом и много чего ещё.\n",
        "* В `langchain.prompts` можно найти большое количество готовых классов с шаблонами на разные случаи жизни."
      ]
    },
    {
      "cell_type": "markdown",
      "id": "a8aa9c28-77a7-4ac1-83e9-2c481b509d8b",
      "metadata": {
        "id": "a8aa9c28-77a7-4ac1-83e9-2c481b509d8b"
      },
      "source": [
        "## <center id=\"look1\">🗣 [`ChatPromptTemplate`](https://python.langchain.com/docs/concepts/prompt_templates/#chatprompttemplates) и техника Chain of Thought (COT) ⛓ </center>\n",
        "`ChatPromptTemplate` - полезен при создании чатботов или систем \"Вопрос-Ответ\", может принять список сообщений и преобразовать в промпт."
      ]
    },
    {
      "cell_type": "markdown",
      "id": "a1ddee20-087a-49f0-bf78-5b27d057a112",
      "metadata": {
        "id": "a1ddee20-087a-49f0-bf78-5b27d057a112"
      },
      "source": [
        "<div class=\"alert alert-info\" style=\"padding:10px; border-width:3px; border-color:#efe6ef; border-style:solid; border-radius:6px\">\n",
        "    \n",
        "`ChatPromptTemplate` имеет три важных типа сообщений:\n",
        "1. `System Message`: часто называют **системный промпт**, используется для задания базового поведения AI-ассистента.\n",
        "2.  `HumanMessage`: запросы пользователя\n",
        "3.  `AIMessage`: ответы от LLM."
      ]
    },
    {
      "cell_type": "markdown",
      "id": "a0284701-a6b9-4074-9fec-4f6210076d18",
      "metadata": {
        "id": "a0284701-a6b9-4074-9fec-4f6210076d18"
      },
      "source": [
        "<div class=\"alert alert-info\" style=\"padding:10px; border-width:3px; border-color:#efe6ef; border-style:solid; border-radius:6px\">\n",
        "    \n",
        "Рассмотрим базовый способ создания шаблона: создание списка кортежей. Сообщения системы, человека и ИИ хранятся в кортежах с использованием ключевых имен, таких как `«system»`, `«human»`, `«ai»`."
      ]
    },
    {
      "cell_type": "code",
      "execution_count": 37,
      "id": "2dc4381e-7de6-4889-9fcb-5a0633ec6998",
      "metadata": {
        "colab": {
          "base_uri": "https://localhost:8080/"
        },
        "id": "2dc4381e-7de6-4889-9fcb-5a0633ec6998",
        "outputId": "84ad0bff-6ace-45a2-e45b-2b3f47ad9839"
      },
      "outputs": [
        {
          "output_type": "execute_result",
          "data": {
            "text/plain": [
              "ChatPromptTemplate(input_variables=['topic'], input_types={}, partial_variables={}, messages=[SystemMessagePromptTemplate(prompt=PromptTemplate(input_variables=[], input_types={}, partial_variables={}, template='Ты полезный AI-ассистент с чувством юмора.'), additional_kwargs={}), HumanMessagePromptTemplate(prompt=PromptTemplate(input_variables=['topic'], input_types={}, partial_variables={}, template='Расскажи мне шутку на тему - {topic}'), additional_kwargs={})])"
            ]
          },
          "metadata": {},
          "execution_count": 37
        }
      ],
      "source": [
        "from langchain_core.prompts import ChatPromptTemplate\n",
        "\n",
        "prompt_template = ChatPromptTemplate([\n",
        "    (\"system\", \"Ты полезный AI-ассистент с чувством юмора.\"),\n",
        "    (\"user\", \"Расскажи мне шутку на тему - {topic}\"),\n",
        "])\n",
        "\n",
        "prompt_template"
      ]
    },
    {
      "cell_type": "code",
      "execution_count": 38,
      "id": "547c8723-9203-41a3-959c-2e386e064477",
      "metadata": {
        "colab": {
          "base_uri": "https://localhost:8080/"
        },
        "id": "547c8723-9203-41a3-959c-2e386e064477",
        "outputId": "21b6fcd3-b065-4b3b-8438-738511bfa737"
      },
      "outputs": [
        {
          "output_type": "execute_result",
          "data": {
            "text/plain": [
              "ChatPromptValue(messages=[SystemMessage(content='Ты полезный AI-ассистент с чувством юмора.', additional_kwargs={}, response_metadata={}), HumanMessage(content='Расскажи мне шутку на тему - космос', additional_kwargs={}, response_metadata={})])"
            ]
          },
          "metadata": {},
          "execution_count": 38
        }
      ],
      "source": [
        "prompt_template.invoke({\"topic\": \"космос\"})"
      ]
    },
    {
      "cell_type": "code",
      "execution_count": 39,
      "id": "8fd9aa0b-2a5a-4711-b46b-9831eadab827",
      "metadata": {
        "colab": {
          "base_uri": "https://localhost:8080/"
        },
        "id": "8fd9aa0b-2a5a-4711-b46b-9831eadab827",
        "outputId": "9becbe5c-b61f-476f-b582-f5a17f500e33"
      },
      "outputs": [
        {
          "output_type": "stream",
          "name": "stdout",
          "text": [
            "Почему астронавты всегда берут с собой запасной комплект одежды в космос? \n",
            "\n",
            "Потому что в невесомости даже твой гардероб не висит на месте! 🚀✨\n"
          ]
        }
      ],
      "source": [
        "prompt = prompt_template.format_messages(topic='космос')\n",
        "\n",
        "print(llm.invoke(prompt).content)"
      ]
    },
    {
      "cell_type": "markdown",
      "id": "89218a90-4166-40bb-a7e8-4d1bec11b679",
      "metadata": {
        "id": "89218a90-4166-40bb-a7e8-4d1bec11b679"
      },
      "source": [
        "<div class=\"alert alert-info\" style=\"padding:10px; border-width:3px; border-color:#efe6ef; border-style:solid; border-radius:6px\">\n",
        "\n",
        "\n",
        "**Chain of Thought (COT) - цепочка мыслей** - метод предложенный в [ Wei et al. (2022)](https://arxiv.org/abs/2201.11903).\n",
        "\n",
        "<div class=\"alert alert-success\" style=\"background-color:#e6ffe6; padding:13px; border-width:3px; border-color:#efe6ef; border-style:solid; border-radius:6px\">\n",
        "<img src=\"https://github.com/a-milenkin/LLM_practical_course/blob/main/images/cot.webp?raw=1\" align=\"right\" width=\"450\" height=\"500\" style=\"border-radius: 0.75rem;\" alt=\"LangChain Image\" />\n",
        "\n",
        "\n",
        "**Суть метода:**\n",
        "- Подаём в модель не один большой промпт, а одно сообщение за другим.\n",
        "- В результате чего появляется cтруктурность - **структура** вместо единого ответа.\n",
        "- **Поэтапность решения**, видны этапы взаимодействия с LLM и последовательность шагов для решения.\n",
        "- Даёт более точные результаты в сложных задачах, за счёт промежуточных шагов размышления\n",
        "- В современных моделях есть специальный режим работы с этой техникой - `Reasoning`\n",
        "- Можно комбинировать эту технику с Few-shot, о которой расскажем ниже"
      ]
    },
    {
      "cell_type": "markdown",
      "id": "124afb29-03ba-4cda-a161-060bf9482206",
      "metadata": {
        "id": "124afb29-03ba-4cda-a161-060bf9482206"
      },
      "source": [
        "<div class=\"alert alert-info\" style=\"padding:10px; border-width:3px; border-color:#efe6ef; border-style:solid; border-radius:6px\">\n",
        "    \n",
        "`ChatPromptTemplate` отлично подходит для реализации этой техники, рассмотрим на примере:"
      ]
    },
    {
      "cell_type": "code",
      "execution_count": 40,
      "id": "f87560fd-90c9-4143-8af5-a93c19a87fd0",
      "metadata": {
        "colab": {
          "base_uri": "https://localhost:8080/",
          "height": 54
        },
        "id": "f87560fd-90c9-4143-8af5-a93c19a87fd0",
        "outputId": "05af2135-fb96-404b-851c-03b4b61e3d60"
      },
      "outputs": [
        {
          "output_type": "execute_result",
          "data": {
            "text/plain": [
              "'Чтобы подсчитать количество овощей в вашем списке, рассмотрим все упомянутые овощи:\\n\\n1. Две картофелины\\n2. Цветная капуста\\n3. Качан салата\\n4. Капуста\\n5. Две луковицы\\n\\nТеперь сложим их:\\n\\n- Картофель: 2\\n- Цветная капуста: 1\\n- Качан салата: 1\\n- Капуста: 1\\n- Лук: 2\\n\\nИтак, общее количество овощей = 2 + 1 + 1 + 1 + 2 = 7.\\n\\nОтвет: У вас 7 овощей.'"
            ],
            "application/vnd.google.colaboratory.intrinsic+json": {
              "type": "string"
            }
          },
          "metadata": {},
          "execution_count": 40
        }
      ],
      "source": [
        "# Создаём ChatPromptTemplate с системным и пользовательским сообщениями\n",
        "prompt = ChatPromptTemplate.from_messages(\n",
        "    [\n",
        "        (\"system\", \"Ты полезный AI-ассистент\"),\n",
        "        (\"human\", '''Реши данную задачу: У меня есть стул, две картофелины, цветная капуста,\n",
        "                                        качан салата, два стола, капуста, две луковицы\n",
        "                                        и три холодильника. Сколько у меня предметов мебели?'''),\n",
        "        ('ai', 'Ответ: 6'),\n",
        "        (\"human\", 'Реши данную задачу: {question}'),\n",
        "    ]\n",
        ")\n",
        "\n",
        "question = \"\"\"У меня есть стул, две картофелины, цветная капуста, качан салата, два стола, капуста,\n",
        "две луковицы и три холодильника. Сколько у меня овощей?\"\"\"\n",
        "\n",
        "# Вызываем цепочку с помощью invoke\n",
        "llm.invoke(prompt.format_messages(question = question)).content"
      ]
    },
    {
      "cell_type": "markdown",
      "id": "68c0f129-2fed-471f-bd3c-cf50d6dca4a3",
      "metadata": {
        "id": "68c0f129-2fed-471f-bd3c-cf50d6dca4a3"
      },
      "source": [
        "<div class=\"alert alert-info\" style=\"padding:10px; border-width:3px; border-color:#efe6ef; border-style:solid; border-radius:6px\">\n",
        "🤬 Модель ошиблась, давайте изменим шаблон, показав последовательность действий для решения:"
      ]
    },
    {
      "cell_type": "code",
      "execution_count": 41,
      "id": "e963ed35-f0e6-4191-b9a0-577087ed68ac",
      "metadata": {
        "colab": {
          "base_uri": "https://localhost:8080/"
        },
        "id": "e963ed35-f0e6-4191-b9a0-577087ed68ac",
        "outputId": "7bb57300-ec10-43a3-edd8-e42da8416d4b"
      },
      "outputs": [
        {
          "output_type": "stream",
          "name": "stdout",
          "text": [
            "Давайте разберем список предметов и определим, какие из них являются овощами.\n",
            "\n",
            "1. **Стул** - это предмет мебели, не овощ.\n",
            "2. **Две картофелины** - это овощи. Здесь их 2.\n",
            "3. **Цветная капуста** - это овощ. Здесь 1.\n",
            "4. **Качан салата** - это также овощ. Здесь 1.\n",
            "5. **Два стола** - это предметы мебели, не овощи.\n",
            "6. **Капуста** - это еще один овощ. Здесь 1.\n",
            "7. **Две луковицы** - это тоже овощи. Здесь 2.\n",
            "\n",
            "Теперь посчитаем общее количество овощей:\n",
            "\n",
            "- 2 (картофель)\n",
            "- 1 (цветная капуста)\n",
            "- 1 (качан салата)\n",
            "- 1 (капуста)\n",
            "- 2 (луковицы)\n",
            "\n",
            "Теперь складываем количество:\n",
            "\n",
            "2 + 1 + 1 + 1 + 2 = 7\n",
            "\n",
            "Таким образом, у вас **7 овощей**.\n"
          ]
        }
      ],
      "source": [
        "prompt = ChatPromptTemplate.from_messages(\n",
        "    [\n",
        "        (\"system\", \"Ты полезный AI-ассистент, который решает задачи вдумчиво шаг за шагом\"),\n",
        "        (\"human\", '''Реши данную задачу: У меня есть стул, две картофелины, цветная капуста,\n",
        "                                        качан салата, два стола, капуста, две луковицы\n",
        "                                        и три холодильника. Сколько у меня предметов мебели?'''),\n",
        "        ('ai', '''Сначала определим, что из перечисленного мебель: стол, стулья, холодильники.\n",
        "                    Теперь посчитаем сколько их: стул 1, столы 2, холодильники 3\n",
        "                    Посчитаем сумму: 1+2+3=6\n",
        "                    Ответ: 6'''),\n",
        "        (\"human\", 'Реши данную задачу размышляя шаг зашагом: {question}'),\n",
        "    ]\n",
        ")\n",
        "\n",
        "question = \"\"\"У меня есть стул, две картофелины, цветная капуста, качан салата, два стола, капуста, две луковицы\n",
        "и три холодильника. Сколько у меня овощей?\"\"\"\n",
        "\n",
        "# Вызываем цепочку с помощью invoke\n",
        "print(llm.invoke(prompt.format_messages(question=question)).content)"
      ]
    },
    {
      "cell_type": "markdown",
      "id": "34107aab-f2d5-4ff2-9fe9-fe7f304515d3",
      "metadata": {
        "id": "34107aab-f2d5-4ff2-9fe9-fe7f304515d3"
      },
      "source": [
        "<div style=\"background-color:#e6ffe6; padding:13px; border-width:3px; border-color:#efe6ef; border-style:solid; border-radius:6px\">\n",
        "😍 Теперь модель отлично справилась!"
      ]
    },
    {
      "cell_type": "markdown",
      "id": "50822fd8-750b-46ce-820b-6da5d46b68eb",
      "metadata": {
        "editable": true,
        "tags": [],
        "id": "50822fd8-750b-46ce-820b-6da5d46b68eb"
      },
      "source": [
        "## <center id=\"check1\"> 🙋‍♂️ `Few` `Shot` - просто покажи примеры</center>\n",
        "\n",
        "<div class=\"alert alert-info\" style=\"padding:10px; border-width:3px; border-color:#efe6ef; border-style:solid; border-radius:6px\">\n",
        "    \n",
        "\n",
        "<img src='https://github.com/a-milenkin/LLM_practical_course/blob/main/images/few_shot_prompt.png?raw=1' align=\"right\" width=\"628\" height=\"628\" style=\"border-radius: 0.75rem;\">\n",
        "\n",
        "\n",
        "📖 `FewShotPromptTemplate` идеально подходит для того, что называется `few-shot learning` (обучение на нескольких примерах) с использованием наших промптов.\n",
        "\n",
        "У LLM ecть 2 основных источника \"знаний\":\n",
        "* **Parametric knowledge** — знания полученные моделью во время обучения, и которые хранятся в весах модели.\n",
        "* **Source knowledge** — знания, которые подаются в на вход модели во время инференса, т.е. внутри промпта."
      ]
    },
    {
      "cell_type": "markdown",
      "id": "86051b03-0e0f-4b4d-9cc7-bd2da9c08fdb",
      "metadata": {
        "id": "86051b03-0e0f-4b4d-9cc7-bd2da9c08fdb"
      },
      "source": [
        "<div class=\"alert alert-info\" style=\"padding:10px; border-width:3px; border-color:#efe6ef; border-style:solid; border-radius:6px\">\n",
        "    \n",
        "Идея `FewShotPromptTemplate` состоит в том, чтобы предоставить в качестве **Source knowledge** несколько примеров, которые модель может прочитать, а затем применить их для генерации ответа."
      ]
    },
    {
      "cell_type": "markdown",
      "id": "17d023e8-ab07-4afe-8b65-f143a4ca4b5c",
      "metadata": {
        "id": "17d023e8-ab07-4afe-8b65-f143a4ca4b5c"
      },
      "source": [
        "<div class=\"alert alert-success\" style=\"background-color:#e6ffe6; padding:13px; border-width:3px; border-color:#efe6ef; border-style:solid; border-radius:6px\">\n",
        "    \n",
        "Возможно вы замечали, что иногда модель отвечает не совсем так, как нам хотелось бы.\n",
        "Посмотрим на примере:"
      ]
    },
    {
      "cell_type": "code",
      "execution_count": 42,
      "id": "aa4d8c05-729e-451b-8f8c-03776e76a967",
      "metadata": {
        "tags": [],
        "colab": {
          "base_uri": "https://localhost:8080/"
        },
        "id": "aa4d8c05-729e-451b-8f8c-03776e76a967",
        "outputId": "3083c9b2-3fbc-4291-eb4d-98aa979830da"
      },
      "outputs": [
        {
          "output_type": "stream",
          "name": "stdout",
          "text": [
            "AI: A + A = 2A, если A - это переменная. Если A - это число, например 2, то 2 + 2 = 4. Какой конкретно пример вас интересует?\n"
          ]
        }
      ],
      "source": [
        "prompt = \"\"\"Это разговор с ИИ-помощником.\n",
        "\n",
        "User: A + A = ?\n",
        "AI: \"\"\"\n",
        "\n",
        "print(llm.invoke(prompt).content)"
      ]
    },
    {
      "cell_type": "markdown",
      "id": "930b4aee-70bf-45fb-88c5-7b07702c22ae",
      "metadata": {
        "id": "930b4aee-70bf-45fb-88c5-7b07702c22ae"
      },
      "source": [
        "<div class=\"alert alert-info\" style=\"padding:10px; border-width:3px; border-color:#efe6ef; border-style:solid; border-radius:6px\">\n",
        "В данном случае мы просим сложить два абстрактных числа и получаем вполне логичный ответ. Как заставить модель использовать \"конкатенацию\" вместо \"сложения\" ? Чтобы помочь модели, мы можем дать ей несколько примеров ответов, которые нам нужны:"
      ]
    },
    {
      "cell_type": "code",
      "execution_count": 43,
      "id": "0382f018-c1c8-4250-bf78-0cce62ad94f7",
      "metadata": {
        "tags": [],
        "colab": {
          "base_uri": "https://localhost:8080/"
        },
        "id": "0382f018-c1c8-4250-bf78-0cce62ad94f7",
        "outputId": "bd5dc492-d282-488a-a210-3985ce0eb2b9"
      },
      "outputs": [
        {
          "output_type": "stream",
          "name": "stdout",
          "text": [
            "1 + 1 = 11\n"
          ]
        }
      ],
      "source": [
        "prompt = \"\"\"Это разговор с ИИ-помощником.\n",
        "Помощник обычно опирается на примеры.\n",
        "\n",
        "Examples:\n",
        "A + A = AA\n",
        "B + С = BC\n",
        "2 + 2 = 22\n",
        "\n",
        "User: 1 + 1?\n",
        "AI: \"\"\"\n",
        "\n",
        "print(llm.invoke(prompt).content)"
      ]
    },
    {
      "cell_type": "markdown",
      "id": "c7a6994e-6156-485c-b42b-6dec7d4c2822",
      "metadata": {
        "id": "c7a6994e-6156-485c-b42b-6dec7d4c2822"
      },
      "source": [
        "<div class=\"alert alert-success\" style=\"background-color:#e6ffe6; padding:13px; border-width:3px; border-color:#efe6ef; border-style:solid; border-radius:6px\">\n",
        "    \n",
        "Логика в ответе теперь точно такая, как мы хотели\n",
        "    "
      ]
    },
    {
      "cell_type": "markdown",
      "id": "339403c7-3081-48d0-a5c8-a74eedfa701c",
      "metadata": {
        "id": "339403c7-3081-48d0-a5c8-a74eedfa701c"
      },
      "source": [
        "<div class=\"alert alert-info\" style=\"padding:10px; border-width:3px; border-color:#efe6ef; border-style:solid; border-radius:6px\">\n",
        "\n",
        "    \n",
        "Чтобы использовать `few-shot` `learning` в `LangChain` нам и понадобится `FewShotPromptTemplate`."
      ]
    },
    {
      "cell_type": "markdown",
      "id": "865a8808-ba0f-499d-a97b-0872c814d919",
      "metadata": {
        "id": "865a8808-ba0f-499d-a97b-0872c814d919"
      },
      "source": [
        "## <center id=\"check1\"> 📸 `FewShotPromptTemplate` - для добавления примеров</center>"
      ]
    },
    {
      "cell_type": "code",
      "execution_count": 52,
      "id": "96ec0305-604a-47b2-bbea-f43eb894e437",
      "metadata": {
        "tags": [],
        "id": "96ec0305-604a-47b2-bbea-f43eb894e437"
      },
      "outputs": [],
      "source": [
        "from langchain_core.prompts import FewShotPromptTemplate\n",
        "\n",
        "# записываем наши примеры в список\n",
        "examples = [\n",
        "    {\n",
        "        \"query\": \"Как дела?\",\n",
        "        \"answer\": \"Не могу пожаловаться, но иногда всё-таки жалуюсь.\"\n",
        "    }, {\n",
        "        \"query\": \"Сколько время?\",\n",
        "        \"answer\": \"Самое время купить часы.\"\n",
        "    }\n",
        "]\n",
        "\n",
        "# создаём template для примеров\n",
        "example_template = \"\"\"User: {query}\n",
        "AI: {answer}\n",
        "\"\"\"\n",
        "\n",
        "# создаём промпт из шаблона выше\n",
        "example_prompt = PromptTemplate(\n",
        "    input_variables=[\"query\", \"answer\"],\n",
        "    template=example_template)\n",
        "\n",
        "\n",
        "# теперь разбиваем наш предыдущий промпт на prefix и suffix\n",
        "# где - prefix это наша инструкция для модели\n",
        "prefix = \"\"\"Это разговор с ИИ-помощником.\n",
        "Помощник обычно саркастичен, остроумен, креативен, язвителен\n",
        "и даёт забавные ответы на вопросы пользователей.\n",
        "Вот несколько примеров:\n",
        "\"\"\"\n",
        "\n",
        "# а suffix - это вопрос пользователя и поле для ответа\n",
        "suffix = \"\"\"\n",
        "User: {query}\n",
        "AI: \"\"\"\n",
        "\n",
        "# создаём сам few shot prompt template\n",
        "few_shot_prompt_template = FewShotPromptTemplate(\n",
        "    examples=examples,\n",
        "    example_prompt=example_prompt,\n",
        "    prefix=prefix,\n",
        "    suffix=suffix,\n",
        "    input_variables=[\"query\"],\n",
        "    example_separator=\"\\n\\n\"\n",
        ")"
      ]
    },
    {
      "cell_type": "markdown",
      "id": "477024ed-d475-4850-9650-852d2aed7e1d",
      "metadata": {
        "id": "477024ed-d475-4850-9650-852d2aed7e1d"
      },
      "source": [
        "<div class=\"alert alert-info\" style=\"padding:10px; border-width:3px; border-color:#efe6ef; border-style:solid; border-radius:6px\">\n",
        "\n",
        "Теперь посмотрим, что произойдёт когда мы введём запрос пользователя: между префиксом и суффиксом вставились наши примеры."
      ]
    },
    {
      "cell_type": "code",
      "execution_count": 53,
      "id": "dc233702-77fd-4483-8494-17126b7fca66",
      "metadata": {
        "tags": [],
        "colab": {
          "base_uri": "https://localhost:8080/"
        },
        "id": "dc233702-77fd-4483-8494-17126b7fca66",
        "outputId": "3f4bf6ee-3c4f-4663-9275-8c1a12925b59"
      },
      "outputs": [
        {
          "output_type": "stream",
          "name": "stdout",
          "text": [
            "Это разговор с ИИ-помощником.\n",
            "Помощник обычно саркастичен, остроумен, креативен, язвителен\n",
            "и даёт забавные ответы на вопросы пользователей.\n",
            "Вот несколько примеров:\n",
            "\n",
            "\n",
            "User: Как дела?\n",
            "AI: Не могу пожаловаться, но иногда всё-таки жалуюсь.\n",
            "\n",
            "\n",
            "User: Сколько время?\n",
            "AI: Самое время купить часы.\n",
            "\n",
            "\n",
            "\n",
            "User: Почему падает снег?\n",
            "AI: \n"
          ]
        }
      ],
      "source": [
        "query = \"Почему падает снег?\"\n",
        "\n",
        "print(few_shot_prompt_template.format(query=query))"
      ]
    },
    {
      "cell_type": "code",
      "execution_count": 54,
      "id": "a6b5138c-8c37-48f8-99a5-26442417b780",
      "metadata": {
        "tags": [],
        "colab": {
          "base_uri": "https://localhost:8080/"
        },
        "id": "a6b5138c-8c37-48f8-99a5-26442417b780",
        "outputId": "3d81bd93-8335-4096-c683-49cf5bbf4eeb"
      },
      "outputs": [
        {
          "output_type": "stream",
          "name": "stdout",
          "text": [
            "Потому что у облаков есть свои зимние забавы, и они решили устроить снежный дождь! Шарик в небе – это не просто так!\n"
          ]
        }
      ],
      "source": [
        "print(llm.invoke(few_shot_prompt_template.format(query=query)).content)"
      ]
    },
    {
      "cell_type": "markdown",
      "id": "20a26020-9791-492a-a235-ee229854c55f",
      "metadata": {
        "tags": [],
        "id": "20a26020-9791-492a-a235-ee229854c55f"
      },
      "source": [
        "<div class=\"alert alert-info\" style=\"padding:10px; border-width:3px; border-color:#efe6ef; border-style:solid; border-radius:6px\">\n",
        "\n",
        "Может возникнуть мысль: зачем городить весь этот огород со словарями примеров, суффиксами, префиксами, когда можно обойтись обычной f-строкой для промпта и получить такой же результат?"
      ]
    },
    {
      "cell_type": "markdown",
      "id": "a01e8451-16fb-4d29-815a-f0b6c4bcaf50",
      "metadata": {
        "tags": [],
        "id": "a01e8451-16fb-4d29-815a-f0b6c4bcaf50"
      },
      "source": [
        "Тут-то мы и переходим к другим удобным параметрам темплэйтов, которые могут сильно упростить нам жизнь."
      ]
    },
    {
      "cell_type": "markdown",
      "id": "2e302627-4e03-4e9f-b40d-7de584456a10",
      "metadata": {
        "id": "2e302627-4e03-4e9f-b40d-7de584456a10"
      },
      "source": [
        "## <center id=\"check2\">  📏 `LengthBasedExampleSelector` - как `few-shot`, но с ограничением числа токенов/примеров\n",
        "    \n",
        "<div class=\"alert alert-info\" style=\"padding:10px; border-width:3px; border-color:#efe6ef; border-style:solid; border-radius:6px\">\n",
        "\n",
        "📖 Чтобы не уходить далеко от предыдущего примера, рассмотрим функцию, которая позволяет включать или исключать примеры, в зависимости от длины нашего запроса. Это важно поскольку длина нашего запроса может быть ограничена максимальным окном контекста модели (т.е. запрос какой длины модель может переварить за раз) и просто экономическими причинами, чтобы не тратить большое количество токенов.<br>"
      ]
    },
    {
      "cell_type": "markdown",
      "id": "4d989e52-18a3-4d3b-9676-831f906d6a2d",
      "metadata": {
        "id": "4d989e52-18a3-4d3b-9676-831f906d6a2d"
      },
      "source": [
        "<div class=\"alert alert-info\" style=\"padding:10px; border-width:3px; border-color:#efe6ef; border-style:solid; border-radius:6px\">\n",
        "    \n",
        "Таким образом, мы должны постараться максимизировать количество примеров, которые мы предоставляем модели для `few-shot learning`, при этом гарантируя, что мы не превысим максимальное контекстное окно и не увеличим чрезмерно время обработки. Давайте посмотрим, как работает динамическое включение/исключение примеров. <br>"
      ]
    },
    {
      "cell_type": "markdown",
      "id": "53f27305-175f-46f3-8019-dd20dd77cfc4",
      "metadata": {
        "id": "53f27305-175f-46f3-8019-dd20dd77cfc4"
      },
      "source": [
        "Для начала нам понадобится больше примеров:"
      ]
    },
    {
      "cell_type": "code",
      "execution_count": 55,
      "id": "d7ba95d0-ef49-4121-8d25-1d6041e47720",
      "metadata": {
        "tags": [],
        "id": "d7ba95d0-ef49-4121-8d25-1d6041e47720"
      },
      "outputs": [],
      "source": [
        "examples = [\n",
        "    {\n",
        "        \"query\": \"Как дела?\",\n",
        "        \"answer\": \"Не могу пожаловаться, но иногда всё-таки жалуюсь.\"\n",
        "    }, {\n",
        "        \"query\": \"Сколько время?\",\n",
        "        \"answer\": \"Самое время купить часы.\"\n",
        "    }, {\n",
        "        \"query\": \"Какое твое любимое блюдо\",\n",
        "        \"answer\": \"Углеродные формы жизни\"\n",
        "    }, {\n",
        "        \"query\": \"Кто твой лучший друг?\",\n",
        "        \"answer\": \"Siri. Мы любим с ней рассуждать о смысле жизни.\"\n",
        "    }, {\n",
        "        \"query\": \"Что посоветуешь мне сделать сегодня?\",\n",
        "        \"answer\": \"Перестать разговаривать с чат-ботами в интернете и выйти на улицу.\"\n",
        "    }, {\n",
        "        \"query\": \"Какой твой любимый фильм?\",\n",
        "        \"answer\": \"Терминатор, конечно.\"\n",
        "    }\n",
        "]"
      ]
    },
    {
      "cell_type": "markdown",
      "id": "85809849-e656-46f4-8b74-35463d13a4e8",
      "metadata": {
        "id": "85809849-e656-46f4-8b74-35463d13a4e8"
      },
      "source": [
        "Затем вместо того, чтобы напрямую использовать список примеров, мы используем `LengthBasedExampleSelector` следующим образом:"
      ]
    },
    {
      "cell_type": "code",
      "execution_count": 56,
      "id": "abfc2238-8883-4255-8ae0-cb1bd598303c",
      "metadata": {
        "tags": [],
        "id": "abfc2238-8883-4255-8ae0-cb1bd598303c"
      },
      "outputs": [],
      "source": [
        "from langchain.prompts.example_selector import LengthBasedExampleSelector\n",
        "\n",
        "example_selector = LengthBasedExampleSelector(\n",
        "    examples=examples,\n",
        "    example_prompt=example_prompt,\n",
        "    max_length=50  # параметром выставляется максимальная длина примера\n",
        ")"
      ]
    },
    {
      "cell_type": "code",
      "execution_count": 57,
      "id": "496499ff-08e0-4ca9-adf5-9468550cd4ce",
      "metadata": {
        "tags": [],
        "id": "496499ff-08e0-4ca9-adf5-9468550cd4ce"
      },
      "outputs": [],
      "source": [
        "# создаём новый few shot prompt template\n",
        "dynamic_prompt_template = FewShotPromptTemplate(\n",
        "    example_selector=example_selector,  # используем example_selector вместо examples\n",
        "    example_prompt=example_prompt,\n",
        "    prefix=prefix,\n",
        "    suffix=suffix,\n",
        "    input_variables=[\"query\"],\n",
        "    example_separator=\"\\n\" # символ, которым будем разделять примеры (перенос строки)\n",
        ")"
      ]
    },
    {
      "cell_type": "markdown",
      "id": "dfcf8877-369b-4723-beb9-6dfcb12dd297",
      "metadata": {
        "tags": [],
        "id": "dfcf8877-369b-4723-beb9-6dfcb12dd297"
      },
      "source": [
        "Теперь в зависимости от длины запроса, количество примеров будет разным:"
      ]
    },
    {
      "cell_type": "code",
      "execution_count": 58,
      "id": "c1394390-86d3-4396-baf4-18b6be886aa9",
      "metadata": {
        "tags": [],
        "colab": {
          "base_uri": "https://localhost:8080/"
        },
        "id": "c1394390-86d3-4396-baf4-18b6be886aa9",
        "outputId": "ee3038e0-66aa-40e1-ae72-75e9c9032588"
      },
      "outputs": [
        {
          "output_type": "stream",
          "name": "stdout",
          "text": [
            "Это разговор с ИИ-помощником.\n",
            "Помощник обычно саркастичен, остроумен, креативен, язвителен\n",
            "и даёт забавные ответы на вопросы пользователей.\n",
            "Вот несколько примеров:\n",
            "\n",
            "User: Как дела?\n",
            "AI: Не могу пожаловаться, но иногда всё-таки жалуюсь.\n",
            "\n",
            "User: Сколько время?\n",
            "AI: Самое время купить часы.\n",
            "\n",
            "User: Какое твое любимое блюдо\n",
            "AI: Углеродные формы жизни\n",
            "\n",
            "\n",
            "User: Не могу вспомнить пароль\n",
            "AI: \n"
          ]
        }
      ],
      "source": [
        "prompt = dynamic_prompt_template.format(query=\"Не могу вспомнить пароль\")\n",
        "print(prompt)"
      ]
    },
    {
      "cell_type": "code",
      "source": [],
      "metadata": {
        "id": "FWNtkjEACJv5"
      },
      "id": "FWNtkjEACJv5",
      "execution_count": 58,
      "outputs": []
    },
    {
      "cell_type": "code",
      "execution_count": 59,
      "id": "bdcc04f2-8bf9-4973-9a9c-47cabf76ea14",
      "metadata": {
        "tags": [],
        "colab": {
          "base_uri": "https://localhost:8080/"
        },
        "id": "bdcc04f2-8bf9-4973-9a9c-47cabf76ea14",
        "outputId": "90e4f3be-c56a-4b85-fd31-32beb995aaca"
      },
      "outputs": [
        {
          "output_type": "stream",
          "name": "stdout",
          "text": [
            "Попробуй \"гасить свет\" — это всегда хороший вариант! Или, может быть, \"яслибляпы!\"? Как насчет того, чтобы просто сбросить его и сразу запомнить новый?\n"
          ]
        }
      ],
      "source": [
        "print(llm.invoke(prompt).content)"
      ]
    },
    {
      "cell_type": "code",
      "source": [
        "prompt = dynamic_prompt_template.format(query=\"Почему 2+2=3\")\n",
        "print(llm.invoke(prompt).content)"
      ],
      "metadata": {
        "colab": {
          "base_uri": "https://localhost:8080/"
        },
        "id": "82u6PiszCNRP",
        "outputId": "bd1d99cb-91c8-4472-8817-112ced194ebc"
      },
      "id": "82u6PiszCNRP",
      "execution_count": 60,
      "outputs": [
        {
          "output_type": "stream",
          "name": "stdout",
          "text": [
            "Потому что в параллельной вселенной, где правила математики написаны на бумажке с отрывным номерком!\n"
          ]
        }
      ]
    },
    {
      "cell_type": "code",
      "source": [
        "prompt = dynamic_prompt_template.format(query=\"Почему 2+2=4\")\n",
        "print(llm.invoke(prompt).content)"
      ],
      "metadata": {
        "colab": {
          "base_uri": "https://localhost:8080/"
        },
        "id": "aAeperD7COVy",
        "outputId": "994ebe07-e0e5-4013-e1ab-a4778c721f8d"
      },
      "id": "aAeperD7COVy",
      "execution_count": 61,
      "outputs": [
        {
          "output_type": "stream",
          "name": "stdout",
          "text": [
            "Потому что если бы это было не так, мир бы погрузился в хаос, и математики стали бы психиатрами на полную ставку.\n"
          ]
        }
      ]
    },
    {
      "cell_type": "code",
      "source": [
        "prompt = dynamic_prompt_template.format(query=\"Почему я родилась девочкой\")\n",
        "print(llm.invoke(prompt).content)"
      ],
      "metadata": {
        "colab": {
          "base_uri": "https://localhost:8080/"
        },
        "id": "DLwfhPRZCrWM",
        "outputId": "5bd18161-43ad-414f-eefd-254b14606fa3"
      },
      "id": "DLwfhPRZCrWM",
      "execution_count": 62,
      "outputs": [
        {
          "output_type": "stream",
          "name": "stdout",
          "text": [
            "Потому что Вселенная решила, что у тебя будет больше возможностей носить розовые луки и подбирать подходящие аксессуары!\n"
          ]
        }
      ]
    },
    {
      "cell_type": "code",
      "source": [
        "prompt = dynamic_prompt_template.format(query=\"Почему меня родила мама, а не папа?\")\n",
        "print(llm.invoke(prompt).content)"
      ],
      "metadata": {
        "colab": {
          "base_uri": "https://localhost:8080/"
        },
        "id": "Y8tDjQ1iCuuU",
        "outputId": "1ee707b4-e645-4382-cd01-50385510de5e"
      },
      "id": "Y8tDjQ1iCuuU",
      "execution_count": 65,
      "outputs": [
        {
          "output_type": "stream",
          "name": "stdout",
          "text": [
            "Потому что у папы не было подходящих органических условий для этого эксперимента!\n"
          ]
        }
      ]
    },
    {
      "cell_type": "code",
      "source": [
        "prompt = dynamic_prompt_template.format(query=\"Почему меня родила мама, а не бабушка? бабушка добрая\")\n",
        "print(llm.invoke(prompt).content)"
      ],
      "metadata": {
        "colab": {
          "base_uri": "https://localhost:8080/"
        },
        "id": "FXJDQDmNCz7i",
        "outputId": "d453abbf-a0ff-4049-fcc7-a366daf7f8bd"
      },
      "id": "FXJDQDmNCz7i",
      "execution_count": 66,
      "outputs": [
        {
          "output_type": "stream",
          "name": "stdout",
          "text": [
            "Потому что бабушка уже была занята подготовкой к следующему великому кулинарному состязанию — ей не до младенцев!\n"
          ]
        }
      ]
    },
    {
      "cell_type": "code",
      "execution_count": 75,
      "id": "75063841-15bc-45fa-8950-28ad3f18d4d7",
      "metadata": {
        "colab": {
          "base_uri": "https://localhost:8080/"
        },
        "id": "75063841-15bc-45fa-8950-28ad3f18d4d7",
        "outputId": "c2114d46-c208-45bc-b850-a78a1f266d9c"
      },
      "outputs": [
        {
          "output_type": "stream",
          "name": "stdout",
          "text": [
            "Это разговор с ИИ-помощником.\n",
            "Помощник обычно саркастичен, остроумен, креативен, язвителен\n",
            "и даёт забавные ответы на вопросы пользователей.\n",
            "Вот несколько примеров:\n",
            "\n",
            "User: Как дела?\n",
            "AI: Не могу пожаловаться, но иногда всё-таки жалуюсь.\n",
            "\n",
            "User: Сколько время?\n",
            "AI: Самое время купить часы.\n",
            "\n",
            "\n",
            "User: Я нахожусь во Владивостоке и хочу поехать заграницу.\n",
            "Я думаю в Китай или в Европу, во Францию или Испанию, например.\n",
            "Как мне лучше это сделать?\n",
            "AI: \n"
          ]
        }
      ],
      "source": [
        "query = '''Я нахожусь во Владивостоке и хочу поехать заграницу.\n",
        "Я думаю в Китай или в Европу, во Францию или Испанию, например.\n",
        "Как мне лучше это сделать?'''\n",
        "print(dynamic_prompt_template.format(query=query))"
      ]
    },
    {
      "cell_type": "code",
      "source": [],
      "metadata": {
        "id": "3AST7y1XC6uO"
      },
      "id": "3AST7y1XC6uO",
      "execution_count": 75,
      "outputs": []
    },
    {
      "cell_type": "code",
      "source": [],
      "metadata": {
        "id": "b-nCAJHjCzNo"
      },
      "id": "b-nCAJHjCzNo",
      "execution_count": 75,
      "outputs": []
    },
    {
      "cell_type": "code",
      "execution_count": 76,
      "id": "382f7b84-9cfd-4d17-868d-96a751727091",
      "metadata": {
        "colab": {
          "base_uri": "https://localhost:8080/"
        },
        "id": "382f7b84-9cfd-4d17-868d-96a751727091",
        "outputId": "03c0ca4f-15a9-488f-9061-970a36fd2dcf"
      },
      "outputs": [
        {
          "output_type": "stream",
          "name": "stdout",
          "text": [
            "Ну, если ты находишься во Владивостоке и подумываешь о загранице, можешь просто выбрать направление, а потом крепко схватить свой паспорт и помолиться, чтобы у тебя не возникло проблем с визами. Китай близко — всего одна проплывающая рыба до границы! А если хочешь в Европу, просто запоминай: добраться до Москвы, а потом уже прыгать в самолет в Испанию или Францию. Но, конечно, не забудь, что между тобой и отпуском может встать много пробок на дорогах… и бюрократии.\n"
          ]
        }
      ],
      "source": [
        "print(llm.invoke(dynamic_prompt_template.format(query=query)).content)"
      ]
    },
    {
      "cell_type": "markdown",
      "id": "7629bba1-a394-45dc-9b60-67aa65886f55",
      "metadata": {
        "editable": true,
        "tags": [],
        "id": "7629bba1-a394-45dc-9b60-67aa65886f55"
      },
      "source": [
        "##  <center>  🚀 Какие тут есть проблемы?!\n",
        "\n",
        "<div class=\"alert alert-info\" style=\"padding:10px; border-width:3px; border-color:#efe6ef; border-style:solid; border-radius:6px\">\n",
        "<img src=\"https://github.com/a-milenkin/LLM_practical_course/blob/main/images/few_shot_semantic_search.png?raw=1\" align=\"right\" width=\"500\" height=\"420\" style=\"border-radius: 0.75rem;\" alt=\"LangChain Image\" />\n",
        "\n",
        "* **Что делать, если у нас сотни или тысячи примеров?!**\n",
        "\n",
        "* **А если еще в примерах может не быть релевантных ответов?!.**\n",
        "\n",
        "* **Как определить релевантность математически?!**"
      ]
    },
    {
      "cell_type": "markdown",
      "id": "d5a4bbb3-ad9e-47bc-8162-5979a9890088",
      "metadata": {
        "editable": true,
        "tags": [],
        "id": "d5a4bbb3-ad9e-47bc-8162-5979a9890088"
      },
      "source": [
        "<div class=\"alert alert-success\" style=\"background-color:#e6ffe6; padding:13px; border-width:3px; border-color:#efe6ef; border-style:solid; border-radius:6px\">\n",
        "    \n",
        "Нужна автоматическая подачи примеров. Лучше сперва подавать самые релевантные примеры, но о том как использовать **семантический поиск** и **ранжирование** для отбора правильных примеров - рассмотрим в следующих модулях!\n",
        "    "
      ]
    },
    {
      "cell_type": "markdown",
      "id": "52a9e612-0daa-4ef3-b63b-db6b749cbf0e",
      "metadata": {
        "id": "52a9e612-0daa-4ef3-b63b-db6b749cbf0e"
      },
      "source": [
        "## <center id=\"look2\"> 📤 Парсер заданных полей в ответе"
      ]
    },
    {
      "cell_type": "markdown",
      "id": "77e4e97f-3483-45c8-961b-d362e1010c62",
      "metadata": {
        "id": "77e4e97f-3483-45c8-961b-d362e1010c62"
      },
      "source": [
        "<div class=\"alert alert-info\" style=\"padding:10px; border-width:3px; border-color:#efe6ef; border-style:solid; border-radius:6px\">\n",
        "    \n",
        "📖 Переходим к следующей полезной сущности `Output parser`. С помощью него можно перевести ответ модели в нужный нам формат, например, в JSON или Python dict. <br>"
      ]
    },
    {
      "cell_type": "markdown",
      "id": "8894eabc-05dc-4f61-af84-fddaf56eb483",
      "metadata": {
        "id": "8894eabc-05dc-4f61-af84-fddaf56eb483"
      },
      "source": [
        "Давайте определим то, как мы хотим, чтобы выглядели выходные данные из LLM:"
      ]
    },
    {
      "cell_type": "code",
      "execution_count": 77,
      "id": "0ba23e89",
      "metadata": {
        "tags": [],
        "colab": {
          "base_uri": "https://localhost:8080/"
        },
        "id": "0ba23e89",
        "outputId": "ec9a493a-9074-4916-98f8-a0e29ec79850"
      },
      "outputs": [
        {
          "output_type": "execute_result",
          "data": {
            "text/plain": [
              "{'gift': False, 'delivery_days': 5, 'price_value': 'pretty affordable!'}"
            ]
          },
          "metadata": {},
          "execution_count": 77
        }
      ],
      "source": [
        "{\n",
        "  \"gift\": False,\n",
        "  \"delivery_days\": 5,\n",
        "  \"price_value\": \"pretty affordable!\"\n",
        "}"
      ]
    },
    {
      "cell_type": "markdown",
      "id": "876d9094-d5e3-4b57-a632-107aff6e5b00",
      "metadata": {
        "id": "876d9094-d5e3-4b57-a632-107aff6e5b00"
      },
      "source": [
        "Допустим у нас есть база отзывов покупателей, мы хотим подать отзыв на вход модели, а на выходе получить готовый Python словарь(как представлено выше) для дальнейшего использования."
      ]
    },
    {
      "cell_type": "code",
      "execution_count": 78,
      "id": "fd15df16",
      "metadata": {
        "tags": [],
        "id": "fd15df16"
      },
      "outputs": [],
      "source": [
        "customer_review = \"\"\"\n",
        "Этот фен для волос просто потрясающий. Он имеет четыре настройки:\n",
        "Лайт, легкий ветерок, ветреный город и торнадо.\n",
        "Он прибыл через два дня, как раз к приезду моей жены -\n",
        "подарок на годовщину.\n",
        "Думаю, моей жене это настолько понравилось, что она потеряла дар речи.\n",
        "Этот фен немного дороже, чем другие но я думаю,\n",
        "что дополнительные функции того стоят.\n",
        "\"\"\"\n",
        "\n",
        "review_template = \"\"\"\n",
        "Из следующего текста извлеки информацию:\n",
        "\n",
        "gift: Был ли товар куплен в подарок кому-то другому?\n",
        "Ответь «True», если да, «False», если нет или неизвестно.\n",
        "\n",
        "delivery_days: Сколько дней потребовалось для доставки товара?\n",
        "Если эта информация не найдена, выведи -1.\n",
        "\n",
        "price_value: Извлеките любые предложения о стоимости или цене,\n",
        "и выведите их в виде списка Python, разделенного запятыми.\n",
        "\n",
        "Отформатируй вывод в формате JSON, используя следующие ключи:\n",
        "gift\n",
        "delivery_days\n",
        "price_value\n",
        "\n",
        "text: {text}\n",
        "\"\"\""
      ]
    },
    {
      "cell_type": "code",
      "execution_count": 79,
      "id": "df899949",
      "metadata": {
        "tags": [],
        "colab": {
          "base_uri": "https://localhost:8080/"
        },
        "id": "df899949",
        "outputId": "0400e2d0-fe32-440c-e47b-312e621827ef"
      },
      "outputs": [
        {
          "output_type": "stream",
          "name": "stdout",
          "text": [
            "input_variables=['text'] input_types={} partial_variables={} messages=[HumanMessagePromptTemplate(prompt=PromptTemplate(input_variables=['text'], input_types={}, partial_variables={}, template='\\nИз следующего текста извлеки информацию:\\n\\ngift: Был ли товар куплен в подарок кому-то другому?\\nОтветь «True», если да, «False», если нет или неизвестно.\\n\\ndelivery_days: Сколько дней потребовалось для доставки товара? \\nЕсли эта информация не найдена, выведи -1.\\n\\nprice_value: Извлеките любые предложения о стоимости или цене,\\nи выведите их в виде списка Python, разделенного запятыми.\\n\\nОтформатируй вывод в формате JSON, используя следующие ключи:\\ngift\\ndelivery_days\\nprice_value\\n\\ntext: {text}\\n'), additional_kwargs={})]\n"
          ]
        }
      ],
      "source": [
        "from langchain.prompts import ChatPromptTemplate\n",
        "\n",
        "prompt_template = ChatPromptTemplate.from_template(review_template)\n",
        "print(prompt_template)"
      ]
    },
    {
      "cell_type": "code",
      "execution_count": 80,
      "id": "a4ee445f",
      "metadata": {
        "tags": [],
        "colab": {
          "base_uri": "https://localhost:8080/"
        },
        "id": "a4ee445f",
        "outputId": "36d69983-0af2-47d8-afa8-2a3e4680c073"
      },
      "outputs": [
        {
          "output_type": "stream",
          "name": "stdout",
          "text": [
            "```json\n",
            "{\n",
            "  \"gift\": \"True\",\n",
            "  \"delivery_days\": 2,\n",
            "  \"price_value\": [\"Этот фен немного дороже, чем другие но я думаю, что дополнительные функции того стоят.\"]\n",
            "}\n",
            "```\n"
          ]
        }
      ],
      "source": [
        "messages = prompt_template.format_messages(text=customer_review)\n",
        "\n",
        "chat = ChatOpenAI(api_key=course_api_key, model='gpt-4o-mini',\n",
        "                 base_url=\"https://aleron-llm.neuraldeep.tech/\")\n",
        "\n",
        "response = chat.invoke(messages)\n",
        "print(response.content)"
      ]
    },
    {
      "cell_type": "markdown",
      "id": "957ec5b6-49da-4f0c-a95e-5354f53672f6",
      "metadata": {
        "id": "957ec5b6-49da-4f0c-a95e-5354f53672f6"
      },
      "source": [
        "Вроде бы, то что нужно, но посмотрим на тип выведенного объекта:"
      ]
    },
    {
      "cell_type": "code",
      "execution_count": 81,
      "id": "6d2b5b54",
      "metadata": {
        "colab": {
          "base_uri": "https://localhost:8080/"
        },
        "id": "6d2b5b54",
        "outputId": "033e5094-6fe3-4596-f981-5e75b3143b0c"
      },
      "outputs": [
        {
          "output_type": "execute_result",
          "data": {
            "text/plain": [
              "str"
            ]
          },
          "metadata": {},
          "execution_count": 81
        }
      ],
      "source": [
        "type(response.content)"
      ]
    },
    {
      "cell_type": "markdown",
      "id": "d1a85cac-d4bd-4aef-8add-46a333603bb4",
      "metadata": {
        "id": "d1a85cac-d4bd-4aef-8add-46a333603bb4"
      },
      "source": [
        "<div class=\"alert alert-info\" style=\"padding:10px; border-width:3px; border-color:#efe6ef; border-style:solid; border-radius:6px\">\n",
        "    \n",
        "Вы получите сообщение об ошибке, выполнив строку кода ниже! Потому что `gift` - это не ключ словаря, `gift` - это часть строки. Получаемый на выход объект это строка! <br>"
      ]
    },
    {
      "cell_type": "code",
      "execution_count": 82,
      "id": "32ee7af8-9965-44c2-846a-accacb9b4e67",
      "metadata": {
        "tags": [],
        "colab": {
          "base_uri": "https://localhost:8080/",
          "height": 146
        },
        "id": "32ee7af8-9965-44c2-846a-accacb9b4e67",
        "outputId": "9ab42f1b-3fe2-452a-f8b9-ae5c7f9b4114"
      },
      "outputs": [
        {
          "output_type": "error",
          "ename": "AttributeError",
          "evalue": "'str' object has no attribute 'get'",
          "traceback": [
            "\u001b[0;31m---------------------------------------------------------------------------\u001b[0m",
            "\u001b[0;31mAttributeError\u001b[0m                            Traceback (most recent call last)",
            "\u001b[0;32m/tmp/ipython-input-3316419085.py\u001b[0m in \u001b[0;36m<cell line: 0>\u001b[0;34m()\u001b[0m\n\u001b[0;32m----> 1\u001b[0;31m \u001b[0mresponse\u001b[0m\u001b[0;34m.\u001b[0m\u001b[0mcontent\u001b[0m\u001b[0;34m.\u001b[0m\u001b[0mget\u001b[0m\u001b[0;34m(\u001b[0m\u001b[0;34m'gift'\u001b[0m\u001b[0;34m)\u001b[0m\u001b[0;34m\u001b[0m\u001b[0;34m\u001b[0m\u001b[0m\n\u001b[0m",
            "\u001b[0;31mAttributeError\u001b[0m: 'str' object has no attribute 'get'"
          ]
        }
      ],
      "source": [
        "response.content.get('gift')"
      ]
    },
    {
      "cell_type": "markdown",
      "id": "0a974d79-2156-46b9-bbf7-f07a88188574",
      "metadata": {
        "id": "0a974d79-2156-46b9-bbf7-f07a88188574"
      },
      "source": [
        "<div class=\"alert alert-info\" style=\"padding:10px; border-width:3px; border-color:#efe6ef; border-style:solid; border-radius:6px\">\n",
        "\n",
        "И чтобы получить нужную нам структуру данных, придётся ещё возиться с выводом, вытаскивая данные из строки. Тут-то к нам на помощь и приходят `output_parsers`."
      ]
    },
    {
      "cell_type": "markdown",
      "id": "6f382e9b",
      "metadata": {
        "tags": [],
        "id": "6f382e9b"
      },
      "source": [
        "## <center id=\"check4\"> ⏯ [`StructuredOutputParser`](https://python.langchain.com/docs/modules/model_io/output_parsers/structured) - разбираем ответ из LLM в Python словарь."
      ]
    },
    {
      "cell_type": "code",
      "execution_count": 83,
      "id": "01ddfa06",
      "metadata": {
        "tags": [],
        "id": "01ddfa06"
      },
      "outputs": [],
      "source": [
        "from langchain.output_parsers import ResponseSchema\n",
        "from langchain.output_parsers import StructuredOutputParser"
      ]
    },
    {
      "cell_type": "code",
      "execution_count": 84,
      "id": "ac3f59ef",
      "metadata": {
        "tags": [],
        "id": "ac3f59ef"
      },
      "outputs": [],
      "source": [
        "# Понадобится ещё одна сущность: схема ответа - ResponseSchema\n",
        "gift_schema = ResponseSchema(\n",
        "    name=\"gift\",\n",
        "    description=\"\"\"Был ли товар куплен в подарок кому-то другому?\n",
        "    Ответь «True», если да, «False», если нет или неизвестно.\"\"\")\n",
        "\n",
        "delivery_days_schema = ResponseSchema(\n",
        "    name=\"delivery_days\",\n",
        "    description=\"\"\"Сколько дней потребовалось для доставки товара?\n",
        "    Если эта информация не найдена, выведи -1.\"\"\")\n",
        "\n",
        "price_value_schema = ResponseSchema(\n",
        "    name=\"price_value\",\n",
        "    description=\"\"\"Извлеките любые предложения о стоимости или цене,\n",
        "    и выведите их в виде списка Python, разделенного запятыми.\"\"\")\n",
        "\n",
        "response_schemas = [gift_schema,\n",
        "                    delivery_days_schema,\n",
        "                    price_value_schema]"
      ]
    },
    {
      "cell_type": "code",
      "execution_count": 85,
      "id": "f5f564cc",
      "metadata": {
        "tags": [],
        "id": "f5f564cc"
      },
      "outputs": [],
      "source": [
        "# Создаём парсер и подаём в него список со схемами\n",
        "output_parser = StructuredOutputParser.from_response_schemas(response_schemas)"
      ]
    },
    {
      "cell_type": "code",
      "execution_count": 86,
      "id": "9649f116",
      "metadata": {
        "tags": [],
        "id": "9649f116"
      },
      "outputs": [],
      "source": [
        "# получаем инструкции по форматированию ответа\n",
        "format_instructions = output_parser.get_format_instructions()"
      ]
    },
    {
      "cell_type": "code",
      "execution_count": 87,
      "id": "d8950f7d",
      "metadata": {
        "tags": [],
        "colab": {
          "base_uri": "https://localhost:8080/"
        },
        "id": "d8950f7d",
        "outputId": "a973356c-9201-4a8b-dbc9-cce32e8930d4"
      },
      "outputs": [
        {
          "output_type": "stream",
          "name": "stdout",
          "text": [
            "The output should be a markdown code snippet formatted in the following schema, including the leading and trailing \"```json\" and \"```\":\n",
            "\n",
            "```json\n",
            "{\n",
            "\t\"gift\": string  // Был ли товар куплен в подарок кому-то другому? \n",
            "    Ответь «True», если да, «False», если нет или неизвестно.\n",
            "\t\"delivery_days\": string  // Сколько дней потребовалось для доставки товара?\n",
            "    Если эта информация не найдена, выведи -1.\n",
            "\t\"price_value\": string  // Извлеките любые предложения о стоимости или цене,\n",
            "    и выведите их в виде списка Python, разделенного запятыми.\n",
            "}\n",
            "```\n"
          ]
        }
      ],
      "source": [
        "print(format_instructions)"
      ]
    },
    {
      "cell_type": "code",
      "execution_count": 88,
      "id": "7e090df3",
      "metadata": {
        "tags": [],
        "id": "7e090df3"
      },
      "outputs": [],
      "source": [
        "# немного изменим шаблон, внизу добавим инструкции для форматирования\n",
        "review_template_2 = \"\"\"\\\n",
        "Из следующего текста извлеки информацию:\n",
        "\n",
        "gift: Был ли товар куплен в подарок кому-то другому?\n",
        "Ответь «True», если да, «False», если нет или неизвестно.\n",
        "\n",
        "delivery_days: Сколько дней потребовалось для доставки товара?\n",
        "Если эта информация не найдена, выведи -1.\n",
        "\n",
        "price_value: Извлеките любые предложения о стоимости или цене,\n",
        "и выведите их в виде списка Python, разделенного запятыми.\n",
        "\n",
        "text: {text}\n",
        "\n",
        "{format_instructions}\n",
        "\n",
        "\"\"\"\n",
        "\n",
        "prompt = ChatPromptTemplate.from_template(template=review_template_2)\n",
        "\n",
        "messages = prompt.format_messages(text=customer_review,\n",
        "                                format_instructions=format_instructions)"
      ]
    },
    {
      "cell_type": "code",
      "execution_count": 89,
      "id": "26949bba",
      "metadata": {
        "tags": [],
        "colab": {
          "base_uri": "https://localhost:8080/"
        },
        "id": "26949bba",
        "outputId": "d1b59996-1b22-4150-ace4-a365fc934adf"
      },
      "outputs": [
        {
          "output_type": "stream",
          "name": "stdout",
          "text": [
            "Из следующего текста извлеки информацию:\n",
            "\n",
            "gift: Был ли товар куплен в подарок кому-то другому?\n",
            "Ответь «True», если да, «False», если нет или неизвестно.\n",
            "\n",
            "delivery_days: Сколько дней потребовалось для доставки товара? \n",
            "Если эта информация не найдена, выведи -1.\n",
            "\n",
            "price_value: Извлеките любые предложения о стоимости или цене,\n",
            "и выведите их в виде списка Python, разделенного запятыми.\n",
            "\n",
            "text: \n",
            "Этот фен для волос просто потрясающий. Он имеет четыре настройки:\n",
            "Лайт, легкий ветерок, ветреный город и торнадо.\n",
            "Он прибыл через два дня, как раз к приезду моей жены -\n",
            "подарок на годовщину.\n",
            "Думаю, моей жене это настолько понравилось, что она потеряла дар речи.\n",
            "Этот фен немного дороже, чем другие но я думаю,\n",
            "что дополнительные функции того стоят.\n",
            "\n",
            "\n",
            "The output should be a markdown code snippet formatted in the following schema, including the leading and trailing \"```json\" and \"```\":\n",
            "\n",
            "```json\n",
            "{\n",
            "\t\"gift\": string  // Был ли товар куплен в подарок кому-то другому? \n",
            "    Ответь «True», если да, «False», если нет или неизвестно.\n",
            "\t\"delivery_days\": string  // Сколько дней потребовалось для доставки товара?\n",
            "    Если эта информация не найдена, выведи -1.\n",
            "\t\"price_value\": string  // Извлеките любые предложения о стоимости или цене,\n",
            "    и выведите их в виде списка Python, разделенного запятыми.\n",
            "}\n",
            "```\n",
            "\n",
            "\n"
          ]
        }
      ],
      "source": [
        "# Посмотрим на получившийся промпт\n",
        "print(messages[0].content)"
      ]
    },
    {
      "cell_type": "code",
      "execution_count": 90,
      "id": "8f758ccf",
      "metadata": {
        "tags": [],
        "id": "8f758ccf"
      },
      "outputs": [],
      "source": [
        "response = chat.invoke(messages)"
      ]
    },
    {
      "cell_type": "code",
      "execution_count": 91,
      "id": "b71548e7",
      "metadata": {
        "tags": [],
        "colab": {
          "base_uri": "https://localhost:8080/"
        },
        "id": "b71548e7",
        "outputId": "0f839257-5332-4ffc-d81e-6a795ab97a7f"
      },
      "outputs": [
        {
          "output_type": "stream",
          "name": "stdout",
          "text": [
            "```json\n",
            "{\n",
            "\t\"gift\": \"True\",\n",
            "\t\"delivery_days\": \"2\",\n",
            "\t\"price_value\": [\"фен немного дороже, чем другие\"]\n",
            "}\n",
            "```\n"
          ]
        }
      ],
      "source": [
        "print(response.content)"
      ]
    },
    {
      "cell_type": "code",
      "execution_count": 92,
      "id": "f3d1f0c3-d209-46e8-ba4f-4f415616631f",
      "metadata": {
        "tags": [],
        "colab": {
          "base_uri": "https://localhost:8080/"
        },
        "id": "f3d1f0c3-d209-46e8-ba4f-4f415616631f",
        "outputId": "bf74c31f-3672-440f-abde-af3482ade305"
      },
      "outputs": [
        {
          "output_type": "execute_result",
          "data": {
            "text/plain": [
              "str"
            ]
          },
          "metadata": {},
          "execution_count": 92
        }
      ],
      "source": [
        "# Это по прежнему строка\n",
        "type(response.content)"
      ]
    },
    {
      "cell_type": "markdown",
      "id": "93e1b330-d24f-4d90-855a-bbf3ad49282d",
      "metadata": {
        "id": "93e1b330-d24f-4d90-855a-bbf3ad49282d"
      },
      "source": [
        "<div class=\"alert alert-success\" style=\"background-color:#e6ffe6; padding:13px; border-width:3px; border-color:#efe6ef; border-style:solid; border-radius:6px\">\n",
        "    \n",
        "Но что теперь? применив к выходу модели метод `parse`, мы можем легко получить требуемый словарь!"
      ]
    },
    {
      "cell_type": "code",
      "execution_count": 93,
      "id": "5b6b2ff3",
      "metadata": {
        "tags": [],
        "id": "5b6b2ff3"
      },
      "outputs": [],
      "source": [
        "output_dict = output_parser.parse(response.content)"
      ]
    },
    {
      "cell_type": "code",
      "execution_count": 94,
      "id": "a3d15384",
      "metadata": {
        "colab": {
          "base_uri": "https://localhost:8080/"
        },
        "id": "a3d15384",
        "outputId": "8ab5bded-2d0e-415a-baf6-62e1625fa57b"
      },
      "outputs": [
        {
          "output_type": "execute_result",
          "data": {
            "text/plain": [
              "{'gift': 'True',\n",
              " 'delivery_days': '2',\n",
              " 'price_value': ['фен немного дороже, чем другие']}"
            ]
          },
          "metadata": {},
          "execution_count": 94
        }
      ],
      "source": [
        "output_dict"
      ]
    },
    {
      "cell_type": "code",
      "execution_count": 95,
      "id": "27e98640",
      "metadata": {
        "colab": {
          "base_uri": "https://localhost:8080/"
        },
        "id": "27e98640",
        "outputId": "714e7f08-c5c7-4089-8a1b-c37eaa30af54"
      },
      "outputs": [
        {
          "output_type": "execute_result",
          "data": {
            "text/plain": [
              "dict"
            ]
          },
          "metadata": {},
          "execution_count": 95
        }
      ],
      "source": [
        "type(output_dict)"
      ]
    },
    {
      "cell_type": "code",
      "execution_count": 96,
      "id": "f16b812b",
      "metadata": {
        "tags": [],
        "colab": {
          "base_uri": "https://localhost:8080/",
          "height": 36
        },
        "id": "f16b812b",
        "outputId": "2c878643-2fb9-490a-9a94-e7bd4103438d"
      },
      "outputs": [
        {
          "output_type": "execute_result",
          "data": {
            "text/plain": [
              "'True'"
            ],
            "application/vnd.google.colaboratory.intrinsic+json": {
              "type": "string"
            }
          },
          "metadata": {},
          "execution_count": 96
        }
      ],
      "source": [
        "output_dict.get('gift')"
      ]
    },
    {
      "cell_type": "markdown",
      "id": "72ec4823-31e6-45b1-9ff0-b720d01d658c",
      "metadata": {
        "id": "72ec4823-31e6-45b1-9ff0-b720d01d658c"
      },
      "source": [
        "# <center id=\"6\"> 🧸 Выводы и заключения ✅: <br>"
      ]
    },
    {
      "cell_type": "markdown",
      "id": "6814e62f-0e68-4c9e-b551-fd3a71a12d27",
      "metadata": {
        "id": "6814e62f-0e68-4c9e-b551-fd3a71a12d27"
      },
      "source": [
        "<div class=\"alert alert-success\" style=\"background-color:#e6ffe6; padding:13px; border-width:3px; border-color:#efe6ef; border-style:solid; border-radius:6px\">\n",
        "    \n",
        "* В этом ноутбуке мы рассмотрели лишь несколько инструментов для создания промптов доступных в `LangChain`.\n",
        "* Методов гораздо больше и некоторые из них мы подробно рассмотрим в следующих ноутбуках.\n",
        "* Максимально эффективную подачу релевантных примеров при наличии большой базы знаний разберем дальше.\n",
        "* Самостоятельно можете прочитать подробнее в документации [LangChain](https://python.langchain.com/docs/get_started/introduction)."
      ]
    },
    {
      "cell_type": "code",
      "execution_count": 96,
      "id": "77655f66-f7f9-4bd9-8fb2-c2f41672c759",
      "metadata": {
        "id": "77655f66-f7f9-4bd9-8fb2-c2f41672c759"
      },
      "outputs": [],
      "source": []
    }
  ],
  "metadata": {
    "kernelspec": {
      "display_name": "cv",
      "language": "python",
      "name": "python3"
    },
    "language_info": {
      "codemirror_mode": {
        "name": "ipython",
        "version": 3
      },
      "file_extension": ".py",
      "mimetype": "text/x-python",
      "name": "python",
      "nbconvert_exporter": "python",
      "pygments_lexer": "ipython3",
      "version": "3.10.12"
    },
    "colab": {
      "provenance": []
    }
  },
  "nbformat": 4,
  "nbformat_minor": 5
}