{
  "cells": [
    {
      "cell_type": "code",
      "execution_count": 1,
      "metadata": {
        "id": "yWX4CHjTEb6a",
        "outputId": "ddf7f781-4aee-4223-acf0-8b352fc8bc89",
        "colab": {
          "base_uri": "https://localhost:8080/"
        }
      },
      "outputs": [
        {
          "output_type": "stream",
          "name": "stdout",
          "text": [
            "\u001b[?25l   \u001b[90m━━━━━━━━━━━━━━━━━━━━━━━━━━━━━━━━━━━━━━━━\u001b[0m \u001b[32m0.0/945.2 kB\u001b[0m \u001b[31m?\u001b[0m eta \u001b[36m-:--:--\u001b[0m\r\u001b[2K   \u001b[91m━━━━━━━━━━━━━━━━━━━━━━━━━━━━━━━━━━━━━\u001b[0m\u001b[90m╺\u001b[0m\u001b[90m━━\u001b[0m \u001b[32m880.6/945.2 kB\u001b[0m \u001b[31m26.7 MB/s\u001b[0m eta \u001b[36m0:00:01\u001b[0m\r\u001b[2K   \u001b[90m━━━━━━━━━━━━━━━━━━━━━━━━━━━━━━━━━━━━━━━━\u001b[0m \u001b[32m945.2/945.2 kB\u001b[0m \u001b[31m18.5 MB/s\u001b[0m eta \u001b[36m0:00:00\u001b[0m\n",
            "\u001b[?25h\u001b[?25l   \u001b[90m━━━━━━━━━━━━━━━━━━━━━━━━━━━━━━━━━━━━━━━━\u001b[0m \u001b[32m0.0/75.0 kB\u001b[0m \u001b[31m?\u001b[0m eta \u001b[36m-:--:--\u001b[0m\r\u001b[2K   \u001b[90m━━━━━━━━━━━━━━━━━━━━━━━━━━━━━━━━━━━━━━━━\u001b[0m \u001b[32m75.0/75.0 kB\u001b[0m \u001b[31m7.0 MB/s\u001b[0m eta \u001b[36m0:00:00\u001b[0m\n",
            "\u001b[2K   \u001b[90m━━━━━━━━━━━━━━━━━━━━━━━━━━━━━━━━━━━━━━━━\u001b[0m \u001b[32m2.5/2.5 MB\u001b[0m \u001b[31m44.1 MB/s\u001b[0m eta \u001b[36m0:00:00\u001b[0m\n",
            "\u001b[2K   \u001b[90m━━━━━━━━━━━━━━━━━━━━━━━━━━━━━━━━━━━━━━━━\u001b[0m \u001b[32m447.5/447.5 kB\u001b[0m \u001b[31m33.1 MB/s\u001b[0m eta \u001b[36m0:00:00\u001b[0m\n",
            "\u001b[2K   \u001b[90m━━━━━━━━━━━━━━━━━━━━━━━━━━━━━━━━━━━━━━━━\u001b[0m \u001b[32m64.7/64.7 kB\u001b[0m \u001b[31m5.1 MB/s\u001b[0m eta \u001b[36m0:00:00\u001b[0m\n",
            "\u001b[2K   \u001b[90m━━━━━━━━━━━━━━━━━━━━━━━━━━━━━━━━━━━━━━━━\u001b[0m \u001b[32m50.9/50.9 kB\u001b[0m \u001b[31m3.9 MB/s\u001b[0m eta \u001b[36m0:00:00\u001b[0m\n",
            "\u001b[?25h\u001b[31mERROR: pip's dependency resolver does not currently take into account all the packages that are installed. This behaviour is the source of the following dependency conflicts.\n",
            "google-colab 1.0.0 requires requests==2.32.4, but you have requests 2.32.5 which is incompatible.\u001b[0m\u001b[31m\n",
            "\u001b[0m"
          ]
        }
      ],
      "source": [
        "!pip install openai langchain langchain-openai langchain-community -q -U"
      ]
    },
    {
      "cell_type": "markdown",
      "metadata": {
        "id": "l2Nn2MklEgyC"
      },
      "source": [
        "## Если используете ключ от OpenAI, запустите эту ячейку 👇"
      ]
    },
    {
      "cell_type": "code",
      "execution_count": 2,
      "metadata": {
        "id": "eL3AQn88EgGa",
        "outputId": "7ebeee76-72be-441c-ea2e-1abacab275eb",
        "colab": {
          "base_uri": "https://localhost:8080/",
          "height": 280
        }
      },
      "outputs": [
        {
          "output_type": "error",
          "ename": "KeyboardInterrupt",
          "evalue": "",
          "traceback": [
            "\u001b[0;31m---------------------------------------------------------------------------\u001b[0m",
            "\u001b[0;31mKeyboardInterrupt\u001b[0m                         Traceback (most recent call last)",
            "\u001b[0;32m/tmp/ipython-input-631914790.py\u001b[0m in \u001b[0;36m<cell line: 0>\u001b[0;34m()\u001b[0m\n\u001b[1;32m      1\u001b[0m \u001b[0;32mimport\u001b[0m \u001b[0mos\u001b[0m\u001b[0;34m\u001b[0m\u001b[0;34m\u001b[0m\u001b[0m\n\u001b[1;32m      2\u001b[0m \u001b[0;32mfrom\u001b[0m \u001b[0mgetpass\u001b[0m \u001b[0;32mimport\u001b[0m \u001b[0mgetpass\u001b[0m\u001b[0;34m\u001b[0m\u001b[0;34m\u001b[0m\u001b[0m\n\u001b[0;32m----> 3\u001b[0;31m \u001b[0;32mfrom\u001b[0m \u001b[0mlangchain_openai\u001b[0m \u001b[0;32mimport\u001b[0m \u001b[0mChatOpenAI\u001b[0m\u001b[0;34m\u001b[0m\u001b[0;34m\u001b[0m\u001b[0m\n\u001b[0m\u001b[1;32m      4\u001b[0m \u001b[0;34m\u001b[0m\u001b[0m\n\u001b[1;32m      5\u001b[0m \u001b[0;34m\u001b[0m\u001b[0m\n",
            "\u001b[0;32m/usr/local/lib/python3.12/dist-packages/langchain_openai/__init__.py\u001b[0m in \u001b[0;36m<module>\u001b[0;34m\u001b[0m\n\u001b[0;32m----> 1\u001b[0;31m \u001b[0;32mfrom\u001b[0m \u001b[0mlangchain_openai\u001b[0m\u001b[0;34m.\u001b[0m\u001b[0mchat_models\u001b[0m \u001b[0;32mimport\u001b[0m \u001b[0mAzureChatOpenAI\u001b[0m\u001b[0;34m,\u001b[0m \u001b[0mChatOpenAI\u001b[0m\u001b[0;34m\u001b[0m\u001b[0;34m\u001b[0m\u001b[0m\n\u001b[0m\u001b[1;32m      2\u001b[0m \u001b[0;32mfrom\u001b[0m \u001b[0mlangchain_openai\u001b[0m\u001b[0;34m.\u001b[0m\u001b[0membeddings\u001b[0m \u001b[0;32mimport\u001b[0m \u001b[0mAzureOpenAIEmbeddings\u001b[0m\u001b[0;34m,\u001b[0m \u001b[0mOpenAIEmbeddings\u001b[0m\u001b[0;34m\u001b[0m\u001b[0;34m\u001b[0m\u001b[0m\n\u001b[1;32m      3\u001b[0m \u001b[0;32mfrom\u001b[0m \u001b[0mlangchain_openai\u001b[0m\u001b[0;34m.\u001b[0m\u001b[0mllms\u001b[0m \u001b[0;32mimport\u001b[0m \u001b[0mAzureOpenAI\u001b[0m\u001b[0;34m,\u001b[0m \u001b[0mOpenAI\u001b[0m\u001b[0;34m\u001b[0m\u001b[0;34m\u001b[0m\u001b[0m\n\u001b[1;32m      4\u001b[0m \u001b[0;32mfrom\u001b[0m \u001b[0mlangchain_openai\u001b[0m\u001b[0;34m.\u001b[0m\u001b[0mtools\u001b[0m \u001b[0;32mimport\u001b[0m \u001b[0mcustom_tool\u001b[0m\u001b[0;34m\u001b[0m\u001b[0;34m\u001b[0m\u001b[0m\n\u001b[1;32m      5\u001b[0m \u001b[0;34m\u001b[0m\u001b[0m\n",
            "\u001b[0;32m/usr/local/lib/python3.12/dist-packages/langchain_openai/chat_models/__init__.py\u001b[0m in \u001b[0;36m<module>\u001b[0;34m\u001b[0m\n\u001b[0;32m----> 1\u001b[0;31m \u001b[0;32mfrom\u001b[0m \u001b[0mlangchain_openai\u001b[0m\u001b[0;34m.\u001b[0m\u001b[0mchat_models\u001b[0m\u001b[0;34m.\u001b[0m\u001b[0mazure\u001b[0m \u001b[0;32mimport\u001b[0m \u001b[0mAzureChatOpenAI\u001b[0m\u001b[0;34m\u001b[0m\u001b[0;34m\u001b[0m\u001b[0m\n\u001b[0m\u001b[1;32m      2\u001b[0m \u001b[0;32mfrom\u001b[0m \u001b[0mlangchain_openai\u001b[0m\u001b[0;34m.\u001b[0m\u001b[0mchat_models\u001b[0m\u001b[0;34m.\u001b[0m\u001b[0mbase\u001b[0m \u001b[0;32mimport\u001b[0m \u001b[0mChatOpenAI\u001b[0m\u001b[0;34m\u001b[0m\u001b[0;34m\u001b[0m\u001b[0m\n\u001b[1;32m      3\u001b[0m \u001b[0;34m\u001b[0m\u001b[0m\n\u001b[1;32m      4\u001b[0m \u001b[0m__all__\u001b[0m \u001b[0;34m=\u001b[0m \u001b[0;34m[\u001b[0m\u001b[0;34m\"ChatOpenAI\"\u001b[0m\u001b[0;34m,\u001b[0m \u001b[0;34m\"AzureChatOpenAI\"\u001b[0m\u001b[0;34m]\u001b[0m\u001b[0;34m\u001b[0m\u001b[0;34m\u001b[0m\u001b[0m\n",
            "\u001b[0;32m/usr/local/lib/python3.12/dist-packages/langchain_openai/chat_models/azure.py\u001b[0m in \u001b[0;36m<module>\u001b[0;34m\u001b[0m\n\u001b[1;32m      9\u001b[0m \u001b[0;34m\u001b[0m\u001b[0m\n\u001b[1;32m     10\u001b[0m \u001b[0;32mimport\u001b[0m \u001b[0mopenai\u001b[0m\u001b[0;34m\u001b[0m\u001b[0;34m\u001b[0m\u001b[0m\n\u001b[0;32m---> 11\u001b[0;31m \u001b[0;32mfrom\u001b[0m \u001b[0mlangchain_core\u001b[0m\u001b[0;34m.\u001b[0m\u001b[0mlanguage_models\u001b[0m \u001b[0;32mimport\u001b[0m \u001b[0mLanguageModelInput\u001b[0m\u001b[0;34m\u001b[0m\u001b[0;34m\u001b[0m\u001b[0m\n\u001b[0m\u001b[1;32m     12\u001b[0m \u001b[0;32mfrom\u001b[0m \u001b[0mlangchain_core\u001b[0m\u001b[0;34m.\u001b[0m\u001b[0mlanguage_models\u001b[0m\u001b[0;34m.\u001b[0m\u001b[0mchat_models\u001b[0m \u001b[0;32mimport\u001b[0m \u001b[0mLangSmithParams\u001b[0m\u001b[0;34m\u001b[0m\u001b[0;34m\u001b[0m\u001b[0m\n\u001b[1;32m     13\u001b[0m \u001b[0;32mfrom\u001b[0m \u001b[0mlangchain_core\u001b[0m\u001b[0;34m.\u001b[0m\u001b[0mmessages\u001b[0m \u001b[0;32mimport\u001b[0m \u001b[0mBaseMessage\u001b[0m\u001b[0;34m\u001b[0m\u001b[0;34m\u001b[0m\u001b[0m\n",
            "\u001b[0;32m/usr/lib/python3.12/importlib/_bootstrap.py\u001b[0m in \u001b[0;36m_handle_fromlist\u001b[0;34m(module, fromlist, import_, recursive)\u001b[0m\n",
            "\u001b[0;32m/usr/local/lib/python3.12/dist-packages/langchain_core/language_models/__init__.py\u001b[0m in \u001b[0;36m__getattr__\u001b[0;34m(attr_name)\u001b[0m\n\u001b[1;32m    110\u001b[0m \u001b[0;32mdef\u001b[0m \u001b[0m__getattr__\u001b[0m\u001b[0;34m(\u001b[0m\u001b[0mattr_name\u001b[0m\u001b[0;34m:\u001b[0m \u001b[0mstr\u001b[0m\u001b[0;34m)\u001b[0m \u001b[0;34m->\u001b[0m \u001b[0mobject\u001b[0m\u001b[0;34m:\u001b[0m\u001b[0;34m\u001b[0m\u001b[0;34m\u001b[0m\u001b[0m\n\u001b[1;32m    111\u001b[0m     \u001b[0mmodule_name\u001b[0m \u001b[0;34m=\u001b[0m \u001b[0m_dynamic_imports\u001b[0m\u001b[0;34m.\u001b[0m\u001b[0mget\u001b[0m\u001b[0;34m(\u001b[0m\u001b[0mattr_name\u001b[0m\u001b[0;34m)\u001b[0m\u001b[0;34m\u001b[0m\u001b[0;34m\u001b[0m\u001b[0m\n\u001b[0;32m--> 112\u001b[0;31m     \u001b[0mresult\u001b[0m \u001b[0;34m=\u001b[0m \u001b[0mimport_attr\u001b[0m\u001b[0;34m(\u001b[0m\u001b[0mattr_name\u001b[0m\u001b[0;34m,\u001b[0m \u001b[0mmodule_name\u001b[0m\u001b[0;34m,\u001b[0m \u001b[0m__spec__\u001b[0m\u001b[0;34m.\u001b[0m\u001b[0mparent\u001b[0m\u001b[0;34m)\u001b[0m\u001b[0;34m\u001b[0m\u001b[0;34m\u001b[0m\u001b[0m\n\u001b[0m\u001b[1;32m    113\u001b[0m     \u001b[0mglobals\u001b[0m\u001b[0;34m(\u001b[0m\u001b[0;34m)\u001b[0m\u001b[0;34m[\u001b[0m\u001b[0mattr_name\u001b[0m\u001b[0;34m]\u001b[0m \u001b[0;34m=\u001b[0m \u001b[0mresult\u001b[0m\u001b[0;34m\u001b[0m\u001b[0;34m\u001b[0m\u001b[0m\n\u001b[1;32m    114\u001b[0m     \u001b[0;32mreturn\u001b[0m \u001b[0mresult\u001b[0m\u001b[0;34m\u001b[0m\u001b[0;34m\u001b[0m\u001b[0m\n",
            "\u001b[0;32m/usr/local/lib/python3.12/dist-packages/langchain_core/_import_utils.py\u001b[0m in \u001b[0;36mimport_attr\u001b[0;34m(attr_name, module_name, package)\u001b[0m\n\u001b[1;32m     34\u001b[0m     \u001b[0;32melse\u001b[0m\u001b[0;34m:\u001b[0m\u001b[0;34m\u001b[0m\u001b[0;34m\u001b[0m\u001b[0m\n\u001b[1;32m     35\u001b[0m         \u001b[0;32mtry\u001b[0m\u001b[0;34m:\u001b[0m\u001b[0;34m\u001b[0m\u001b[0;34m\u001b[0m\u001b[0m\n\u001b[0;32m---> 36\u001b[0;31m             \u001b[0mmodule\u001b[0m \u001b[0;34m=\u001b[0m \u001b[0mimport_module\u001b[0m\u001b[0;34m(\u001b[0m\u001b[0;34mf\".{module_name}\"\u001b[0m\u001b[0;34m,\u001b[0m \u001b[0mpackage\u001b[0m\u001b[0;34m=\u001b[0m\u001b[0mpackage\u001b[0m\u001b[0;34m)\u001b[0m\u001b[0;34m\u001b[0m\u001b[0;34m\u001b[0m\u001b[0m\n\u001b[0m\u001b[1;32m     37\u001b[0m         \u001b[0;32mexcept\u001b[0m \u001b[0mModuleNotFoundError\u001b[0m \u001b[0;32mas\u001b[0m \u001b[0merr\u001b[0m\u001b[0;34m:\u001b[0m\u001b[0;34m\u001b[0m\u001b[0;34m\u001b[0m\u001b[0m\n\u001b[1;32m     38\u001b[0m             \u001b[0mmsg\u001b[0m \u001b[0;34m=\u001b[0m \u001b[0;34mf\"module '{package!r}.{module_name!r}' not found ({err})\"\u001b[0m\u001b[0;34m\u001b[0m\u001b[0;34m\u001b[0m\u001b[0m\n",
            "\u001b[0;32m/usr/lib/python3.12/importlib/__init__.py\u001b[0m in \u001b[0;36mimport_module\u001b[0;34m(name, package)\u001b[0m\n\u001b[1;32m     88\u001b[0m                 \u001b[0;32mbreak\u001b[0m\u001b[0;34m\u001b[0m\u001b[0;34m\u001b[0m\u001b[0m\n\u001b[1;32m     89\u001b[0m             \u001b[0mlevel\u001b[0m \u001b[0;34m+=\u001b[0m \u001b[0;36m1\u001b[0m\u001b[0;34m\u001b[0m\u001b[0;34m\u001b[0m\u001b[0m\n\u001b[0;32m---> 90\u001b[0;31m     \u001b[0;32mreturn\u001b[0m \u001b[0m_bootstrap\u001b[0m\u001b[0;34m.\u001b[0m\u001b[0m_gcd_import\u001b[0m\u001b[0;34m(\u001b[0m\u001b[0mname\u001b[0m\u001b[0;34m[\u001b[0m\u001b[0mlevel\u001b[0m\u001b[0;34m:\u001b[0m\u001b[0;34m]\u001b[0m\u001b[0;34m,\u001b[0m \u001b[0mpackage\u001b[0m\u001b[0;34m,\u001b[0m \u001b[0mlevel\u001b[0m\u001b[0;34m)\u001b[0m\u001b[0;34m\u001b[0m\u001b[0;34m\u001b[0m\u001b[0m\n\u001b[0m\u001b[1;32m     91\u001b[0m \u001b[0;34m\u001b[0m\u001b[0m\n\u001b[1;32m     92\u001b[0m \u001b[0;34m\u001b[0m\u001b[0m\n",
            "\u001b[0;32m/usr/local/lib/python3.12/dist-packages/langchain_core/language_models/base.py\u001b[0m in \u001b[0;36m<module>\u001b[0;34m\u001b[0m\n\u001b[1;32m     42\u001b[0m \u001b[0;34m\u001b[0m\u001b[0m\n\u001b[1;32m     43\u001b[0m \u001b[0;32mtry\u001b[0m\u001b[0;34m:\u001b[0m\u001b[0;34m\u001b[0m\u001b[0;34m\u001b[0m\u001b[0m\n\u001b[0;32m---> 44\u001b[0;31m     \u001b[0;32mfrom\u001b[0m \u001b[0mtransformers\u001b[0m \u001b[0;32mimport\u001b[0m \u001b[0mGPT2TokenizerFast\u001b[0m  \u001b[0;31m# type: ignore[import-not-found]\u001b[0m\u001b[0;34m\u001b[0m\u001b[0;34m\u001b[0m\u001b[0m\n\u001b[0m\u001b[1;32m     45\u001b[0m \u001b[0;34m\u001b[0m\u001b[0m\n\u001b[1;32m     46\u001b[0m     \u001b[0m_HAS_TRANSFORMERS\u001b[0m \u001b[0;34m=\u001b[0m \u001b[0;32mTrue\u001b[0m\u001b[0;34m\u001b[0m\u001b[0;34m\u001b[0m\u001b[0m\n",
            "\u001b[0;32m/usr/local/lib/python3.12/dist-packages/transformers/__init__.py\u001b[0m in \u001b[0;36m<module>\u001b[0;34m\u001b[0m\n\u001b[1;32m    948\u001b[0m     \u001b[0m_import_structure\u001b[0m \u001b[0;34m=\u001b[0m \u001b[0;34m{\u001b[0m\u001b[0mk\u001b[0m\u001b[0;34m:\u001b[0m \u001b[0mset\u001b[0m\u001b[0;34m(\u001b[0m\u001b[0mv\u001b[0m\u001b[0;34m)\u001b[0m \u001b[0;32mfor\u001b[0m \u001b[0mk\u001b[0m\u001b[0;34m,\u001b[0m \u001b[0mv\u001b[0m \u001b[0;32min\u001b[0m \u001b[0m_import_structure\u001b[0m\u001b[0;34m.\u001b[0m\u001b[0mitems\u001b[0m\u001b[0;34m(\u001b[0m\u001b[0;34m)\u001b[0m\u001b[0;34m}\u001b[0m\u001b[0;34m\u001b[0m\u001b[0;34m\u001b[0m\u001b[0m\n\u001b[1;32m    949\u001b[0m \u001b[0;34m\u001b[0m\u001b[0m\n\u001b[0;32m--> 950\u001b[0;31m     \u001b[0mimport_structure\u001b[0m \u001b[0;34m=\u001b[0m \u001b[0mdefine_import_structure\u001b[0m\u001b[0;34m(\u001b[0m\u001b[0mPath\u001b[0m\u001b[0;34m(\u001b[0m\u001b[0m__file__\u001b[0m\u001b[0;34m)\u001b[0m\u001b[0;34m.\u001b[0m\u001b[0mparent\u001b[0m \u001b[0;34m/\u001b[0m \u001b[0;34m\"models\"\u001b[0m\u001b[0;34m,\u001b[0m \u001b[0mprefix\u001b[0m\u001b[0;34m=\u001b[0m\u001b[0;34m\"models\"\u001b[0m\u001b[0;34m)\u001b[0m\u001b[0;34m\u001b[0m\u001b[0;34m\u001b[0m\u001b[0m\n\u001b[0m\u001b[1;32m    951\u001b[0m     \u001b[0mimport_structure\u001b[0m\u001b[0;34m[\u001b[0m\u001b[0mfrozenset\u001b[0m\u001b[0;34m(\u001b[0m\u001b[0;34m{\u001b[0m\u001b[0;34m}\u001b[0m\u001b[0;34m)\u001b[0m\u001b[0;34m]\u001b[0m\u001b[0;34m.\u001b[0m\u001b[0mupdate\u001b[0m\u001b[0;34m(\u001b[0m\u001b[0m_import_structure\u001b[0m\u001b[0;34m)\u001b[0m\u001b[0;34m\u001b[0m\u001b[0;34m\u001b[0m\u001b[0m\n\u001b[1;32m    952\u001b[0m \u001b[0;34m\u001b[0m\u001b[0m\n",
            "\u001b[0;32m/usr/local/lib/python3.12/dist-packages/transformers/utils/import_utils.py\u001b[0m in \u001b[0;36mdefine_import_structure\u001b[0;34m(module_path, prefix)\u001b[0m\n\u001b[1;32m   2849\u001b[0m     \u001b[0mIf\u001b[0m\u001b[0;31m \u001b[0m\u001b[0;31m`\u001b[0m\u001b[0mprefix\u001b[0m\u001b[0;31m`\u001b[0m \u001b[0;32mis\u001b[0m \u001b[0;32mnot\u001b[0m \u001b[0;32mNone\u001b[0m\u001b[0;34m,\u001b[0m \u001b[0mit\u001b[0m \u001b[0mwill\u001b[0m \u001b[0madd\u001b[0m \u001b[0mthat\u001b[0m \u001b[0mprefix\u001b[0m \u001b[0mto\u001b[0m \u001b[0mall\u001b[0m \u001b[0mkeys\u001b[0m \u001b[0;32min\u001b[0m \u001b[0mthe\u001b[0m \u001b[0mreturned\u001b[0m \u001b[0mdict\u001b[0m\u001b[0;34m.\u001b[0m\u001b[0;34m\u001b[0m\u001b[0;34m\u001b[0m\u001b[0m\n\u001b[1;32m   2850\u001b[0m     \"\"\"\n\u001b[0;32m-> 2851\u001b[0;31m     \u001b[0mimport_structure\u001b[0m \u001b[0;34m=\u001b[0m \u001b[0mcreate_import_structure_from_path\u001b[0m\u001b[0;34m(\u001b[0m\u001b[0mmodule_path\u001b[0m\u001b[0;34m)\u001b[0m\u001b[0;34m\u001b[0m\u001b[0;34m\u001b[0m\u001b[0m\n\u001b[0m\u001b[1;32m   2852\u001b[0m     \u001b[0mspread_dict\u001b[0m \u001b[0;34m=\u001b[0m \u001b[0mspread_import_structure\u001b[0m\u001b[0;34m(\u001b[0m\u001b[0mimport_structure\u001b[0m\u001b[0;34m)\u001b[0m\u001b[0;34m\u001b[0m\u001b[0;34m\u001b[0m\u001b[0m\n\u001b[1;32m   2853\u001b[0m \u001b[0;34m\u001b[0m\u001b[0m\n",
            "\u001b[0;32m/usr/local/lib/python3.12/dist-packages/transformers/utils/import_utils.py\u001b[0m in \u001b[0;36mcreate_import_structure_from_path\u001b[0;34m(module_path)\u001b[0m\n\u001b[1;32m   2562\u001b[0m     \u001b[0;32mfor\u001b[0m \u001b[0mf\u001b[0m \u001b[0;32min\u001b[0m \u001b[0mos\u001b[0m\u001b[0;34m.\u001b[0m\u001b[0mlistdir\u001b[0m\u001b[0;34m(\u001b[0m\u001b[0mmodule_path\u001b[0m\u001b[0;34m)\u001b[0m\u001b[0;34m:\u001b[0m\u001b[0;34m\u001b[0m\u001b[0;34m\u001b[0m\u001b[0m\n\u001b[1;32m   2563\u001b[0m         \u001b[0;32mif\u001b[0m \u001b[0mf\u001b[0m \u001b[0;34m!=\u001b[0m \u001b[0;34m\"__pycache__\"\u001b[0m \u001b[0;32mand\u001b[0m \u001b[0mos\u001b[0m\u001b[0;34m.\u001b[0m\u001b[0mpath\u001b[0m\u001b[0;34m.\u001b[0m\u001b[0misdir\u001b[0m\u001b[0;34m(\u001b[0m\u001b[0mos\u001b[0m\u001b[0;34m.\u001b[0m\u001b[0mpath\u001b[0m\u001b[0;34m.\u001b[0m\u001b[0mjoin\u001b[0m\u001b[0;34m(\u001b[0m\u001b[0mmodule_path\u001b[0m\u001b[0;34m,\u001b[0m \u001b[0mf\u001b[0m\u001b[0;34m)\u001b[0m\u001b[0;34m)\u001b[0m\u001b[0;34m:\u001b[0m\u001b[0;34m\u001b[0m\u001b[0;34m\u001b[0m\u001b[0m\n\u001b[0;32m-> 2564\u001b[0;31m             \u001b[0mimport_structure\u001b[0m\u001b[0;34m[\u001b[0m\u001b[0mf\u001b[0m\u001b[0;34m]\u001b[0m \u001b[0;34m=\u001b[0m \u001b[0mcreate_import_structure_from_path\u001b[0m\u001b[0;34m(\u001b[0m\u001b[0mos\u001b[0m\u001b[0;34m.\u001b[0m\u001b[0mpath\u001b[0m\u001b[0;34m.\u001b[0m\u001b[0mjoin\u001b[0m\u001b[0;34m(\u001b[0m\u001b[0mmodule_path\u001b[0m\u001b[0;34m,\u001b[0m \u001b[0mf\u001b[0m\u001b[0;34m)\u001b[0m\u001b[0;34m)\u001b[0m\u001b[0;34m\u001b[0m\u001b[0;34m\u001b[0m\u001b[0m\n\u001b[0m\u001b[1;32m   2565\u001b[0m \u001b[0;34m\u001b[0m\u001b[0m\n\u001b[1;32m   2566\u001b[0m         \u001b[0;32melif\u001b[0m \u001b[0;32mnot\u001b[0m \u001b[0mos\u001b[0m\u001b[0;34m.\u001b[0m\u001b[0mpath\u001b[0m\u001b[0;34m.\u001b[0m\u001b[0misdir\u001b[0m\u001b[0;34m(\u001b[0m\u001b[0mos\u001b[0m\u001b[0;34m.\u001b[0m\u001b[0mpath\u001b[0m\u001b[0;34m.\u001b[0m\u001b[0mjoin\u001b[0m\u001b[0;34m(\u001b[0m\u001b[0mdirectory\u001b[0m\u001b[0;34m,\u001b[0m \u001b[0mf\u001b[0m\u001b[0;34m)\u001b[0m\u001b[0;34m)\u001b[0m\u001b[0;34m:\u001b[0m\u001b[0;34m\u001b[0m\u001b[0;34m\u001b[0m\u001b[0m\n",
            "\u001b[0;32m/usr/local/lib/python3.12/dist-packages/transformers/utils/import_utils.py\u001b[0m in \u001b[0;36mcreate_import_structure_from_path\u001b[0;34m(module_path)\u001b[0m\n\u001b[1;32m   2587\u001b[0m \u001b[0;34m\u001b[0m\u001b[0m\n\u001b[1;32m   2588\u001b[0m         \u001b[0;32mwith\u001b[0m \u001b[0mopen\u001b[0m\u001b[0;34m(\u001b[0m\u001b[0mos\u001b[0m\u001b[0;34m.\u001b[0m\u001b[0mpath\u001b[0m\u001b[0;34m.\u001b[0m\u001b[0mjoin\u001b[0m\u001b[0;34m(\u001b[0m\u001b[0mdirectory\u001b[0m\u001b[0;34m,\u001b[0m \u001b[0mmodule_name\u001b[0m\u001b[0;34m)\u001b[0m\u001b[0;34m,\u001b[0m \u001b[0mencoding\u001b[0m\u001b[0;34m=\u001b[0m\u001b[0;34m\"utf-8\"\u001b[0m\u001b[0;34m)\u001b[0m \u001b[0;32mas\u001b[0m \u001b[0mf\u001b[0m\u001b[0;34m:\u001b[0m\u001b[0;34m\u001b[0m\u001b[0;34m\u001b[0m\u001b[0m\n\u001b[0;32m-> 2589\u001b[0;31m             \u001b[0mfile_content\u001b[0m \u001b[0;34m=\u001b[0m \u001b[0mf\u001b[0m\u001b[0;34m.\u001b[0m\u001b[0mread\u001b[0m\u001b[0;34m(\u001b[0m\u001b[0;34m)\u001b[0m\u001b[0;34m\u001b[0m\u001b[0;34m\u001b[0m\u001b[0m\n\u001b[0m\u001b[1;32m   2590\u001b[0m \u001b[0;34m\u001b[0m\u001b[0m\n\u001b[1;32m   2591\u001b[0m         \u001b[0;31m# Remove the .py suffix\u001b[0m\u001b[0;34m\u001b[0m\u001b[0;34m\u001b[0m\u001b[0m\n",
            "\u001b[0;32m/usr/lib/python3.12/codecs.py\u001b[0m in \u001b[0;36mdecode\u001b[0;34m(self, input, final)\u001b[0m\n",
            "\u001b[0;31mKeyboardInterrupt\u001b[0m: "
          ]
        }
      ],
      "source": [
        "import os\n",
        "from getpass import getpass\n",
        "from langchain_openai import ChatOpenAI\n",
        "\n",
        "\n",
        "# os.environ['OPENAI_API_KEY'] = \"Введите ваш OpenAI API ключ\"\n",
        "os.environ['OPENAI_API_KEY'] = getpass(prompt='Введите ваш OpenAI API ключ')\n",
        "\n",
        "# Инициализируем языковую модель\n",
        "llm = ChatOpenAI(temperature=0.0)"
      ]
    },
    {
      "cell_type": "markdown",
      "metadata": {
        "id": "hUn1o9WjEkwQ"
      },
      "source": [
        "## Если используете ключ из курса, запустите эти ячейки 👇"
      ]
    },
    {
      "cell_type": "code",
      "execution_count": 3,
      "metadata": {
        "id": "h23GG1C8EtZs",
        "outputId": "300e2663-eb12-49f3-a16b-ba83d09e66a3",
        "colab": {
          "base_uri": "https://localhost:8080/"
        }
      },
      "outputs": [
        {
          "name": "stdout",
          "output_type": "stream",
          "text": [
            "Введите API ключ··········\n"
          ]
        }
      ],
      "source": [
        "from langchain_openai import ChatOpenAI\n",
        "from getpass import getpass\n",
        "\n",
        "#course_api_key= \"Введите ваш API ключ с курса\"\n",
        "course_api_key = getpass(prompt='Введите API ключ')\n",
        "\n",
        "# Инициализируем языковую модель\n",
        "llm = ChatOpenAI(api_key=course_api_key, model='gpt-4o-mini',\n",
        "                 base_url=\"https://aleron-llm.neuraldeep.tech/\")"
      ]
    },
    {
      "cell_type": "markdown",
      "source": [
        "# Задание 2.2.7: ⚔️ Spam 🆚 Crypto"
      ],
      "metadata": {
        "id": "9xXARAI2mUfp"
      }
    },
    {
      "cell_type": "code",
      "execution_count": 4,
      "metadata": {
        "id": "MSmKJBbUEvEt"
      },
      "outputs": [],
      "source": [
        "import pandas as pd\n",
        "from langchain import PromptTemplate\n",
        "from tqdm import tqdm"
      ]
    },
    {
      "cell_type": "code",
      "execution_count": 5,
      "metadata": {
        "id": "ctMVarXbFB8B"
      },
      "outputs": [],
      "source": [
        "df = pd.read_csv('https://stepik.org/media/attachments/lesson/1110806/100_crypto_messages.csv')"
      ]
    },
    {
      "cell_type": "code",
      "execution_count": 6,
      "metadata": {
        "id": "2y8GmlLdJCrA"
      },
      "outputs": [],
      "source": [
        "# Напишите промпт, указав инструкцию, запрос и выходной индикатор\n",
        "template = \"\"\"...\n",
        "\n",
        "Context: {text_input}\n",
        "\n",
        "Question: ...\n",
        "\n",
        "Answer: ...\n",
        "\"\"\"\n",
        "\n",
        "prompt_template = PromptTemplate(\n",
        "    input_variables=[\"text_input\"],\n",
        "    template=template\n",
        ")"
      ]
    },
    {
      "cell_type": "code",
      "source": [
        "spam_labels = [] # Список, где будем хранить ответы модели\n",
        "\n",
        "for text_input in tqdm(df['text']):\n",
        "    prompt = prompt_template.format(text_input=text_input) # Добавляем сообщение в промпт\n",
        "    spam_label = llm.invoke(prompt).content # Сохраняем ответ модели\n",
        "    spam_labels.append(spam_label) # Добавляем ответ в список\n",
        "    break # Для отладки. Уберите, когда убедитесь, что на одном примере работает"
      ],
      "metadata": {
        "id": "r0uNwaE8hznq",
        "outputId": "77d62958-b524-4060-d3ae-6522eeb2a9fd",
        "colab": {
          "base_uri": "https://localhost:8080/"
        }
      },
      "execution_count": 7,
      "outputs": [
        {
          "output_type": "stream",
          "name": "stderr",
          "text": [
            "  0%|          | 0/100 [00:02<?, ?it/s]\n"
          ]
        }
      ]
    },
    {
      "cell_type": "code",
      "source": [
        "spam_labels"
      ],
      "metadata": {
        "id": "YJlGvzBN98y5",
        "outputId": "3662866c-06b7-4301-cafd-f96eb5673bd5",
        "colab": {
          "base_uri": "https://localhost:8080/"
        }
      },
      "execution_count": 8,
      "outputs": [
        {
          "output_type": "execute_result",
          "data": {
            "text/plain": [
              "['Пожалуйста, уточните, что именно вас интересует. Вы хотите узнать больше о вакансии, условиях удаленной работы или о чем-то другом?']"
            ]
          },
          "metadata": {},
          "execution_count": 8
        }
      ]
    },
    {
      "cell_type": "code",
      "source": [
        "df['is_spam'] = spam_labels # Создаём новый столбец из ответов модели"
      ],
      "metadata": {
        "id": "6XoGU6Zkm1RE"
      },
      "execution_count": null,
      "outputs": []
    },
    {
      "cell_type": "code",
      "source": [
        "# Полученный файл можно найти, нажав в левом меню значек с папкой 📁\n",
        "df.to_csv('2_2_7_solution.csv', index=False) # Сохраняем файл, отправляем на Stepik, получаем баллы :)"
      ],
      "metadata": {
        "id": "gJLpYmf5njxp"
      },
      "execution_count": null,
      "outputs": []
    },
    {
      "cell_type": "markdown",
      "source": [
        "# Задание 2.2.8: 💼 ChatGPT - ваш ручной карьерный консультант"
      ],
      "metadata": {
        "id": "9N0jiam-oDNt"
      }
    },
    {
      "cell_type": "markdown",
      "source": [
        "В данной задаче очень удобно использовать `OutputParser` (подробнее о нем в [ноутбуке](https://github.com/a-milenkin/LLM_practical_course/blob/main/notebooks/M2.2_LangChain_Prompting.ipynb)), но не обязательно!"
      ],
      "metadata": {
        "id": "I2oOaHvDBOTG"
      }
    },
    {
      "cell_type": "code",
      "source": [
        "import pandas as pd\n",
        "from langchain.output_parsers import ResponseSchema\n",
        "from langchain.output_parsers import StructuredOutputParser\n",
        "from langchain.prompts import ChatPromptTemplate"
      ],
      "metadata": {
        "id": "yHOU7Fvm1KDs"
      },
      "execution_count": 9,
      "outputs": []
    },
    {
      "cell_type": "code",
      "source": [
        "df = pd.read_csv('https://stepik.org/media/attachments/lesson/1110806/vacancies_messages_50.csv')"
      ],
      "metadata": {
        "id": "jrfTlE2Sr_E7"
      },
      "execution_count": 10,
      "outputs": []
    },
    {
      "cell_type": "code",
      "source": [
        "template = \"\"\"Из следующего текста извлеки информацию:\n",
        "\n",
        "job_title: ...\n",
        "\n",
        "company: ...\n",
        "\n",
        "salary: ...\n",
        "\n",
        "tg: ...\n",
        "\n",
        "grade: ...\n",
        "\n",
        "text: {text}\n",
        "\n",
        "{format_instructions}\n",
        "\"\"\"\n",
        "\n",
        "prompt = ChatPromptTemplate.from_template(template=template)"
      ],
      "metadata": {
        "id": "u14oe5fGsJdM"
      },
      "execution_count": 11,
      "outputs": []
    },
    {
      "cell_type": "code",
      "source": [
        "job_title_schema = ResponseSchema(\n",
        "    name=\"job_title\",\n",
        "    description=\"...\"\n",
        ")\n",
        "\n",
        "\n",
        "company_schema = ResponseSchema(\n",
        "    name=\"company\",\n",
        "    description=\"...\"\n",
        ")\n",
        "\n",
        "\n",
        "salary_schema = ResponseSchema(\n",
        "    name=\"salary\",\n",
        "    description=\"...\"\n",
        ")\n",
        "\n",
        "\n",
        "tg_schema = ResponseSchema(\n",
        "    name=\"tg\",\n",
        "    description=\"...\"\n",
        ")\n",
        "\n",
        "\n",
        "grade_schema = ResponseSchema(\n",
        "    name=\"grade\",\n",
        "    description=\"...\"\n",
        ")\n",
        "\n",
        "response_schemas = [\n",
        "    job_title_schema,\n",
        "    company_schema,\n",
        "    salary_schema,\n",
        "    tg_schema,\n",
        "    grade_schema\n",
        "]"
      ],
      "metadata": {
        "id": "N90KnUeFs-Kn"
      },
      "execution_count": 12,
      "outputs": []
    },
    {
      "cell_type": "code",
      "source": [
        "output_parser = StructuredOutputParser.from_response_schemas(response_schemas) # Создаём парсер и подаём в него список со схемами\n",
        "format_instructions = output_parser.get_format_instructions() # Получаем инструкции по форматированию ответа"
      ],
      "metadata": {
        "id": "_rIWSsUruZM8"
      },
      "execution_count": 13,
      "outputs": []
    },
    {
      "cell_type": "code",
      "source": [
        "dict_list = [] # Список из словарей, где будем хранить полученную информацию\n",
        "\n",
        "for i, text_input in enumerate(tqdm(df['text'])):\n",
        "    try:\n",
        "        messages = prompt.format_messages(\n",
        "            text=text_input,\n",
        "            format_instructions=format_instructions\n",
        "        )\n",
        "        response = llm.invoke(messages) # Ответ модели\n",
        "\n",
        "        # Пытаемся распарсить ответ\n",
        "        try:\n",
        "            parsed_response = output_parser.parse(response.content)\n",
        "            dict_list.append(parsed_response)\n",
        "        except OutputParserException:\n",
        "            # Если автоматический парсер не работает, пытаемся извлечь JSON вручную\n",
        "            content = response.content.strip()\n",
        "\n",
        "            # Удаляем возможные markdown обрамления\n",
        "            if '```json' in content:\n",
        "                content = content.split('```json')[1].split('```')[0].strip()\n",
        "            elif content.startswith('```'):\n",
        "                content = content.replace('```', '').strip()\n",
        "\n",
        "            # Парсим JSON\n",
        "            json_obj = json.loads(content)\n",
        "            dict_list.append(json_obj)\n",
        "\n",
        "    except Exception as e:\n",
        "        print(f\"Ошибка при обработке текста {i}: {e}\")\n",
        "        # Добавляем пустой словарь в случае ошибки\n",
        "        dict_list.append({\n",
        "            \"job_title\": None,\n",
        "            \"company\": None,\n",
        "            \"salary\": None,\n",
        "            \"tg\": None,\n",
        "            \"grade\": None\n",
        "        })"
      ],
      "metadata": {
        "id": "5w7iYlDl-ywR",
        "outputId": "df38afee-750d-402b-99e2-a6dd12d25b1b",
        "colab": {
          "base_uri": "https://localhost:8080/"
        }
      },
      "execution_count": 14,
      "outputs": [
        {
          "output_type": "stream",
          "name": "stderr",
          "text": [
            " 10%|█         | 5/50 [00:13<01:59,  2.65s/it]"
          ]
        },
        {
          "output_type": "stream",
          "name": "stdout",
          "text": [
            "Ошибка при обработке текста 4: name 'OutputParserException' is not defined\n"
          ]
        },
        {
          "output_type": "stream",
          "name": "stderr",
          "text": [
            "100%|██████████| 50/50 [01:45<00:00,  2.11s/it]\n"
          ]
        }
      ]
    },
    {
      "cell_type": "code",
      "source": [
        "dict_list"
      ],
      "metadata": {
        "id": "BYsqz-Qb_HgX",
        "outputId": "e0b853ad-a603-42e0-e156-4bdc3c527481",
        "colab": {
          "base_uri": "https://localhost:8080/"
        }
      },
      "execution_count": 15,
      "outputs": [
        {
          "output_type": "execute_result",
          "data": {
            "text/plain": [
              "[{'job_title': 'Senior Python developer',\n",
              "  'company': 'Collectly',\n",
              "  'salary': '6000-9000$',\n",
              "  'tg': '@ann_gfio',\n",
              "  'grade': 'senior'},\n",
              " {'job_title': 'Системный аналитик',\n",
              "  'company': 'АКЦИОНЕРНОЕ ОБЩЕСТВО «ГЛАВНЫЙ НАУЧНЫЙ ИННОВАЦИОННЫЙ ВНЕДРЕНЧЕСКИЙ ЦЕНТР» (АО «ГНИВЦ»)',\n",
              "  'salary': '320 000 - 370 000 рублей',\n",
              "  'tg': '@NatalyaMaki',\n",
              "  'grade': ''},\n",
              " {'job_title': 'Senior Database Administrator',\n",
              "  'company': 'Match Systems',\n",
              "  'salary': 'от 3000$ (определяется по результатам собеседования)',\n",
              "  'tg': '@lex_kertis',\n",
              "  'grade': 'Senior'},\n",
              " {'job_title': 'Руководитель отдела системного администрирования',\n",
              "  'company': 'финтех компания',\n",
              "  'salary': 'от 3000$',\n",
              "  'tg': '@ResearcherRIT',\n",
              "  'grade': 'регулярный пересмотр грейда и ЗП'},\n",
              " {'job_title': None,\n",
              "  'company': None,\n",
              "  'salary': None,\n",
              "  'tg': None,\n",
              "  'grade': None},\n",
              " {'job_title': 'Senior DevOps Engineer',\n",
              "  'company': 'Mad Devs',\n",
              "  'salary': 'до 5000$',\n",
              "  'tg': '@recruiter_maddevs',\n",
              "  'grade': 'Senior'},\n",
              " {'job_title': 'Системный аналитик',\n",
              "  'company': 'Платформа',\n",
              "  'salary': '180 000 - 300 000 на руки',\n",
              "  'tg': '@Alexandrabogdanova_96',\n",
              "  'grade': 'senior/middle/lead'},\n",
              " {'job_title': 'Python/Django full-stack разработчик',\n",
              "  'company': 'ivelum',\n",
              "  'salary': '$4000 - $6000',\n",
              "  'tg': '@lebedevaoi',\n",
              "  'grade': 'Senior'},\n",
              " {'job_title': 'Go разработчик',\n",
              "  'company': 'КА Алешин Д.А.',\n",
              "  'salary': 'до 500 т.р. на руки',\n",
              "  'tg': '@AleshinDmitry80',\n",
              "  'grade': 'middle, senior'},\n",
              " {'job_title': 'Разработчик (Vue.js / Golang)',\n",
              "  'company': 'Не указано',\n",
              "  'salary': 'Оплата за проект, поэтапная оплата',\n",
              "  'tg': 'Не указано',\n",
              "  'grade': 'Джунов рассматривают'},\n",
              " {'job_title': 'Lead UI/UX Designer',\n",
              "  'company': 'gamedev',\n",
              "  'salary': None,\n",
              "  'tg': '@alesyaly',\n",
              "  'grade': None},\n",
              " {'job_title': 'QA automation Engineer (Python)',\n",
              "  'company': 'CFPS',\n",
              "  'salary': '180.000 - 250.000 рублей на руки',\n",
              "  'tg': '@Ana_Itrecruiter',\n",
              "  'grade': 'middle/senior'},\n",
              " {'job_title': 'Senior Full Stack PHP-разработчик',\n",
              "  'company': 'GetCourse',\n",
              "  'salary': 'от 250 000 руб.',\n",
              "  'tg': '@Ritttka1',\n",
              "  'grade': 'Senior'},\n",
              " {'job_title': 'Frontend разработчик',\n",
              "  'company': 'Travelata',\n",
              "  'salary': '280к-320к.net',\n",
              "  'tg': '@ann_gfio',\n",
              "  'grade': 'senior'},\n",
              " {'job_title': 'React Developer',\n",
              "  'company': 'Крупный банк',\n",
              "  'salary': '180 000 - 230 000 руб',\n",
              "  'tg': 'Личка для связи',\n",
              "  'grade': 'Middle+'},\n",
              " {'job_title': 'PHP-developer (Symfony)',\n",
              "  'company': 'KT.Team',\n",
              "  'salary': 'до 240 000 рублей (белая)',\n",
              "  'tg': '@innahotim',\n",
              "  'grade': 'senior'},\n",
              " {'job_title': 'Retention Manager',\n",
              "  'company': 'iGaming',\n",
              "  'salary': '',\n",
              "  'tg': '@alesyaly',\n",
              "  'grade': ''},\n",
              " {'job_title': 'Senior Python developer',\n",
              "  'company': 'Skillbox',\n",
              "  'salary': '300-400к .net',\n",
              "  'tg': '@ann_gfio',\n",
              "  'grade': 'senior'},\n",
              " {'job_title': 'Программист 1С:ЗУП',\n",
              "  'company': 'КСА',\n",
              "  'salary': '220 000 - 250 000 рублей',\n",
              "  'tg': '@saras770',\n",
              "  'grade': 'Full-time'},\n",
              " {'job_title': 'Системный аналитик',\n",
              "  'company': 'Amber',\n",
              "  'salary': 'до 300 000 тыс руб',\n",
              "  'tg': '@Sholpan771',\n",
              "  'grade': 'Middle/Senior'},\n",
              " {'job_title': 'Tech Lead QA',\n",
              "  'company': 'финтех компания',\n",
              "  'salary': 'от 3000$ и выше',\n",
              "  'tg': '@ResearcherRIT',\n",
              "  'grade': 'регулярный пересмотр грейда и ЗП'},\n",
              " {'job_title': 'Backend Python разработчик (Senior)',\n",
              "  'company': 'Траст Строй',\n",
              "  'salary': 'Оговаривается индивидуально с каждым кандидатом',\n",
              "  'tg': '@Lyubov_Vladim',\n",
              "  'grade': 'Senior'},\n",
              " {'job_title': 'Менеджер по развитию партнерской сети',\n",
              "  'company': 'AMBER',\n",
              "  'salary': 'от 130 тыс (фикс+ % от продаж)',\n",
              "  'tg': '@Sholpan771',\n",
              "  'grade': ''},\n",
              " {'job_title': 'Full-stack разработчик (Node.js, Vue.js, Nuxt.js)',\n",
              "  'company': 'КА \"АйтиКА\"',\n",
              "  'salary': '300-380 т.р. на руки',\n",
              "  'tg': '@artur_vv',\n",
              "  'grade': 'от 3-х лет опыта'},\n",
              " {'job_title': 'C# Engineer',\n",
              "  'company': 'GGEM',\n",
              "  'salary': 'Почасовая 17-20$',\n",
              "  'tg': '@AlexMayel',\n",
              "  'grade': 'Полная'},\n",
              " {'job_title': 'System Analyst',\n",
              "  'company': 'Brief',\n",
              "  'salary': '240.000-300.000 рублей',\n",
              "  'tg': '@smirnsvet',\n",
              "  'grade': 'middle+/senior'},\n",
              " {'job_title': 'Разработчик PowerBuilder',\n",
              "  'company': 'Outlines Tech',\n",
              "  'salary': 'до 290 тыс. на руки',\n",
              "  'tg': '@mnoita',\n",
              "  'grade': ''},\n",
              " {'job_title': 'Системный аналитик',\n",
              "  'company': 'INFOPRO',\n",
              "  'salary': '100-200к .net',\n",
              "  'tg': '@ann_gfio',\n",
              "  'grade': 'middle'},\n",
              " {'job_title': 'Java developer middle (middle+)',\n",
              "  'company': 'Не указано в объявлении',\n",
              "  'salary': '200.000-250.000 руб. на руки',\n",
              "  'tg': '@Sholpan771',\n",
              "  'grade': 'middle (middle+)'},\n",
              " {'job_title': 'PHP программист',\n",
              "  'company': '100UP',\n",
              "  'salary': 'от 150 000 до 200 000 руб (обсуждается индивидуально на интервью)',\n",
              "  'tg': '@romanenko_daria',\n",
              "  'grade': 'middle'},\n",
              " {'job_title': 'Junior IT Recruiter',\n",
              "  'company': 'AIPeople',\n",
              "  'salary': '',\n",
              "  'tg': '@nastyaishiring',\n",
              "  'grade': 'junior'},\n",
              " {'job_title': 'C/C++ Developer (Middle, Senior)',\n",
              "  'company': 'NTS',\n",
              "  'salary': '140-300 тыс. руб.',\n",
              "  'tg': '@ann_gfio',\n",
              "  'grade': 'middle, senior'},\n",
              " {'job_title': 'Middle/Senior PHP developer',\n",
              "  'company': 'Водоходъ',\n",
              "  'salary': '180-200к .net',\n",
              "  'tg': '@ann_gfio',\n",
              "  'grade': 'Middle/Senior'},\n",
              " {'job_title': 'Middle Python Developer',\n",
              "  'company': 'ALEX GROUP COMPANY',\n",
              "  'salary': 'от 3000 до 3600 USD',\n",
              "  'tg': '@danilavaren',\n",
              "  'grade': 'middle'},\n",
              " {'job_title': 'Go Developer / WB Portal',\n",
              "  'company': 'WILDBERRIES',\n",
              "  'salary': 'от 150 000 до 600 000',\n",
              "  'tg': '@hr_legoit',\n",
              "  'grade': 'Senior'},\n",
              " {'job_title': 'Sales Development Representative (SDR)',\n",
              "  'company': 'Ptolemay',\n",
              "  'salary': '300-1000$ + % от закрытой сделки',\n",
              "  'tg': '@Dmitriy_Ptolemay, @rinapina_ptolemay',\n",
              "  'grade': 'от 6 до 18 месяцев'},\n",
              " {'job_title': 'C# Developer',\n",
              "  'company': 'Sirena Travel',\n",
              "  'salary': '300-400 тыс. руб.',\n",
              "  'tg': '@ann_gfio',\n",
              "  'grade': ''},\n",
              " {'job_title': 'Системный администратор',\n",
              "  'company': 'Anykey',\n",
              "  'salary': 'от 80 000 руб.',\n",
              "  'tg': 'Отклики в лс',\n",
              "  'grade': 'Не указано'},\n",
              " {'job_title': 'Аналитик',\n",
              "  'company': 'Автомакон',\n",
              "  'salary': '',\n",
              "  'tg': '@nikolaazzp',\n",
              "  'grade': 'стажировка'},\n",
              " {'job_title': 'Копирайтер в сфере крипты',\n",
              "  'company': 'ALEX GROUP COMPANY',\n",
              "  'salary': 'от 80 000 до 140 000 руб.',\n",
              "  'tg': '@danilavaren',\n",
              "  'grade': 'fulltime'},\n",
              " {'job_title': 'QA (QA auto)',\n",
              "  'company': 'Dreamsoft',\n",
              "  'salary': 'ставка открыта',\n",
              "  'tg': '@DreamITB',\n",
              "  'grade': 'Полная занятость'},\n",
              " {'job_title': 'Системный аналитик',\n",
              "  'company': 'AWG',\n",
              "  'salary': 'до 350 000 net',\n",
              "  'tg': '@ElivHR',\n",
              "  'grade': 'senior'},\n",
              " {'job_title': 'Release manager / Основное мобильное приложение',\n",
              "  'company': 'WILDBERRIES',\n",
              "  'salary': 'от 150 000 ₽ до 350 000 ₽',\n",
              "  'tg': '@invader_s',\n",
              "  'grade': ''},\n",
              " {'job_title': 'DevOps (Openstack Engineer)',\n",
              "  'company': 'Mayflower',\n",
              "  'salary': '5000-6000$',\n",
              "  'tg': '@Alexandr_Mayel',\n",
              "  'grade': 'senior/middle'},\n",
              " {'job_title': 'Go Developer / WB Portal',\n",
              "  'company': 'WILDBERRIES',\n",
              "  'salary': 'от 150 000 до 600 000',\n",
              "  'tg': '@Fl_recruiter',\n",
              "  'grade': 'Senior'},\n",
              " {'job_title': 'Middle+/Senior Backend Engineer',\n",
              "  'company': 'Qlan',\n",
              "  'salary': '110 000 – 140 000 ₽/месяц',\n",
              "  'tg': '@laptev13',\n",
              "  'grade': 'Middle+/Senior'},\n",
              " {'job_title': 'Программист на верстку многостраничного сайта',\n",
              "  'company': 'Не указано',\n",
              "  'salary': 'По оценке кандидата',\n",
              "  'tg': '@vlrstrtsv',\n",
              "  'grade': 'Не указано'},\n",
              " {'job_title': 'DWH developer',\n",
              "  'company': 'König Labs',\n",
              "  'salary': '250000-300000 руб. на руки',\n",
              "  'tg': '@HrKristinaorekhova',\n",
              "  'grade': 'Senior'},\n",
              " {'job_title': 'Frontend разработчик Angular',\n",
              "  'company': 'Nobilis.Team',\n",
              "  'salary': '180 000 - 250 000 рублей net',\n",
              "  'tg': '@Anna_HRinIT',\n",
              "  'grade': 'middle'},\n",
              " {'job_title': 'Junior HR Manager',\n",
              "  'company': 'ALEX GROUP COMPANY',\n",
              "  'salary': 'от 70 000 до 90 000 руб.',\n",
              "  'tg': '@danilavaren',\n",
              "  'grade': 'junior'}]"
            ]
          },
          "metadata": {},
          "execution_count": 15
        }
      ]
    },
    {
      "cell_type": "code",
      "source": [],
      "metadata": {
        "id": "kmSBU0ru_PRR"
      },
      "execution_count": null,
      "outputs": []
    },
    {
      "cell_type": "code",
      "source": [
        "dict_list = [] # Список из словарей, где будем хранить полученную информацию\n",
        "for text_input in tqdm(df['text']):\n",
        "    messages = prompt.format_messages(\n",
        "        text=text_input,\n",
        "        format_instructions=format_instructions\n",
        "    )\n",
        "    response = llm.invoke(messages) # Ответ модели\n",
        "    dict_list.append(output_parser.parse(response.content)) # Переводим содержимое ответа модели в словарь и добавляем в список\n",
        "    break # Для отладки. Уберите, когда убедитесь, что на одном примере работает"
      ],
      "metadata": {
        "id": "5BjhrkTdsBBE"
      },
      "execution_count": null,
      "outputs": []
    },
    {
      "cell_type": "code",
      "source": [
        "result_df = pd.DataFrame(dict_list) # Создаем датафрейм из полученной информации\n",
        "ans_df = pd.concat([df, result_df], axis=1) # Объединяем всё в один датафрейм\n",
        "ans_df.to_csv('2_2_8_solution.csv', index=False) # Сохраняем файл, отправляем на Stepik, получаем баллы :)"
      ],
      "metadata": {
        "id": "YdkJvAxN5ghP"
      },
      "execution_count": 16,
      "outputs": []
    },
    {
      "cell_type": "code",
      "source": [],
      "metadata": {
        "id": "4tCJV6vb_lXD"
      },
      "execution_count": null,
      "outputs": []
    }
  ],
  "metadata": {
    "colab": {
      "provenance": []
    },
    "kernelspec": {
      "display_name": "Python 3",
      "name": "python3"
    },
    "language_info": {
      "name": "python"
    }
  },
  "nbformat": 4,
  "nbformat_minor": 0
}