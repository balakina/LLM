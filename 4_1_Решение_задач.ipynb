{
  "nbformat": 4,
  "nbformat_minor": 0,
  "metadata": {
    "colab": {
      "provenance": [],
      "collapsed_sections": [
        "CoofhZcDtp6R"
      ]
    },
    "kernelspec": {
      "name": "python3",
      "display_name": "Python 3"
    },
    "language_info": {
      "name": "python"
    }
  },
  "cells": [
    {
      "cell_type": "markdown",
      "source": [
        "# Ноутбук для решения задач из 4 модуля"
      ],
      "metadata": {
        "id": "4uF_KywH0yV9"
      }
    },
    {
      "cell_type": "code",
      "execution_count": 1,
      "metadata": {
        "id": "Yk-K_mHMs7ns",
        "colab": {
          "base_uri": "https://localhost:8080/"
        },
        "outputId": "2caa33ab-d8a2-47d6-fcf6-12a910b3c090"
      },
      "outputs": [
        {
          "output_type": "stream",
          "name": "stdout",
          "text": [
            "\u001b[?25l   \u001b[90m━━━━━━━━━━━━━━━━━━━━━━━━━━━━━━━━━━━━━━━━\u001b[0m \u001b[32m0.0/75.0 kB\u001b[0m \u001b[31m?\u001b[0m eta \u001b[36m-:--:--\u001b[0m\r\u001b[2K   \u001b[90m━━━━━━━━━━━━━━━━━━━━━━━━━━━━━━━━━━━━━━━━\u001b[0m \u001b[32m75.0/75.0 kB\u001b[0m \u001b[31m4.1 MB/s\u001b[0m eta \u001b[36m0:00:00\u001b[0m\n",
            "\u001b[2K   \u001b[90m━━━━━━━━━━━━━━━━━━━━━━━━━━━━━━━━━━━━━━━━\u001b[0m \u001b[32m2.5/2.5 MB\u001b[0m \u001b[31m42.1 MB/s\u001b[0m eta \u001b[36m0:00:00\u001b[0m\n",
            "\u001b[2K   \u001b[90m━━━━━━━━━━━━━━━━━━━━━━━━━━━━━━━━━━━━━━━━\u001b[0m \u001b[32m31.4/31.4 MB\u001b[0m \u001b[31m60.0 MB/s\u001b[0m eta \u001b[36m0:00:00\u001b[0m\n",
            "\u001b[2K   \u001b[90m━━━━━━━━━━━━━━━━━━━━━━━━━━━━━━━━━━━━━━━━\u001b[0m \u001b[32m322.5/322.5 kB\u001b[0m \u001b[31m24.9 MB/s\u001b[0m eta \u001b[36m0:00:00\u001b[0m\n",
            "\u001b[2K   \u001b[90m━━━━━━━━━━━━━━━━━━━━━━━━━━━━━━━━━━━━━━━━\u001b[0m \u001b[32m64.7/64.7 kB\u001b[0m \u001b[31m5.2 MB/s\u001b[0m eta \u001b[36m0:00:00\u001b[0m\n",
            "\u001b[2K   \u001b[90m━━━━━━━━━━━━━━━━━━━━━━━━━━━━━━━━━━━━━━━━\u001b[0m \u001b[32m50.9/50.9 kB\u001b[0m \u001b[31m3.8 MB/s\u001b[0m eta \u001b[36m0:00:00\u001b[0m\n",
            "\u001b[?25h\u001b[31mERROR: pip's dependency resolver does not currently take into account all the packages that are installed. This behaviour is the source of the following dependency conflicts.\n",
            "google-colab 1.0.0 requires requests==2.32.4, but you have requests 2.32.5 which is incompatible.\u001b[0m\u001b[31m\n",
            "\u001b[0m"
          ]
        }
      ],
      "source": [
        "!pip install openai langchain langchain-openai langchain-community sentence_transformers faiss-cpu pypdf -q"
      ]
    },
    {
      "cell_type": "code",
      "source": [
        "from typing import List\n",
        "from getpass import getpass"
      ],
      "metadata": {
        "id": "hcaodDnGplxx"
      },
      "execution_count": 2,
      "outputs": []
    },
    {
      "cell_type": "markdown",
      "source": [
        "## Если используете ключ от OpenAI, запустите эту ячейку 👇\n",
        "\n",
        "\n",
        "\n",
        "\n",
        "\n"
      ],
      "metadata": {
        "id": "CoofhZcDtp6R"
      }
    },
    {
      "cell_type": "code",
      "source": [
        "from langchain_openai import ChatOpenAI\n",
        "import os\n",
        "\n",
        "\n",
        "\n",
        "# os.environ['OPENAI_API_KEY'] = \"Введите ваш OpenAI API ключ\"\n",
        "os.environ['OPENAI_API_KEY'] = getpass(prompt='Введите ваш OpenAI API ключ')\n",
        "\n",
        "# Инициализируем языковую модель\n",
        "llm = ChatOpenAI(temperature=0.0)"
      ],
      "metadata": {
        "id": "k48wWXnPtKa2"
      },
      "execution_count": null,
      "outputs": []
    },
    {
      "cell_type": "markdown",
      "source": [
        "## Если используете ключ из курса, запустите эти ячейки 👇\n"
      ],
      "metadata": {
        "id": "DiQqMwQJt8rP"
      }
    },
    {
      "cell_type": "code",
      "source": [
        "from langchain_openai import ChatOpenAI\n",
        "from getpass import getpass\n",
        "\n",
        "#course_api_key= \"Введите ваш API ключ с курса\"\n",
        "course_api_key = getpass(prompt='Введите API ключ')\n",
        "\n",
        "# Инициализируем языковую модель\n",
        "llm = ChatOpenAI(api_key=course_api_key, model='gpt-4o-mini',\n",
        "                 base_url=\"https://aleron-llm.neuraldeep.tech/\")"
      ],
      "metadata": {
        "id": "PCS_WedHtPRg",
        "outputId": "0491c0fe-c906-4c55-d533-4bbbe28fe300",
        "colab": {
          "base_uri": "https://localhost:8080/"
        }
      },
      "execution_count": 3,
      "outputs": [
        {
          "name": "stdout",
          "output_type": "stream",
          "text": [
            "Введите API ключ··········\n"
          ]
        }
      ]
    },
    {
      "cell_type": "markdown",
      "source": [
        "## Задание 4.1.5 Кастомный Text Splitter\n",
        "\n",
        "---\n",
        "\n"
      ],
      "metadata": {
        "id": "Z9uleJTbu6Ui"
      }
    },
    {
      "cell_type": "markdown",
      "source": [
        "# *Напишите функцию*"
      ],
      "metadata": {
        "id": "T5EkAGbIpOlB"
      }
    },
    {
      "cell_type": "code",
      "source": [
        "from typing import List\n",
        "\n",
        "def get_content_from_sections(text: str) -> List[str]:\n",
        "    if not text.strip():\n",
        "        return []\n",
        "\n",
        "    lines = text.strip().split('\\n')\n",
        "    result = []\n",
        "    current_content = []\n",
        "    current_main_section = None\n",
        "\n",
        "    for line in lines:\n",
        "        line = line.strip()\n",
        "        if not line:\n",
        "            continue\n",
        "\n",
        "        # Check if it's a main section (starts with single digit followed by dot and space)\n",
        "        parts = line.split('.', 1)\n",
        "        if (len(parts) == 2 and parts[0].isdigit() and len(parts[0]) == 1 and\n",
        "            parts[1].startswith(' ')):\n",
        "\n",
        "            # If we were collecting content for a previous main section, save it\n",
        "            if current_main_section is not None and current_content:\n",
        "                result.append(' '.join(current_content))\n",
        "                current_content = []\n",
        "\n",
        "            current_main_section = parts[0]\n",
        "\n",
        "            # Check if there's content after the title on the same line\n",
        "            title_and_content = parts[1].strip()\n",
        "            if title_and_content:\n",
        "                # Check if this is just a title or contains content\n",
        "                # If the line contains only the title (no additional content), skip\n",
        "                # We'll look for content in subsequent lines\n",
        "                pass\n",
        "\n",
        "        # Check if it's a subsection (like 1.1, 2.3, etc.) - ignore the title\n",
        "        elif (len(line) > 3 and line[0].isdigit() and line[1] == '.' and\n",
        "              line[2].isdigit() and (len(line) == 3 or line[3] == ' ' or line[3] == '.')):\n",
        "            # This is a subsection title, we ignore it but will collect its content\n",
        "            pass\n",
        "\n",
        "        # It's a content line (not starting with digit-dot pattern)\n",
        "        elif not (line[0].isdigit() and len(line) > 1 and line[1] == '.'):\n",
        "            current_content.append(line)\n",
        "\n",
        "    # Add the last section's content if it exists\n",
        "    if current_main_section is not None and current_content:\n",
        "        result.append(' '.join(current_content))\n",
        "\n",
        "    return result"
      ],
      "metadata": {
        "id": "92DVpeI4lCW3"
      },
      "execution_count": 4,
      "outputs": []
    },
    {
      "cell_type": "markdown",
      "source": [
        "#Тексты из тестов\n"
      ],
      "metadata": {
        "id": "Ya9qTJNOpsW-"
      }
    },
    {
      "cell_type": "markdown",
      "source": [],
      "metadata": {
        "id": "RqWRGgnN0vY7"
      }
    },
    {
      "cell_type": "code",
      "source": [
        "\n",
        "text1 = \"\"\"\n",
        "1. Вступление\n",
        "Описание курса, начальные требования, для кого этот курс.\n",
        "1.1 Как правильно входить в курс\n",
        "Цели курса, канал и комьюнити, глоссарий, PET-проект, хард режим vs лайт режим?\n",
        "1.2 Общий подход и точки улучшения приложений с LLM\n",
        "Рассказываем почему важно разбираться в LLM. Нужен ли ИИ обычному человеку?\n",
        "1.3 API ключ курса или от OpenAI?\n",
        "1.3.1 Ключ от команды курса\n",
        "Получаем ключ в боте.\n",
        "1.3.2 Ключ от OpenAI\n",
        "Получаем официальный ключ от OpenAI.\n",
        "1.3.3 Ключ от HuggingFace\n",
        "Ныряем в Open Source и получаем ключ от HuggingFace.\n",
        "2. Промптинг - объясни LLM, что тебе от неё надо!\n",
        "2.1 Введение в Prompt Engineering\n",
        "Поясняем за промпты. Техники и лайфхаки для промптинга. Из чего состоит промпт?\n",
        "2.2 Дизайн промптов в LangChain\n",
        "Few-shot learning. Output Parser.\n",
        "2.2.1 Введение в LangChain\n",
        "Рассказываем про преимущества LangChain.\n",
        "3. LangChain или причем тут попугаи?\n",
        "3.1 Память в LangChain\n",
        "Переводим LLM в чат-режим. Типы памяти.\n",
        "3.2 Chains - собери свою цепь\n",
        "Chains & LCEL.\n",
        "3.3 Агенты intro\n",
        "Агенты и цепи. Инструменты (tools).\n",
        "\"\"\"\n",
        "\n",
        "text2 = \"\"\"\n",
        "\n",
        "\n",
        "\"\"\"\n",
        "\n",
        "text3 = \"\"\"\n",
        "1. Главный заголовок\n",
        "Тут содержимое, которое нужно достать из главного заголовка.\n",
        "1.1 Подзаголовок\n",
        "Тут содержимое, которое нужно достать из подзаголовка.\n",
        "\"\"\"\n",
        "\n",
        "text4 = \"\"\"\n",
        "1. Первый заголовок\n",
        "\n",
        "2. Второй заголовок\n",
        "\"\"\"\n",
        "\n",
        "text5 = \"\"\"\n",
        "1. Введение\n",
        "Краткое описание целей и задач документа.\n",
        "\n",
        "2. Основные разделы\n",
        "Краткий обзор основных разделов.\n",
        "\n",
        "2.1 Первый подраздел\n",
        "Какие-то мелкие детали.\n",
        "\n",
        "3. Заключение\n",
        "Выводы и заключительные комментарии.\n",
        "4. Приложения\n",
        "Дополнительная информация и материалы.\n",
        "\"\"\""
      ],
      "metadata": {
        "id": "qoWh04ptlBoD"
      },
      "execution_count": 5,
      "outputs": []
    },
    {
      "cell_type": "markdown",
      "source": [
        "# Задание 4.11.1 📚 Литературный RAG из pdf 🤖"
      ],
      "metadata": {
        "id": "P9zYNPu-p9l3"
      }
    },
    {
      "cell_type": "markdown",
      "source": [
        "Загружаем файлы"
      ],
      "metadata": {
        "id": "0eRICp2Lq8s-"
      }
    },
    {
      "cell_type": "code",
      "source": [
        "!wget https://stepik.org/media/attachments/lesson/1084288/The_Daughter_of_The_Commandant.pdf"
      ],
      "metadata": {
        "colab": {
          "base_uri": "https://localhost:8080/"
        },
        "id": "VWFprDaxqy9Y",
        "outputId": "3d24234e-07ab-40a1-e9e3-76ae5901a9d5"
      },
      "execution_count": 6,
      "outputs": [
        {
          "output_type": "stream",
          "name": "stdout",
          "text": [
            "--2025-09-26 12:03:24--  https://stepik.org/media/attachments/lesson/1084288/The_Daughter_of_The_Commandant.pdf\n",
            "Resolving stepik.org (stepik.org)... 178.248.239.111\n",
            "Connecting to stepik.org (stepik.org)|178.248.239.111|:443... connected.\n",
            "HTTP request sent, awaiting response... 200 OK\n",
            "Length: 198595 (194K) [application/pdf]\n",
            "Saving to: ‘The_Daughter_of_The_Commandant.pdf’\n",
            "\n",
            "The_Daughter_of_The 100%[===================>] 193.94K   452KB/s    in 0.4s    \n",
            "\n",
            "2025-09-26 12:03:25 (452 KB/s) - ‘The_Daughter_of_The_Commandant.pdf’ saved [198595/198595]\n",
            "\n"
          ]
        }
      ]
    },
    {
      "cell_type": "code",
      "source": [
        "import pandas as pd\n",
        "from tqdm import tqdm\n",
        "\n",
        "df = pd.read_csv('https://stepik.org/media/attachments/lesson/1084288/pushkin_questions.csv')"
      ],
      "metadata": {
        "id": "dBAX9Ldxq3uC"
      },
      "execution_count": 7,
      "outputs": []
    },
    {
      "cell_type": "markdown",
      "source": [
        "Соберем все компоненты для RAG"
      ],
      "metadata": {
        "id": "gjrto68msT-A"
      }
    },
    {
      "cell_type": "markdown",
      "source": [
        "\n",
        "<center> <img src='https://github.com/a-milenkin/LLM_practical_course/blob/main/images/RAG.png?raw=1' width=\"800\" height=\"250\">\n"
      ],
      "metadata": {
        "id": "zDg0bWUhr3dz"
      }
    },
    {
      "cell_type": "code",
      "source": [
        "# Определите Document loader для pdf\n",
        "import pandas as pd\n",
        "from langchain.document_loaders import CSVLoader, DataFrameLoader, PyPDFLoader\n",
        "\n",
        "# Загрузка PDF файла\n",
        "loader = PyPDFLoader(\"/content/The_Daughter_of_The_Commandant.pdf\")\n",
        "documents = loader.load()"
      ],
      "metadata": {
        "id": "WOwhANxRr3Ik"
      },
      "execution_count": 8,
      "outputs": []
    },
    {
      "cell_type": "markdown",
      "source": [
        "Посмотрите, что хранится в переменной documents - может быть сплитер вам не нужен."
      ],
      "metadata": {
        "id": "2CulR5pyxe3k"
      }
    },
    {
      "cell_type": "code",
      "source": [
        "# Определите подходящий Splitter\n",
        "from langchain.text_splitter import (\n",
        "    CharacterTextSplitter,\n",
        "    RecursiveCharacterTextSplitter,\n",
        ")\n",
        "\n",
        "splitter = RecursiveCharacterTextSplitter(\n",
        "    chunk_size=500,\n",
        "    chunk_overlap=100,\n",
        "    length_function=len,\n",
        "    separators=[\"\\n\\n\", \"\\n\", \". \", \" \", \"\"]  # Приоритет разделителей\n",
        ")\n",
        "split_documents = splitter.split_documents(documents)\n",
        "\n",
        "print(f\"Создано {len(split_documents)} чанков\")\n",
        "\n",
        "# Проверка результата\n",
        "print(\"Первый чанк:\")\n",
        "print(split_documents[0].page_content[:200] + \"...\")"
      ],
      "metadata": {
        "id": "ng0MYLpAq3d5",
        "colab": {
          "base_uri": "https://localhost:8080/"
        },
        "outputId": "24ad350a-444c-4119-f11c-8109a06ffb7e"
      },
      "execution_count": 24,
      "outputs": [
        {
          "output_type": "stream",
          "name": "stdout",
          "text": [
            "Создано 29 чанков\n",
            "Первый чанк:\n",
            "www.a4format.ru  \n",
            "Все произведения школьной программы в кратком изложении. — М.: АСТ, 1996.  \n",
            " \n",
            "И.О. Родин, Т.М. Пименова \n",
            "Капитанская дочка \n",
            "Краткое содержание \n",
            "Глава 1 \n",
            "Сержант гвардии \n",
            "Глава открыв...\n"
          ]
        }
      ]
    },
    {
      "cell_type": "markdown",
      "source": [
        "# Выбираем Embedding models"
      ],
      "metadata": {
        "id": "IClLxZZytsQ0"
      }
    },
    {
      "cell_type": "markdown",
      "source": [
        "## 🔱 Эмбеддинги от OpenAI (API)"
      ],
      "metadata": {
        "id": "QNFHkIi9t4JE"
      }
    },
    {
      "cell_type": "code",
      "source": [
        "# # Если используете ключ от OpenAI запустите эту ячейку\n",
        "# from langchain_openai import OpenAIEmbeddings\n",
        "\n",
        "# embeddings_api_model = OpenAIEmbeddings()"
      ],
      "metadata": {
        "id": "CDMOJZ-3f0bs"
      },
      "execution_count": 26,
      "outputs": []
    },
    {
      "cell_type": "code",
      "source": [
        "# Если используете ключ курса, запустите эту ячейку\n",
        "from langchain_openai import OpenAIEmbeddings\n",
        "\n",
        "embeddings_api_model = OpenAIEmbeddings(api_key=course_api_key, model='text-embedding-3-small',\n",
        "                                        base_url=\"https://aleron-llm.neuraldeep.tech/\")"
      ],
      "metadata": {
        "id": "a3loV8ySuB7e"
      },
      "execution_count": 27,
      "outputs": []
    },
    {
      "cell_type": "markdown",
      "source": [
        "## 🔱 Эмбеддинги от HuggingFace 🤗\n",
        "Переключитесь на среду с GPU, если хотите использовать видеокарту."
      ],
      "metadata": {
        "id": "0tdDE3ihuNDr"
      }
    },
    {
      "cell_type": "code",
      "source": [
        "from langchain.embeddings import HuggingFaceEmbeddings\n",
        "\n",
        "# Если у вас нет видеокарты, укажите 'device': 'cpu'\n",
        "hf_embeddings_model = HuggingFaceEmbeddings(\n",
        "    model_name=\"cointegrated/LaBSE-en-ru\", model_kwargs={\"device\": \"cpu\"}\n",
        ")"
      ],
      "metadata": {
        "id": "ruu1kHTTuPSV",
        "collapsed": true
      },
      "execution_count": 28,
      "outputs": []
    },
    {
      "cell_type": "code",
      "source": [],
      "metadata": {
        "id": "XTMuKyqq1Y7O"
      },
      "execution_count": 28,
      "outputs": []
    },
    {
      "cell_type": "markdown",
      "source": [
        "# Выбираем 🗂 Vector Store"
      ],
      "metadata": {
        "id": "mxBZ5FBMut1j"
      }
    },
    {
      "cell_type": "code",
      "source": [
        "from langchain.vectorstores import FAISS\n",
        "from langchain.embeddings import OpenAIEmbeddings"
      ],
      "metadata": {
        "id": "hRKdQT8QuPPT"
      },
      "execution_count": 29,
      "outputs": []
    },
    {
      "cell_type": "code",
      "source": [
        "db = FAISS.from_documents(\n",
        "    split_documents, hf_embeddings_model\n",
        ")\n",
        "\n",
        "db.save_local(\"/content/faiss_db\")  # можно сохранить базу локально, указав путь"
      ],
      "metadata": {
        "id": "jP0b7FWMwWWV"
      },
      "execution_count": 30,
      "outputs": []
    },
    {
      "cell_type": "code",
      "source": [
        "# База готова, теперь можно делать к ней запросы\n",
        "db.similarity_search(\"Что там за дочка?\")"
      ],
      "metadata": {
        "collapsed": true,
        "colab": {
          "base_uri": "https://localhost:8080/"
        },
        "id": "zZV0ykde8w67",
        "outputId": "fdbdf22a-3cfe-43d8-d8e8-e40783efdc13"
      },
      "execution_count": 31,
      "outputs": [
        {
          "output_type": "execute_result",
          "data": {
            "text/plain": [
              "[Document(id='51c54dec-7fd4-4e13-adc2-cf588c579e73', metadata={'producer': 'Acrobat Distiller 9.0.0 (Windows)', 'creator': 'PScript5.dll Version 5.2.2', 'creationdate': '2009-12-24T14:33:47+03:00', 'author': '<CCF3F1E0F2EEE2E0>', 'moddate': '2009-12-24T14:33:47+03:00', 'title': '<4D6963726F736F667420576F7264202D20CAC45FE8E7EB5FD0EEE4E8ED>', 'source': '/content/The_Daughter_of_The_Commandant.pdf', 'total_pages': 4, 'page': 0, 'page_label': '1'}, page_content='Швабриным, молодым офицером « невысокого роста, с лицом смуглым и отменно не-\\nкрасивым, но чрезвычайно живым». Швабрин переведен в крепость за дуэль. Швабрин \\nрассказывает Гриневу о жизни в крепости, описывает семью коменданта, особенно'),\n",
              " Document(id='d5c5abda-5492-4dfd-97f9-5d5bcc3ca308', metadata={'producer': 'Acrobat Distiller 9.0.0 (Windows)', 'creator': 'PScript5.dll Version 5.2.2', 'creationdate': '2009-12-24T14:33:47+03:00', 'author': '<CCF3F1E0F2EEE2E0>', 'moddate': '2009-12-24T14:33:47+03:00', 'title': '<4D6963726F736F667420576F7264202D20CAC45FE8E7EB5FD0EEE4E8ED>', 'source': '/content/The_Daughter_of_The_Commandant.pdf', 'total_pages': 4, 'page': 3, 'page_label': '4'}, page_content='www.a4format.ru  \\n \\n4\\nс Гриневым. Швабрин выдает, что она дочь капитана Миронова. Пугачев решает, что \\n«казнить, так казнить, жаловать, так жаловать» и отпускает Гринева и Машу. \\nГлава 13 \\nАрест \\nПо дороге из крепости солдаты арестовывают Гринева, приняв его за пугачевца, \\nотводят к своему начальнику, который оказываемся Зуриным. По его совету Гринев реша-\\nет отправить Машу с Савельичем.к своим родителям, а самому продолжать сражаться.'),\n",
              " Document(id='7feaf716-a1d9-41df-a34f-885730a2e380', metadata={'producer': 'Acrobat Distiller 9.0.0 (Windows)', 'creator': 'PScript5.dll Version 5.2.2', 'creationdate': '2009-12-24T14:33:47+03:00', 'author': '<CCF3F1E0F2EEE2E0>', 'moddate': '2009-12-24T14:33:47+03:00', 'title': '<4D6963726F736F667420576F7264202D20CAC45FE8E7EB5FD0EEE4E8ED>', 'source': '/content/The_Daughter_of_The_Commandant.pdf', 'total_pages': 4, 'page': 1, 'page_label': '2'}, page_content='некоторое время Гринев узнает от Маши, что Швабрин за нее сватался, а она отказала (этим \\nи объясняется упорное злословие Швабрина в адрес девушки). Дуэль возобновляется, \\nГринев ранен. \\nГлава 5 \\nЛюбовь \\nМаша и Савельич ухаживают за раненым. Гринев делает Маше предложение. Пишет \\nписьмо родителям. Швабрин приходит навестить Гринева, признает, что сам был виноват. \\nОтец Гринева отказывает сыну в благословении ( ему известно и о дуэли, но не от'),\n",
              " Document(id='d1e8e45b-146a-4913-8b8f-41bbb8733a49', metadata={'producer': 'Acrobat Distiller 9.0.0 (Windows)', 'creator': 'PScript5.dll Version 5.2.2', 'creationdate': '2009-12-24T14:33:47+03:00', 'author': '<CCF3F1E0F2EEE2E0>', 'moddate': '2009-12-24T14:33:47+03:00', 'title': '<4D6963726F736F667420576F7264202D20CAC45FE8E7EB5FD0EEE4E8ED>', 'source': '/content/The_Daughter_of_The_Commandant.pdf', 'total_pages': 4, 'page': 0, 'page_label': '1'}, page_content='www.a4format.ru  \\nВсе произведения школьной программы в кратком изложении. — М.: АСТ, 1996.  \\n \\nИ.О. Родин, Т.М. Пименова \\nКапитанская дочка \\nКраткое содержание \\nГлава 1 \\nСержант гвардии \\nГлава открывается биографией Петра Гринева: отец служил, вышел в отставку, \\nв семье было девять детей, но все, кроме Петра, умерли в младенчестве. Еще до его появ-\\nления на свет Гринева записали в Семеновский полк. До совершеннолетия он считался в')]"
            ]
          },
          "metadata": {},
          "execution_count": 31
        }
      ]
    },
    {
      "cell_type": "markdown",
      "source": [
        "# Определим 🎣 Retriever"
      ],
      "metadata": {
        "id": "bHeBYyV-vPmu"
      }
    },
    {
      "cell_type": "code",
      "source": [],
      "metadata": {
        "id": "Hc8Yiepx8wb6"
      },
      "execution_count": 31,
      "outputs": []
    },
    {
      "cell_type": "code",
      "source": [
        "# Самый частый кейс - использование векторного хранилища и его методов для получения документов\n",
        "retriever = db.as_retriever(\n",
        "  #  search_type=\"similarity\",  # тип поиска похожих документов\n",
        "    k=4,  # количество возвращаемых документов (Default: 4)\n",
        "    score_threshold=None,  # минимальный порог для поиска \"similarity_score_threshold\"\n",
        ")\n",
        "retriever.get_relevant_documents(\n",
        "    \"Кто такая Маша?\"\n",
        ")"
      ],
      "metadata": {
        "id": "pcljBDDBvB2s",
        "colab": {
          "base_uri": "https://localhost:8080/"
        },
        "outputId": "94644d6b-89ba-4ab6-9a18-3577160b7168"
      },
      "execution_count": 34,
      "outputs": [
        {
          "output_type": "execute_result",
          "data": {
            "text/plain": [
              "[Document(id='0fb4c28a-3d90-424d-9e21-3a5c428c137b', metadata={'producer': 'Acrobat Distiller 9.0.0 (Windows)', 'creator': 'PScript5.dll Version 5.2.2', 'creationdate': '2009-12-24T14:33:47+03:00', 'author': '<CCF3F1E0F2EEE2E0>', 'moddate': '2009-12-24T14:33:47+03:00', 'title': '<4D6963726F736F667420576F7264202D20CAC45FE8E7EB5FD0EEE4E8ED>', 'source': '/content/The_Daughter_of_The_Commandant.pdf', 'total_pages': 4, 'page': 1, 'page_label': '2'}, page_content='Гринев много общается со Швабриным, но тот ему нравится все меньше, а особенно его \\nколкие замечания о Маше. Гринев посвящает Маше посредственные любовные стихи. \\nШвабрин резко их критикует, в разговоре с Гриневым оскорбляет Машу. Гринев называет \\nего лжецом, Швабрин требует сатисфакции. Перед дуэлью по приказанию Василисы \\nЕгоровны их арестовывают, дворовая девка Палашка даже отнимает у них шпаги. Через \\nнекоторое время Гринев узнает от Маши, что Швабрин за нее сватался, а она отказала (этим'),\n",
              " Document(id='b9e5a235-19d0-4c0a-afdf-a1375c986a69', metadata={'producer': 'Acrobat Distiller 9.0.0 (Windows)', 'creator': 'PScript5.dll Version 5.2.2', 'creationdate': '2009-12-24T14:33:47+03:00', 'author': '<CCF3F1E0F2EEE2E0>', 'moddate': '2009-12-24T14:33:47+03:00', 'title': '<4D6963726F736F667420576F7264202D20CAC45FE8E7EB5FD0EEE4E8ED>', 'source': '/content/The_Daughter_of_The_Commandant.pdf', 'total_pages': 4, 'page': 3, 'page_label': '4'}, page_content='Гринева приговаривают к ссылке в Сибирь. Родители Гринева очень привязались к Маше. \\nНе желая злоупотреблять их великодушием, Маша едет в Петербург, останавливается \\nв Царском Селе, в саду встречает императрицу и просит о милости к Гриневу, объясняя, \\nчто он попал к Пугачеву из-за нее. На аудиенции императрица обещает устроить судьбу \\nМаши и простить Гринева. Гринева освобождают из-под стражи. «Он присутствовал при'),\n",
              " Document(id='7feaf716-a1d9-41df-a34f-885730a2e380', metadata={'producer': 'Acrobat Distiller 9.0.0 (Windows)', 'creator': 'PScript5.dll Version 5.2.2', 'creationdate': '2009-12-24T14:33:47+03:00', 'author': '<CCF3F1E0F2EEE2E0>', 'moddate': '2009-12-24T14:33:47+03:00', 'title': '<4D6963726F736F667420576F7264202D20CAC45FE8E7EB5FD0EEE4E8ED>', 'source': '/content/The_Daughter_of_The_Commandant.pdf', 'total_pages': 4, 'page': 1, 'page_label': '2'}, page_content='некоторое время Гринев узнает от Маши, что Швабрин за нее сватался, а она отказала (этим \\nи объясняется упорное злословие Швабрина в адрес девушки). Дуэль возобновляется, \\nГринев ранен. \\nГлава 5 \\nЛюбовь \\nМаша и Савельич ухаживают за раненым. Гринев делает Маше предложение. Пишет \\nписьмо родителям. Швабрин приходит навестить Гринева, признает, что сам был виноват. \\nОтец Гринева отказывает сыну в благословении ( ему известно и о дуэли, но не от'),\n",
              " Document(id='89345436-f648-4995-a600-4fc30cfc3a6c', metadata={'producer': 'Acrobat Distiller 9.0.0 (Windows)', 'creator': 'PScript5.dll Version 5.2.2', 'creationdate': '2009-12-24T14:33:47+03:00', 'author': '<CCF3F1E0F2EEE2E0>', 'moddate': '2009-12-24T14:33:47+03:00', 'title': '<4D6963726F736F667420576F7264202D20CAC45FE8E7EB5FD0EEE4E8ED>', 'source': '/content/The_Daughter_of_The_Commandant.pdf', 'total_pages': 4, 'page': 3, 'page_label': '4'}, page_content='Маши и простить Гринева. Гринева освобождают из-под стражи. «Он присутствовал при \\nказни Пугачева, который узнал его в толпе и кивнул ему головой, которая через минуту, \\nмертвая и окровавленная, показана была народу».')]"
            ]
          },
          "metadata": {},
          "execution_count": 34
        }
      ]
    },
    {
      "cell_type": "markdown",
      "source": [
        "# 🚰 RAG Pipeline - подключаем RAG к LLM"
      ],
      "metadata": {
        "id": "YzCDWTNdvy_J"
      }
    },
    {
      "cell_type": "code",
      "source": [
        "from langchain.schema import StrOutputParser\n",
        "from langchain_core.prompts import ChatPromptTemplate\n",
        "from langchain_core.runnables import RunnablePassthrough\n",
        "\n",
        "# Создаём простой шаблон\n",
        "template = \"\"\"\n",
        "Answer the question based only on the following context:\n",
        "\n",
        "{context}\n",
        "\n",
        "Question: {question}\n",
        "\"\"\"\n",
        "# Создаём промпт из шаблона\n",
        "prompt = ChatPromptTemplate.from_template(template)\n",
        "\n",
        "\n",
        "# Объявляем функцию, которая будет собирать строку из полученных документов\n",
        "def format_docs(docs):\n",
        "    return \"\\n\\n\".join([d.page_content for d in docs])\n",
        "\n",
        "\n",
        "# Создаём цепочку\n",
        "chain = (\n",
        "    {\"context\": retriever | format_docs, \"question\": RunnablePassthrough()}\n",
        "    | prompt\n",
        "    | llm\n",
        "    | StrOutputParser()\n",
        ")\n",
        "\n",
        "chain.invoke(\"Кто такая Маша?\")\n"
      ],
      "metadata": {
        "id": "119g8AIqvB0x",
        "colab": {
          "base_uri": "https://localhost:8080/",
          "height": 53
        },
        "outputId": "af63ccdc-72ec-444b-8741-a370dbc0beaf"
      },
      "execution_count": 36,
      "outputs": [
        {
          "output_type": "execute_result",
          "data": {
            "text/plain": [
              "'Маша — это девушка, к которой испытывает чувства Гринев. Она является объектом внимания Швабрина, который сватался к ней, но была вынуждена отказать ему. Маша заботится о Гринева, когда он ранен, и в конечном итоге Гринев делает ей предложение. Также она просит императрицу о милости для Гринева.'"
            ],
            "application/vnd.google.colaboratory.intrinsic+json": {
              "type": "string"
            }
          },
          "metadata": {},
          "execution_count": 36
        }
      ]
    },
    {
      "cell_type": "code",
      "source": [
        "chain.invoke(\"Кто такая капитанская дочка?\")"
      ],
      "metadata": {
        "colab": {
          "base_uri": "https://localhost:8080/",
          "height": 35
        },
        "id": "tb76hIkCMROy",
        "outputId": "6a36a5ba-bab5-4227-ca9f-a9919f5ad4da"
      },
      "execution_count": 37,
      "outputs": [
        {
          "output_type": "execute_result",
          "data": {
            "text/plain": [
              "'Капитанская дочка — это Маша, дочь капитана Миронова. Она является одной из ключевых персонажей в произведении \"Капитанская дочка\" Александра Пушкина.'"
            ],
            "application/vnd.google.colaboratory.intrinsic+json": {
              "type": "string"
            }
          },
          "metadata": {},
          "execution_count": 37
        }
      ]
    },
    {
      "cell_type": "code",
      "source": [
        "chain.invoke(\"В чем поучительный смысл произведения?\")"
      ],
      "metadata": {
        "colab": {
          "base_uri": "https://localhost:8080/",
          "height": 70
        },
        "id": "XpBh6CwpMWqP",
        "outputId": "86224841-563d-40cd-c35d-4c1d70221ae2"
      },
      "execution_count": 38,
      "outputs": [
        {
          "data": {
            "application/vnd.google.colaboratory.intrinsic+json": {
              "type": "string"
            },
            "text/plain": [
              "'Поучительный смысл произведения \"Капитанская дочка\" заключается в том, что оно акцентирует внимание на важности чести, мужества и верности в трудных жизненных ситуациях. Герой, Петр Гринев, учится принимать ответственные решения и отстаивать свои моральные ценности, даже когда обстоятельства ставят его перед сложным выбором. Также произведение подчеркивает значимость любви, дружбы и преданности, которые способны преодолеть любые трудности.'"
            ]
          },
          "execution_count": 38,
          "metadata": {},
          "output_type": "execute_result"
        }
      ]
    },
    {
      "cell_type": "code",
      "source": [
        "from langchain.schema import StrOutputParser\n",
        "from langchain_core.prompts import ChatPromptTemplate\n",
        "from langchain_core.runnables import RunnablePassthrough\n",
        "\n",
        "# Создаём простой шаблон\n",
        "template = \"\"\"\n",
        "Answer the question based only on the following context. Сделай ответ до 70 символов. И давай ответ по факту, коротко и по делу:\n",
        "\n",
        "{context}\n",
        "\n",
        "Question: {question}\n",
        "\"\"\"\n",
        "# Создаём промпт из шаблона\n",
        "prompt = ChatPromptTemplate.from_template(template)\n",
        "\n",
        "\n",
        "# Объявляем функцию, которая будет собирать строку из полученных документов\n",
        "def format_docs(docs):\n",
        "    return \"\\n\\n\".join([d.page_content for d in docs])\n",
        "\n",
        "\n",
        "# Создаём цепочку\n",
        "chain = (\n",
        "    {\"context\": retriever | format_docs, \"question\": RunnablePassthrough()}\n",
        "    | prompt\n",
        "    | llm\n",
        "    | StrOutputParser()\n",
        ")\n"
      ],
      "metadata": {
        "id": "_LOJUZaDNHVS"
      },
      "execution_count": 43,
      "outputs": []
    },
    {
      "cell_type": "code",
      "source": [
        "answers = [] # Список, где будем хранить ответы модели\n",
        "\n",
        "for text_input in tqdm(df['question']):\n",
        "    answer = chain.invoke(text_input)\n",
        "    answers.append(answer) # Добавляем ответ в список\n",
        "  #  break # Для отладки. Уберите, когда убедитесь, что на одном примере работает"
      ],
      "metadata": {
        "id": "z5b0Ii9kvBx2",
        "colab": {
          "base_uri": "https://localhost:8080/"
        },
        "outputId": "190a924d-e3bf-454c-aaaf-4af4d069f5bd"
      },
      "execution_count": 44,
      "outputs": [
        {
          "output_type": "stream",
          "name": "stderr",
          "text": [
            "100%|██████████| 15/15 [00:19<00:00,  1.27s/it]\n"
          ]
        }
      ]
    },
    {
      "cell_type": "code",
      "source": [
        "answers"
      ],
      "metadata": {
        "colab": {
          "base_uri": "https://localhost:8080/"
        },
        "id": "YwCJT_jQMieO",
        "outputId": "2724f080-1b5c-4ea3-a7cd-aeebff8246d1"
      },
      "execution_count": 45,
      "outputs": [
        {
          "output_type": "execute_result",
          "data": {
            "text/plain": [
              "['Пугачева убили раздетой на крыльце.',\n",
              " 'В Царском Селе.',\n",
              " 'Гринев и Савельич сбились с дороги из-за бурана.',\n",
              " 'Швабрин издевался над Машей и морил ее голодом.',\n",
              " 'В Сибирь.',\n",
              " 'В семье Петра Гринева было девять детей.',\n",
              " 'Петра Гринева воспитывал дядька Савельич.',\n",
              " 'Гринев попросил полсотни казаков.',\n",
              " 'Белогорская крепость находилась в 40 верст от города.',\n",
              " 'Дочку коменданта звали Маша.',\n",
              " 'Петя подарил вожатому платок.',\n",
              " 'Береги платье снову, а честь смолоду.',\n",
              " 'Пугачев оставил комендантом Швабрина.',\n",
              " 'Швабрина перевели в крепость за дуэль.',\n",
              " '«Барского дитятю» (младшего сына помещика).']"
            ]
          },
          "metadata": {},
          "execution_count": 45
        }
      ]
    },
    {
      "cell_type": "code",
      "source": [
        "df['answer'] = answers # Создаём новый столбец из ответов модели"
      ],
      "metadata": {
        "id": "ks63JYu1vBpt"
      },
      "execution_count": 46,
      "outputs": []
    },
    {
      "cell_type": "code",
      "source": [],
      "metadata": {
        "id": "9t2jsm2-MhXD"
      },
      "execution_count": null,
      "outputs": []
    },
    {
      "cell_type": "code",
      "source": [
        "df.to_csv('4_1_11_solution.csv', index=False) # Сохраняем файл, отправляем на Stepik, получаем баллы :)"
      ],
      "metadata": {
        "id": "FvJ8XyUQwrUK"
      },
      "execution_count": 47,
      "outputs": []
    },
    {
      "cell_type": "code",
      "source": [],
      "metadata": {
        "id": "xHDAt0_3wrRi"
      },
      "execution_count": null,
      "outputs": []
    }
  ]
}