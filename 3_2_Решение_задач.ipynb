{
  "cells": [
    {
      "cell_type": "code",
      "execution_count": null,
      "metadata": {
        "id": "gEG2cGnXfVBM"
      },
      "outputs": [],
      "source": [
        "!pip install langchain openai langchain-openai langchain-community -q"
      ]
    },
    {
      "cell_type": "code",
      "execution_count": null,
      "metadata": {
        "id": "1QryfFUYN_2e"
      },
      "outputs": [],
      "source": []
    },
    {
      "cell_type": "code",
      "execution_count": null,
      "metadata": {
        "id": "ix68Au3nfW94"
      },
      "outputs": [],
      "source": [
        "import re\n",
        "import pandas as pd\n",
        "from tqdm import tqdm\n",
        "from getpass import getpass\n",
        "\n",
        "from langchain.prompts import PromptTemplate\n",
        "from langchain.output_parsers import ResponseSchema, StructuredOutputParser"
      ]
    },
    {
      "cell_type": "markdown",
      "metadata": {
        "id": "C0K7awRZfciu"
      },
      "source": [
        "## Если используете ключ от OpenAI, запустите эту ячейку 👇"
      ]
    },
    {
      "cell_type": "code",
      "execution_count": null,
      "metadata": {
        "id": "oSaeU0STfbxu"
      },
      "outputs": [],
      "source": [
        "import os\n",
        "from langchain_openai import ChatOpenAI\n",
        "\n",
        "\n",
        "# os.environ['OPENAI_API_KEY'] = \"Введите ваш OpenAI API ключ\"\n",
        "os.environ['OPENAI_API_KEY'] = getpass(prompt='Введите ваш OpenAI API ключ')\n",
        "\n",
        "# Инициализируем языковую модель\n",
        "llm = ChatOpenAI(temperature=0.0)"
      ]
    },
    {
      "cell_type": "markdown",
      "metadata": {
        "id": "KfBKAJ0vfiCh"
      },
      "source": [
        "## Если используете ключ из курса, запустите эти ячейки 👇\n"
      ]
    },
    {
      "cell_type": "code",
      "execution_count": null,
      "metadata": {
        "colab": {
          "base_uri": "https://localhost:8080/"
        },
        "id": "_baYTEnSfex7",
        "outputId": "816f1ccb-8d86-47c5-f937-0af75a79bcce"
      },
      "outputs": [
        {
          "name": "stdout",
          "output_type": "stream",
          "text": [
            "Введите ваш API ключ, полученный в боте курса··········\n"
          ]
        }
      ],
      "source": [
        "from langchain_openai import ChatOpenAI\n",
        "from getpass import getpass\n",
        "\n",
        "#course_api_key= \"Введите ваш API ключ, полученный в боте курса\"\n",
        "course_api_key = getpass(prompt='Введите ваш API ключ, полученный в боте курса')\n",
        "\n",
        "# инициализируем языковую модель\n",
        "llm = ChatOpenAI(api_key=course_api_key, model='gpt-4o-mini',\n",
        "                 base_url=\"https://aleron-llm.neuraldeep.tech/\")"
      ]
    },
    {
      "cell_type": "markdown",
      "metadata": {
        "id": "z2JH453Ufm4L"
      },
      "source": [
        "## Задание 3.2.9 🤔 Кажется, это что-то на LLM-ском? 🧐"
      ]
    },
    {
      "cell_type": "code",
      "execution_count": null,
      "metadata": {
        "colab": {
          "base_uri": "https://localhost:8080/",
          "height": 206
        },
        "id": "HExe1XOeflIq",
        "outputId": "8f2d3d28-5f66-4ef5-a1f0-e99b75446b1b"
      },
      "outputs": [
        {
          "data": {
            "application/vnd.google.colaboratory.intrinsic+json": {
              "summary": "{\n  \"name\": \"df\",\n  \"rows\": 13,\n  \"fields\": [\n    {\n      \"column\": \"raw_text\",\n      \"properties\": {\n        \"dtype\": \"string\",\n        \"num_unique_values\": 13,\n        \"samples\": [\n          \"\\u0412 \\u0433\\u043e\\u0440\\u043e\\u0434\\u0435 \\u0431\\u044b\\u043b\\u043e \\u043c\\u043d\\u043e\\u0436\\u0435\\u0441\\u0442\\u0432\\u043e \\u043b\\u044e\\u00a3\\u0434\\u0435\\u0439, \\u043a\\u0430\\u0436\\u0434\\u044b\\u0439 \\u0438\\u0437 \\u043a\\u043e\\u00bf\\u0442\\u043e\\u0440\\u044b\\u0445 \\u0431\\u044b\\u043b \\u0437\\u0430\\u043d\\u044f\\u0442 \\u0441\\u0432\\u043e\\u0438\\u043c\\u0438 \\u0434\\u0435\\u043b\\u0430\\u043c\\u0438. \\u0421\\u0440\\u00bf\\u0435\\u0434\\u0438 \\u044d\\u0442\\u043e\\u0439 \\u0441\\u0443\\u0435\\u0442\\u044b, \\u0418\\u0432\\u0430\\u00a3\\u043d, \\u043c\\u043e\\u043b\\u043e\\u0434\\u043e\\u0439 \\u0447\\u0435\\u043b\\u043e\\u0432\\u0435\\u043a \\u0441 \\u0431\\u043e\\u043b\\u044c\\u0448\\u0438\\u043c\\u0438 \\u043c\\u0435\\u0447\\u0442\\u0430\\u043c\\u0438, \\u043f\\u044b\\u0442\\u0430\\u043b\\u0441\\u044f \\u043d\\u0430\\u0439\\u0442\\u0438 \\u0441\\u0432\\u043e\\u0435 \\u043c\\u0435\\u0441\\u0442\\u043e. \\u0415\\u0433\\u043e \\u0434\\u0440\\u0443\\u0437\\u044c\\u044f, \\u0421\\u0435\\u0440\\u0433\\u0435\\u0439 \\u0438 \\u041c\\u0430\\u0440\\u00a1\\u0438\\u044f, \\u0432\\u0441\\u0435\\u0433\\u0434\\u0430 \\u0431\\u044b\\u043b\\u0438 \\u0440\\u044f\\u0434\\u043e\\u043c, \\u043f\\u043e\\u0434\\u0434\\u0435\\u0440\\u0436\\u0438\\u0432\\u0430\\u044f \\u0435\\u0433\\u043e \\u0432\\u043e \\u0432\\u0441\\u0435\\u0445 \\u043d\\u0430\\u0447\\u0438\\u043d\\u0430\\u043d\\u0438\\u044f\\u0445. \\u041e\\u043d\\u0438 \\u0432\\u0435\\u0440\\u0438\\u043b\\u0438 \\u0432 \\u043d\\u0435\\u0433\\u043e, \\u043a\\u043e\\u0433\\u0434\\u0430 \\u043d\\u0438\\u043a\\u0442\\u043e \\u0434\\u0440\\u0443\\u0433\\u043e\\u0439 \\u043d\\u0435 \\u0432\\u0435\\u0440\\u0438\\u043b. \\u041d\\u043e \\u0436\\u0438\\u0437\\u043d\\u044c \\u0432 \\u0433\\u043e\\u0440\\u043e\\u0434\\u0435 \\u0431\\u044b\\u043b\\u0430 \\u043d\\u0435\\u043f\\u0440\\u043e\\u0441\\u0442\\u043e\\u0439. \\u041a\\u043e\\u043d\\u043a\\u0443\\u0440\\u0435\\u043d\\u0446\\u0438\\u044f \\u0431\\u044b\\u043b\\u0430 \\u043e\\u0436\\u0435\\u0441\\u0442\\u043e\\u0447\\u0435\\u043d\\u043d\\u043e\\u0439, \\u0430 \\u0431\\u043e\\u0440\\u044c\\u0431\\u0430 - \\u0440\\u0435\\u0430\\u043b\\u044c\\u043d\\u043e\\u0439. \\u041d\\u0435\\u0441\\u043c\\u043e\\u0442\\u0440\\u044f \\u043d\\u0430 \\u0432\\u0441\\u0435 \\u0442\\u0440\\u0443\\u0434\\u043d\\u043e\\u0441\\u0442\\u0438, \\u0418\\u0432\\u0430\\u043d \\u0431\\u044b\\u043b \\u0440\\u0435\\u0448\\u0435\\u043d \\u0441\\u0434\\u0435\\u043b\\u0430\\u0442\\u044c \\u0432\\u0441\\u0435 \\u0432\\u043e\\u0437\\u043c\\u043e\\u0436\\u043d\\u043e\\u0435, \\u0447\\u0442\\u043e\\u0431\\u00a3\\u044b \\u0434\\u043e\\u0441\\u0442\\u0438\\u0447\\u044c \\u0441\\u0432\\u043e\\u0438\\u0445 \\u0446\\u0435\\u043b\\u0435\\u0439. \\u041e\\u043d \\u0437\\u043d\\u0430\\u043b, \\u0447\\u0442\\u043e \\u0435\\u043c\\u0443 \\u043f\\u0440\\u0438\\u0434\\u0435\\u0442\\u0441\\u044f \\u043c\\u043d\\u043e\\u0433\\u043e \\u0440\\u0430\\u0431\\u043e\\u0442\\u0430\\u0442\\u044c \\u0438 \\u043d\\u0438\\u043a\\u043e\\u0433\\u0434\\u0430 \\u043d\\u0435 \\u0441\\u0434\\u0430\\u0432\\u0430\\u0442\\u044c\\u0441\\u044f. \\u0415\\u0433\\u043e \\u043f\\u0443\\u0442\\u044c \\u0431\\u044b\\u043b \\u043d\\u0435\\u043f\\u0440\\u043e\\u0441\\u0442, \\u043d\\u043e \\u0431\\u043b\\u0430\\u0433\\u043e\\u0434\\u0430\\u0440\\u044f \\u043f\\u043e\\u0434\\u0434\\u0435\\u0440\\u0436\\u043a\\u0435 \\u0434\\u0440\\u0443\\u0437\\u0435\\u0439 \\u0438 \\u043d\\u0435\\u043f\\u043e\\u043a\\u043e\\u043b\\u0435\\u0431\\u0438\\u043c\\u043e\\u0439 \\u0440\\u0435\\u0448\\u0438\\u043c\\u043e\\u0441\\u0442\\u0438, \\u043e\\u043d \\u0441\\u043c\\u043e\\u0433 \\u043f\\u0440\\u0435\\u043e\\u0434\\u043e\\u043b\\u0435\\u0442\\u044c \\u0432\\u0441\\u0435 \\u043f\\u0440\\u0435\\u043f\\u044f\\u0442\\u0441\\u0442\\u0432\\u0438\\u044f \\u0438 \\u0434\\u00a1\\u043e\\u0441\\u0442\\u0438\\u0447\\u044c \\u0441\\u0432\\u043e\\u0438\\u0445 \\u043c\\u0435\\u0447\\u0442.\",\n          \"En un peque\\u00f1o pueblo situado entre la\\u00a3s m\\u00bfonta\\u00f1as y el mar, viv\\u00eda una chica llamada Maria. Era conocida por su bondad y su amor por la naturaleza. Su vida estaba llena de personajes interesantes: el viejo pescador Juan, que le contaba historias del mar, el joven Tom\\u00e1s, que se un\\u00eda a ella en sus aventuras, y su mejor amiga Emilia, que siempre estaba all\\u00ed\\u00a1 para ella. Juntos, vivieron muchas aventuras, y cada d\\u00eda era un nuevo descubrimiento para ellos\\u00a3.\",\n          \"The sun was setting, casting long shadows over the small town. Jo\\u00bfhn, a middle-aged man with a heart full of dreams, was sitting on the porch of his old house. His friends, Peter and Mary, were there with him, sharing stories of their youth. They were all from the same tow\\u00a1n, and their lives were intertwined in ways they could never have imagined. Peter, a burly man with a booming voice, was the town's blacksmith. He was a man of few words, but his actions spoke volumes. Mary, on the other hand, was the town's schoolteacher. She was a woman of great wisdom and kindness, always ready to lend a helping hand. As they s\\u00a1at there, reminiscing about the past, a sense of nostalgia washed over them. They remembered the days when they were young and full of hope, when the world seemed full of possibilities. But now, as they looked at the setting sun, they realized that those days were long gone. John, however, was not ready to give up. He still had dreams, dreams that he was determined to fulfill. He knew that it would not be easy, but he was ready to face whatever challenges came his way. With Peter and Mary by his side, he knew that he could achieve anything.\"\n        ],\n        \"semantic_type\": \"\",\n        \"description\": \"\"\n      }\n    }\n  ]\n}",
              "type": "dataframe",
              "variable_name": "df"
            },
            "text/html": [
              "\n",
              "  <div id=\"df-7b50cd20-5924-4dbf-9127-6133c28fc5e1\" class=\"colab-df-container\">\n",
              "    <div>\n",
              "<style scoped>\n",
              "    .dataframe tbody tr th:only-of-type {\n",
              "        vertical-align: middle;\n",
              "    }\n",
              "\n",
              "    .dataframe tbody tr th {\n",
              "        vertical-align: top;\n",
              "    }\n",
              "\n",
              "    .dataframe thead th {\n",
              "        text-align: right;\n",
              "    }\n",
              "</style>\n",
              "<table border=\"1\" class=\"dataframe\">\n",
              "  <thead>\n",
              "    <tr style=\"text-align: right;\">\n",
              "      <th></th>\n",
              "      <th>raw_text</th>\n",
              "    </tr>\n",
              "  </thead>\n",
              "  <tbody>\n",
              "    <tr>\n",
              "      <th>0</th>\n",
              "      <td>The sun was setting, casting long shadows over...</td>\n",
              "    </tr>\n",
              "    <tr>\n",
              "      <th>1</th>\n",
              "      <td>Le soleil se couchait, jetant de longues ombre...</td>\n",
              "    </tr>\n",
              "    <tr>\n",
              "      <th>2</th>\n",
              "      <td>El sol se estaba poniendo, proyectando largas ...</td>\n",
              "    </tr>\n",
              "    <tr>\n",
              "      <th>3</th>\n",
              "      <td>La ciudad estaba llena de vida, sus calles lle...</td>\n",
              "    </tr>\n",
              "    <tr>\n",
              "      <th>4</th>\n",
              "      <td>La ville était pleine de vie, ses rues remplie...</td>\n",
              "    </tr>\n",
              "  </tbody>\n",
              "</table>\n",
              "</div>\n",
              "    <div class=\"colab-df-buttons\">\n",
              "\n",
              "  <div class=\"colab-df-container\">\n",
              "    <button class=\"colab-df-convert\" onclick=\"convertToInteractive('df-7b50cd20-5924-4dbf-9127-6133c28fc5e1')\"\n",
              "            title=\"Convert this dataframe to an interactive table.\"\n",
              "            style=\"display:none;\">\n",
              "\n",
              "  <svg xmlns=\"http://www.w3.org/2000/svg\" height=\"24px\" viewBox=\"0 -960 960 960\">\n",
              "    <path d=\"M120-120v-720h720v720H120Zm60-500h600v-160H180v160Zm220 220h160v-160H400v160Zm0 220h160v-160H400v160ZM180-400h160v-160H180v160Zm440 0h160v-160H620v160ZM180-180h160v-160H180v160Zm440 0h160v-160H620v160Z\"/>\n",
              "  </svg>\n",
              "    </button>\n",
              "\n",
              "  <style>\n",
              "    .colab-df-container {\n",
              "      display:flex;\n",
              "      gap: 12px;\n",
              "    }\n",
              "\n",
              "    .colab-df-convert {\n",
              "      background-color: #E8F0FE;\n",
              "      border: none;\n",
              "      border-radius: 50%;\n",
              "      cursor: pointer;\n",
              "      display: none;\n",
              "      fill: #1967D2;\n",
              "      height: 32px;\n",
              "      padding: 0 0 0 0;\n",
              "      width: 32px;\n",
              "    }\n",
              "\n",
              "    .colab-df-convert:hover {\n",
              "      background-color: #E2EBFA;\n",
              "      box-shadow: 0px 1px 2px rgba(60, 64, 67, 0.3), 0px 1px 3px 1px rgba(60, 64, 67, 0.15);\n",
              "      fill: #174EA6;\n",
              "    }\n",
              "\n",
              "    .colab-df-buttons div {\n",
              "      margin-bottom: 4px;\n",
              "    }\n",
              "\n",
              "    [theme=dark] .colab-df-convert {\n",
              "      background-color: #3B4455;\n",
              "      fill: #D2E3FC;\n",
              "    }\n",
              "\n",
              "    [theme=dark] .colab-df-convert:hover {\n",
              "      background-color: #434B5C;\n",
              "      box-shadow: 0px 1px 3px 1px rgba(0, 0, 0, 0.15);\n",
              "      filter: drop-shadow(0px 1px 2px rgba(0, 0, 0, 0.3));\n",
              "      fill: #FFFFFF;\n",
              "    }\n",
              "  </style>\n",
              "\n",
              "    <script>\n",
              "      const buttonEl =\n",
              "        document.querySelector('#df-7b50cd20-5924-4dbf-9127-6133c28fc5e1 button.colab-df-convert');\n",
              "      buttonEl.style.display =\n",
              "        google.colab.kernel.accessAllowed ? 'block' : 'none';\n",
              "\n",
              "      async function convertToInteractive(key) {\n",
              "        const element = document.querySelector('#df-7b50cd20-5924-4dbf-9127-6133c28fc5e1');\n",
              "        const dataTable =\n",
              "          await google.colab.kernel.invokeFunction('convertToInteractive',\n",
              "                                                    [key], {});\n",
              "        if (!dataTable) return;\n",
              "\n",
              "        const docLinkHtml = 'Like what you see? Visit the ' +\n",
              "          '<a target=\"_blank\" href=https://colab.research.google.com/notebooks/data_table.ipynb>data table notebook</a>'\n",
              "          + ' to learn more about interactive tables.';\n",
              "        element.innerHTML = '';\n",
              "        dataTable['output_type'] = 'display_data';\n",
              "        await google.colab.output.renderOutput(dataTable, element);\n",
              "        const docLink = document.createElement('div');\n",
              "        docLink.innerHTML = docLinkHtml;\n",
              "        element.appendChild(docLink);\n",
              "      }\n",
              "    </script>\n",
              "  </div>\n",
              "\n",
              "\n",
              "    <div id=\"df-0e789e3f-953b-4d90-890c-3fdc2f58602c\">\n",
              "      <button class=\"colab-df-quickchart\" onclick=\"quickchart('df-0e789e3f-953b-4d90-890c-3fdc2f58602c')\"\n",
              "                title=\"Suggest charts\"\n",
              "                style=\"display:none;\">\n",
              "\n",
              "<svg xmlns=\"http://www.w3.org/2000/svg\" height=\"24px\"viewBox=\"0 0 24 24\"\n",
              "     width=\"24px\">\n",
              "    <g>\n",
              "        <path d=\"M19 3H5c-1.1 0-2 .9-2 2v14c0 1.1.9 2 2 2h14c1.1 0 2-.9 2-2V5c0-1.1-.9-2-2-2zM9 17H7v-7h2v7zm4 0h-2V7h2v10zm4 0h-2v-4h2v4z\"/>\n",
              "    </g>\n",
              "</svg>\n",
              "      </button>\n",
              "\n",
              "<style>\n",
              "  .colab-df-quickchart {\n",
              "      --bg-color: #E8F0FE;\n",
              "      --fill-color: #1967D2;\n",
              "      --hover-bg-color: #E2EBFA;\n",
              "      --hover-fill-color: #174EA6;\n",
              "      --disabled-fill-color: #AAA;\n",
              "      --disabled-bg-color: #DDD;\n",
              "  }\n",
              "\n",
              "  [theme=dark] .colab-df-quickchart {\n",
              "      --bg-color: #3B4455;\n",
              "      --fill-color: #D2E3FC;\n",
              "      --hover-bg-color: #434B5C;\n",
              "      --hover-fill-color: #FFFFFF;\n",
              "      --disabled-bg-color: #3B4455;\n",
              "      --disabled-fill-color: #666;\n",
              "  }\n",
              "\n",
              "  .colab-df-quickchart {\n",
              "    background-color: var(--bg-color);\n",
              "    border: none;\n",
              "    border-radius: 50%;\n",
              "    cursor: pointer;\n",
              "    display: none;\n",
              "    fill: var(--fill-color);\n",
              "    height: 32px;\n",
              "    padding: 0;\n",
              "    width: 32px;\n",
              "  }\n",
              "\n",
              "  .colab-df-quickchart:hover {\n",
              "    background-color: var(--hover-bg-color);\n",
              "    box-shadow: 0 1px 2px rgba(60, 64, 67, 0.3), 0 1px 3px 1px rgba(60, 64, 67, 0.15);\n",
              "    fill: var(--button-hover-fill-color);\n",
              "  }\n",
              "\n",
              "  .colab-df-quickchart-complete:disabled,\n",
              "  .colab-df-quickchart-complete:disabled:hover {\n",
              "    background-color: var(--disabled-bg-color);\n",
              "    fill: var(--disabled-fill-color);\n",
              "    box-shadow: none;\n",
              "  }\n",
              "\n",
              "  .colab-df-spinner {\n",
              "    border: 2px solid var(--fill-color);\n",
              "    border-color: transparent;\n",
              "    border-bottom-color: var(--fill-color);\n",
              "    animation:\n",
              "      spin 1s steps(1) infinite;\n",
              "  }\n",
              "\n",
              "  @keyframes spin {\n",
              "    0% {\n",
              "      border-color: transparent;\n",
              "      border-bottom-color: var(--fill-color);\n",
              "      border-left-color: var(--fill-color);\n",
              "    }\n",
              "    20% {\n",
              "      border-color: transparent;\n",
              "      border-left-color: var(--fill-color);\n",
              "      border-top-color: var(--fill-color);\n",
              "    }\n",
              "    30% {\n",
              "      border-color: transparent;\n",
              "      border-left-color: var(--fill-color);\n",
              "      border-top-color: var(--fill-color);\n",
              "      border-right-color: var(--fill-color);\n",
              "    }\n",
              "    40% {\n",
              "      border-color: transparent;\n",
              "      border-right-color: var(--fill-color);\n",
              "      border-top-color: var(--fill-color);\n",
              "    }\n",
              "    60% {\n",
              "      border-color: transparent;\n",
              "      border-right-color: var(--fill-color);\n",
              "    }\n",
              "    80% {\n",
              "      border-color: transparent;\n",
              "      border-right-color: var(--fill-color);\n",
              "      border-bottom-color: var(--fill-color);\n",
              "    }\n",
              "    90% {\n",
              "      border-color: transparent;\n",
              "      border-bottom-color: var(--fill-color);\n",
              "    }\n",
              "  }\n",
              "</style>\n",
              "\n",
              "      <script>\n",
              "        async function quickchart(key) {\n",
              "          const quickchartButtonEl =\n",
              "            document.querySelector('#' + key + ' button');\n",
              "          quickchartButtonEl.disabled = true;  // To prevent multiple clicks.\n",
              "          quickchartButtonEl.classList.add('colab-df-spinner');\n",
              "          try {\n",
              "            const charts = await google.colab.kernel.invokeFunction(\n",
              "                'suggestCharts', [key], {});\n",
              "          } catch (error) {\n",
              "            console.error('Error during call to suggestCharts:', error);\n",
              "          }\n",
              "          quickchartButtonEl.classList.remove('colab-df-spinner');\n",
              "          quickchartButtonEl.classList.add('colab-df-quickchart-complete');\n",
              "        }\n",
              "        (() => {\n",
              "          let quickchartButtonEl =\n",
              "            document.querySelector('#df-0e789e3f-953b-4d90-890c-3fdc2f58602c button');\n",
              "          quickchartButtonEl.style.display =\n",
              "            google.colab.kernel.accessAllowed ? 'block' : 'none';\n",
              "        })();\n",
              "      </script>\n",
              "    </div>\n",
              "    </div>\n",
              "  </div>\n"
            ],
            "text/plain": [
              "                                            raw_text\n",
              "0  The sun was setting, casting long shadows over...\n",
              "1  Le soleil se couchait, jetant de longues ombre...\n",
              "2  El sol se estaba poniendo, proyectando largas ...\n",
              "3  La ciudad estaba llena de vida, sus calles lle...\n",
              "4  La ville était pleine de vie, ses rues remplie..."
            ]
          },
          "execution_count": 4,
          "metadata": {},
          "output_type": "execute_result"
        }
      ],
      "source": [
        "df = pd.read_csv(\"https://stepik.org/media/attachments/lesson/1110883/raw_texts.csv\")\n",
        "df.head()"
      ]
    },
    {
      "cell_type": "markdown",
      "metadata": {
        "id": "lECMhfEigA2x"
      },
      "source": [
        "Напишем функцию, которая очистит текст от ненужных символов: `¿, ¡, £`"
      ]
    },
    {
      "cell_type": "code",
      "execution_count": null,
      "metadata": {
        "id": "kcQcCsnqgDo-"
      },
      "outputs": [],
      "source": [
        "def clean_text(inputs: dict) -> dict:\n",
        "    text = inputs[\"text\"]\n",
        "\n",
        "    # YOUR CODE HERE ...\n",
        "    text = re.sub(r'[¿¡£]', '', text)\n",
        "\n",
        "    return {\"text\": text}"
      ]
    },
    {
      "cell_type": "code",
      "execution_count": null,
      "metadata": {
        "colab": {
          "base_uri": "https://localhost:8080/",
          "height": 491
        },
        "id": "K9YEPWnys9VO",
        "outputId": "244bf183-aaf1-48b9-f139-a40e9cb3903a"
      },
      "outputs": [
        {
          "data": {
            "text/html": [
              "<div>\n",
              "<style scoped>\n",
              "    .dataframe tbody tr th:only-of-type {\n",
              "        vertical-align: middle;\n",
              "    }\n",
              "\n",
              "    .dataframe tbody tr th {\n",
              "        vertical-align: top;\n",
              "    }\n",
              "\n",
              "    .dataframe thead th {\n",
              "        text-align: right;\n",
              "    }\n",
              "</style>\n",
              "<table border=\"1\" class=\"dataframe\">\n",
              "  <thead>\n",
              "    <tr style=\"text-align: right;\">\n",
              "      <th></th>\n",
              "      <th>raw_text</th>\n",
              "    </tr>\n",
              "  </thead>\n",
              "  <tbody>\n",
              "    <tr>\n",
              "      <th>0</th>\n",
              "      <td>The sun was setting, casting long shadows over...</td>\n",
              "    </tr>\n",
              "    <tr>\n",
              "      <th>1</th>\n",
              "      <td>Le soleil se couchait, jetant de longues ombre...</td>\n",
              "    </tr>\n",
              "    <tr>\n",
              "      <th>2</th>\n",
              "      <td>El sol se estaba poniendo, proyectando largas ...</td>\n",
              "    </tr>\n",
              "    <tr>\n",
              "      <th>3</th>\n",
              "      <td>La ciudad estaba llena de vida, sus calles lle...</td>\n",
              "    </tr>\n",
              "    <tr>\n",
              "      <th>4</th>\n",
              "      <td>La ville était pleine de vie, ses rues remplie...</td>\n",
              "    </tr>\n",
              "    <tr>\n",
              "      <th>5</th>\n",
              "      <td>Die Stadt¿ war voller Leben, ihre St£raß¿en ge...</td>\n",
              "    </tr>\n",
              "    <tr>\n",
              "      <th>6</th>\n",
              "      <td>Die Sonne g¿ing unter und warf lange Schat£ten...</td>\n",
              "    </tr>\n",
              "    <tr>\n",
              "      <th>7</th>\n",
              "      <td>В тихом уголке старого города, где узкие уло¿ч...</td>\n",
              "    </tr>\n",
              "    <tr>\n",
              "      <th>8</th>\n",
              "      <td>In a small town nestled between the mountains ...</td>\n",
              "    </tr>\n",
              "    <tr>\n",
              "      <th>9</th>\n",
              "      <td>En un pequeño pueblo situado entre la£s m¿onta...</td>\n",
              "    </tr>\n",
              "    <tr>\n",
              "      <th>10</th>\n",
              "      <td>Dans un petit village niché entre les montagne...</td>\n",
              "    </tr>\n",
              "    <tr>\n",
              "      <th>11</th>\n",
              "      <td>В городе было множество лю£дей, каждый из ко¿т...</td>\n",
              "    </tr>\n",
              "    <tr>\n",
              "      <th>12</th>\n",
              "      <td>£La città era piena di vita, le strade piene d...</td>\n",
              "    </tr>\n",
              "  </tbody>\n",
              "</table>\n",
              "</div><br><label><b>dtype:</b> object</label>"
            ],
            "text/plain": [
              "0     The sun was setting, casting long shadows over...\n",
              "1     Le soleil se couchait, jetant de longues ombre...\n",
              "2     El sol se estaba poniendo, proyectando largas ...\n",
              "3     La ciudad estaba llena de vida, sus calles lle...\n",
              "4     La ville était pleine de vie, ses rues remplie...\n",
              "5     Die Stadt¿ war voller Leben, ihre St£raß¿en ge...\n",
              "6     Die Sonne g¿ing unter und warf lange Schat£ten...\n",
              "7     В тихом уголке старого города, где узкие уло¿ч...\n",
              "8     In a small town nestled between the mountains ...\n",
              "9     En un pequeño pueblo situado entre la£s m¿onta...\n",
              "10    Dans un petit village niché entre les montagne...\n",
              "11    В городе было множество лю£дей, каждый из ко¿т...\n",
              "12    £La città era piena di vita, le strade piene d...\n",
              "Name: raw_text, dtype: object"
            ]
          },
          "execution_count": 6,
          "metadata": {},
          "output_type": "execute_result"
        }
      ],
      "source": [
        "df['raw_text']"
      ]
    },
    {
      "cell_type": "code",
      "execution_count": null,
      "metadata": {
        "colab": {
          "base_uri": "https://localhost:8080/"
        },
        "id": "9B7QPZoysgTG",
        "outputId": "1f99e031-6f22-46b8-aff4-6097d0d88156"
      },
      "outputs": [
        {
          "name": "stdout",
          "output_type": "stream",
          "text": [
            "{'text': 'Die Stadt war voller Leben, ihre Straßen gefüllt mit dem Lärm von Menschen und Autos. Mitten im Chaos versuchte Johann, ein junger Mann mit einem Traum, seinen Weg zu machen. Seine Freunde, Peter und Maria, standen ihm immer zur Seite und unterstützten ihn bei seinen Bemühungen. Sie waren ein Trio, unzertrennlich und voller Leben. Aber das Leben in der Stadt war nicht einfach. Sie mussten viele Herausforderungen meistern, aber sie gaben nie auf. Sie glaubten an ihre Träume und aneinander. Und so setzten sie ihre Reise fort, jedes Hindernis mit Mut und Entschlossenheit zu überwinden.'}\n"
          ]
        }
      ],
      "source": [
        "print(clean_text({'text': df['raw_text'][5]}))"
      ]
    },
    {
      "cell_type": "markdown",
      "metadata": {
        "id": "I5fppZD7gISy"
      },
      "source": [
        "Будем просить у модели определять язык и имя главного персонажа и выдавать ответ в виде словаря. Для этого создадим `Output parser`, с которым вы уже познакомились в прошлых уроках. НЕ ОБЯЗАТЕЛЬНЫЙ ШАГ"
      ]
    },
    {
      "cell_type": "code",
      "execution_count": null,
      "metadata": {
        "id": "yFVSw9r3TyZG"
      },
      "outputs": [],
      "source": [
        "from langchain.output_parsers import ResponseSchema\n",
        "from langchain.output_parsers import StructuredOutputParser"
      ]
    },
    {
      "cell_type": "code",
      "execution_count": null,
      "metadata": {
        "id": "sMwNyCdigKr3"
      },
      "outputs": [],
      "source": [
        "# Определим схемы ответа\n",
        "language_schema = ResponseSchema(\n",
        "    name=\"language\",\n",
        "    description=\"\"\"язык, на котором написан текст. Указать на английском языке (например, не Русский, а Russian. Не Deutsch, а German)\"\"\")\n",
        "\n",
        "person_schema = ResponseSchema(\n",
        "    name=\"person\",\n",
        "    description=\"\"\"Имя главного героя произведения. На том же языке, как оно указано в тексте. (Hans, Pierrot, Анна)\"\"\")\n",
        "\n",
        "response_schemas = [language_schema, person_schema]\n",
        "output_parser = StructuredOutputParser.from_response_schemas(response_schemas) # Создаём парсер и подаём в него список со схемами\n",
        "format_instructions = output_parser.get_format_instructions() # Получаем инструкции по форматированию ответа"
      ]
    },
    {
      "cell_type": "code",
      "execution_count": null,
      "metadata": {
        "colab": {
          "base_uri": "https://localhost:8080/"
        },
        "id": "Kb-VDAayhxad",
        "outputId": "deee95df-91ef-4c8c-d343-80d9fbd9c4b5"
      },
      "outputs": [
        {
          "name": "stdout",
          "output_type": "stream",
          "text": [
            "The output should be a markdown code snippet formatted in the following schema, including the leading and trailing \"```json\" and \"```\":\n",
            "\n",
            "```json\n",
            "{\n",
            "\t\"language\": string  // язык, на котором написан текст. Указать на английском языке (например, не Русский, а Russian. Не Deutsch, а German)\n",
            "\t\"person\": string  // Имя главного героя произведения. На том же языке, как оно указано в тексте. (Hans, Pierrot, Анна)\n",
            "}\n",
            "```\n"
          ]
        }
      ],
      "source": [
        "print(format_instructions)"
      ]
    },
    {
      "cell_type": "markdown",
      "metadata": {
        "id": "X4sjobt8gaeC"
      },
      "source": [
        "Напишем шаблон промпта со своим вопросом и инструкциями по форматированию ответа. Будем передавать в этот промпт сырой текст"
      ]
    },
    {
      "cell_type": "code",
      "execution_count": 40,
      "metadata": {
        "id": "YO0jk4_rgaCH"
      },
      "outputs": [],
      "source": [
        "template = '''Из текста извлеки информацию:\n",
        "language: Определи язык текста, указать на английском языке (например, не Русский, а Russian. Не Deutsch, а German).\n",
        "person: И имя главного героя произведения, На том же языке, как оно указано в тексте. (Hans, Pierrot, Анна).\n",
        "text: {text}\n",
        "По инструкции: {format_instructions}'''\n",
        "\n",
        "prompt = PromptTemplate(\n",
        "    template=template,\n",
        "    input_variables=[\"text\"],\n",
        "    partial_variables={\"format_instructions\": format_instructions}\n",
        ")"
      ]
    },
    {
      "cell_type": "code",
      "execution_count": 41,
      "metadata": {
        "id": "MrGYf4sGn2sR"
      },
      "outputs": [],
      "source": [
        "text = 'Die Stadt¿ war voller Leben, ihre St£raß¿en gefüllt mit dem Lärm von Menschen und Autos. Mitten im Chaos versuchte Joh¿ann, ein junger Man¿n mit einem Traum, seinen Weg zu machen. Seine Freunde, Peter und Maria, standen ihm immer zur Seite und unterstützten ihn bei seinen Bemühu¡ngen. Sie waren ein Trio, unzertrennlich und voller Leben. Aber das Leben in der Stadt war nicht einfach. Si¡e mussten viele Herausforderungen meistern, aber sie gaben nie auf. Sie glaubten an ihre Träume und aneinander. Und so setzten sie ihre Reise fort, jedes Hindernis mit Mut und Entschlossenheit zu überwinden.'\n",
        "\n",
        "# Форматируем шаблон\n",
        "prompt_ = template.format(text=text, format_instructions=format_instructions)"
      ]
    },
    {
      "cell_type": "code",
      "execution_count": 42,
      "metadata": {
        "colab": {
          "base_uri": "https://localhost:8080/"
        },
        "id": "KYwu3VImn6Ko",
        "outputId": "fd0699f6-9937-4ea3-e77b-8b0dd5e61668"
      },
      "outputs": [
        {
          "output_type": "stream",
          "name": "stdout",
          "text": [
            "```json\n",
            "{\n",
            "\t\"language\": \"German\",\n",
            "\t\"person\": \"Johann\"\n",
            "}\n",
            "```\n"
          ]
        }
      ],
      "source": [
        "print(llm.invoke(prompt_).content)"
      ]
    },
    {
      "cell_type": "markdown",
      "metadata": {
        "id": "Uf9zTeF4gi4H"
      },
      "source": [
        "Создадим цепочку с помощью `LCEL`"
      ]
    },
    {
      "cell_type": "code",
      "execution_count": 43,
      "metadata": {
        "colab": {
          "base_uri": "https://localhost:8080/"
        },
        "id": "u3DdWjgQggEF",
        "outputId": "42371aa4-16fb-4bbb-cca4-273c62307659"
      },
      "outputs": [
        {
          "output_type": "stream",
          "name": "stdout",
          "text": [
            "{'language': 'German', 'person': 'Johann'}\n"
          ]
        }
      ],
      "source": [
        "chain = clean_text | prompt | llm | output_parser\n",
        "\n",
        "print(chain.invoke({'text': df['raw_text'][5]}))"
      ]
    },
    {
      "cell_type": "code",
      "execution_count": 57,
      "metadata": {
        "colab": {
          "base_uri": "https://localhost:8080/"
        },
        "id": "ZrDjre54gpVs",
        "outputId": "4dabc3ca-a4e2-4f46-c102-84b12f9376f6"
      },
      "outputs": [
        {
          "output_type": "stream",
          "name": "stderr",
          "text": [
            "100%|██████████| 13/13 [00:16<00:00,  1.28s/it]\n"
          ]
        }
      ],
      "source": [
        "\n",
        "dict_list = [] # Список, где будем хранить ответы модели\n",
        "\n",
        "for text in tqdm(df['raw_text']):\n",
        "    cleaned_data = clean_text({'text': text})\n",
        "    cleaned_text = cleaned_data['text']\n",
        "    # YOUR CODE HERE\n",
        "    answer = chain.invoke({'text': text}) # Добавляем сообщение в промпт\n",
        "    # Создаем полный словарь с результатами\n",
        "    result = {\n",
        "        'cleaned_text': cleaned_text,\n",
        "        'language': answer['language'],\n",
        "        'main_character': answer['person']\n",
        "    }\n",
        "    dict_list.append(result) # Добавляем ответ в список\n",
        "   # break # Для отладки. Уберите, когда убедитесь, что на одном примере работает"
      ]
    },
    {
      "cell_type": "code",
      "execution_count": null,
      "metadata": {
        "id": "IOs4TbVFsexf"
      },
      "outputs": [],
      "source": []
    },
    {
      "cell_type": "code",
      "source": [
        "import pandas as pd\n",
        "\n",
        "# Создаем DataFrame из результатов\n",
        "results_df = pd.DataFrame(dict_list)\n",
        "\n",
        "# Добавляем колонку с исходными текстами (если у вас есть список текстов)\n",
        "# Предположим, что texts - это список исходных текстов в том же порядке\n",
        "texts = df['raw_text'].tolist()[:len(results_df)]  # берем столько текстов, сколько результатов\n",
        "\n",
        "# Создаем итоговый DataFrame\n",
        "final_df = pd.DataFrame({\n",
        "    'text': results_df['cleaned_text'],\n",
        "    'language': results_df['language'],\n",
        "    'main_character': results_df['main_character']\n",
        "})\n"
      ],
      "metadata": {
        "id": "yAb_JvJp0MI8"
      },
      "execution_count": 61,
      "outputs": []
    },
    {
      "cell_type": "markdown",
      "metadata": {
        "id": "HsW9_cn6gy7-"
      },
      "source": [
        "Сохраним всё в итоговый файл. Убедитесь, что на этом этапе у вас в столбцах\n",
        "\n",
        "- `text` - очищенный текст (без символов ¿, ¡, £)\n",
        "- `language` - язык, на котором написан текст (название языка указать на английском языке)\n",
        "- `main_character` - имя главного персонажа в тексте (указать на том языке, на котором и написан сам текст)"
      ]
    },
    {
      "cell_type": "code",
      "source": [
        "final_df"
      ],
      "metadata": {
        "colab": {
          "base_uri": "https://localhost:8080/",
          "height": 457
        },
        "id": "jq2eZMfw0TDO",
        "outputId": "29fd962d-17c3-48b8-c210-65555db91a37"
      },
      "execution_count": 62,
      "outputs": [
        {
          "output_type": "execute_result",
          "data": {
            "text/plain": [
              "                                                 text language main_character\n",
              "0   The sun was setting, casting long shadows over...  English           John\n",
              "1   Le soleil se couchait, jetant de longues ombre...   French         Pierre\n",
              "2   El sol se estaba poniendo, proyectando largas ...  Spanish         Carlos\n",
              "3   La ciudad estaba llena de vida, sus calles lle...  Spanish           Juan\n",
              "4   La ville était pleine de vie, ses rues remplie...   French           Jean\n",
              "5   Die Stadt war voller Leben, ihre Straßen gefül...   German         Johann\n",
              "6   Die Sonne ging unter und warf lange Schatten ü...   German           Hans\n",
              "7   В тихом уголке старого города, где узкие улочк...  Russian           Анна\n",
              "8   In a small town nestled between the mountains ...  English          Laura\n",
              "9   En un pequeño pueblo situado entre las montaña...  Spanish          Maria\n",
              "10  Dans un petit village niché entre les montagne...   French         Sophie\n",
              "11  В городе было множество людей, каждый из котор...  Russian           Иван\n",
              "12  La città era piena di vita, le strade piene de...  Italian       Giovanni"
            ],
            "text/html": [
              "\n",
              "  <div id=\"df-5365a598-509c-4fb8-8fec-66608f549803\" class=\"colab-df-container\">\n",
              "    <div>\n",
              "<style scoped>\n",
              "    .dataframe tbody tr th:only-of-type {\n",
              "        vertical-align: middle;\n",
              "    }\n",
              "\n",
              "    .dataframe tbody tr th {\n",
              "        vertical-align: top;\n",
              "    }\n",
              "\n",
              "    .dataframe thead th {\n",
              "        text-align: right;\n",
              "    }\n",
              "</style>\n",
              "<table border=\"1\" class=\"dataframe\">\n",
              "  <thead>\n",
              "    <tr style=\"text-align: right;\">\n",
              "      <th></th>\n",
              "      <th>text</th>\n",
              "      <th>language</th>\n",
              "      <th>main_character</th>\n",
              "    </tr>\n",
              "  </thead>\n",
              "  <tbody>\n",
              "    <tr>\n",
              "      <th>0</th>\n",
              "      <td>The sun was setting, casting long shadows over...</td>\n",
              "      <td>English</td>\n",
              "      <td>John</td>\n",
              "    </tr>\n",
              "    <tr>\n",
              "      <th>1</th>\n",
              "      <td>Le soleil se couchait, jetant de longues ombre...</td>\n",
              "      <td>French</td>\n",
              "      <td>Pierre</td>\n",
              "    </tr>\n",
              "    <tr>\n",
              "      <th>2</th>\n",
              "      <td>El sol se estaba poniendo, proyectando largas ...</td>\n",
              "      <td>Spanish</td>\n",
              "      <td>Carlos</td>\n",
              "    </tr>\n",
              "    <tr>\n",
              "      <th>3</th>\n",
              "      <td>La ciudad estaba llena de vida, sus calles lle...</td>\n",
              "      <td>Spanish</td>\n",
              "      <td>Juan</td>\n",
              "    </tr>\n",
              "    <tr>\n",
              "      <th>4</th>\n",
              "      <td>La ville était pleine de vie, ses rues remplie...</td>\n",
              "      <td>French</td>\n",
              "      <td>Jean</td>\n",
              "    </tr>\n",
              "    <tr>\n",
              "      <th>5</th>\n",
              "      <td>Die Stadt war voller Leben, ihre Straßen gefül...</td>\n",
              "      <td>German</td>\n",
              "      <td>Johann</td>\n",
              "    </tr>\n",
              "    <tr>\n",
              "      <th>6</th>\n",
              "      <td>Die Sonne ging unter und warf lange Schatten ü...</td>\n",
              "      <td>German</td>\n",
              "      <td>Hans</td>\n",
              "    </tr>\n",
              "    <tr>\n",
              "      <th>7</th>\n",
              "      <td>В тихом уголке старого города, где узкие улочк...</td>\n",
              "      <td>Russian</td>\n",
              "      <td>Анна</td>\n",
              "    </tr>\n",
              "    <tr>\n",
              "      <th>8</th>\n",
              "      <td>In a small town nestled between the mountains ...</td>\n",
              "      <td>English</td>\n",
              "      <td>Laura</td>\n",
              "    </tr>\n",
              "    <tr>\n",
              "      <th>9</th>\n",
              "      <td>En un pequeño pueblo situado entre las montaña...</td>\n",
              "      <td>Spanish</td>\n",
              "      <td>Maria</td>\n",
              "    </tr>\n",
              "    <tr>\n",
              "      <th>10</th>\n",
              "      <td>Dans un petit village niché entre les montagne...</td>\n",
              "      <td>French</td>\n",
              "      <td>Sophie</td>\n",
              "    </tr>\n",
              "    <tr>\n",
              "      <th>11</th>\n",
              "      <td>В городе было множество людей, каждый из котор...</td>\n",
              "      <td>Russian</td>\n",
              "      <td>Иван</td>\n",
              "    </tr>\n",
              "    <tr>\n",
              "      <th>12</th>\n",
              "      <td>La città era piena di vita, le strade piene de...</td>\n",
              "      <td>Italian</td>\n",
              "      <td>Giovanni</td>\n",
              "    </tr>\n",
              "  </tbody>\n",
              "</table>\n",
              "</div>\n",
              "    <div class=\"colab-df-buttons\">\n",
              "\n",
              "  <div class=\"colab-df-container\">\n",
              "    <button class=\"colab-df-convert\" onclick=\"convertToInteractive('df-5365a598-509c-4fb8-8fec-66608f549803')\"\n",
              "            title=\"Convert this dataframe to an interactive table.\"\n",
              "            style=\"display:none;\">\n",
              "\n",
              "  <svg xmlns=\"http://www.w3.org/2000/svg\" height=\"24px\" viewBox=\"0 -960 960 960\">\n",
              "    <path d=\"M120-120v-720h720v720H120Zm60-500h600v-160H180v160Zm220 220h160v-160H400v160Zm0 220h160v-160H400v160ZM180-400h160v-160H180v160Zm440 0h160v-160H620v160ZM180-180h160v-160H180v160Zm440 0h160v-160H620v160Z\"/>\n",
              "  </svg>\n",
              "    </button>\n",
              "\n",
              "  <style>\n",
              "    .colab-df-container {\n",
              "      display:flex;\n",
              "      gap: 12px;\n",
              "    }\n",
              "\n",
              "    .colab-df-convert {\n",
              "      background-color: #E8F0FE;\n",
              "      border: none;\n",
              "      border-radius: 50%;\n",
              "      cursor: pointer;\n",
              "      display: none;\n",
              "      fill: #1967D2;\n",
              "      height: 32px;\n",
              "      padding: 0 0 0 0;\n",
              "      width: 32px;\n",
              "    }\n",
              "\n",
              "    .colab-df-convert:hover {\n",
              "      background-color: #E2EBFA;\n",
              "      box-shadow: 0px 1px 2px rgba(60, 64, 67, 0.3), 0px 1px 3px 1px rgba(60, 64, 67, 0.15);\n",
              "      fill: #174EA6;\n",
              "    }\n",
              "\n",
              "    .colab-df-buttons div {\n",
              "      margin-bottom: 4px;\n",
              "    }\n",
              "\n",
              "    [theme=dark] .colab-df-convert {\n",
              "      background-color: #3B4455;\n",
              "      fill: #D2E3FC;\n",
              "    }\n",
              "\n",
              "    [theme=dark] .colab-df-convert:hover {\n",
              "      background-color: #434B5C;\n",
              "      box-shadow: 0px 1px 3px 1px rgba(0, 0, 0, 0.15);\n",
              "      filter: drop-shadow(0px 1px 2px rgba(0, 0, 0, 0.3));\n",
              "      fill: #FFFFFF;\n",
              "    }\n",
              "  </style>\n",
              "\n",
              "    <script>\n",
              "      const buttonEl =\n",
              "        document.querySelector('#df-5365a598-509c-4fb8-8fec-66608f549803 button.colab-df-convert');\n",
              "      buttonEl.style.display =\n",
              "        google.colab.kernel.accessAllowed ? 'block' : 'none';\n",
              "\n",
              "      async function convertToInteractive(key) {\n",
              "        const element = document.querySelector('#df-5365a598-509c-4fb8-8fec-66608f549803');\n",
              "        const dataTable =\n",
              "          await google.colab.kernel.invokeFunction('convertToInteractive',\n",
              "                                                    [key], {});\n",
              "        if (!dataTable) return;\n",
              "\n",
              "        const docLinkHtml = 'Like what you see? Visit the ' +\n",
              "          '<a target=\"_blank\" href=https://colab.research.google.com/notebooks/data_table.ipynb>data table notebook</a>'\n",
              "          + ' to learn more about interactive tables.';\n",
              "        element.innerHTML = '';\n",
              "        dataTable['output_type'] = 'display_data';\n",
              "        await google.colab.output.renderOutput(dataTable, element);\n",
              "        const docLink = document.createElement('div');\n",
              "        docLink.innerHTML = docLinkHtml;\n",
              "        element.appendChild(docLink);\n",
              "      }\n",
              "    </script>\n",
              "  </div>\n",
              "\n",
              "\n",
              "    <div id=\"df-5f8ed852-b180-4716-8867-a9289de6a130\">\n",
              "      <button class=\"colab-df-quickchart\" onclick=\"quickchart('df-5f8ed852-b180-4716-8867-a9289de6a130')\"\n",
              "                title=\"Suggest charts\"\n",
              "                style=\"display:none;\">\n",
              "\n",
              "<svg xmlns=\"http://www.w3.org/2000/svg\" height=\"24px\"viewBox=\"0 0 24 24\"\n",
              "     width=\"24px\">\n",
              "    <g>\n",
              "        <path d=\"M19 3H5c-1.1 0-2 .9-2 2v14c0 1.1.9 2 2 2h14c1.1 0 2-.9 2-2V5c0-1.1-.9-2-2-2zM9 17H7v-7h2v7zm4 0h-2V7h2v10zm4 0h-2v-4h2v4z\"/>\n",
              "    </g>\n",
              "</svg>\n",
              "      </button>\n",
              "\n",
              "<style>\n",
              "  .colab-df-quickchart {\n",
              "      --bg-color: #E8F0FE;\n",
              "      --fill-color: #1967D2;\n",
              "      --hover-bg-color: #E2EBFA;\n",
              "      --hover-fill-color: #174EA6;\n",
              "      --disabled-fill-color: #AAA;\n",
              "      --disabled-bg-color: #DDD;\n",
              "  }\n",
              "\n",
              "  [theme=dark] .colab-df-quickchart {\n",
              "      --bg-color: #3B4455;\n",
              "      --fill-color: #D2E3FC;\n",
              "      --hover-bg-color: #434B5C;\n",
              "      --hover-fill-color: #FFFFFF;\n",
              "      --disabled-bg-color: #3B4455;\n",
              "      --disabled-fill-color: #666;\n",
              "  }\n",
              "\n",
              "  .colab-df-quickchart {\n",
              "    background-color: var(--bg-color);\n",
              "    border: none;\n",
              "    border-radius: 50%;\n",
              "    cursor: pointer;\n",
              "    display: none;\n",
              "    fill: var(--fill-color);\n",
              "    height: 32px;\n",
              "    padding: 0;\n",
              "    width: 32px;\n",
              "  }\n",
              "\n",
              "  .colab-df-quickchart:hover {\n",
              "    background-color: var(--hover-bg-color);\n",
              "    box-shadow: 0 1px 2px rgba(60, 64, 67, 0.3), 0 1px 3px 1px rgba(60, 64, 67, 0.15);\n",
              "    fill: var(--button-hover-fill-color);\n",
              "  }\n",
              "\n",
              "  .colab-df-quickchart-complete:disabled,\n",
              "  .colab-df-quickchart-complete:disabled:hover {\n",
              "    background-color: var(--disabled-bg-color);\n",
              "    fill: var(--disabled-fill-color);\n",
              "    box-shadow: none;\n",
              "  }\n",
              "\n",
              "  .colab-df-spinner {\n",
              "    border: 2px solid var(--fill-color);\n",
              "    border-color: transparent;\n",
              "    border-bottom-color: var(--fill-color);\n",
              "    animation:\n",
              "      spin 1s steps(1) infinite;\n",
              "  }\n",
              "\n",
              "  @keyframes spin {\n",
              "    0% {\n",
              "      border-color: transparent;\n",
              "      border-bottom-color: var(--fill-color);\n",
              "      border-left-color: var(--fill-color);\n",
              "    }\n",
              "    20% {\n",
              "      border-color: transparent;\n",
              "      border-left-color: var(--fill-color);\n",
              "      border-top-color: var(--fill-color);\n",
              "    }\n",
              "    30% {\n",
              "      border-color: transparent;\n",
              "      border-left-color: var(--fill-color);\n",
              "      border-top-color: var(--fill-color);\n",
              "      border-right-color: var(--fill-color);\n",
              "    }\n",
              "    40% {\n",
              "      border-color: transparent;\n",
              "      border-right-color: var(--fill-color);\n",
              "      border-top-color: var(--fill-color);\n",
              "    }\n",
              "    60% {\n",
              "      border-color: transparent;\n",
              "      border-right-color: var(--fill-color);\n",
              "    }\n",
              "    80% {\n",
              "      border-color: transparent;\n",
              "      border-right-color: var(--fill-color);\n",
              "      border-bottom-color: var(--fill-color);\n",
              "    }\n",
              "    90% {\n",
              "      border-color: transparent;\n",
              "      border-bottom-color: var(--fill-color);\n",
              "    }\n",
              "  }\n",
              "</style>\n",
              "\n",
              "      <script>\n",
              "        async function quickchart(key) {\n",
              "          const quickchartButtonEl =\n",
              "            document.querySelector('#' + key + ' button');\n",
              "          quickchartButtonEl.disabled = true;  // To prevent multiple clicks.\n",
              "          quickchartButtonEl.classList.add('colab-df-spinner');\n",
              "          try {\n",
              "            const charts = await google.colab.kernel.invokeFunction(\n",
              "                'suggestCharts', [key], {});\n",
              "          } catch (error) {\n",
              "            console.error('Error during call to suggestCharts:', error);\n",
              "          }\n",
              "          quickchartButtonEl.classList.remove('colab-df-spinner');\n",
              "          quickchartButtonEl.classList.add('colab-df-quickchart-complete');\n",
              "        }\n",
              "        (() => {\n",
              "          let quickchartButtonEl =\n",
              "            document.querySelector('#df-5f8ed852-b180-4716-8867-a9289de6a130 button');\n",
              "          quickchartButtonEl.style.display =\n",
              "            google.colab.kernel.accessAllowed ? 'block' : 'none';\n",
              "        })();\n",
              "      </script>\n",
              "    </div>\n",
              "    </div>\n",
              "  </div>\n"
            ],
            "application/vnd.google.colaboratory.intrinsic+json": {
              "type": "dataframe",
              "variable_name": "final_df",
              "summary": "{\n  \"name\": \"final_df\",\n  \"rows\": 13,\n  \"fields\": [\n    {\n      \"column\": \"text\",\n      \"properties\": {\n        \"dtype\": \"string\",\n        \"num_unique_values\": 13,\n        \"samples\": [\n          \"\\u0412 \\u0433\\u043e\\u0440\\u043e\\u0434\\u0435 \\u0431\\u044b\\u043b\\u043e \\u043c\\u043d\\u043e\\u0436\\u0435\\u0441\\u0442\\u0432\\u043e \\u043b\\u044e\\u0434\\u0435\\u0439, \\u043a\\u0430\\u0436\\u0434\\u044b\\u0439 \\u0438\\u0437 \\u043a\\u043e\\u0442\\u043e\\u0440\\u044b\\u0445 \\u0431\\u044b\\u043b \\u0437\\u0430\\u043d\\u044f\\u0442 \\u0441\\u0432\\u043e\\u0438\\u043c\\u0438 \\u0434\\u0435\\u043b\\u0430\\u043c\\u0438. \\u0421\\u0440\\u0435\\u0434\\u0438 \\u044d\\u0442\\u043e\\u0439 \\u0441\\u0443\\u0435\\u0442\\u044b, \\u0418\\u0432\\u0430\\u043d, \\u043c\\u043e\\u043b\\u043e\\u0434\\u043e\\u0439 \\u0447\\u0435\\u043b\\u043e\\u0432\\u0435\\u043a \\u0441 \\u0431\\u043e\\u043b\\u044c\\u0448\\u0438\\u043c\\u0438 \\u043c\\u0435\\u0447\\u0442\\u0430\\u043c\\u0438, \\u043f\\u044b\\u0442\\u0430\\u043b\\u0441\\u044f \\u043d\\u0430\\u0439\\u0442\\u0438 \\u0441\\u0432\\u043e\\u0435 \\u043c\\u0435\\u0441\\u0442\\u043e. \\u0415\\u0433\\u043e \\u0434\\u0440\\u0443\\u0437\\u044c\\u044f, \\u0421\\u0435\\u0440\\u0433\\u0435\\u0439 \\u0438 \\u041c\\u0430\\u0440\\u0438\\u044f, \\u0432\\u0441\\u0435\\u0433\\u0434\\u0430 \\u0431\\u044b\\u043b\\u0438 \\u0440\\u044f\\u0434\\u043e\\u043c, \\u043f\\u043e\\u0434\\u0434\\u0435\\u0440\\u0436\\u0438\\u0432\\u0430\\u044f \\u0435\\u0433\\u043e \\u0432\\u043e \\u0432\\u0441\\u0435\\u0445 \\u043d\\u0430\\u0447\\u0438\\u043d\\u0430\\u043d\\u0438\\u044f\\u0445. \\u041e\\u043d\\u0438 \\u0432\\u0435\\u0440\\u0438\\u043b\\u0438 \\u0432 \\u043d\\u0435\\u0433\\u043e, \\u043a\\u043e\\u0433\\u0434\\u0430 \\u043d\\u0438\\u043a\\u0442\\u043e \\u0434\\u0440\\u0443\\u0433\\u043e\\u0439 \\u043d\\u0435 \\u0432\\u0435\\u0440\\u0438\\u043b. \\u041d\\u043e \\u0436\\u0438\\u0437\\u043d\\u044c \\u0432 \\u0433\\u043e\\u0440\\u043e\\u0434\\u0435 \\u0431\\u044b\\u043b\\u0430 \\u043d\\u0435\\u043f\\u0440\\u043e\\u0441\\u0442\\u043e\\u0439. \\u041a\\u043e\\u043d\\u043a\\u0443\\u0440\\u0435\\u043d\\u0446\\u0438\\u044f \\u0431\\u044b\\u043b\\u0430 \\u043e\\u0436\\u0435\\u0441\\u0442\\u043e\\u0447\\u0435\\u043d\\u043d\\u043e\\u0439, \\u0430 \\u0431\\u043e\\u0440\\u044c\\u0431\\u0430 - \\u0440\\u0435\\u0430\\u043b\\u044c\\u043d\\u043e\\u0439. \\u041d\\u0435\\u0441\\u043c\\u043e\\u0442\\u0440\\u044f \\u043d\\u0430 \\u0432\\u0441\\u0435 \\u0442\\u0440\\u0443\\u0434\\u043d\\u043e\\u0441\\u0442\\u0438, \\u0418\\u0432\\u0430\\u043d \\u0431\\u044b\\u043b \\u0440\\u0435\\u0448\\u0435\\u043d \\u0441\\u0434\\u0435\\u043b\\u0430\\u0442\\u044c \\u0432\\u0441\\u0435 \\u0432\\u043e\\u0437\\u043c\\u043e\\u0436\\u043d\\u043e\\u0435, \\u0447\\u0442\\u043e\\u0431\\u044b \\u0434\\u043e\\u0441\\u0442\\u0438\\u0447\\u044c \\u0441\\u0432\\u043e\\u0438\\u0445 \\u0446\\u0435\\u043b\\u0435\\u0439. \\u041e\\u043d \\u0437\\u043d\\u0430\\u043b, \\u0447\\u0442\\u043e \\u0435\\u043c\\u0443 \\u043f\\u0440\\u0438\\u0434\\u0435\\u0442\\u0441\\u044f \\u043c\\u043d\\u043e\\u0433\\u043e \\u0440\\u0430\\u0431\\u043e\\u0442\\u0430\\u0442\\u044c \\u0438 \\u043d\\u0438\\u043a\\u043e\\u0433\\u0434\\u0430 \\u043d\\u0435 \\u0441\\u0434\\u0430\\u0432\\u0430\\u0442\\u044c\\u0441\\u044f. \\u0415\\u0433\\u043e \\u043f\\u0443\\u0442\\u044c \\u0431\\u044b\\u043b \\u043d\\u0435\\u043f\\u0440\\u043e\\u0441\\u0442, \\u043d\\u043e \\u0431\\u043b\\u0430\\u0433\\u043e\\u0434\\u0430\\u0440\\u044f \\u043f\\u043e\\u0434\\u0434\\u0435\\u0440\\u0436\\u043a\\u0435 \\u0434\\u0440\\u0443\\u0437\\u0435\\u0439 \\u0438 \\u043d\\u0435\\u043f\\u043e\\u043a\\u043e\\u043b\\u0435\\u0431\\u0438\\u043c\\u043e\\u0439 \\u0440\\u0435\\u0448\\u0438\\u043c\\u043e\\u0441\\u0442\\u0438, \\u043e\\u043d \\u0441\\u043c\\u043e\\u0433 \\u043f\\u0440\\u0435\\u043e\\u0434\\u043e\\u043b\\u0435\\u0442\\u044c \\u0432\\u0441\\u0435 \\u043f\\u0440\\u0435\\u043f\\u044f\\u0442\\u0441\\u0442\\u0432\\u0438\\u044f \\u0438 \\u0434\\u043e\\u0441\\u0442\\u0438\\u0447\\u044c \\u0441\\u0432\\u043e\\u0438\\u0445 \\u043c\\u0435\\u0447\\u0442.\",\n          \"En un peque\\u00f1o pueblo situado entre las monta\\u00f1as y el mar, viv\\u00eda una chica llamada Maria. Era conocida por su bondad y su amor por la naturaleza. Su vida estaba llena de personajes interesantes: el viejo pescador Juan, que le contaba historias del mar, el joven Tom\\u00e1s, que se un\\u00eda a ella en sus aventuras, y su mejor amiga Emilia, que siempre estaba all\\u00ed para ella. Juntos, vivieron muchas aventuras, y cada d\\u00eda era un nuevo descubrimiento para ellos.\",\n          \"The sun was setting, casting long shadows over the small town. John, a middle-aged man with a heart full of dreams, was sitting on the porch of his old house. His friends, Peter and Mary, were there with him, sharing stories of their youth. They were all from the same town, and their lives were intertwined in ways they could never have imagined. Peter, a burly man with a booming voice, was the town's blacksmith. He was a man of few words, but his actions spoke volumes. Mary, on the other hand, was the town's schoolteacher. She was a woman of great wisdom and kindness, always ready to lend a helping hand. As they sat there, reminiscing about the past, a sense of nostalgia washed over them. They remembered the days when they were young and full of hope, when the world seemed full of possibilities. But now, as they looked at the setting sun, they realized that those days were long gone. John, however, was not ready to give up. He still had dreams, dreams that he was determined to fulfill. He knew that it would not be easy, but he was ready to face whatever challenges came his way. With Peter and Mary by his side, he knew that he could achieve anything.\"\n        ],\n        \"semantic_type\": \"\",\n        \"description\": \"\"\n      }\n    },\n    {\n      \"column\": \"language\",\n      \"properties\": {\n        \"dtype\": \"category\",\n        \"num_unique_values\": 6,\n        \"samples\": [\n          \"English\",\n          \"French\",\n          \"Italian\"\n        ],\n        \"semantic_type\": \"\",\n        \"description\": \"\"\n      }\n    },\n    {\n      \"column\": \"main_character\",\n      \"properties\": {\n        \"dtype\": \"string\",\n        \"num_unique_values\": 13,\n        \"samples\": [\n          \"\\u0418\\u0432\\u0430\\u043d\",\n          \"Maria\",\n          \"John\"\n        ],\n        \"semantic_type\": \"\",\n        \"description\": \"\"\n      }\n    }\n  ]\n}"
            }
          },
          "metadata": {},
          "execution_count": 62
        }
      ]
    },
    {
      "cell_type": "code",
      "execution_count": 64,
      "metadata": {
        "id": "p9CUjXZsgveh"
      },
      "outputs": [],
      "source": [
        "final_df[['text', 'language', 'main_character']].to_csv('3.2.9_solution.csv', index=False)"
      ]
    },
    {
      "cell_type": "code",
      "execution_count": null,
      "metadata": {
        "id": "gwBrhq5LOAz4"
      },
      "outputs": [],
      "source": []
    },
    {
      "cell_type": "code",
      "execution_count": null,
      "metadata": {
        "colab": {
          "base_uri": "https://localhost:8080/"
        },
        "id": "TKLOPhKGOB16",
        "outputId": "6a3a206a-cd84-45b8-d90c-211dab5ae0b5"
      },
      "outputs": [
        {
          "name": "stdout",
          "output_type": "stream",
          "text": [
            "✅ АГЕНТ ПОДДЕРЖКИ АКТИВИРОВАН!\n",
            "📝 Теперь ты можешь запускать код как обычно!\n",
            "🤖 При ошибках я буду помогать и поддерживать тебя!\n"
          ]
        }
      ],
      "source": [
        "import sys\n",
        "import traceback\n",
        "import random\n",
        "from IPython.core.magic import register_cell_magic\n",
        "from IPython import get_ipython\n",
        "\n",
        "# Сохраняем оригинальный механизм выполнения\n",
        "original_run_cell = None\n",
        "\n",
        "def setup_support_agent():\n",
        "    \"\"\"Устанавливает агента поддержки для всех ячеек\"\"\"\n",
        "\n",
        "    # Поддерживающие сообщения\n",
        "    supportive_messages = [\n",
        "        \"💪 Ты справишься! Ошибки - это часть пути к успеху!\",\n",
        "        \"🌟 Даже профи когда-то делали такие ошибки!\",\n",
        "        \"🚀 Ты уже почти решил задачу! Не сдавайся!\",\n",
        "        \"🎯 Каждая ошибка делает тебя лучше! Продолжай!\",\n",
        "        \"🦸‍♂️ Ты кодовый супергерой! У тебя всё получится!\",\n",
        "        \"💫 Не переживай, это мелочь для тебя!\",\n",
        "        \"🔥 Ты на правильном пути! Продолжай в том же духе!\"\n",
        "    ]\n",
        "\n",
        "    def show_support(error_type, error_msg, tb):\n",
        "        \"\"\"Показывает поддержку при ошибке\"\"\"\n",
        "\n",
        "        print(\"=\"*60)\n",
        "        print(f\"🚨 ОШИБКА\")\n",
        "\n",
        "        # Показываем поддержку\n",
        "        print(f\"   {random.choice(supportive_messages)}\")\n",
        "        print(\"=\"*60 + \"\\n\")\n",
        "\n",
        "    # Перехватываем все исключения в IPython\n",
        "    def custom_exception_handler(shell, etype, value, tb, tb_offset=None):\n",
        "        # Показываем обычный traceback\n",
        "        shell.showtraceback((etype, value, tb), tb_offset=tb_offset)\n",
        "\n",
        "        # Показываем поддержку\n",
        "        show_support(etype.__name__, str(value), tb)\n",
        "\n",
        "\n",
        "    # Устанавливаем обработчик\n",
        "    ipython = get_ipython()\n",
        "    if ipython:\n",
        "        ipython.set_custom_exc((Exception,), custom_exception_handler)\n",
        "        print(\"✅ АГЕНТ ПОДДЕРЖКИ АКТИВИРОВАН!\")\n",
        "        print(\"📝 Теперь ты можешь запускать код как обычно!\")\n",
        "        print(\"🤖 При ошибках я буду помогать и поддерживать тебя!\")\n",
        "    else:\n",
        "        print(\"❌ Не удалось активировать агента\")\n",
        "\n",
        "# Активируем агента\n",
        "setup_support_agent()"
      ]
    },
    {
      "cell_type": "code",
      "execution_count": null,
      "metadata": {
        "colab": {
          "base_uri": "https://localhost:8080/",
          "height": 238
        },
        "id": "IoeoxGIEOFqR",
        "outputId": "d94c2fc4-c522-4ca8-87c6-6991de1f9328"
      },
      "outputs": [
        {
          "ename": "NameError",
          "evalue": "name 'undefined_variable' is not defined",
          "output_type": "error",
          "traceback": [
            "\u001b[0;31m---------------------------------------------------------------------------\u001b[0m",
            "\u001b[0;31mNameError\u001b[0m                                 Traceback (most recent call last)",
            "\u001b[0;32m/tmp/ipython-input-745394305.py\u001b[0m in \u001b[0;36m<cell line: 0>\u001b[0;34m()\u001b[0m\n\u001b[0;32m----> 1\u001b[0;31m \u001b[0mprint\u001b[0m\u001b[0;34m(\u001b[0m\u001b[0mundefined_variable\u001b[0m\u001b[0;34m)\u001b[0m\u001b[0;34m\u001b[0m\u001b[0;34m\u001b[0m\u001b[0m\n\u001b[0m",
            "\u001b[0;31mNameError\u001b[0m: name 'undefined_variable' is not defined"
          ]
        },
        {
          "name": "stdout",
          "output_type": "stream",
          "text": [
            "============================================================\n",
            "🚨 ОШИБКА\n",
            "   🔥 Ты на правильном пути! Продолжай в том же духе!\n",
            "============================================================\n",
            "\n"
          ]
        }
      ],
      "source": [
        "print(undefined_variable)"
      ]
    },
    {
      "cell_type": "code",
      "execution_count": null,
      "metadata": {
        "id": "42wkjZ5tPJ36"
      },
      "outputs": [],
      "source": []
    }
  ],
  "metadata": {
    "colab": {
      "provenance": []
    },
    "kernelspec": {
      "display_name": "Python 3",
      "name": "python3"
    },
    "language_info": {
      "name": "python"
    }
  },
  "nbformat": 4,
  "nbformat_minor": 0
}